{
 "cells": [
  {
   "cell_type": "code",
   "execution_count": 1,
   "id": "clean-amazon",
   "metadata": {},
   "outputs": [],
   "source": [
    "import pandas as pd\n",
    "import matplotlib.pyplot as plt\n",
    "import seaborn as sns\n",
    "from tswift import Song\n",
    "from langdetect import detect\n",
    "import pycountry\n",
    "from sklearn import datasets\n",
    "from sklearn import metrics\n",
    "import plotly.express as px\n",
    "from sklearn.ensemble import RandomForestClassifier \n",
    "from sklearn.metrics import confusion_matrix\n",
    "import plotly.graph_objects as go\n",
    "from plotly.subplots import make_subplots"
   ]
  },
  {
   "cell_type": "code",
   "execution_count": 2,
   "id": "military-miller",
   "metadata": {},
   "outputs": [],
   "source": [
    "db=pd.read_csv('CleanEnglishLyrics.csv')\n",
    "db.dropna(subset=['testo'], inplace=True)\n",
    "db.reset_index(inplace=True)\n",
    "db.drop(['index','Unnamed: 0'],axis=1,inplace=True)"
   ]
  },
  {
   "cell_type": "code",
   "execution_count": 3,
   "id": "crazy-membership",
   "metadata": {
    "scrolled": true
   },
   "outputs": [
    {
     "data": {
      "text/html": [
       "<div>\n",
       "<style scoped>\n",
       "    .dataframe tbody tr th:only-of-type {\n",
       "        vertical-align: middle;\n",
       "    }\n",
       "\n",
       "    .dataframe tbody tr th {\n",
       "        vertical-align: top;\n",
       "    }\n",
       "\n",
       "    .dataframe thead th {\n",
       "        text-align: right;\n",
       "    }\n",
       "</style>\n",
       "<table border=\"1\" class=\"dataframe\">\n",
       "  <thead>\n",
       "    <tr style=\"text-align: right;\">\n",
       "      <th></th>\n",
       "      <th>testo</th>\n",
       "      <th>valence</th>\n",
       "    </tr>\n",
       "  </thead>\n",
       "  <tbody>\n",
       "    <tr>\n",
       "      <th>0</th>\n",
       "      <td>I put a spell on you\\nBecause you're mine\\nSto...</td>\n",
       "      <td>0.950</td>\n",
       "    </tr>\n",
       "    <tr>\n",
       "      <th>1</th>\n",
       "      <td>Unfortunately, we are not authorized to show t...</td>\n",
       "      <td>0.209</td>\n",
       "    </tr>\n",
       "    <tr>\n",
       "      <th>2</th>\n",
       "      <td>Once I lived the life of a millionaire\\nSpent ...</td>\n",
       "      <td>0.211</td>\n",
       "    </tr>\n",
       "    <tr>\n",
       "      <th>3</th>\n",
       "      <td>There ain't nothing I can do, or nothing I can...</td>\n",
       "      <td>0.137</td>\n",
       "    </tr>\n",
       "    <tr>\n",
       "      <th>4</th>\n",
       "      <td>Judge you wanna hear my plea\\nBefore you open ...</td>\n",
       "      <td>0.601</td>\n",
       "    </tr>\n",
       "    <tr>\n",
       "      <th>5</th>\n",
       "      <td>Tired of bein' lonely, tired of bein' blue\\nI ...</td>\n",
       "      <td>0.402</td>\n",
       "    </tr>\n",
       "    <tr>\n",
       "      <th>6</th>\n",
       "      <td>No one to talk with,\\nall by myself.\\nNo one t...</td>\n",
       "      <td>0.503</td>\n",
       "    </tr>\n",
       "  </tbody>\n",
       "</table>\n",
       "</div>"
      ],
      "text/plain": [
       "                                               testo  valence\n",
       "0  I put a spell on you\\nBecause you're mine\\nSto...    0.950\n",
       "1  Unfortunately, we are not authorized to show t...    0.209\n",
       "2  Once I lived the life of a millionaire\\nSpent ...    0.211\n",
       "3  There ain't nothing I can do, or nothing I can...    0.137\n",
       "4  Judge you wanna hear my plea\\nBefore you open ...    0.601\n",
       "5  Tired of bein' lonely, tired of bein' blue\\nI ...    0.402\n",
       "6  No one to talk with,\\nall by myself.\\nNo one t...    0.503"
      ]
     },
     "execution_count": 3,
     "metadata": {},
     "output_type": "execute_result"
    }
   ],
   "source": [
    "db.head(7)"
   ]
  },
  {
   "cell_type": "code",
   "execution_count": 4,
   "id": "imported-mineral",
   "metadata": {},
   "outputs": [],
   "source": [
    "languages=[]\n",
    "for row in range(len(db)):\n",
    "    lang=detect(db['testo'][row])\n",
    "    lang=pycountry.languages.get(alpha_2=lang).name.lower()\n",
    "    languages.append(lang)\n",
    "db['language']=languages\n"
   ]
  },
  {
   "cell_type": "code",
   "execution_count": 5,
   "id": "beautiful-plate",
   "metadata": {},
   "outputs": [
    {
     "data": {
      "text/plain": [
       "english       32514\n",
       "portuguese        1\n",
       "estonian          1\n",
       "somali            1\n",
       "afrikaans         1\n",
       "korean            1\n",
       "Name: language, dtype: int64"
      ]
     },
     "execution_count": 5,
     "metadata": {},
     "output_type": "execute_result"
    }
   ],
   "source": [
    "db['language'].value_counts()"
   ]
  },
  {
   "cell_type": "code",
   "execution_count": 6,
   "id": "still-dialogue",
   "metadata": {},
   "outputs": [],
   "source": [
    "#db_eng=db[db['language']=='english'].copy()\n",
    "db_eng=pd.read_csv('db_eng.csv')"
   ]
  },
  {
   "cell_type": "code",
   "execution_count": 7,
   "id": "cooked-bridal",
   "metadata": {},
   "outputs": [
    {
     "data": {
      "image/png": "[encoded data removed]",
      "text/plain": [
       "<Figure size 1440x720 with 2 Axes>"
      ]
     },
     "metadata": {
      "needs_background": "light"
     },
     "output_type": "display_data"
    }
   ],
   "source": [
    "fig = plt.figure(figsize=(20, 10))\n",
    "fig.add_subplot(1,2,1)\n",
    "sns.histplot(db_eng['valence']);\n",
    "plt.title('valence distribution')\n",
    "fig.add_subplot(1,2,2)\n",
    "db_eng['valence'].plot.box();\n",
    "plt.title('valence boxplot');"
   ]
  },
  {
   "cell_type": "code",
   "execution_count": 8,
   "id": "hearing-summary",
   "metadata": {},
   "outputs": [
    {
     "data": {
      "image/png": "[encoded data removed]",
      "text/plain": [
       "<Figure size 432x288 with 1 Axes>"
      ]
     },
     "metadata": {
      "needs_background": "light"
     },
     "output_type": "display_data"
    }
   ],
   "source": [
    "bins=[0,0.2,0.4,0.6,0.8]\n",
    "group=['Very Sad','Sad','Average','Happy','Very happy']\n",
    "db_eng['valence_bin']=pd.cut(db_eng['valence'],bins=5,labels=group,right=False)\n",
    "db_eng['valence_bin'].value_counts().plot.bar();"
   ]
  },
  {
   "cell_type": "code",
   "execution_count": 9,
   "id": "swedish-monitor",
   "metadata": {},
   "outputs": [],
   "source": [
    "db_eng=db_eng.head(10000)"
   ]
  },
  {
   "cell_type": "code",
   "execution_count": 10,
   "id": "reasonable-convention",
   "metadata": {},
   "outputs": [],
   "source": [
    "sw2= open(\"stopword2.txt\", \"r\",encoding='utf-8').read()\n",
    "stop=[]\n",
    "sw2= sw2.split()\n",
    "for word in sw2:\n",
    "    stop.append(word)"
   ]
  },
  {
   "cell_type": "code",
   "execution_count": 25,
   "id": "delayed-galaxy",
   "metadata": {},
   "outputs": [
    {
     "name": "stderr",
     "output_type": "stream",
     "text": [
      "[nltk_data] Downloading package stopwords to\n",
      "[nltk_data]     C:\\Users\\chegu\\AppData\\Roaming\\nltk_data...\n",
      "[nltk_data]   Package stopwords is already up-to-date!\n"
     ]
    }
   ],
   "source": [
    "# library to clean data \n",
    "import re \n",
    "# Natural Language Tool Kit \n",
    "import nltk \n",
    "nltk.download('stopwords') \n",
    "\n",
    "# to remove stopword \n",
    "from nltk.corpus import stopwords \n",
    "\n",
    "nltk_stopwords= stopwords.words(\"english\")\n",
    "custom_stopwords=['aa', 'aaaaaaaaah', 'aaaah', 'aaah', 'aahh',\"aaa\", \"aah\", \"ab\", \"ah\", \"aha\", \"ahh\", \"ahhh\", \"ba\",\"yup\", \"yuh\",\n",
    "                  \"yo\", \"ye\", \"yi\",\"yeah\", \"yeh\", \"yay\", \"yea\", \"yah\", \"yap\", \"ya\", \"wow\", \"woo\", \"wop\", \"woh\",\n",
    "                  \"woe\", \"woah\", \"wo\", \"whoa\", \"whoo\", \"whoop\", \"umm\", \"um\", \"uhn\", \"uh\", \"uhh\",\"weep\", \"voodoo\", \"wa\", \"wah\", \n",
    "                  \"waltz\", \"vers\", \"tha\", \"th\", \"thee\",'hey', 'hi', 'hm', 'hmm', 'hmmm', 'ho','mm', 'mma', 'mmh', 'mmm', 'mmmm',\n",
    "                  'mmmmm', 'mmmmmm', 'mo', 'oo', 'oogi', 'ooh', 'oohh', 'oohhh', 'ooho', 'oom', 'ooo', 'oooh', 'ooohh', 'oooo', \n",
    "                  'ooooh', 'ooooo', 'oooooh', 'oooooo', 'ooooooh', 'oop', 'aaaaaaa', 'aaaaaaaaaaah', 'aaaaaaaaaahhhhhhhhhh',\n",
    "                  'aaaaaaaah', 'aaaaaaah', 'aaaaaaaw', 'aaaaaah', 'aaaaaahhhh', 'aaaaah', 'aaaahhh', 'aaaahhhhhhhhhh',\n",
    "                  'aaahh', 'aaahhh', 'aaf', 'aahhhh', 'aaliyah', 'aalso', 'aaow', 'aaron', 'aarrrhhhh', 'aaww', 'aay',\n",
    "                 'abc', 'abcd','awf', 'awftah', 'awg', 'awh', 'awhh', 'awhil', 'awkward', 'awn', 'awok', 'awoken', 'awooo',\n",
    "                  'awop', 'awright', 'aww', 'awww', 'awwww', 'awwwwuhhhhh', 'awwwww', 'ax', 'axe', 'axi', 'axl', 'axton', 'ay',\n",
    "                  'aya', 'ayanday', 'ayatolah', 'ayatollah', 'aye', 'ayeoh', 'ayeza', 'ayi', 'aynsley', 'ayo', 'ayou', 'ayyaahhyy',\n",
    "                  'ayyo', 'ayyy', 'ayyyyy', 'ayyyyyyy', 'az', 'azalea', 'aztec', 'azul', 'azz', 'baa', 'baaaaaaaabi', 'baaaay',\n",
    "                  'baaabi', 'baabi', 'baam', 'bab', 'baba', 'babababay', 'babaloo', 'babbag', 'babbl', 'babblin', 'babe', 'babel',\n",
    "                  'babetel', 'babi', 'babia', 'babin', 'baboon', 'babooshka', 'babooski', 'baboso', 'babydo', 'babydol',\n",
    "                 'err', 'errand', 'errat', 'errol', 'erron', 'error', 'errrrrrrr', 'ew', 'ewedihalehu', 'ewww', 'ewwww',\n",
    "                 'haffa', 'haffi', 'hafta', 'hag', 'hagar', 'haggard', 'hah', 'haha', 'hahah', 'hahaha', 'hahahaaaaaa', 'hahahaha',\n",
    "                  'hahahahaha', 'hahahahahahaha', 'hahahahahahahaha', 'hahahahh', 'hahahahhaha', 'hahh', 'hahhh', 'hahn',\n",
    "                 'ihe', 'ii', 'iif', 'iii', 'iiii', 'iiiiii', 'iiiiiiiieeeeeee', 'iiiiiiiiiiiiiii', 'iiiiiiiiiiit', 'iinto',\n",
    "                  'iit', 'ikanipo', 'ike', 'ikeona', 'iksrfo', 'il', 'iliysk',\n",
    "                 'isham', 'isi', 'isl', 'isla', 'island', 'isley', 'ism', 'ismith', 'isnt', 'isol', 'isoton', 'israel', 'iss',\n",
    "                  'issa', 'issu', 'ist', 'istanbul', 'isuzu', 'isuzus', 'ital', 'itali', 'italian', 'italiano', 'italianoooooo',\n",
    "                  'itch', 'itchi', 'itchin', 'ite', 'item', 'itll', 'ito', 'itss', 'itti', 'itv', 'ityou', 'iud', 'iv', 'ivan',\n",
    "                  'ivanho', 'ivanovich', 'ive', 'iverson', 'ivi', 'ivori', 'iwa', 'iwhen', 'iwil',\n",
    "                  'iwis', 'iwish', 'iwo', 'iyah', 'iz', 'izm', 'izvestia', 'izz', 'izzal', 'izzi', 'izzin', 'izzo', 'ja', 'jab',\n",
    "                 'johnson', 'johnsonadminist', 'johnsonvill', 'johnston','loooong', 'loooooos', 'looooovepow', 'loooos', 'loooov', 'looov',\n",
    "                 'youtub', 'youuuu', 'youuuuuuuuuu', 'youv', 'youyou', 'yow', 'yoyoyo', 'yoz', 'ypu', 'yrold', 'ys', 'ything', 'yu', 'yuck',\n",
    "                  'yucki', 'yugoslavia', 'yuk', 'yukon', 'yul', 'yule', 'yuletid', 'yum', 'yumm', 'yummi', 'yummier', 'yung', \n",
    "                  'yungbuck', 'yungstar', 'yuppi', 'yusef', 'yves', 'yvonn', 'yyou', 'zaakir', 'zachari', 'zack', 'zaddi', 'zag',\n",
    "                  'zaga', 'zai', 'zair', 'zambia', 'zandt', 'zani', 'zaniest', 'zankou', 'zannotti', 'zanzibar', 'zanzing', 'zap',\n",
    "                  'zapato', 'zappa', 'zapper', 'zaza', 'ze', 'zeal', 'zealand', 'zealot', 'zealous', 'zebra', 'zee', 'zeebuhla',\n",
    "                  'zeke', 'zekley', 'zen', 'zephanyl', 'zephryus', 'zephyr', 'zero', 'zest', 'zestin', 'zev', 'zig', 'zigazig',\n",
    "                  'zigga', 'ziggi', 'zillion', 'zillionair', 'zim', 'zimbabw', 'zimmerman', 'zimmi', 'zina', 'zine', 'zing',\n",
    "                  'zinger', 'zion', 'zip', 'ziplock', 'zippedi', 'zipper', 'zircon', 'zirconium', 'zit', 'ziwiski', 'zo', 'zod',\n",
    "                  'zodiac', 'zoe', 'zoink', 'zoma', 'zomba', 'zombi', 'zone', 'zong', 'zonin', 'zoo', 'zooki', 'zoom', 'zoomin',\n",
    "                  'zoop', 'zoot', 'zooti', 'zoovier', 'zoowap', 'zorro', 'zsa', 'zu', 'zucchini', 'zuider', 'zuleyma', 'zulu',\n",
    "                  'zum', 'zwei', 'zy', 'zydeco', 'zz','woo', 'wooaah', 'wooaahh', 'wooah', 'wooba', 'wood',\n",
    "                  'woodbin', 'wooden', 'woodgrain', 'woodi', 'woodland', 'woodsh', 'woodsmok', 'woodstock',\n",
    "                  'woodwork', 'woof', 'woofer', 'woofin', 'woog', 'woogi', 'wooh', 'woohhh', 'woohoo', 'woohoohoo',\n",
    "                  'wooki', 'wool', 'woolen', 'wooler', 'wooleri', 'woolfson', 'wooli', 'woolli', 'woolworth',\n",
    "                  'woomp', 'wooo', 'woooh', 'woooo', 'wooooah', 'wooooo', 'woooooaaaah', 'woooooah', 'woooooo',\n",
    "                  'wooooooh', 'wooooooo', 'woooooooooh', 'woooorrrrkkoouut', 'woooow', 'woop', 'woozi', 'woq',\n",
    "                 'wowi', 'wowow', 'wowowoh', 'wowowowow', 'wowowowowowo', 'woy', 'woyi', 'woz',\n",
    "                 'vv', 'vvhi', 'vvs', 'vw', 'waaaaaaaaaaaaaaaaaaaah', 'waaaaaaaaaah', 'waaav', 'waait', 'waan',\n",
    "                  'wabash', 'wabasha', 'wabo', 'wac', 'wack', 'vrai', 'vrinnn', 'vro', 'vroom', 'vrrrroom', 'vu', 'vuelv',\n",
    "                 'uuh', 'uuhh', 'uum', 'uummm', 'uuooooooooh', 'uuu', 'uuuh', 'uuuoooooooooooh', 'uuuun', 'uuuuuuum', 'uy',\n",
    "                  'uzi', 'va']\n",
    "\n",
    "custom_stopwords2=[\"also\", \"another\", \"arrive\", \"appear\", \"your\", \"zoom\", \"zoo\", \"yet\", \"yesterday\", \"today\", \"yes\",\n",
    "                  \"year\", \"wont\", \"william\", \"whether\", \"wherever\", \"whenever\", \"whatever\", \"what\",\n",
    "                  \"hundred\", \"thousand\", \"whatch\", \"went\", \"saturday\", \"sunday\", \"monday\", \"tuesday\", \"wednesday\",\n",
    "                  \"thursday\", \"friday\", \"want\", \"wanna\", \"walk\", \"view\", \"video\", \"us\", \"upon\", \"unless\", \"understand\",\n",
    "                  \"understood\", \"one\", \"two\", \"three\", \"four\", \"five\", \"six\", \"seven\", \"eight\", \"nine\", \"ten\", \"eleven\",\n",
    "                  \"twelve\", \"thirteen\", \"fourteen\", \"fifteen\", \"sixteen\", \"seventeen\", \"eighteen\", \"ninteen\", \"twenty\",\n",
    "                  \"twenti\", \"thirty\", \"thirti\", \"fourty\", \"fourti\", \"fifty\", \"fifti\", \"sixty\", \"sixti\", \"seventy\",\n",
    "                  \"seveti\", \"eighty\", \"eighti\", \"ninety\", \"nineti\", \"hundred\", \"thousand\", \"first\", \"second\", \"third\",\n",
    "                  \"twice\", \"turn\", \"thing\", \"tv\", \"this\", \"that\"]\n",
    "all_stopwords=nltk_stopwords+custom_stopwords+custom_stopwords2 + stop\n",
    "\n",
    "\n",
    "# for Stemming in Italiano con Snowball\n",
    "from nltk.stem import SnowballStemmer \n",
    "stemmer_eng = SnowballStemmer('english')\n",
    "\n",
    "# Initialize empty array \n",
    "# to append clean text \n",
    "corpus = [] \n",
    "# 1517 (reviews) rows to clean \n",
    "for i in db_eng.index: \n",
    "\t\n",
    "\t# column : \"Review\", row ith \n",
    "\treview = re.sub('[^a-zA-Z]', ' ', db_eng['testo'][i])\n",
    "\t#print(i)\n",
    "\t# convert all cases to lower cases \n",
    "\treview = review.lower() \n",
    "\t\n",
    "\t# split to array(default delimiter is \" \") \n",
    "\treview = review.split() \n",
    "\t\n",
    "\t# loop for stemming each word \n",
    "\t# in string array at ith row\t \n",
    "\treview = [stemmer_eng.stem(word) for word in review \n",
    "\t\t\t\tif not word in set(all_stopwords)] \n",
    "\t\t\t\t\n",
    "\t# rejoin all string array elements \n",
    "\t# to create back into a string \n",
    "\treview = ' '.join(review) \n",
    "\t\n",
    "\t# append each string to create \n",
    "\t# array of clean text \n",
    "\tcorpus.append(review) \n",
    "#with open('corpus.txt', 'w') as f:\n",
    "  #  f.write(str(corpus))"
   ]
  },
  {
   "cell_type": "code",
   "execution_count": 12,
   "id": "minute-integral",
   "metadata": {},
   "outputs": [],
   "source": [
    "#db_eng.to_csv('db_eng.csv')"
   ]
  },
  {
   "cell_type": "code",
   "execution_count": 26,
   "id": "differential-antique",
   "metadata": {},
   "outputs": [
    {
     "name": "stdout",
     "output_type": "stream",
     "text": [
      "22739\n",
      "['abacin', 'abandon', 'abba', 'abbey', 'abbi', 'abbot', 'abc', 'abcd', 'abcess', 'abdomen', 'abduct', 'abdul', 'abe', 'abel', 'abercrombi', 'abi', 'abib', 'abid', 'abigail', 'abil', 'abilen', 'abla', 'ablaz', 'ablowin', 'abner', 'aboard', 'abod', 'abolish', 'abomin', 'abort', 'abound', 'abracadabra', 'abraham', 'abrand', 'abraz', 'abrupt', 'absalom', 'absenc', 'absent', 'absentmind', 'absolut', 'absorb', 'abstract', 'absurd', 'abu', 'abuela', 'abund', 'abus', 'abusin', 'abysm', 'abyss', 'abyssinia', 'abyssinian', 'ac', 'academi', 'acajou', 'acapella', 'acapulco', 'acariciando', 'accecpt', 'acceler', 'accent', 'accentu', 'accept', 'access', 'accessor', 'accessori', 'accid', 'accident', 'acclaim', 'acclam', 'accolad', 'accomid', 'accommod', 'accomp', 'accompani', 'accomplic', 'accomplish', 'accord', 'account', 'accountin', 'accroch', 'accross', 'accumul', 'accupunctur', 'accur', 'accus', 'accuss', 'accustom', 'ace', 'acetylen', 'ach', 'acheiv', 'achi', 'achiev', 'achill', 'achin', 'achoo', 'acid', 'ack', 'acka', 'ackaveli', 'acknowledg', 'ackward', 'acn', 'acomin', 'acorn', 'acoust', 'acquaint', 'acquir', 'acquisit', 'acquitt', 'acr', 'acrobat', 'act', 'actavi', 'actin', 'action', 'activ', 'activist', 'actor', 'actress', 'actual', 'acura', 'acut', 'ad', 'ada', 'adam', 'adap', 'adapt', 'adat', 'add', 'addi', 'addicci', 'addict', 'addin', 'addison', 'addit', 'address', 'addresse', 'adest', 'adher', 'adhes', 'adi', 'adia', 'adida', 'adieu', 'adina', 'adio', 'adjec', 'adject', 'adjourn', 'adjust', 'adler', 'administ', 'admir', 'admirin', 'admiss', 'admit', 'admitt', 'ado', 'adob', 'adolesc', 'adolf', 'adolph', 'adonai', 'adoni', 'ador', 'adoremus', 'adorn', 'adrenalin', 'adri', 'adrift', 'adrock', 'adul', 'adult', 'advanc', 'advancin', 'advantag', 'adventur', 'adverb', 'advers', 'adversari', 'advertis', 'advic', 'advis', 'advisori', 'aereoplan', 'aerial', 'aerodrom', 'aeroplan', 'aerosol', 'aesop', 'afar', 'afer', 'affair', 'affect', 'affidavit', 'affili', 'affin', 'affirm', 'afflict', 'affluenc', 'afford', 'affraid', 'affright', 'afghan', 'afghanistan', 'afir', 'afixi', 'aflam', 'aflash', 'afloat', 'aford', 'afra', 'afraid', 'africa', 'african', 'africus', 'afrika', 'afro', 'afrocentr', 'aft', 'afterbirth', 'afterglow', 'afterlif', 'aftermath', 'afternoon', 'aftertast', 'afterworld', 'afu', 'againi', 'agapo', 'agarram', 'agatha', 'agav', 'age', 'ageless', 'agenda', 'agent', 'aggra', 'aggrav', 'aggress', 'aggrivatin', 'agh', 'agian', 'agil', 'agit', 'aglow', 'agn', 'agnetha', 'agoni', 'agre', 'agreement', 'aground', 'agua', 'aguard', 'aguilera', 'ahaa', 'ahaaha', 'ahah', 'ahahaha', 'ahahahah', 'ahay', 'ahe', 'aheh', 'ahem', 'aher', 'ahha', 'ahhhh', 'ahhhhh', 'ahhhhhh', 'ahhhhhhh', 'ahhhhhhhh', 'ahhhhhhhhh', 'ahk', 'ahm', 'ahoea', 'ahold', 'ahoo', 'ahyeahahyeah', 'ai', 'aid', 'aida', 'aight', 'aii', 'aiight', 'aiko', 'ail', 'ailleur', 'aim', 'aimerai', 'aimin', 'aimless', 'aint', 'air', 'airbag', 'airborn', 'aircraft', 'airfar', 'airlin', 'airmail', 'airplan', 'airplay', 'airport', 'airtight', 'airwav', 'aisha', 'aisl', 'ait', 'aiy', 'aiyo', 'aiyyo', 'aja', 'ajar', 'ak', 'akbar', 'ake', 'akil', 'akmolinsk', 'akwam', 'al', 'ala', 'alabam', 'alabama', 'alabami', 'alabao', 'alabast', 'alack', 'aladdin', 'aladi', 'alakazam', 'alambama', 'alameda', 'alamido', 'alamo', 'alan', 'alarm', 'alarum', 'alaska', 'alazay', 'alba', 'albania', 'albatross', 'albequerqu', 'albert', 'albino', 'albright', 'album', 'albuquerqu', 'alchol', 'alco', 'alcohol', 'alderaan', 'aldo', 'aldridg', 'ale', 'alejandro', 'alert', 'alex', 'alexa', 'alexand', 'alexandrovsk', 'alf', 'alfalfa', 'alfblum', 'alfonzo', 'alfr', 'alga', 'algebra', 'algeria', 'algier', 'ali', 'alia', 'alibi', 'alic', 'alicia', 'alien', 'alight', 'align', 'alik', 'alimoni', 'alis', 'alisha', 'alison', 'alittl', 'aliv', 'aliz', 'alizarin', 'alizay', 'all', 'alla', 'allah', 'allahu', 'allan', 'allaround', 'alleg', 'allegheni', 'allegi', 'allegor', 'alleluia', 'allelujah', 'allemand', 'allen', 'allentown', 'allerg', 'allevi', 'alley', 'alleyway', 'allez', 'alli', 'allibi', 'allig', 'allison', 'allman', 'allot', 'allout', 'allow', 'alloy', 'allright', 'allself', 'allur', 'almighti', 'almo', 'almond', 'aloha', 'alondra', 'alonghandcuff', 'alonzo', 'aloof', 'alop', 'alot', 'aloud', 'aloysius', 'alph', 'alpha', 'alphabet', 'alphonzo', 'alpin', 'alpo', 'alright', 'alrigth', 'alt', 'altar', 'alter', 'altern', 'altheim', 'altho', 'altitud', 'altman', 'alto', 'altogeth', 'altough', 'aluhau', 'aluminum', 'alumni', 'alvarado', 'alvin', 'alway', 'ama', 'amanda', 'amanto', 'amapola', 'amar', 'amarillo', 'amass', 'amateur', 'amay', 'amaz', 'amazin', 'amazon', 'ambassador', 'amber', 'ambianc', 'ambidex', 'ambien', 'ambit', 'ambiti', 'ambul', 'ambush', 'ame', 'ameetin', 'amelia', 'amen', 'amend', 'america', 'american', 'amex', 'amg', 'ami', 'amigo', 'amin', 'amio', 'amiri', 'amiss', 'amistad', 'amityvill', 'ammo', 'ammunit', 'amnesia', 'amnesti', 'amo', 'amoco', 'amoeba', 'amok', 'amor', 'amoreena', 'amoung', 'amount', 'amour', 'amoureux', 'amp', 'amphetamin', 'ampin', 'ampl', 'amplifi', 'amput', 'ampute', 'amsterdam', 'amtrak', 'amulet', 'amus', 'amusin', 'an', 'ana', 'anaconda', 'anaesthet', 'anaheim', 'analyst', 'analyt', 'analyz', 'anam', 'anarchi', 'anarchist', 'anastasia', 'anatom', 'anatomi', 'anax', 'anc', 'anceday', 'ancestor', 'ancestr', 'ancestri', 'anchor', 'ancient', 'ancora', 'and', 'andahgroun', 'andal', 'andalusia', 'andata', 'andel', 'anderson', 'andersson', 'andes', 'andgo', 'andi', 'ando', 'andr', 'andretti', 'andrew', 'android', 'anem', 'anemia', 'anemon', 'anesthesia', 'anesthet', 'anew', 'ang', 'angel', 'angela', 'angeley', 'angelina', 'angellucci', 'angelo', 'angelorum', 'angelou', 'anger', 'angi', 'angl', 'angola', 'angri', 'angst', 'anguish', 'angular', 'anillo', 'anim', 'anisha', 'anita', 'ankl', 'ankolimbonee', 'ann', 'anna', 'annabell', 'annabella', 'annale', 'annandal', 'annaw', 'anni', 'annihil', 'anniversari', 'announc', 'announcin', 'annoy', 'annoyin', 'annual', 'anoint', 'anonym', 'anorex', 'anoth', 'anotha', 'anothr', 'ansaphon', 'ansia', 'ansiedad', 'answer', 'ant', 'antacid', 'antartica', 'antediluvian', 'antelop', 'antenna', 'antera', 'anthem', 'anthil', 'anthoni', 'anthrax', 'anthropoid', 'anti', 'antibiot', 'antic', 'antichrist', 'antici', 'anticip', 'anticipatin', 'anticyclon', 'antidot', 'antigua', 'antiguan', 'antimatt', 'antioch', 'antiqu', 'antisoci', 'antoinett', 'anton', 'antonio', 'antwan', 'anudd', 'anus', 'anvil', 'anwar', 'anxieti', 'anxious', 'anyday', 'anyplac', 'anysay', 'anythang', 'anythin', 'anytim', 'anytinq', 'anywher', 'anywho', 'anzio', 'ao', 'aod', 'aoibhnea', 'aol', 'aolong', 'aomeday', 'aoo', 'aowww', 'ap', 'aparecem', 'apart', 'apartheid', 'apathet', 'apathi', 'apb', 'ape', 'apeshit', 'apex', 'aphrodisiac', 'aphrodit', 'apiec', 'apl', 'apocalyps', 'apocalypt', 'apoli', 'apolit', 'apollo', 'apollonia', 'apolog', 'apologin', 'apologis', 'apologist', 'apostasi', 'apostroph', 'apothecari', 'appal', 'appalachian', 'appaloosa', 'appalova', 'appar', 'apparatus', 'apparel', 'apparit', 'appeal', 'appealin', 'appear', 'appeas', 'appeasin', 'appeaz', 'appell', 'appendectomi', 'appendix', 'appet', 'appetis', 'appetit', 'appl', 'applaud', 'applaus', 'applese', 'appli', 'applic', 'applyin', 'appoint', 'apport', 'apprais', 'appreci', 'apprehens', 'apprentic', 'approach', 'approv', 'apr', 'apricot', 'april', 'apron', 'apropo', 'apt', 'aqua', 'aquafina', 'aqualung', 'aqualungggggg', 'aquaman', 'aquarius', 'aquat', 'aquemini', 'aqui', 'ar', 'arab', 'arabell', 'arabella', 'arabi', 'arabia', 'arabian', 'aran', 'arc', 'arcad', 'arch', 'archbishop', 'archetyp', 'architect', 'architectur', 'archvillain', 'archway', 'arctic', 'ard', 'arden', 'ardon', 'area', 'arena', 'areoplan', 'aretha', 'areyou', 'arf', 'arfter', 'argentin', 'argentina', 'arghh', 'argonaut', 'argu', 'argument', 'ari', 'arial', 'aribou', 'ariel', 'arigato', 'aris', 'arisin', 'aristocraci', 'aristocrat', 'arizona', 'ark', 'arkansa', 'arkansaw', 'arklow', 'arlen', 'arm', 'arma', 'armada', 'armadillo', 'armageddon', 'armagedeon', 'armalit', 'armando', 'armani', 'armband', 'armchair', 'armi', 'armor', 'armoral', 'armori', 'armour', 'armstrong', 'arnheim', 'arnold', 'arnstein', 'arofa', 'aroma', 'aromat', 'aroof', 'aros', 'aross', 'aroun', 'around', 'arous', 'arp', 'arr', 'arrang', 'array', 'arrear', 'arrest', 'arri', 'arriba', 'arriv', 'arrivederci', 'arriverderci', 'arrivin', 'arrog', 'arrow', 'ars', 'arsenic', 'arsenio', 'arson', 'art', 'arteri', 'arthriti', 'arthur', 'arti', 'artichok', 'articl', 'articul', 'artifact', 'artifici', 'artilleri', 'artist', 'artista', 'artistri', 'artsi', 'aryan', 'asail', 'asap', 'asbesto', 'asburi', 'ascap', 'ascend', 'ascens', 'ascertain', 'asgard', 'ash', 'asham', 'ashant', 'ashanti', 'ashford', 'ashin', 'ashley', 'ashor', 'ashtabula', 'ashton', 'ashtray', 'ashubani', 'asia', 'asian', 'ask', 'askin', 'asleep', 'asparagus', 'aspect', 'aspen', 'aspenglow', 'asphalt', 'aspir', 'aspirin', 'ass', 'assasin', 'assassin', 'assault', 'asscrack', 'assembl', 'assent', 'assert', 'assess', 'asset', 'asshol', 'assign', 'assimil', 'assis', 'assist', 'associ', 'assort', 'assuag', 'assum', 'assumin', 'assumpt', 'assur', 'asswhip', 'ast', 'astair', 'aster', 'asteroid', 'asthma', 'asti', 'aston', 'astonish', 'astound', 'astral', 'astray', 'astro', 'astrolog', 'astrologist', 'astronaut', 'astronom', 'astroturf', 'astroworld', 'asund', 'asustar', 'asylum', 'at', 'atcha', 'ate', 'ater', 'athair', 'athairarneamhdialinn', 'athairarneamhdialiom', 'atheist', 'atherton', 'athiest', 'athlet', 'athmospher', 'athriti', 'atilla', 'atl', 'atlant', 'atlanta', 'atlanti', 'atlantian', 'atlas', 'atleast', 'atlien', 'atm', 'atmor', 'atmospher', 'atmosphericist', 'atom', 'aton', 'atop', 'atroc', 'atrophi', 'att', 'atta', 'attach', 'attack', 'attackin', 'attain', 'attempt', 'attend', 'attenna', 'attent', 'attic', 'attir', 'attitud', 'attorney', 'attract', 'attribut', 'attrit', 'atttent', 'atuomat', 'au', 'auburn', 'auckland', 'auction', 'audac', 'audibl', 'audienc', 'audio', 'auditorium', 'audubon', 'auf', 'aug', 'august', 'auld', 'aunqu', 'aunt', 'aunti', 'aura', 'auroma', 'aurora', 'aus', 'auschwitz', 'austin', 'australia', 'australian', 'austria', 'authent', 'author', 'auto', 'autobahn', 'autograph', 'automat', 'automo', 'automobil', 'autopilot', 'autrefoi', 'autumn', 'av', 'ava', 'avail', 'avalanch', 'avalon', 'avant', 'ave', 'avec', 'aveng', 'avenu', 'averag', 'avert', 'avi', 'aviat', 'avid', 'avoid', 'avoir', 'avril', 'aw', 'awa', 'await', 'awaitin', 'awak', 'awaken', 'awar', 'award', 'away', 'awaypleas', 'awcantor', 'awe', 'aweigh', 'awesom', 'awhil', 'awn', 'awok', 'axe', 'axi', 'axl', 'ay', 'ayi', 'ayyy', 'azalea', 'baaaaaaaabi', 'baaabi', 'baabi', 'bab', 'babbag', 'babbl', 'babe', 'babetel', 'babi', 'babin', 'baboon', 'babydol', 'babyfac', 'babygirl', 'babylon', 'babysit', 'babysitt', 'babyyi', 'bac', 'bacardi', 'baccala', 'baccus', 'bach', 'bacharach', 'bachata', 'bachelor', 'bacio', 'back', 'backand', 'backbeat', 'backboard', 'backbon', 'backcinch', 'backdo', 'backdoor', 'backdrop', 'backer', 'backfir', 'background', 'backhand', 'backin', 'backlash', 'backless', 'backlit', 'backpack', 'backroad', 'backroom', 'backround', 'backseat', 'backsid', 'backspin', 'backstab', 'backstabb', 'backstabbin', 'backstag', 'backstreet', 'backstretch', 'backstrok', 'backtrack', 'backup', 'backwat', 'backway', 'backwood', 'backyard', 'bacon', 'bad', 'bada', 'badahh', 'badass', 'badbitchalert', 'badboy', 'badda', 'baddah', 'badder', 'baddest', 'baddi', 'baden', 'badest', 'badfish', 'badg', 'badger', 'badland', 'badman', 'badmouth', 'badmouthin', 'badonkadonk', 'badoom', 'badu', 'bae', 'baffin', 'baffl', 'bag', 'bagatell', 'bagawir', 'bagel', 'baggag', 'baggi', 'baggin', 'bagguett', 'baguett', 'bah', 'bahama', 'bahrain', 'bail', 'bailamo', 'bailar', 'bailey', 'bailiff', 'bailin', 'bait', 'baja', 'baka', 'bake', 'baker', 'bakeri', 'bakersfield', 'bakin', 'bako', 'bala', 'balaclava', 'balalaika', 'balanc', 'balconi', 'bald', 'baldhead', 'bale', 'balenciaga', 'bali', 'balin', 'baljenni', 'balklin', 'ball', 'balla', 'ballad', 'balland', 'ballantin', 'baller', 'ballerina', 'ballet', 'ballgam', 'ballhaaaaa', 'balli', 'ballin', 'ballist', 'balloon', 'ballot', 'ballpark', 'ballroom', 'ballyhoo', 'ballz', 'balmain', 'balmi', 'baloney', 'baltimor', 'bam', 'bamba', 'bambaataa', 'bambina', 'bambino', 'bamboo', 'bamboozlin', 'bammer', 'ban', 'banahnah', 'banana', 'bananular', 'band', 'bandag', 'bandana', 'bandanna', 'bandilero', 'bandit', 'bandito', 'bando', 'bandstand', 'bandwagon', 'bang', 'banga', 'banger', 'bangin', 'bangkok', 'bangladesh', 'bangor', 'banish', 'banjo', 'bank', 'bankbook', 'banker', 'bankhead', 'bankrol', 'banner', 'banquet', 'banshe', 'banyan', 'bap', 'bape', 'baptis', 'baptism', 'baptist', 'baptiz', 'bar', 'baraboo', 'baranquilla', 'barb', 'barbado', 'barbar', 'barbara', 'barbarella', 'barbecu', 'barbel', 'barbequ', 'barbequin', 'barber', 'barbershop', 'barbi', 'barbitur', 'barbqu', 'barbwir', 'barcelona', 'barchetta', 'barcod', 'bardot', 'bare', 'bareback', 'barefoot', 'barfli', 'barg', 'bargain', 'bargin', 'baril', 'bariton', 'bark', 'barkeep', 'barkin', 'barkley', 'barley', 'barleycorn', 'barlow', 'barmaid', 'barman', 'barn', 'barnegat', 'barney', 'barnum', 'barnyard', 'baro', 'barocco', 'baromet', 'baron', 'baroqu', 'barq', 'barr', 'barra', 'barracuda', 'barranquilla', 'barrel', 'barrelhous', 'barren', 'barri', 'barricad', 'barrier', 'barrio', 'barroom', 'barrow', 'barrymor', 'barrytown', 'barstool', 'barstow', 'bartek', 'bartend', 'barton', 'barump', 'bas', 'base', 'basebal', 'basehead', 'basement', 'bash', 'bashin', 'basi', 'basic', 'basil', 'basin', 'basinett', 'bask', 'basket', 'basketbal', 'bass', 'basslin', 'bassman', 'bastard', 'bastill', 'bastion', 'bat', 'batch', 'batcher', 'batdanc', 'bate', 'bateau', 'bath', 'bathin', 'bathingroom', 'bathrob', 'bathroom', 'bathtim', 'bathtub', 'bathwat', 'bati', 'batida', 'batman', 'baton', 'batta', 'batten', 'batter', 'batteri', 'batti', 'battin', 'battl', 'battlecat', 'battlefield', 'battleground', 'battlement', 'battleship', 'battlin', 'baum', 'baw', 'bawana', 'bawdi', 'bawl', 'bay', 'bayb', 'baylin', 'bayman', 'bayou', 'bayous', 'baysid', 'baywatch', 'bazaar', 'bazoodi', 'bazooka', 'bb', 'bbbbbbrrrrrddddd', 'bbc', 'bbd', 'bbls', 'bc', 'bcbg', 'bcoz', 'bdp', 'be', 'bea', 'beabadoobe', 'beach', 'beachcombin', 'beachfront', 'beachwood', 'beacon', 'bead', 'beadi', 'beadl', 'beal', 'beam', 'beamer', 'beamin', 'bean', 'beani', 'bear', 'beard', 'beardsli', 'bearer', 'beari', 'beasli', 'beast', 'beasti', 'beat', 'beatbox', 'beatdown', 'beaten', 'beater', 'beati', 'beatin', 'beatl', 'beatlemania', 'beatnick', 'beatnik', 'beatnut', 'beatric', 'beatz', 'beau', 'beaucoup', 'beaujolai', 'beaumont', 'beauregard', 'beaus', 'beausoleil', 'beauti', 'beautician', 'beautifi', 'beautifu', 'beautiful', 'beaux', 'beaver', 'beavi', 'beb', 'bebe', 'bebhuhla', 'bebop', 'beck', 'becki', 'beckon', 'becuas', 'becuz', 'bed', 'bedand', 'beddi', 'bedford', 'bedfram', 'bedight', 'bedouin', 'bedpost', 'bedrock', 'bedroom', 'bedsheet', 'bedsid', 'bedsit', 'bedspr', 'bedtim', 'bee', 'beeee', 'beeeee', 'beef', 'beefcak', 'beefheart', 'beefin', 'beefsteak', 'beehiv', 'beeitch', 'beelin', 'beelzebub', 'beem', 'beemer', 'been', 'beeni', 'beeotch', 'beep', 'beeper', 'beepin', 'beer', 'beerbelli', 'beerpong', 'beethoven', 'beetl', 'beez', 'befal', 'befallen', 'befo', 'befriend', 'beg', 'began', 'begat', 'bege', 'beget', 'beggar', 'begger', 'beggin', 'beginn', 'beginnin', 'beginningto', 'begon', 'begonia', 'begotten', 'begrudg', 'beguil', 'beguin', 'begun', 'behalf', 'behav', 'behavin', 'behavior', 'behaviour', 'behead', 'beheld', 'behind', 'behold', 'beibi', 'beig', 'beij', 'bein', 'bejamin', 'bel', 'belch', 'beleiv', 'belfast', 'belford', 'belfort', 'belfri', 'belgian', 'belgium', 'beli', 'belief', 'believ', 'believen', 'believin', 'belinda', 'belisha', 'belittl', 'belittlin', 'beliv', 'beliz', 'bell', 'bella', 'belladon', 'belli', 'belliger', 'bello', 'belltow', 'bellyach', 'belo', 'belong', 'belov', 'belsen', 'belsiz', 'belt', 'beluga', 'belveder', 'belzoni', 'ben', 'benadryl', 'bench', 'bend', 'bendel', 'bender', 'bendin', 'beneath', 'benedict', 'benefici', 'benefit', 'benevol', 'benign', 'benin', 'beninjaren', 'benjamin', 'benji', 'benn', 'bennett', 'benni', 'bensonhurst', 'bent', 'bentcha', 'bentley', 'benton', 'benz', 'benzinkanist', 'benzino', 'benzo', 'beo', 'ber', 'berbot', 'berdoo', 'bereav', 'bereft', 'berenda', 'beresford', 'beret', 'beretta', 'berk', 'berkeley', 'berkshir', 'berlin', 'bermuda', 'bern', 'bernardino', 'berni', 'bernic', 'berp', 'berri', 'berserk', 'bert', 'berth', 'bertha', 'besando', 'beseech', 'beserk', 'besieg', 'beso', 'bess', 'bessi', 'best', 'besta', 'bet', 'betcha', 'betchu', 'betchya', 'beth', 'betha', 'bethleem', 'bethlehem', 'betray', 'betsi', 'bett', 'betta', 'bettah', 'betten', 'betti', 'bettin', 'between', 'betwixt', 'beupbeupbeupbeupbeupbeupbuem', 'beut', 'beva', 'bevel', 'bever', 'beverag', 'bevin', 'bevo', 'bevro', 'bewar', 'bewild', 'bewitch', 'beyatch', 'beyonc', 'beyotch', 'bezel', 'bezeltyn', 'bg', 'bhutan', 'bi', 'biatch', 'bib', 'bibl', 'biblic', 'biboy', 'bic', 'bicentenni', 'bichafi', 'bichez', 'bickin', 'bickl', 'bicycl', 'bicyclett', 'bid', 'bidd', 'bidder', 'biddi', 'biddin', 'bide', 'bieber', 'bien', 'bienvenido', 'biff', 'bifoc', 'big', 'bigboy', 'bigboyb', 'bigga', 'bigger', 'biggest', 'biggi', 'biggidi', 'bigiti', 'bigot', 'bigshot', 'bih', 'biiitch', 'bike', 'bikeag', 'biker', 'bikini', 'biko', 'bile', 'bill', 'billboard', 'billfold', 'billi', 'billiard', 'billion', 'billionair', 'billow', 'biloxi', 'bilzal', 'bilzarbra', 'bilzasket', 'bilzzabi', 'bimbo', 'bimmer', 'bin', 'bind', 'bing', 'binga', 'bingham', 'bingo', 'binki', 'binocular', 'biofath', 'biographi', 'biolog', 'bionic', 'bip', 'bipolar', 'bir', 'birch', 'birchmount', 'bird', 'birdhous', 'birdi', 'birdland', 'birdman', 'birkin', 'birmingham', 'birrr', 'birth', 'birthday', 'birthmark', 'bis', 'bisc', 'biscayn', 'biscotti', 'biscuit', 'bisexu', 'bishop', 'bismarck', 'bismark', 'bismillah', 'bismol', 'bisquick', 'bissau', 'bit', 'bitch', 'bitchass', 'bitchin', 'bitchmad', 'bite', 'biten', 'biter', 'bitin', 'bitta', 'bitten', 'bitter', 'bittercat', 'bittersweet', 'bitti', 'bittiti', 'biv', 'bivin', 'bivion', 'biway', 'biz', 'bizarr', 'bizerk', 'bizkit', 'bizzatch', 'bizzett', 'bizzi', 'bizzit', 'bizzl', 'bjorn', 'bk', 'bking', 'bla', 'blab', 'blabba', 'blac', 'black', 'blackberri', 'blackbird', 'blackboard', 'blackburn', 'blacken', 'blacker', 'blackest', 'blackey', 'blacki', 'blackin', 'blackjack', 'blacklist', 'blackmail', 'blackman', 'blackout', 'blackpool', 'blackskin', 'blackslid', 'blacksmith', 'blackstreet', 'blackthought', 'blacktop', 'blacktow', 'blackwood', 'bladder', 'blade', 'blah', 'blair', 'blake', 'blam', 'blame', 'blamin', 'bland', 'blank', 'blanket', 'blaow', 'blaq', 'blare', 'blarney', 'blase', 'blasphem', 'blasphemi', 'blast', 'blaster', 'blastin', 'blastmast', 'blatant', 'blauh', 'blay', 'blaze', 'blazen', 'blazin', 'blcok', 'ble', 'bleach', 'bleacher', 'bleak', 'bleari', 'bleat', 'bled', 'bleed', 'bleeder', 'bleedin', 'bleep', 'bleibst', 'blemish', 'blend', 'blender', 'bles', 'bless', 'blessin', 'blew', 'blick', 'blicki', 'blige', 'bligga', 'blight', 'blimp', 'blind', 'blindfold', 'blindin', 'blindsid', 'bling', 'blingi', 'blink', 'blinker', 'blinki', 'blinkin', 'bliss', 'blister', 'blit', 'blitz', 'blitzen', 'blivion', 'blizzard', 'blo', 'bloah', 'bloat', 'bloc', 'blocc', 'block', 'blockin', 'blockster', 'blog', 'bloke', 'blon', 'blond', 'blondi', 'blood', 'bloodbath', 'bloodclot', 'bloodhound', 'bloodi', 'bloodin', 'bloodless', 'bloodlin', 'bloodlust', 'bloodsh', 'bloodshi', 'bloodshot', 'bloodstain', 'bloodstream', 'bloom', 'bloomer', 'bloomin', 'bloop', 'blooper', 'blop', 'blossom', 'blous', 'blow', 'blowdryer', 'blower', 'blowin', 'blown', 'blowtorch', 'blr', 'bls', 'blu', 'blubba', 'blue', 'bluebel', 'blueberri', 'bluebird', 'blueboy', 'bluegrass', 'bluejay', 'bluejean', 'blueprint', 'bluer', 'bluesi', 'bluest', 'bluf', 'bluff', 'bluffin', 'bluhh', 'bluish', 'blume', 'blunder', 'blunt', 'blur', 'blurri', 'blurryfac', 'blurt', 'blush', 'blusher', 'blushin', 'bluto', 'bm', 'bmi', 'bmw', 'bmx', 'bmxing', 'bnb', 'bo', 'boa', 'boac', 'board', 'boarder', 'boardin', 'boardroom', 'boardwalk', 'boasi', 'boast', 'boat', 'boatin', 'boatload', 'bob', 'bobber', 'bobbi', 'bobbin', 'bobidopidouommmn', 'bobit', 'bobo', 'bobtail', 'boca', 'bocephus', 'bock', 'bod', 'boda', 'bodaci', 'bode', 'bodega', 'bodhisattva', 'bodi', 'bodili', 'bodin', 'bodyguard', 'bodyslam', 'bodze', 'boe', 'bof', 'bog', 'bogart', 'boggin', 'boggl', 'bogl', 'bogota', 'bogu', 'bogus', 'bohannon', 'boi', 'boil', 'boiler', 'boilin', 'bois', 'boister', 'bol', 'bola', 'bold', 'bolder', 'bolem', 'bolero', 'boleyn', 'bolivia', 'boll', 'bollock', 'bolo', 'bologna', 'bologni', 'bolsillo', 'bolster', 'bolt', 'bom', 'bomb', 'bomba', 'bombard', 'bombardi', 'bombay', 'bomber', 'bombin', 'bombshel', 'bomp', 'bompalompalomp', 'bon', 'bona', 'bonafid', 'bonanza', 'bonapart', 'bond', 'bondag', 'bondin', 'bone', 'bonedigg', 'boneless', 'boney', 'bonfir', 'bong', 'bongo', 'bonheur', 'boni', 'bonita', 'bonk', 'bonker', 'bonnaroo', 'bonnet', 'bonnevill', 'bonni', 'bono', 'bonsai', 'bonus', 'boo', 'boob', 'boobi', 'boobuhla', 'booch', 'boof', 'boog', 'boogaloo', 'boogedi', 'booger', 'boogeti', 'boogey', 'boogeyman', 'boogeymen', 'boogi', 'boogoloo', 'boogum', 'booh', 'boohoo', 'book', 'booka', 'booker', 'booki', 'bookin', 'bookkeep', 'bookoo', 'bookstor', 'bookworm', 'boolin', 'boom', 'boombada', 'boombast', 'boombox', 'boomchicka', 'boomer', 'boomerang', 'boomin', 'boomtown', 'boon', 'boonapalist', 'boondock', 'boonk', 'booo', 'boooooommmmmm', 'boop', 'boost', 'booster', 'boostin', 'boot', 'booth', 'boothil', 'booti', 'bootleg', 'bootlegg', 'bootylici', 'booyah', 'booz', 'boozer', 'bop', 'bopper', 'boppin', 'boptyp', 'boquet', 'border', 'borderlin', 'bordoni', 'bore', 'borea', 'boreali', 'borealic', 'boredem', 'boredom', 'borin', 'born', 'borneo', 'bornin', 'borough', 'borri', 'borrow', 'bosco', 'bosom', 'boss', 'bossa', 'boston', 'boswel', 'bot', 'botch', 'botham', 'bother', 'botswana', 'bott', 'botticelli', 'bottl', 'bottler', 'bottom', 'bottomless', 'boud', 'boudoir', 'bough', 'bought', 'bougi', 'bouje', 'boula', 'boulder', 'boulevard', 'boun', 'bounc', 'bouncer', 'bounci', 'bouncin', 'bound', 'boundari', 'boundless', 'bounti', 'bouquet', 'bourban', 'bourbon', 'bourgeoi', 'bourgeoisi', 'bourgi', 'bousin', 'bout', 'bouta', 'boutcha', 'boutiqu', 'boutonnier', 'boutta', 'bow', 'bowcat', 'bowel', 'boweri', 'bowi', 'bowl', 'bowleg', 'bowlin', 'bowri', 'box', 'boxcar', 'boxer', 'boxhil', 'boxin', 'boy', 'boya', 'boyarde', 'boyd', 'boyfriend', 'boyhood', 'boyland', 'boyz', 'boz', 'bozade', 'bozak', 'bozh', 'bozo', 'bozzio', 'br', 'bra', 'brace', 'bracelet', 'brack', 'bracket', 'brad', 'bradford', 'bradi', 'bradley', 'brag', 'brage', 'bragg', 'braggin', 'brah', 'braid', 'brail', 'braill', 'brain', 'braini', 'brainiac', 'brainwash', 'brais', 'brake', 'brakeman', 'brambl', 'bran', 'branch', 'brand', 'brandi', 'brandish', 'brandivino', 'brando', 'brang', 'bras', 'brasi', 'brass', 'brassi', 'brassier', 'brat', 'bratti', 'bratz', 'braun', 'bravado', 'brave', 'braveheart', 'braver', 'braveri', 'bravest', 'brawl', 'brawni', 'braxton', 'brazen', 'brazil', 'brazo', 'brea', 'bread', 'breadlin', 'breaf', 'break', 'breakabl', 'breakaway', 'breakdancin', 'breakdown', 'breaker', 'breakfast', 'breakfest', 'breaki', 'breakin', 'breakneck', 'breakout', 'breakthrough', 'breakup', 'breast', 'breath', 'breather', 'breathin', 'breathless', 'breathlik', 'breathtakin', 'bred', 'bredda', 'bredren', 'breed', 'breeez', 'breesh', 'breez', 'breezeblock', 'breezi', 'brenda', 'brennan', 'brentwood', 'brethren', 'brett', 'brew', 'brewer', 'breweri', 'brewin', 'brewster', 'brian', 'briar', 'bribe', 'brick', 'bricklay', 'bricklayin', 'bridal', 'bride', 'bridesmaid', 'bridg', 'bridgehead', 'bridger', 'bridgett', 'bridgietta', 'bridgit', 'bridl', 'brief', 'briefcas', 'brigad', 'brigg', 'bright', 'brighten', 'brighter', 'brightest', 'brightin', 'brightmo', 'brighton', 'brigitt', 'brilla', 'brillianc', 'brilliant', 'brillo', 'brillz', 'brim', 'brimston', 'brine', 'bring', 'bringin', 'brini', 'brink', 'briser', 'bristl', 'britain', 'britannia', 'britch', 'brite', 'britic', 'british', 'britney', 'britt', 'brittani', 'brittania', 'brittney', 'brixton', 'briz', 'bro', 'broad', 'broadcast', 'broaden', 'broader', 'broadsid', 'broadway', 'broccoli', 'brock', 'brocolli', 'brodi', 'brogan', 'brogu', 'broil', 'brokanes', 'broke', 'broken', 'brokenheart', 'brokenheartsvill', 'broker', 'brokin', 'bromidrosi', 'bromo', 'bronc', 'broncin', 'bronco', 'bronix', 'bronx', 'bronz', 'brood', 'brook', 'brooklyn', 'broom', 'broomstick', 'broonzi', 'brooooken', 'broooooooo', 'broooooooooooooo', 'bros', 'broski', 'broth', 'brotha', 'brother', 'brotherhood', 'brougham', 'brought', 'brouhaha', 'brow', 'brown', 'browni', 'brownsvill', 'brr', 'brrah', 'brrr', 'brrrrr', 'brrrrrring', 'brrrrrrrrrring', 'brrt', 'bruce', 'brudder', 'bruder', 'bruh', 'bruis', 'bruisin', 'bruk', 'brummel', 'brunch', 'brunett', 'brung', 'bruno', 'brunswick', 'brush', 'brushin', 'brussel', 'brust', 'brut', 'brutal', 'brute', 'brutish', 'brutus', 'bryl', 'brynner', 'bs', 'bst', 'bt', 'bts', 'bu', 'bub', 'bubba', 'bubbalin', 'bubbi', 'bubbl', 'bubblegum', 'bubbler', 'bubblin', 'bubon', 'buck', 'buckaroo', 'buckboard', 'bucker', 'bucket', 'buckey', 'buckin', 'buckingham', 'buckl', 'bucko', 'buckshot', 'buckwhylin', 'buckwild', 'bud', 'budapest', 'buddah', 'buddha', 'buddhist', 'buddi', 'buddist', 'budg', 'budget', 'budlight', 'budweis', 'buena', 'bueno', 'buf', 'buff', 'buffalo', 'buffet', 'buffett', 'bufford', 'bug', 'bugaloo', 'bugatti', 'bugga', 'bugger', 'buggi', 'buggin', 'bugl', 'bugsi', 'buh', 'buick', 'build', 'builder', 'buildin', 'buillt', 'built', 'buiness', 'buis', 'buk', 'bukka', 'buku', 'bulb', 'buldg', 'bulg', 'bulgar', 'bulgaria', 'bulgin', 'bulimia', 'bull', 'bullcrap', 'bulldog', 'bulldozi', 'bullet', 'bulletproof', 'bullfrog', 'bullhorn', 'bulli', 'bullpen', 'bullsh', 'bullshit', 'bullshita', 'bullshittin', 'bullst', 'bullwinkl', 'bum', 'bumbl', 'bumblebe', 'bummer', 'bummi', 'bummier', 'bummin', 'bump', 'bumpa', 'bumper', 'bumpi', 'bumpin', 'bumpint', 'bumrush', 'bun', 'bunch', 'buncha', 'bundl', 'bung', 'bungalow', 'bungl', 'bunk', 'bunker', 'bunnel', 'bunni', 'buon', 'bup', 'burb', 'burban', 'burberri', 'burch', 'burden', 'burdensom', 'bure', 'bureaucraci', 'burgandi', 'burger', 'burglar', 'burglari', 'burgundi', 'buri', 'burial', 'burin', 'burk', 'burken', 'burlap', 'burlesqu', 'burma', 'burmingham', 'burn', 'burner', 'burnin', 'burnt', 'burrito', 'burrow', 'burst', 'burstin', 'burt', 'burton', 'burundi', 'buryin', 'bus', 'buse', 'bush', 'bushel', 'bushi', 'bushwhack', 'busi', 'busier', 'busiest', 'businessman', 'businessmen', 'buss', 'bussin', 'bust', 'busta', 'buster', 'bustin', 'bustl', 'but', 'butan', 'butch', 'butcher', 'butler', 'butt', 'butta', 'buttcrack', 'butter', 'buttercream', 'buttercup', 'butterfing', 'butterfli', 'butterflyin', 'butterican', 'buttermilk', 'butterscotch', 'buttfuck', 'buttkiss', 'button', 'buttonhol', 'buy', 'buyer', 'buyin', 'buzio', 'buzz', 'buzzard', 'buzzer', 'buzzin', 'bvds', 'bw', 'bwaaaaaahahahaaaah', 'bwoi', 'bwoy', 'bye', 'bygon', 'bynum', 'bypass', 'byproduct', 'byrd', 'bys', 'bystand', 'byte', 'byway', 'bzz', 'bzzz', 'bzzzt', 'cab', 'caballero', 'caballo', 'cabaret', 'cabbag', 'cabin', 'cabinet', 'cabl', 'cabo', 'caboos', 'cabrillo', 'cacciator', 'cach', 'cachett', 'cacki', 'cacophoni', 'cactus', 'cad', 'cada', 'caddi', 'caddillac', 'cadenc', 'cadet', 'cadi', 'cadillac', 'caesar', 'caf', 'cafe', 'caffein', 'cage', 'cagey', 'cah', 'cahn', 'cahoot', 'caiga', 'cain', 'cajun', 'cak', 'cake', 'cal', 'calaboos', 'calabrais', 'calabres', 'calam', 'calcul', 'cale', 'caledonia', 'calend', 'calendar', 'calf', 'calgari', 'calgon', 'calhoun', 'cali', 'calib', 'calibr', 'calico', 'californ', 'californi', 'california', 'californian', 'call', 'calla', 'callan', 'caller', 'callin', 'calliop', 'callous', 'callowayin', 'calm', 'calmer', 'calo', 'calori', 'calus', 'calv', 'calvari', 'calvin', 'calypso', 'cam', 'camarada', 'camarata', 'camarena', 'camarillo', 'camaro', 'camay', 'camber', 'cambodia', 'cambric', 'cambridgeshir', 'camcord', 'camel', 'camelot', 'camembert', 'cameo', 'camera', 'cameraman', 'cameroon', 'camila', 'camill', 'caminhar', 'camino', 'camisol', 'camo', 'camoflaug', 'camouflag', 'camp', 'campaign', 'campanella', 'campbel', 'campbellton', 'camper', 'campfir', 'campin', 'campus', 'camri', 'can', 'canada', 'canal', 'canari', 'canarsi', 'canaver', 'canc', 'cancel', 'cancer', 'cancun', 'candelar', 'candelight', 'candi', 'candic', 'candid', 'candl', 'candlelight', 'candlelit', 'candlestick', 'candlewax', 'candyman', 'cane', 'canebrak', 'canebreak', 'canibus', 'canin', 'cannabi', 'canneri', 'cannib', 'cannon', 'cannonbal', 'cano', 'canoga', 'canon', 'canopi', 'canseco', 'canstil', 'cantada', 'cantaloup', 'cantar', 'canteen', 'cantina', 'cantinero', 'canton', 'cantor', 'canva', 'canyon', 'cap', 'capabl', 'capac', 'capacitor', 'cape', 'capella', 'caper', 'capit', 'capitol', 'capon', 'cappeau', 'cappella', 'capper', 'cappin', 'cappuccino', 'cappucino', 'capre', 'capri', 'capricorn', 'capsiz', 'capsizin', 'capt', 'captain', 'caption', 'captiv', 'captur', 'capucino', 'capulet', 'car', 'cara', 'caramba', 'caramel', 'carat', 'caravan', 'carb', 'carbinera', 'carbon', 'carbuer', 'carburetor', 'carcass', 'card', 'cardboard', 'cardi', 'cardiac', 'cardigan', 'cardin', 'cardio', 'care', 'careen', 'career', 'carefre', 'careful', 'careless', 'caress', 'caressin', 'caretak', 'carey', 'cargo', 'cari', 'carib', 'caribbean', 'caribou', 'caricatur', 'carin', 'carisi', 'carl', 'carla', 'carlito', 'carlo', 'carmela', 'carmelita', 'carmelo', 'carmen', 'carmethen', 'carmichael', 'carn', 'carnag', 'carnal', 'carnat', 'carni', 'carniv', 'carnivor', 'carol', 'carolin', 'carolina', 'carolyn', 'carosel', 'carousel', 'carpent', 'carpet', 'carpicorn', 'carpool', 'carr', 'carrabean', 'carrera', 'carressin', 'carri', 'carriag', 'carribean', 'carrion', 'carro', 'carrol', 'carrot', 'carryi', 'carryin', 'carsick', 'carson', 'cart', 'cartel', 'carter', 'cartey', 'carti', 'cartier', 'cartilag', 'cartman', 'cartoon', 'cartridg', 'cartwheel', 'carv', 'carvel', 'carver', 'carwash', 'casa', 'casaba', 'casanova', 'casbah', 'cascad', 'case', 'casey', 'cash', 'cashier', 'cashin', 'cashmer', 'cashmoneyap', 'cashout', 'casino', 'cask', 'casket', 'casper', 'caspian', 'cassett', 'cassius', 'cassock', 'cast', 'castanet', 'castaway', 'castillo', 'castin', 'castl', 'castor', 'castrat', 'castro', 'casual', 'casualti', 'cat', 'cata', 'catacomb', 'catalina', 'catalog', 'catapult', 'catastroph', 'cataton', 'catch', 'catcher', 'catchi', 'catchin', 'categor', 'catelina', 'cater', 'caterpillar', 'catesbi', 'catfish', 'cathedr', 'cathi', 'cathol', 'cathyyyyyy', 'catolina', 'catsaki', 'catter', 'catterpil', 'catti', 'cattin', 'cattl', 'catya', 'cau', 'caucasian', 'caught', 'cauldron', 'caus', 'causal', 'causethat', 'causeway', 'causin', 'causl', 'caustic', 'caution', 'cautious', 'cautivast', 'cauz', 'cavali', 'cavalri', 'cave', 'cavern', 'caviar', 'caviti', 'cavortin', 'cavron', 'caw', 'cawfe', 'cay', 'cayman', 'cayus', 'cb', 'cc', 'cd', 'cds', 'ce', 'cea', 'ceas', 'ceasar', 'ceaseless', 'ceast', 'cebu', 'cece', 'cecil', 'cedar', 'cedric', 'cee', 'ceelo', 'ceil', 'ceilin', 'cel', 'celeb', 'celebr', 'celebratin', 'celeri', 'celesti', 'celib', 'celibaci', 'celin', 'cell', 'cellar', 'cellblock', 'celli', 'cellmat', 'cellophan', 'celluar', 'cellular', 'cellulit', 'celluloid', 'celtic', 'cement', 'cementin', 'cemetari', 'cemeteri', 'censor', 'censorship', 'census', 'cent', 'center', 'centerfold', 'centigrad', 'centiped', 'centr', 'central', 'centrifug', 'centuri', 'ceo', 'cept', 'cereal', 'cerebr', 'ceremoni', 'certainti', 'certif', 'certifi', 'ces', 'cess', 'cet', 'cetera', 'ch', 'cha', 'chabli', 'chachi', 'chad', 'chadrool', 'chaf', 'chafe', 'chai', 'chaim', 'chain', 'chainlink', 'chainsaw', 'chair', 'chais', 'chaka', 'chakra', 'chalet', 'chalic', 'chalk', 'chalkboard', 'chalkin', 'challeng', 'chalmer', 'chalupa', 'chamber', 'chambermaid', 'chameleon', 'chamoi', 'champ', 'champagn', 'champangn', 'champion', 'championship', 'chan', 'chanc', 'chancellorsvill', 'chancer', 'chanci', 'chancin', 'chancleta', 'chandeli', 'chandon', 'chandra', 'chanel', 'chaney', 'chang', 'changer', 'changin', 'chanki', 'channel', 'chant', 'chantay', 'chantilli', 'chao', 'chap', 'chapeaux', 'chapel', 'chaperon', 'chapin', 'chaplin', 'chapman', 'chappell', 'chapper', 'chappi', 'chapter', 'char', 'charact', 'characterist', 'charad', 'charcoal', 'chardonnay', 'charg', 'chargeabl', 'charger', 'chargin', 'chariot', 'charisma', 'chariti', 'charl', 'charlamagn', 'charlemagn', 'charlen', 'charleston', 'charley', 'charli', 'charlott', 'charls', 'charm', 'charmant', 'charmer', 'charmin', 'chart', 'charter', 'chartin', 'charybdi', 'chase', 'chaser', 'chasethemoney', 'chasey', 'chasin', 'chaska', 'chasm', 'chast', 'chastis', 'chastiti', 'chat', 'chatanika', 'chateau', 'chateaus', 'chattahoche', 'chattahooche', 'chattanika', 'chattanooga', 'chatter', 'chatti', 'chattin', 'chauffeur', 'chaunt', 'chauvinist', 'chavala', 'chaw', 'chayne', 'che', 'chea', 'cheak', 'cheap', 'cheaper', 'cheapest', 'cheat', 'cheater', 'cheatin', 'check', 'checka', 'checkbook', 'checker', 'checkerboard', 'checkin', 'checkmat', 'checkout', 'chedda', 'cheddar', 'cheech', 'cheefa', 'cheefin', 'cheek', 'cheeki', 'cheer', 'cheeri', 'cheerio', 'cheerlead', 'chees', 'cheeseburg', 'cheesey', 'cheesi', 'cheetah', 'cheez', 'chef', 'cheif', 'cheiro', 'chelsea', 'chemic', 'chemist', 'chemistri', 'chemo', 'cheney', 'cher', 'cheri', 'cherish', 'chero', 'cheroke', 'cherri', 'chert', 'cheryl', 'chesapeak', 'cheshir', 'chesimard', 'chesnutt', 'chess', 'chest', 'chester', 'chesterfield', 'chestnut', 'chet', 'cheverolet', 'chevi', 'chevrolet', 'chevron', 'chew', 'chewi', 'chewin', 'cheyenn', 'chez', 'chezzi', 'chh', 'chi', 'chia', 'chiang', 'chic', 'chica', 'chicago', 'chican', 'chicano', 'chick', 'chicka', 'chickasaw', 'chicken', 'chickenhawk', 'chicki', 'chickiti', 'chico', 'chicope', 'chide', 'chief', 'chieftain', 'chien', 'chiffon', 'chigga', 'chik', 'chika', 'chikiti', 'child', 'childbirth', 'childhood', 'childish', 'childlik', 'children', 'chile', 'chili', 'chill', 'chiller', 'chilli', 'chillin', 'chillout', 'chillun', 'chimacum', 'chimba', 'chime', 'chimin', 'chimney', 'chimp', 'chimpanze', 'chin', 'china', 'chinatown', 'chinchilla', 'chines', 'chiney', 'ching', 'chingazo', 'chingi', 'chingo', 'chingon', 'chinni', 'chino', 'chior', 'chip', 'chippawa', 'chippendal', 'chipper', 'chippin', 'chiqu', 'chiraq', 'chirp', 'chirrun', 'chirstma', 'chisel', 'chisholm', 'chistma', 'chit', 'chitlin', 'chitter', 'chitti', 'chittl', 'chiva', 'chivalri', 'chive', 'chloe', 'chlorophyl', 'cho', 'chocalata', 'chocha', 'chock', 'choco', 'chocol', 'chocolata', 'choctaw', 'choic', 'choir', 'chois', 'choke', 'chokecherri', 'choker', 'chokin', 'chola', 'cholesterol', 'cholo', 'chomp', 'chompin', 'chone', 'chong', 'choo', 'choogl', 'chooglin', 'chooka', 'choos', 'chooser', 'choosey', 'choosi', 'choosin', 'chop', 'choppa', 'choppabl', 'chopper', 'choppi', 'choppin', 'chopsquad', 'chor', 'choral', 'chord', 'chore', 'choretim', 'chorus', 'chose', 'chosen', 'chou', 'chour', 'chourus', 'chout', 'chow', 'chowder', 'chri', 'chrilden', 'chris', 'chrisma', 'chrissak', 'chrissi', 'christ', 'christam', 'christama', 'christendom', 'christi', 'christian', 'christin', 'christina', 'christma', 'christmas', 'christmastim', 'christo', 'christoph', 'chrisymas', 'chro', 'chrome', 'chromi', 'chromium', 'chromosom', 'chronic', 'chronicl', 'chrous', 'chrstmas', 'chrush', 'chrysler', 'chu', 'chubb', 'chubbi', 'chuck', 'chucker', 'chucki', 'chuckl', 'chug', 'chugga', 'chuggin', 'chula', 'chum', 'chummier', 'chump', 'chumpi', 'chumpin', 'chuncki', 'chunder', 'chung', 'chunk', 'chunki', 'chunkiest', 'church', 'churchil', 'churchyard', 'churn', 'churnin', 'chute', 'chuuch', 'ci', 'cia', 'ciao', 'cider', 'cielo', 'cig', 'ciga', 'cigar', 'cigarett', 'cigarrett', 'cigerett', 'ciggarett', 'cillzan', 'cin', 'cinast', 'cinch', 'cincinatti', 'cincinnati', 'cinco', 'cinder', 'cinderella', 'cindi', 'cinema', 'cinnabon', 'cinnamon', 'cipher', 'cipl', 'circl', 'circuit', 'circul', 'circular', 'circulatin', 'circulatori', 'circulin', 'circumcis', 'circumst', 'circumv', 'circus', 'ciroc', 'cirrus', 'cisco', 'cistern', 'cisum', 'cita', 'citi', 'citifi', 'citizen', 'citrezen', 'citron', 'cityscap', 'civic', 'civil', 'civilian', 'ck', 'cker', 'ckin', 'cking', 'cl', 'clack', 'clad', 'claiborn', 'claim', 'claimin', 'clair', 'clairvoy', 'claker', 'clam', 'clamor', 'clamour', 'clamp', 'clan', 'clandestin', 'clang', 'clank', 'clap', 'clapham', 'clappa', 'clapper', 'clappin', 'clapton', 'clara', 'clarenc', 'clarifi', 'clarinet', 'clariti', 'clark', 'clasa', 'clash', 'clasp', 'class', 'classi', 'classic', 'classifi', 'classmat', 'classroom', 'clatter', 'claud', 'claudia', 'claus', 'claustophob', 'claustrophob', 'claustrophobia', 'clavinet', 'claw', 'clawdi', 'clawin', 'claxton', 'clay', 'clayton', 'cle', 'clean', 'cleaner', 'cleanest', 'cleanin', 'cleans', 'cleansin', 'clear', 'clearanc', 'clearer', 'clearest', 'clearin', 'clearwat', 'cleat', 'cleav', 'cleeko', 'cleft', 'clegg', 'clementin', 'clench', 'clenchin', 'cleopatra', 'clerk', 'cleveland', 'clever', 'clich', 'click', 'clicketi', 'clickin', 'clickiti', 'clidina', 'cliental', 'clientel', 'cliff', 'clifford', 'cliffsid', 'clifton', 'climat', 'climax', 'climb', 'climber', 'climbin', 'clime', 'climg', 'clinch', 'cline', 'cling', 'clingi', 'clingin', 'clinic', 'clink', 'clinton', 'clip', 'clipboard', 'clipper', 'clippeti', 'clips', 'cliqu', 'clit', 'clitor', 'clitori', 'clive', 'clk', 'cloak', 'clock', 'clockin', 'clockwork', 'clod', 'clog', 'cloht', 'cloister', 'clone', 'clop', 'cloppin', 'clorox', 'closa', 'closah', 'close', 'closer', 'closest', 'closet', 'closin', 'closur', 'clot', 'cloth', 'clother', 'clotheslin', 'clothin', 'cloud', 'cloudi', 'cloudless', 'clout', 'clove', 'cloven', 'clover', 'clower', 'clown', 'clownin', 'clu', 'club', 'clubbin', 'clubhous', 'cluck', 'clucker', 'clue', 'clueless', 'clump', 'clumsi', 'clumsili', 'clung', 'cluster', 'clutch', 'clutchin', 'clutter', 'clyde', 'clyder', 'cm', 'cmet', 'cmon', 'coach', 'coachella', 'coagulatin', 'coal', 'coalesc', 'coalit', 'coalmin', 'coaloil', 'coars', 'coast', 'coastal', 'coaster', 'coastguard', 'coastin', 'coastlin', 'coat', 'coatin', 'coax', 'cob', 'cobain', 'cobalt', 'cobbler', 'cobbleston', 'cobra', 'cobweb', 'coca', 'cocain', 'cocaina', 'cochran', 'cock', 'cockdiesel', 'cockey', 'cocki', 'cockin', 'cockpit', 'cockroach', 'cocksuck', 'cocktail', 'coco', 'cocoa', 'coconut', 'cocoon', 'cod', 'coda', 'coddl', 'code', 'codein', 'codi', 'codin', 'coe', 'coercion', 'coeur', 'coff', 'coffe', 'coffin', 'cog', 'cognac', 'cohen', 'cohn', 'coil', 'coin', 'coincid', 'coincident', 'coke', 'cokehead', 'coki', 'cokin', 'coko', 'cola', 'colada', 'colaiuta', 'colbi', 'cold', 'coldchain', 'colder', 'coldest', 'coldplay', 'cole', 'coleman', 'colgast', 'colgat', 'colin', 'coliseum', 'collab', 'collabo', 'collabor', 'collagen', 'collaps', 'collar', 'collarbon', 'collard', 'collater', 'collect', 'collector', 'colleg', 'colli', 'collid', 'collin', 'collis', 'collo', 'collosseum', 'cologn', 'colombia', 'colombian', 'colombo', 'colonel', 'coloni', 'colonis', 'color', 'colorad', 'colorado', 'colorblind', 'colorin', 'coloss', 'colosseum', 'colour', 'colours', 'colt', 'coltran', 'colud', 'columbia', 'columbin', 'columbo', 'columbus', 'column', 'colvin', 'coma', 'comafi', 'comand', 'comatos', 'comb', 'combat', 'combin', 'combinin', 'combo', 'combust', 'comcast', 'comden', 'come', 'comeback', 'comedi', 'comedian', 'comedown', 'comenc', 'comer', 'comet', 'cometh', 'comfi', 'comfort', 'comic', 'comig', 'comin', 'comittin', 'comm', 'comma', 'commanche', 'command', 'commenc', 'commend', 'comment', 'commerc', 'commerci', 'commi', 'commin', 'commisari', 'commiss', 'commission', 'commit', 'commitin', 'committe', 'committin', 'commod', 'commodor', 'common', 'commot', 'communic', 'communion', 'communist', 'communiti', 'commut', 'como', 'comp', 'compact', 'compadr', 'compani', 'companion', 'companionship', 'compar', 'comparin', 'comparison', 'compart', 'compass', 'compat', 'compel', 'compelt', 'compens', 'compet', 'competit', 'competitor', 'compil', 'complac', 'complain', 'complainin', 'complaint', 'complement', 'complementari', 'complet', 'complex', 'complexion', 'compli', 'complic', 'complica', 'compliment', 'compos', 'composi', 'composin', 'composit', 'compositor', 'composur', 'compound', 'comprehend', 'comprehens', 'comprend', 'compress', 'comprimis', 'compromis', 'compromisin', 'comps', 'compton', 'compuls', 'comput', 'computer', 'comrad', 'comverteth', 'con', 'conceal', 'concealin', 'conced', 'conceit', 'conceiv', 'concentr', 'concentratin', 'concept', 'conceptu', 'concern', 'concert', 'concertina', 'concess', 'conch', 'concheroo', 'concho', 'concis', 'conclus', 'concoct', 'concord', 'concret', 'concubin', 'concuss', 'condemn', 'condens', 'condescend', 'condit', 'condition', 'condo', 'condol', 'condom', 'condon', 'conduct', 'conductor', 'conductress', 'conduit', 'cone', 'conelrad', 'conestoga', 'coney', 'confect', 'confer', 'confess', 'confession', 'confessor', 'confetti', 'confid', 'confidenti', 'configur', 'confin', 'confind', 'confirm', 'confirma', 'confisc', 'conflagr', 'conflict', 'conform', 'confound', 'confront', 'confucius', 'confus', 'confusin', 'conga', 'congadrum', 'conglomer', 'congo', 'congratul', 'congreg', 'congregatin', 'congress', 'congressman', 'congressmen', 'conjur', 'conley', 'conmigo', 'conn', 'connect', 'connectin', 'conni', 'conniv', 'connivin', 'connolli', 'connor', 'connu', 'conocia', 'conozco', 'conquer', 'conqueroo', 'conqueroot', 'conqueror', 'conquest', 'conquistador', 'conrad', 'conscienc', 'conscious', 'consecr', 'consecut', 'consensus', 'consent', 'consequ', 'consequenti', 'conserv', 'conserva', 'consid', 'consider', 'consienc', 'consigo', 'consist', 'consol', 'consola', 'conspir', 'conspiraci', 'constabl', 'constanc', 'constant', 'constantinopl', 'constel', 'constip', 'constitut', 'constrain', 'constrict', 'construct', 'constructor', 'consul', 'consult', 'consum', 'consumm', 'consumpt', 'contact', 'contagi', 'contain', 'contamin', 'contempl', 'contemplatin', 'contemporari', 'contempt', 'contend', 'content', 'contenti', 'contest', 'contigo', 'contin', 'continent', 'continu', 'continuin', 'continuo', 'contortionist', 'contour', 'contraband', 'contract', 'contractu', 'contradict', 'contradictonari', 'contrari', 'contrast', 'contribut', 'contrit', 'control', 'controlla', 'controllin', 'controlo', 'controol', 'controversi', 'conundrum', 'conven', 'conveni', 'convent', 'convers', 'conversatin', 'convert', 'convertin', 'convey', 'conveyor', 'convict', 'convinc', 'convo', 'convoy', 'convuls', 'conway', 'coo', 'cooch', 'coochi', 'cooda', 'coogi', 'cooin', 'cook', 'cooker', 'cooki', 'cookin', 'cool', 'cooler', 'coolest', 'cooley', 'cooli', 'coolidg', 'coolin', 'coolli', 'coon', 'coonskin', 'coooom', 'coooooom', 'coop', 'cooper', 'coor', 'coordin', 'coot', 'cooti', 'cop', 'copacet', 'cope', 'copenhagen', 'copi', 'copin', 'copisha', 'copla', 'coppa', 'copper', 'copperhead', 'coppin', 'copul', 'copycat', 'copyright', 'copywritten', 'coquett', 'cora', 'coral', 'coraz', 'corazon', 'corbin', 'cord', 'cordless', 'corduroy', 'core', 'cori', 'corinn', 'cork', 'corkscrew', 'corleon', 'cormega', 'cormier', 'corn', 'cornbread', 'corncob', 'corner', 'cornerston', 'cornet', 'cornfield', 'cornflak', 'cornflow', 'corni', 'cornish', 'cornrow', 'cornstalk', 'cornstarch', 'cornwal', 'coron', 'corona', 'corp', 'corpor', 'corps', 'corpus', 'corral', 'correct', 'correl', 'correspond', 'corrida', 'corridor', 'corrina', 'corrod', 'corros', 'corrupt', 'cors', 'cortex', 'cortina', 'corvett', 'corvo', 'cos', 'cosa', 'cosbi', 'cosi', 'cosign', 'coslow', 'cosmet', 'cosmic', 'cosmik', 'cosmonaut', 'cosmos', 'cost', 'costa', 'costello', 'costum', 'cot', 'cote', 'cotta', 'cottag', 'cotton', 'cottoncrop', 'cottonfield', 'cottonmouth', 'cottontail', 'cottonwood', 'cou', 'couch', 'coucher', 'couchett', 'couchez', 'coucou', 'cougar', 'cough', 'cougher', 'coughin', 'coul', 'coulda', 'couldit', 'coule', 'couleur', 'council', 'councilman', 'counselor', 'count', 'countdown', 'counten', 'counter', 'counteract', 'counterfeit', 'counterpan', 'countess', 'counti', 'countin', 'countless', 'countri', 'countrysid', 'coup', 'coupl', 'coupla', 'coupon', 'courag', 'courant', 'cours', 'coursin', 'court', 'courtesi', 'courthous', 'courtin', 'courtney', 'courtroom', 'courtship', 'courtsid', 'courtyard', 'cousin', 'couth', 'covay', 'cove', 'cover', 'coverag', 'covergirl', 'coverin', 'covert', 'covet', 'cow', 'coward', 'cowardic', 'cowboy', 'cower', 'cowgirl', 'cowhorn', 'cowl', 'cowpok', 'cowtown', 'cox', 'coy', 'coyot', 'coz', 'cozi', 'cozier', 'cp', 'cpa', 'cpenhagen', 'cpt', 'cr', 'cra', 'craaazi', 'crab', 'crabbi', 'crabbin', 'crabbit', 'crack', 'cracker', 'crackhead', 'crackin', 'crackl', 'cracklin', 'crackri', 'cradl', 'craft', 'crafti', 'crag', 'craig', 'craigslist', 'crak', 'cram', 'cramp', 'crampin', 'crane', 'crang', 'crani', 'cranial', 'cranium', 'crank', 'cranni', 'crap', 'crapo', 'crappi', 'cras', 'crash', 'crasher', 'crashin', 'crass', 'crate', 'crater', 'cravat', 'crave', 'craven', 'cravin', 'craw', 'crawel', 'crawfish', 'crawford', 'crawl', 'crawler', 'crawlin', 'crawlspac', 'cray', 'crayon', 'craze', 'crazi', 'crazier', 'craziest', 'creado', 'creak', 'cream', 'creami', 'creamin', 'creas', 'creat', 'creation', 'creativ', 'creator', 'creatur', 'crede', 'credenti', 'credibl', 'credit', 'credul', 'cree', 'creed', 'creedenc', 'creek', 'creep', 'creeper', 'creepi', 'creepin', 'creia', 'cremat', 'creme', 'crenshaw', 'creol', 'crepe', 'crept', 'crescendo', 'crescent', 'crest', 'crete', 'cretin', 'crew', 'cri', 'crib', 'cricket', 'crikey', 'crime', 'crimestopp', 'crimin', 'criminum', 'crimson', 'cring', 'crink', 'crinkl', 'crip', 'crippin', 'crippl', 'cripplin', 'crisco', 'crisi', 'crisp', 'crispi', 'criss', 'crist', 'cristal', 'cristi', 'cristina', 'cristma', 'cristo', 'criteria', 'critic', 'criticis', 'critiqu', 'critis', 'critter', 'croak', 'croakin', 'crock', 'crockett', 'crocodil', 'crocus', 'croi', 'croir', 'crome', 'croni', 'crook', 'crookedi', 'crooklyn', 'croon', 'crop', 'crosbi', 'cross', 'crossbon', 'crossfir', 'crosshair', 'crossin', 'crossov', 'crossroad', 'crosstop', 'crossword', 'crotch', 'crouch', 'crow', 'crowbar', 'crowd', 'crowdin', 'crowin', 'crown', 'crual', 'crucial', 'crucifi', 'crucifix', 'crucifixion', 'cruddi', 'crude', 'cruel', 'cruis', 'cruisen', 'cruiser', 'cruisin', 'crumb', 'crumbcak', 'crumbin', 'crumbl', 'crumblin', 'crummi', 'crumpet', 'crumpl', 'crunch', 'cruncheti', 'crunchi', 'crunchin', 'crunk', 'crusad', 'crush', 'crusher', 'crushin', 'crusin', 'crust', 'crustacean', 'crutch', 'crux', 'cryin', 'cryp', 'crypt', 'cryptic', 'crys', 'crystal', 'crystalin', 'crystallin', 'cs', 'csi', 'cu', 'cualquiera', 'cuando', 'cuanta', 'cuatro', 'cub', 'cuba', 'cuban', 'cubano', 'cube', 'cubeb', 'cubicl', 'cubierta', 'cuckoo', 'cucumb', 'cucurullo', 'cud', 'cudd', 'cuddl', 'cuddlin', 'cudi', 'cue', 'cuenta', 'cuerpo', 'cuervo', 'cuet', 'cuf', 'cuff', 'cuffin', 'cuffley', 'cufflink', 'cuh', 'cuit', 'culd', 'culinari', 'culkin', 'cull', 'culo', 'culprit', 'cult', 'cultiv', 'cultur', 'cum', 'cumberland', 'cumbersom', 'cumm', 'cummin', 'cun', 'cunnin', 'cunt', 'cuntri', 'cuor', 'cup', 'cupboard', 'cupcak', 'cupid', 'cuppa', 'cupper', 'cur', 'curacao', 'curb', 'curbsid', 'curdl', 'cure', 'curfew', 'curg', 'curios', 'curious', 'curl', 'curler', 'currenc', 'current', 'curri', 'curriculum', 'currier', 'curs', 'cursin', 'cursiv', 'curt', 'curtaain', 'curtain', 'curti', 'curtsey', 'curtsi', 'curv', 'curvebal', 'curvi', 'cus', 'cusack', 'cush', 'cushi', 'cushion', 'cushman', 'cusp', 'cuss', 'cussin', 'cussword', 'custard', 'custer', 'custerdom', 'custodi', 'custom', 'customari', 'cut', 'cutaway', 'cutback', 'cute', 'cuter', 'cutest', 'cuti', 'cuticl', 'cutiepi', 'cutlass', 'cutlet', 'cutoff', 'cuttalin', 'cutter', 'cutthroat', 'cutti', 'cuttin', 'cuz', 'cy', 'cyan', 'cyanid', 'cyar', 'cyber', 'cyberspac', 'cycl', 'cyclon', 'cylind', 'cymbal', 'cymbalin', 'cynanid', 'cynic', 'cyninc', 'cypher', 'cypress', 'cyprus', 'cyrano', 'czar', 'czechoslovakia', 'da', 'daa', 'daaa', 'daaaa', 'daaaaa', 'daaaaaa', 'daada', 'dab', 'dababi', 'dabba', 'dabbl', 'dace', 'dach', 'dachau', 'dacron', 'dad', 'dada', 'dadada', 'dadadadadaa', 'dadah', 'daddi', 'daddl', 'dade', 'dadi', 'dae', 'daeh', 'daffodil', 'daffydil', 'daft', 'dag', 'dagger', 'dah', 'dahh', 'dahlia', 'dahmer', 'dahomey', 'dahoo', 'daili', 'daiquiri', 'daisi', 'dakoda', 'dakota', 'dale', 'dali', 'dalla', 'dalmat', 'dalmatian', 'dam', 'damag', 'damagin', 'damati', 'dame', 'damelo', 'damey', 'damien', 'damier', 'damm', 'dammit', 'damn', 'damnat', 'damnedest', 'damnit', 'damp', 'damsel', 'damu', 'damus', 'dan', 'dana', 'danc', 'dancefloor', 'dancer', 'danci', 'dancin', 'dandelion', 'dandi', 'dane', 'danforth', 'dang', 'danga', 'danger', 'dangl', 'danglin', 'dani', 'daniel', 'dank', 'danki', 'danni', 'dans', 'dansant', 'danser', 'dant', 'danvill', 'danza', 'dap', 'dappa', 'dapper', 'dappl', 'dapt', 'dar', 'dare', 'dareair', 'dari', 'darin', 'dark', 'darkchild', 'darken', 'darker', 'darkest', 'darkhors', 'darkroom', 'darkskin', 'darl', 'darlin', 'darn', 'darnn', 'darrel', 'darri', 'dart', 'darth', 'dartin', 'das', 'dasani', 'dash', 'dashboard', 'dasher', 'dashian', 'dasi', 'dass', 'dat', 'data', 'date', 'dateless', 'datelin', 'datewith', 'datin', 'datsun', 'datt', 'datti', 'dauber', 'daughter', 'dave', 'davenport', 'davey', 'davi', 'david', 'dawdl', 'dawg', 'dawn', 'dawnin', 'dawntim', 'dawwgi', 'day', 'daybreak', 'daybreakk', 'daydream', 'daydreamin', 'dayi', 'daylight', 'daytim', 'dayton', 'daytona', 'daytrip', 'daz', 'daze', 'dazi', 'dazzl', 'dc', 'dcf', 'ddc', 'deacon', 'dead', 'deadbeat', 'deaden', 'deader', 'deadest', 'deadhead', 'deadin', 'deadliest', 'deadlin', 'deadwood', 'deaf', 'deafen', 'deal', 'deala', 'dealer', 'dealership', 'dealin', 'dealli', 'dealt', 'dean', 'dear', 'dearer', 'dearest', 'deat', 'death', 'deathb', 'deathless', 'deathlik', 'deathshot', 'debas', 'debat', 'debatin', 'debaucheri', 'debbi', 'debbl', 'deberia', 'debit', 'debonair', 'debra', 'debri', 'debt', 'debtor', 'debut', 'debutant', 'dec', 'decad', 'decaf', 'decal', 'decapit', 'decatur', 'decay', 'deceas', 'deceit', 'deceiv', 'deceivin', 'decemb', 'decenc', 'decend', 'decent', 'decept', 'decia', 'decid', 'deciev', 'decim', 'deciph', 'decis', 'deck', 'decker', 'deckin', 'declar', 'declin', 'declinin', 'deco', 'decod', 'decompos', 'decor', 'decoy', 'decre', 'decreas', 'ded', 'dedic', 'dedo', 'deduct', 'dee', 'deebo', 'deebowin', 'deed', 'deeddl', 'deedl', 'deejay', 'deem', 'deep', 'deepen', 'deeper', 'deepest', 'deepit', 'deepli', 'deer', 'deeriririri', 'deetch', 'deez', 'def', 'defac', 'defeat', 'defec', 'defect', 'defen', 'defenc', 'defenceless', 'defend', 'defens', 'defenseless', 'deffer', 'defi', 'defiant', 'defici', 'defil', 'defin', 'definit', 'definiteley', 'defjam', 'deflat', 'deflict', 'deform', 'defrost', 'defunct', 'defunkt', 'defus', 'defyin', 'deg', 'degenaro', 'degener', 'degrad', 'degradin', 'degre', 'degreez', 'degress', 'deh', 'dehydr', 'deiti', 'deja', 'dejar', 'deject', 'del', 'delacroix', 'delanc', 'delancey', 'delapad', 'delawar', 'delay', 'delayin', 'delect', 'deleg', 'delerium', 'delet', 'delf', 'delfi', 'deli', 'deliah', 'deliber', 'delic', 'delici', 'delight', 'delightest', 'delilah', 'deliqu', 'deliri', 'delirium', 'delish', 'deliv', 'deliver', 'deliveri', 'deliverin', 'dell', 'della', 'delorean', 'delta', 'delud', 'delug', 'delus', 'delusion', 'delux', 'delwar', 'dem', 'demand', 'demandin', 'demar', 'demean', 'demeanor', 'demens', 'dement', 'dementia', 'demetrui', 'demi', 'demigod', 'demill', 'demis', 'demo', 'democraci', 'democracri', 'democrat', 'demolish', 'demolit', 'demon', 'demonstr', 'demonstra', 'den', 'denaun', 'deni', 'deniabl', 'denial', 'denim', 'denis', 'denmark', 'denn', 'denni', 'dennil', 'dens', 'denson', 'dent', 'dental', 'dentist', 'denver', 'denyin', 'denzel', 'denzi', 'deo', 'deom', 'depadepa', 'depant', 'depart', 'departur', 'depend', 'dependin', 'deplenish', 'deplor', 'depolitic', 'depopul', 'deport', 'deposit', 'depot', 'depress', 'depressin', 'depriv', 'depth', 'deputi', 'der', 'derail', 'derang', 'derbi', 'dere', 'derek', 'derelict', 'derid', 'deris', 'deriv', 'dermatologist', 'dern', 'dero', 'derri', 'derrick', 'derrier', 'derring', 'dersir', 'derulo', 'des', 'desa', 'desbelief', 'descarada', 'descend', 'descent', 'describ', 'describin', 'descript', 'dese', 'deseas', 'desecr', 'desensit', 'deseo', 'desert', 'deserv', 'desespero', 'deshaun', 'deshay', 'design', 'designin', 'desir', 'desk', 'desktop', 'desmond', 'desol', 'despair', 'desper', 'desperado', 'desperat', 'despis', 'despreat', 'despu', 'dessert', 'destin', 'destini', 'destitut', 'destroy', 'destruct', 'detach', 'detail', 'detain', 'detect', 'detector', 'detent', 'deterior', 'determin', 'detest', 'dethron', 'deton', 'detour', 'detox', 'detroit', 'detruir', 'detun', 'deuc', 'deum', 'deuteronomi', 'deutsch', 'dev', 'deva', 'devadand', 'devai', 'devant', 'devast', 'devastatin', 'develop', 'devestatin', 'deviant', 'deviat', 'devic', 'devil', 'devilish', 'devill', 'devin', 'devious', 'devo', 'devoid', 'devosh', 'devot', 'devour', 'devri', 'dew', 'dewdrop', 'dexter', 'dey', 'deyah', 'dhabi', 'dharma', 'dhia', 'dhu', 'di', 'dia', 'diabet', 'diablo', 'diabol', 'diagnos', 'diagram', 'dial', 'dialect', 'dialin', 'dialogu', 'diamantina', 'diamond', 'diamontina', 'dian', 'diana', 'diaper', 'diari', 'diarrhea', 'dib', 'dibbi', 'dice', 'dicen', 'dich', 'dick', 'dicken', 'dickey', 'dicki', 'dickin', 'dickori', 'dickstract', 'dictaphon', 'dictat', 'diction', 'dictionari', 'dida', 'didd', 'diddi', 'diddl', 'diddley', 'didja', 'didnt', 'die', 'diego', 'diein', 'diem', 'dien', 'dieran', 'diesel', 'diet', 'dieth', 'diethylamid', 'dietrich', 'diff', 'diffeer', 'differ', 'differencem', 'differenti', 'differnt', 'difficult', 'difficulti', 'diffus', 'dig', 'digabl', 'dige', 'digest', 'diggadi', 'diggedi', 'digger', 'diggi', 'diggin', 'diggiti', 'diggum', 'digi', 'digit', 'dignifi', 'dignitari', 'digniti', 'digress', 'digust', 'dijist', 'dijo', 'dijon', 'dike', 'dikey', 'dilat', 'dilemma', 'dill', 'dilla', 'diller', 'dilli', 'dillo', 'dillon', 'dillz', 'dilsnick', 'dilut', 'diluxiss', 'dilzutch', 'dilzzoubl', 'dim', 'dimaggio', 'dime', 'dimebag', 'dimens', 'dimension', 'dimenticar', 'dimestor', 'dimethyltryptamin', 'diminish', 'dimpl', 'din', 'dinah', 'dine', 'diner', 'dinero', 'ding', 'dingbat', 'dingi', 'dingla', 'dinin', 'dink', 'dinki', 'dinna', 'dinner', 'dinnertim', 'dino', 'dinosaur', 'dinousaur', 'dint', 'dio', 'dion', 'dionn', 'dior', 'dip', 'diplomaci', 'diplomat', 'dipper', 'dippin', 'dippiti', 'dipstick', 'dire', 'direccion', 'direct', 'directin', 'director', 'directori', 'dirent', 'dirg', 'dirt', 'dirtbag', 'dirti', 'dirtiest', 'dis', 'disabl', 'disagre', 'disappear', 'disappoint', 'disapprob', 'disapprov', 'disarm', 'disarray', 'disassembl', 'disast', 'disastr', 'disbelief', 'disbeliev', 'disc', 'discard', 'discern', 'discesm', 'discharg', 'discipl', 'disciplin', 'disciplinari', 'disclos', 'disco', 'discomfort', 'disconcert', 'disconnect', 'disconnectin', 'discont', 'discord', 'discoth', 'discothequ', 'discount', 'discourag', 'discov', 'discoveri', 'discredit', 'discreet', 'discret', 'discrimin', 'discript', 'discus', 'discuss', 'discussiom', 'diseas', 'diseasin', 'disect', 'disench', 'disengag', 'disfigur', 'disgrac', 'disguis', 'disgust', 'disgustin', 'dish', 'dishearten', 'dishin', 'dishonest', 'dishonor', 'dishwash', 'disillus', 'disillusion', 'disinfect', 'disintegr', 'disintegratin', 'disk', 'disloc', 'disloy', 'dismal', 'dismantl', 'dismay', 'dismemb', 'dismiss', 'dismissin', 'disney', 'disneyland', 'disobey', 'disord', 'disori', 'disown', 'dispair', 'dispar', 'dispatch', 'dispel', 'dispens', 'dispers', 'dispersin', 'displac', 'display', 'dispos', 'disposit', 'disput', 'disregard', 'disrespect', 'disrespectin', 'disrob', 'disrupt', 'diss', 'dissapear', 'dissapoint', 'dissatisfi', 'dissect', 'dissent', 'disser', 'dissert', 'dissin', 'dissip', 'dissolut', 'dissolv', 'disson', 'distanc', 'distant', 'distast', 'distil', 'distinct', 'distingu', 'distinguish', 'distort', 'distract', 'distress', 'distribut', 'distributor', 'district', 'distruct', 'distrust', 'disturb', 'disturbia', 'disya', 'dit', 'dita', 'ditch', 'ditchin', 'dither', 'ditita', 'ditti', 'ditto', 'diva', 'dive', 'diveen', 'diver', 'divers', 'divert', 'divid', 'dividend', 'divin', 'divis', 'divo', 'divoon', 'divorc', 'divorce', 'divot', 'divvi', 'dixi', 'dixieland', 'dixon', 'diy', 'dizi', 'dizz', 'dizzert', 'dizzi', 'dizzier', 'dizzik', 'dizzoubl', 'dizzutch', 'dizzy', 'dj', 'django', 'djibouti', 'djing', 'djs', 'dju', 'dk', 'dkni', 'dle', 'dloo', 'dm', 'dmc', 'dms', 'dmx', 'dna', 'dnd', 'dnepropetrovsk', 'do', 'doa', 'dobalina', 'dobbin', 'doberman', 'dobro', 'doc', 'docd', 'dock', 'docket', 'doctor', 'document', 'dodd', 'doddl', 'dodg', 'dodger', 'dodgin', 'dodo', 'doe', 'doesnt', 'doff', 'dog', 'dogaphon', 'dogcatch', 'dogg', 'doggi', 'doggin', 'doggon', 'doggystyl', 'dogi', 'dogleap', 'dogma', 'dogon', 'dogwood', 'doh', 'doheni', 'dohow', 'doin', 'doja', 'dojo', 'dokey', 'dolc', 'doldrum', 'dole', 'dolemit', 'doli', 'doll', 'dolla', 'dollah', 'dollar', 'doller', 'dolli', 'dolo', 'dolphin', 'dom', 'domain', 'dombi', 'dome', 'domest', 'domin', 'domineoveniteosacramentum', 'domingo', 'dominican', 'dominik', 'domino', 'dominus', 'dona', 'donald', 'donana', 'donat', 'doncha', 'dond', 'donda', 'donder', 'donethrough', 'dong', 'donga', 'donkey', 'donn', 'donna', 'donnel', 'donner', 'donni', 'donohu', 'donor', 'dont', 'dontcha', 'donut', 'doo', 'doob', 'doobi', 'doobiest', 'dood', 'doodad', 'doodl', 'doodlebug', 'doodoo', 'doog', 'dooh', 'dooki', 'doolang', 'dooley', 'doolittl', 'doom', 'dooma', 'doomsday', 'dooney', 'dooo', 'doooo', 'dooooo', 'doooooo', 'doooooooon', 'dooor', 'doop', 'door', 'doorbel', 'doorknob', 'doorman', 'doorstep', 'doorway', 'doot', 'doowah', 'doowop', 'dop', 'dope', 'dopeboy', 'dopeman', 'doper', 'dopest', 'dor', 'dora', 'dore', 'dori', 'dorito', 'dorm', 'dormir', 'dorothi', 'dorsey', 'dort', 'dos', 'dosag', 'dose', 'dosey', 'dosi', 'dosn', 'dot', 'dote', 'doth', 'doubl', 'doublemint', 'doublewid', 'doubt', 'doubtin', 'douch', 'dough', 'doughboy', 'doughnut', 'dougi', 'dougla', 'douglass', 'dous', 'dov', 'dove', 'dover', 'dovey', 'dovin', 'dow', 'dowdi', 'down', 'downeast', 'downer', 'downfal', 'downg', 'downheart', 'downhil', 'downi', 'downin', 'download', 'downplay', 'downpour', 'downright', 'downsid', 'downstair', 'downstream', 'downtown', 'downtrodden', 'downward', 'downwind', 'dowwwn', 'doy', 'doyou', 'doz', 'doze', 'dozen', 'dozier', 'dozin', 'dp', 'dr', 'drab', 'drac', 'draco', 'dracula', 'draft', 'draftin', 'drag', 'draggin', 'dragon', 'dragonfli', 'dragula', 'drain', 'drainpip', 'drake', 'dram', 'drama', 'dramamin', 'dramat', 'drank', 'drankin', 'drape', 'drastic', 'drat', 'draw', 'drawer', 'drawin', 'drawl', 'drawn', 'drawstr', 'dre', 'dread', 'dreadlock', 'dream', 'dreamboat', 'dreamer', 'dreamhom', 'dreami', 'dreamili', 'dreamin', 'dreamland', 'dreamless', 'dreamlik', 'dreamlov', 'dreamt', 'drear', 'dreari', 'drei', 'drema', 'drench', 'dresh', 'dress', 'dresser', 'dressin', 'dresta', 'drew', 'dri', 'dribbl', 'drier', 'drift', 'drifter', 'driftin', 'driftwood', 'drill', 'drilla', 'driller', 'drilli', 'drillin', 'drillion', 'drink', 'drinker', 'drinkin', 'drip', 'drippedi', 'dripper', 'drippi', 'drippin', 'driti', 'drive', 'drivebi', 'drivel', 'driven', 'driver', 'driveway', 'drivin', 'drizz', 'drizzay', 'drizzi', 'drizzl', 'drizzlin', 'dro', 'drone', 'dront', 'drool', 'droolin', 'droop', 'droopin', 'drooppin', 'drop', 'dropit', 'droplet', 'dropout', 'dropper', 'droppin', 'drother', 'drought', 'drove', 'drow', 'drown', 'drownd', 'drownin', 'drowsi', 'dru', 'drug', 'druggin', 'druggist', 'drugstor', 'druink', 'drum', 'drumbeat', 'drummer', 'drummin', 'drumstick', 'drunk', 'drunkard', 'drunken', 'drunkest', 'druther', 'dryin', 'dryness', 'dsp', 'dt', 'du', 'dual', 'dub', 'dubabwaa', 'dubai', 'dubbi', 'dubi', 'dubin', 'dublin', 'dubos', 'duce', 'duchess', 'duck', 'ducket', 'ducki', 'duckin', 'duct', 'dud', 'dude', 'dudi', 'dudin', 'due', 'duec', 'duel', 'duet', 'duff', 'duffl', 'dug', 'dugout', 'duh', 'duit', 'duke', 'duki', 'duli', 'dull', 'duller', 'dulo', 'duluth', 'dum', 'dumb', 'dumbass', 'dumbbel', 'dumber', 'dumbest', 'dumdi', 'dummi', 'dump', 'dumpin', 'dumpl', 'dumplin', 'dumpster', 'dumpti', 'dun', 'dunbar', 'duncan', 'dunde', 'dune', 'dung', 'dungare', 'dungeon', 'dunk', 'dunkin', 'dunn', 'dunni', 'dunno', 'dunt', 'duo', 'duoton', 'dup', 'dupa', 'dupe', 'duper', 'duplic', 'dupont', 'duppi', 'dupre', 'dupri', 'duracel', 'duran', 'durango', 'durant', 'durat', 'durf', 'durin', 'durn', 'duro', 'durst', 'dusk', 'dust', 'dustbin', 'duster', 'dusti', 'dustin', 'dutch', 'dutchi', 'duti', 'dutti', 'duuh', 'duz', 'dvd', 'dwan', 'dwarf', 'dwarv', 'dwayn', 'dwell', 'dweller', 'dwellin', 'dwelt', 'dwi', 'dwight', 'dwindl', 'dy', 'dye', 'dyesburg', 'dyess', 'dyin', 'dyke', 'dykein', 'dylan', 'dyn', 'dynam', 'dynamit', 'dynamo', 'dynasti', 'dynnnnnanana', 'dyno', 'dynomit', 'dynomutt', 'dysfunct', 'dyslex', 'dyson', 'dyte', 'ea', 'eachoth', 'ead', 'eager', 'eagerest', 'eagl', 'eah', 'ealiz', 'ear', 'eardoor', 'eardrum', 'earl', 'earli', 'earlier', 'earliest', 'earlin', 'earlob', 'earn', 'earner', 'earnest', 'earnhardt', 'earnin', 'earphon', 'earpiec', 'earring', 'earshot', 'earth', 'earthbound', 'earthl', 'earthquak', 'earthquakin', 'eas', 'easel', 'easi', 'easier', 'easiest', 'easili', 'easin', 'east', 'easter', 'eastern', 'eastertim', 'eastsid', 'eastwood', 'eat', 'eata', 'eaten', 'eater', 'eatin', 'eaton', 'eau', 'eav', 'eavesdrop', 'eay', 'eaz', 'eazi', 'eb', 'ebay', 'ebb', 'ebbtid', 'ebert', 'ebk', 'eboni', 'ebud', 'ec', 'eca', 'eccentr', 'echelon', 'echo', 'echoin', 'echoplex', 'eclips', 'ecn', 'econom', 'economi', 'ecstaci', 'ecstasi', 'ecstasti', 'ecstat', 'ectasi', 'ecto', 'ecuador', 'eczema', 'edai', 'eddi', 'eden', 'edg', 'edgar', 'edgi', 'edi', 'edibl', 'edison', 'edit', 'edith', 'editor', 'edjumac', 'edna', 'edport', 'edsel', 'educ', 'educateem', 'edward', 'edwin', 'edwyn', 'ee', 'eeas', 'eed', 'eee', 'eeea', 'eeeaaah', 'eeeddd', 'eeee', 'eeeeeeel', 'eeen', 'eeh', 'eek', 'eel', 'eem', 'een', 'eeni', 'eep', 'eeri', 'eev', 'eey', 'eeyor', 'effect', 'effervesc', 'effervesecet', 'effici', 'effigi', 'effleur', 'effort', 'effortless', 'effus', 'efx', 'eg', 'egg', 'eggin', 'eggnog', 'eggo', 'ego', 'egocentr', 'egomaniac', 'egotist', 'egypt', 'egyptian', 'eh', 'eheheheh', 'ehh', 'ehhhh', 'ehm', 'ehret', 'eht', 'ei', 'eichmann', 'eiderdown', 'eiffel', 'eight', 'eightbal', 'eighteen', 'eighteenth', 'eighth', 'eighti', 'eiht', 'eileen', 'ein', 'einmal', 'einstein', 'eisenhow', 'ejacul', 'eject', 'ekberg', 'el', 'ela', 'elain', 'elaps', 'elast', 'elat', 'elbisrev', 'elbo', 'elbow', 'elbro', 'elder', 'eldorado', 'ele', 'eleanor', 'elect', 'election', 'electr', 'electrifi', 'electro', 'electrocut', 'electrod', 'electrolyt', 'electron', 'eleg', 'element', 'elementari', 'eleph', 'elev', 'elevatin', 'eleventh', 'elgin', 'eli', 'eliantt', 'elig', 'elihu', 'elijah', 'elimin', 'eliminatin', 'elis', 'elit', 'eliza', 'elizabeth', 'elkin', 'ell', 'ella', 'ellen', 'ellensburg', 'elli', 'ellin', 'ellington', 'elliot', 'elliott', 'ellipt', 'elmo', 'elong', 'elop', 'eloqu', 'elroy', 'els', 'elsi', 'elton', 'elud', 'elus', 'elv', 'elvi', 'elvin', 'elyon', 'elyse', 'em', 'ema', 'email', 'eman', 'emanuel', 'emb', 'embarass', 'embark', 'embarrass', 'embed', 'embellish', 'ember', 'embezzl', 'emblazon', 'emblem', 'embodi', 'embora', 'emborrachada', 'embrac', 'embracin', 'embrujo', 'embryo', 'emce', 'emer', 'emerald', 'emerg', 'emi', 'emili', 'eminem', 'emit', 'emm', 'emma', 'emmanuel', 'emmit', 'emmylou', 'emo', 'emori', 'emosh', 'emot', 'emp', 'empart', 'empath', 'emperor', 'empezemo', 'emphas', 'emphasi', 'empieza', 'empir', 'employ', 'employe', 'emporium', 'empress', 'empti', 'emptiest', 'emti', 'emu', 'emul', 'en', 'enc', 'encaptur', 'enchant', 'enchilada', 'encircl', 'enclos', 'encompass', 'encor', 'encount', 'encourag', 'encrust', 'encumb', 'encyclopaedia', 'end', 'endang', 'endear', 'endeavor', 'endeavour', 'endin', 'endless', 'endo', 'endorphin', 'endors', 'endour', 'endow', 'endur', 'endz', 'enema', 'enemi', 'energ', 'energet', 'energi', 'enfant', 'enfold', 'enforc', 'enfui', 'enfuit', 'eng', 'engag', 'engagin', 'engin', 'england', 'englisch', 'english', 'englishman', 'engrav', 'engross', 'engulf', 'enhanc', 'enimi', 'enjoy', 'enjoyin', 'enlarg', 'enlight', 'enlighten', 'enlist', 'enn', 'enni', 'ennui', 'enola', 'enorm', 'enormus', 'enoug', 'enoughh', 'enoughit', 'enought', 'enrag', 'enraptur', 'enri', 'enrico', 'ensangrentada', 'ensear', 'ensembl', 'ensenada', 'enshrin', 'enslav', 'ensur', 'entangl', 'entend', 'enter', 'enterin', 'enterpris', 'entertain', 'enthron', 'enthus', 'enti', 'entic', 'entiendo', 'entir', 'entireti', 'entiti', 'entitl', 'entr', 'entranc', 'entrench', 'entrepreneur', 'entri', 'entropi', 'entrust', 'entwin', 'enuff', 'envahi', 'envelop', 'envi', 'envious', 'enviroment', 'environ', 'envis', 'enviyon', 'enzo', 'eodeo', 'eon', 'ep', 'ephedrin', 'ephemer', 'epherona', 'epi', 'epic', 'epidem', 'epilept', 'epiphani', 'episod', 'epitaph', 'epitath', 'epitom', 'epmd', 'epoxi', 'epsom', 'eq', 'equal', 'equat', 'equilibrium', 'equip', 'equipt', 'er', 'era', 'erad', 'eras', 'eraserhead', 'erb', 'erd', 'ere', 'erect', 'eric', 'erica', 'erick', 'ericson', 'erkamka', 'erma', 'ermin', 'erni', 'erod', 'erot', 'erotica', 'errat', 'erron', 'error', 'ersatz', 'erster', 'eruk', 'erupt', 'eruptin', 'erykah', 'es', 'esa', 'esaelp', 'escal', 'escalad', 'escap', 'escapad', 'escapin', 'escapologist', 'escargot', 'escobar', 'escort', 'escrow', 'escus', 'ese', 'esh', 'esham', 'eshkoshka', 'eskimo', 'eso', 'esophagus', 'espa', 'espana', 'especialment', 'espi', 'espinoza', 'espionag', 'espoir', 'esprit', 'esqu', 'esrev', 'essay', 'essenc', 'essenti', 'est', 'esta', 'estaba', 'establish', 'estar', 'estat', 'esteem', 'estefan', 'estefani', 'estim', 'estoy', 'estrang', 'estrella', 'etch', 'etern', 'etertain', 'ethan', 'ethiopia', 'ethnicki', 'eti', 'etic', 'etiquett', 'etr', 'eu', 'euclid', 'euclidean', 'eugen', 'eulog', 'euphor', 'euphoria', 'eurasian', 'eureka', 'euro', 'europ', 'european', 'eurus', 'ev', 'eva', 'evacu', 'evad', 'evadin', 'evah', 'evan', 'evand', 'evangelist', 'evapor', 'eve', 'even', 'evenflow', 'evenin', 'evensong', 'event', 'eventhough', 'eventu', 'ever', 'everbodi', 'everclear', 'everday', 'everglad', 'evergreen', 'evergrow', 'everlast', 'everlong', 'evern', 'everon', 'everth', 'everthan', 'evertim', 'evertyh', 'everyday', 'everyman', 'everynaut', 'everynight', 'everyon', 'everyplac', 'everyt', 'everyth', 'everythan', 'everythang', 'everythig', 'everythin', 'everytim', 'everytown', 'everyway', 'everywher', 'eveybodi', 'eveyday', 'eveyon', 'eveywher', 'evict', 'evid', 'evil', 'evinrud', 'eviscer', 'evisu', 'evok', 'evol', 'evolut', 'evolv', 'evri', 'evryth', 'exact', 'exagero', 'exagger', 'exaggeratin', 'exalt', 'examin', 'exasper', 'excav', 'excavatin', 'exceed', 'excel', 'excellin', 'excentrifug', 'except', 'excess', 'exchang', 'exchangin', 'excit', 'excitin', 'exclam', 'exclud', 'exclus', 'exctasi', 'excurs', 'excus', 'exe', 'exec', 'execut', 'execution', 'exempt', 'exercis', 'exert', 'exhal', 'exhaust', 'exhibit', 'exhilar', 'exhumin', 'exist', 'existem', 'exit', 'exocution', 'exodus', 'exorcis', 'exorcist', 'exot', 'expand', 'expans', 'expatri', 'expect', 'expectin', 'expedi', 'expedit', 'expend', 'expens', 'experi', 'experienc', 'experiment', 'expert', 'expir', 'explain', 'explainal', 'explainin', 'explan', 'explicit', 'explod', 'explodin', 'exploit', 'explor', 'explos', 'expointin', 'expos', 'exposur', 'expre', 'express', 'expressin', 'expresso', 'expresst', 'exquisit', 'extasi', 'extend', 'extendo', 'extens', 'extent', 'exterior', 'extermin', 'extern', 'extinct', 'extinguish', 'extort', 'extra', 'extract', 'extrano', 'extraordinari', 'extraordinarili', 'extrasensori', 'extraterrestri', 'extravag', 'extrem', 'exuber', 'exult', 'exut', 'exxon', 'ey', 'eye', 'eyebal', 'eyebrow', 'eyein', 'eyelash', 'eyelid', 'eyelin', 'eyes', 'eyeshad', 'eyesight', 'eyesor', 'eyewit', 'eyeyey', 'eyr', 'ez', 'ezeki', 'ezra', 'fa', 'faaaaaar', 'faaaarrrrr', 'fab', 'fabinan', 'fabio', 'fabl', 'fabo', 'fabol', 'fabric', 'fabul', 'facad', 'face', 'faceless', 'facelift', 'faceti', 'facetim', 'facial', 'facil', 'facin', 'facktri', 'fact', 'factcheck', 'faction', 'factor', 'factori', 'factorytown', 'factual', 'factur', 'fad', 'fada', 'fade', 'fadeout', 'fader', 'fadin', 'faend', 'fag', 'fagel', 'faget', 'faggi', 'faggot', 'fagot', 'fahoo', 'fahrenheit', 'fai', 'fail', 'failin', 'failur', 'faint', 'fainter', 'faintest', 'fair', 'fairer', 'fairest', 'fairfax', 'fairground', 'fairi', 'fairtun', 'fairyland', 'fairytal', 'fait', 'faith', 'faithful', 'faithless', 'fake', 'faker', 'fakin', 'falcon', 'falkland', 'fall', 'fallaci', 'fallen', 'fallin', 'fallout', 'fallow', 'fals', 'falsetto', 'falter', 'falutin', 'falvo', 'fam', 'fame', 'famgoon', 'familar', 'famili', 'familia', 'familiar', 'famous', 'fan', 'fanasi', 'fanat', 'fanci', 'fancier', 'fanciest', 'fancin', 'fandango', 'faneto', 'fang', 'fanlight', 'fanni', 'fantansi', 'fantas', 'fantasi', 'fantasia', 'fantasizin', 'fantasma', 'fantast', 'fantasti', 'fantastico', 'fantastik', 'faraday', 'faraway', 'farc', 'fare', 'farewel', 'fargo', 'farm', 'farmboy', 'farmer', 'farmhous', 'farmiliar', 'farmin', 'farrakahn', 'farrakhan', 'farrel', 'fart', 'farter', 'farthest', 'farum', 'fasano', 'fascin', 'fascinatin', 'fascism', 'fascist', 'fash', 'fasha', 'fashion', 'fashionista', 'fasho', 'fast', 'fastand', 'fasten', 'faster', 'fastest', 'fastet', 'fastidi', 'fastin', 'fat', 'fatal', 'fatalist', 'fatass', 'fatback', 'fatburg', 'fate', 'fathead', 'father', 'fatherless', 'fathom', 'fatigu', 'fatso', 'fatten', 'fattenin', 'fatter', 'fattest', 'fatti', 'faucet', 'faufil', 'faught', 'faulkner', 'fault', 'faulti', 'faut', 'fav', 'fave', 'favor', 'favorit', 'favour', 'favourit', 'favr', 'fawn', 'fax', 'faybo', 'faygo', 'fayvah', 'faze', 'fazer', 'fbi', 'fcc', 'fda', 'fe', 'fear', 'fearin', 'fearless', 'fearsom', 'feasibl', 'feast', 'feastin', 'feat', 'feather', 'featur', 'feaz', 'februari', 'fecund', 'fed', 'feder', 'fee', 'feebl', 'feed', 'feedback', 'feedbag', 'feedin', 'feedom', 'feeee', 'feeel', 'feef', 'feel', 'feelin', 'feelwhen', 'feelyou', 'feen', 'feend', 'feenin', 'feeout', 'feet', 'feetsi', 'feign', 'feignin', 'fein', 'feind', 'feindin', 'feinin', 'feisti', 'felder', 'felicidad', 'felin', 'felina', 'felix', 'feliz', 'fell', 'fella', 'fellatio', 'fellaz', 'feller', 'felli', 'fellin', 'fellow', 'felon', 'feloni', 'felonius', 'felt', 'femal', 'femalin', 'feminin', 'feminist', 'femm', 'fenc', 'fencepost', 'fend', 'fendel', 'fender', 'fendi', 'feng', 'fenkel', 'fennario', 'fens', 'fenua', 'fer', 'ferdinand', 'ferg', 'fergi', 'ferment', 'fernandito', 'fernando', 'feroci', 'ferragami', 'ferragamo', 'ferrari', 'ferri', 'ferriday', 'fertil', 'fess', 'fessin', 'fession', 'fest', 'fester', 'festiv', 'feta', 'fetch', 'fetchin', 'fetish', 'fett', 'fetter', 'fetti', 'fettuccin', 'fettucini', 'fetus', 'feud', 'feudin', 'feul', 'fever', 'feverish', 'feyel', 'fez', 'fffff', 'ffffff', 'fi', 'fiamma', 'fiance', 'fiasco', 'fib', 'fickl', 'fiction', 'fid', 'fidd', 'fiddl', 'fiddler', 'fiddlin', 'fide', 'fidel', 'fidget', 'fido', 'fie', 'field', 'fiend', 'fiendin', 'fienin', 'fiera', 'fierc', 'fieri', 'fiesta', 'fife', 'fifteenth', 'fifti', 'fig', 'figaro', 'figga', 'figger', 'fight', 'fighter', 'fightin', 'figment', 'figur', 'figurehead', 'fiji', 'fijian', 'fikir', 'fil', 'fila', 'filagre', 'file', 'filet', 'filibust', 'filipino', 'fill', 'filler', 'fillet', 'filli', 'fillin', 'fillmo', 'film', 'filter', 'filth', 'filthi', 'fin', 'fina', 'final', 'financ', 'financi', 'find', 'finder', 'findin', 'fine', 'finer', 'fineri', 'finess', 'finest', 'finga', 'fingaz', 'finger', 'fingernail', 'fingerprint', 'fingertip', 'finial', 'finish', 'finito', 'finland', 'finn', 'finna', 'finnesin', 'fiona', 'fiorucci', 'fir', 'fire', 'firearm', 'firebal', 'firebird', 'firebomb', 'firecrack', 'firecrackin', 'firefight', 'firefli', 'firehos', 'firehous', 'firelak', 'firelight', 'fireman', 'firemen', 'firenza', 'fireplac', 'fireproof', 'firesid', 'firewat', 'firework', 'firey', 'firm', 'firmament', 'firzt', 'fischer', 'fish', 'fishbon', 'fisher', 'fisherman', 'fishermen', 'fishey', 'fishi', 'fishin', 'fishnet', 'fishscal', 'fisrt', 'fiss', 'fissur', 'fist', 'fistfight', 'fit', 'fitch', 'fitti', 'fittin', 'fitzgerald', 'five', 'fiver', 'fix', 'fixat', 'fixin', 'fixtur', 'fizz', 'fizzi', 'fizzl', 'fizzlin', 'fk', 'fkin', 'fla', 'flab', 'flack', 'flag', 'flagg', 'flaggi', 'flagpol', 'flagship', 'flagstaff', 'flail', 'flair', 'flake', 'flam', 'flamboy', 'flame', 'flamenco', 'flamin', 'flamingo', 'flammabl', 'flammi', 'flander', 'flank', 'flannel', 'flap', 'flappin', 'flare', 'flarin', 'flash', 'flashback', 'flashi', 'flashin', 'flashlight', 'flask', 'flat', 'flatb', 'flatbush', 'flatcar', 'flatlin', 'flatt', 'flatten', 'flatter', 'flattop', 'flaunt', 'flav', 'flava', 'flavor', 'flavour', 'flaw', 'flawless', 'flawski', 'flax', 'flay', 'flea', 'fleasheat', 'flectin', 'fled', 'flee', 'fleec', 'fleek', 'fleet', 'fleetwood', 'flem', 'flesh', 'fleshi', 'fletera', 'flew', 'flex', 'flexibl', 'flexin', 'fli', 'flibbiti', 'flick', 'flicker', 'flickin', 'flier', 'fliest', 'fliggedi', 'flight', 'flimsi', 'flinch', 'fling', 'flinger', 'flint', 'flintston', 'flip', 'flipmod', 'flipper', 'flippeti', 'flippin', 'flippiti', 'flirt', 'flirtat', 'flirtati', 'flirter', 'flirti', 'flirtin', 'flo', 'float', 'floatin', 'flock', 'flocka', 'floe', 'flood', 'floodin', 'floor', 'floorboard', 'floosi', 'floozi', 'flop', 'floppi', 'floppin', 'flor', 'flore', 'floresc', 'florida', 'floss', 'flossi', 'flossin', 'flounder', 'flour', 'flourish', 'flow', 'flower', 'flowin', 'flown', 'floyd', 'flu', 'fluctuat', 'fluent', 'fluf', 'fluff', 'fluffi', 'flugelhorn', 'fluid', 'flume', 'flung', 'flunk', 'flunki', 'fluoresc', 'flurri', 'flush', 'flushin', 'flute', 'flutter', 'flux', 'flyer', 'flyest', 'flyin', 'flykun', 'flynn', 'flys', 'fm', 'fo', 'foam', 'foami', 'foamin', 'focal', 'fock', 'focker', 'focus', 'fodder', 'fodey', 'foe', 'foenem', 'fog', 'foggi', 'foghorn', 'foi', 'foil', 'foist', 'fol', 'fold', 'folder', 'foldin', 'folger', 'folk', 'folklor', 'folksd', 'folksi', 'folksing', 'folli', 'follicl', 'follow', 'followin', 'folsom', 'fond', 'fonda', 'fonder', 'fondest', 'fondu', 'fone', 'font', 'fontain', 'fontaineaux', 'fontina', 'foo', 'fooba', 'food', 'foofer', 'fook', 'fool', 'fooleri', 'foolin', 'foolish', 'foolproof', 'foooo', 'fooool', 'foooool', 'foot', 'footag', 'footbal', 'footer', 'footfal', 'foothil', 'footlight', 'footloos', 'footprint', 'footstep', 'footstool', 'footwear', 'for', 'forb', 'forbear', 'forbid', 'forbidden', 'forc', 'forcin', 'ford', 'fore', 'forearm', 'forebod', 'forecast', 'foreclos', 'forefath', 'forefront', 'forehead', 'foreign', 'foreman', 'foreplay', 'forese', 'foreseen', 'foresight', 'forest', 'foretel', 'foretold', 'forev', 'forevermor', 'forfeit', 'forg', 'forgav', 'forget', 'forgettin', 'forgiatto', 'forgiv', 'forgiven', 'forgivin', 'forgot', 'forgoten', 'forgotten', 'forgotton', 'fork', 'forklift', 'forlat', 'forlorn', 'form', 'formal', 'formaldehyd', 'format', 'formidi', 'formul', 'formula', 'fornic', 'forreal', 'forrest', 'forsak', 'forsaken', 'forse', 'forseen', 'forson', 'forsooth', 'fort', 'forth', 'forti', 'fortifi', 'fortress', 'fortun', 'forum', 'forver', 'forward', 'forz', 'fossil', 'foster', 'fought', 'foul', 'foulest', 'found', 'foundat', 'founder', 'foundl', 'fountain', 'four', 'fourteenth', 'fourth', 'fow', 'fowl', 'fowler', 'fox', 'foxhound', 'foxi', 'foxtrot', 'foxx', 'foyer', 'fraction', 'fractur', 'fraganc', 'fragancia', 'fragil', 'fragl', 'fragment', 'fragranc', 'fragrant', 'fraid', 'frail', 'frailti', 'fram', 'frame', 'frameless', 'fran', 'franc', 'franceschi', 'franci', 'francin', 'francisco', 'franck', 'frangouli', 'frank', 'frankenstei', 'frankenstein', 'frankfort', 'frankfurt', 'franki', 'frankincens', 'franklin', 'frantic', 'frat', 'fratricid', 'fraud', 'fraudul', 'fraulein', 'fray', 'fre', 'freak', 'freaka', 'freakett', 'freaki', 'freakin', 'freakish', 'freaknick', 'freaknik', 'freakshow', 'frech', 'freckl', 'fred', 'freddi', 'frederick', 'free', 'freeband', 'freebandz', 'freed', 'freedom', 'freek', 'freeli', 'freeload', 'freeman', 'freenat', 'freer', 'freestyl', 'freestylin', 'freeway', 'freewheel', 'freewil', 'freez', 'freezer', 'freezin', 'freida', 'freight', 'freighter', 'fremeaux', 'fremont', 'french', 'frentera', 'frenzi', 'frequenc', 'frequent', 'fresh', 'freshen', 'fresher', 'freshest', 'freshman', 'freshmen', 'fret', 'freud', 'fri', 'fria', 'friar', 'friction', 'frida', 'friday', 'fridg', 'fridger', 'friend', 'friendless', 'friendli', 'friendliest', 'friendship', 'frienemi', 'friger', 'friggin', 'fright', 'frighten', 'frigid', 'frigidair', 'frill', 'frilli', 'fring', 'frio', 'frisco', 'frisk', 'friski', 'frist', 'frito', 'fritter', 'frittern', 'fritz', 'fro', 'frog', 'froind', 'frolic', 'frolick', 'froma', 'fromt', 'fron', 'front', 'frontal', 'frontenac', 'fronter', 'fronti', 'frontier', 'frontin', 'frontlin', 'frontway', 'froot', 'frooz', 'fror', 'frost', 'frostbit', 'frostbitten', 'frosti', 'frosticl', 'frow', 'frown', 'froze', 'frozen', 'fruit', 'fruiti', 'fruition', 'fruitstand', 'frustrat', 'frustratin', 'frutti', 'fryin', 'ft', 'fu', 'fucc', 'fuck', 'fucka', 'fuckboy', 'fucker', 'fuckeri', 'fucki', 'fuckin', 'fuckn', 'fuddl', 'fudg', 'fue', 'fuel', 'fuer', 'fugazi', 'fugger', 'fugit', 'fuhrer', 'fui', 'fukk', 'fukkin', 'ful', 'fulanito', 'fulcrum', 'fulfil', 'fulfillin', 'full', 'fulla', 'fuller', 'fullest', 'fullfil', 'fulli', 'fullish', 'fullproof', 'fullstop', 'fulton', 'fum', 'fumbl', 'fumblin', 'fume', 'fumin', 'fump', 'fun', 'function', 'fund', 'fundament', 'funday', 'fundi', 'fundo', 'funer', 'funerari', 'funfetti', 'funk', 'funkafi', 'funkalist', 'funkdafi', 'funki', 'funkier', 'funkiest', 'funkifi', 'funkin', 'funkmen', 'funnel', 'funni', 'funniest', 'funnin', 'fuqua', 'fur', 'furbi', 'furi', 'furious', 'furley', 'furnac', 'furnish', 'furnitur', 'furri', 'furrow', 'furter', 'further', 'fus', 'fusca', 'fusco', 'fuse', 'fusili', 'fusion', 'fuss', 'fussin', 'fustin', 'futher', 'futil', 'futur', 'futurist', 'fuzz', 'fuzzi', 'fwee', 'fyac', 'ga', 'gab', 'gabbana', 'gabl', 'gabon', 'gabriel', 'gacey', 'gadabout', 'gadson', 'gaffa', 'gaffl', 'gag', 'gaga', 'gage', 'gail', 'gaili', 'gain', 'gainin', 'gainst', 'gaise', 'gal', 'gala', 'galahad', 'galapago', 'galaxi', 'galazi', 'gald', 'gale', 'galile', 'galileo', 'galilla', 'galim', 'gall', 'gallant', 'galleon', 'galleri', 'gallileo', 'gallon', 'gallop', 'gallow', 'gallup', 'galor', 'galt', 'galveston', 'galway', 'gambia', 'gambino', 'gambl', 'gambler', 'gamblin', 'game', 'gameplan', 'gamin', 'gamma', 'gan', 'gandhi', 'gang', 'gangbang', 'gangbangin', 'gangin', 'gangsta', 'gangstar', 'gangstarr', 'gangster', 'gangta', 'gangway', 'ganja', 'gank', 'ganni', 'gap', 'gape', 'gar', 'garag', 'garanti', 'garbag', 'garbo', 'garcia', 'garcon', 'gard', 'garden', 'gardena', 'gardenia', 'garder', 'gardin', 'garfunkel', 'gargl', 'gargon', 'gargoyl', 'gari', 'garland', 'garlic', 'garment', 'garner', 'garnish', 'garret', 'garrett', 'garth', 'garvey', 'gas', 'gash', 'gasolin', 'gasolinin', 'gasp', 'gaspin', 'gass', 'gassi', 'gassin', 'gat', 'gate', 'gatekeep', 'gateway', 'gath', 'gather', 'gatherin', 'gatlin', 'gator', 'gatsbi', 'gatt', 'gattl', 'gaucho', 'gaug', 'gaugh', 'gaull', 'gauntlet', 'gaurd', 'gaurdian', 'gavel', 'gavott', 'gawk', 'gawkin', 'gawp', 'gay', 'gayli', 'gaza', 'gaze', 'gazeless', 'gazell', 'gazer', 'gazin', 'gbe', 'geah', 'gear', 'gedacht', 'gee', 'geed', 'geedorah', 'geek', 'geekin', 'gees', 'geez', 'geezer', 'geffen', 'geico', 'geisha', 'gel', 'gelatin', 'gelato', 'gelignit', 'gem', 'gemini', 'gen', 'gender', 'gene', 'general', 'generat', 'generatin', 'generos', 'generous', 'genet', 'geneva', 'genghi', 'geni', 'genit', 'genius', 'genocid', 'genockey', 'genr', 'gent', 'gentil', 'gentl', 'gentleman', 'gentlemen', 'gentri', 'genuin', 'geograph', 'geographi', 'geometr', 'geometri', 'georg', 'georgetown', 'georgi', 'georgia', 'geovanni', 'ger', 'gerald', 'geranium', 'geriatr', 'germ', 'germalin', 'german', 'germani', 'germin', 'geronimo', 'geroo', 'gerri', 'gershwin', 'gestur', 'gesu', 'getaway', 'getcha', 'getchya', 'getta', 'gettem', 'getten', 'getter', 'getti', 'gettin', 'gettinh', 'getto', 'gezin', 'gga', 'ggas', 'ghana', 'ghandi', 'ghaoth', 'ghast', 'ghealach', 'ghee', 'ghetto', 'ghidra', 'ghl', 'ghost', 'ghostbust', 'ghostfac', 'ghostlik', 'ghostman', 'ghoul', 'ghrian', 'ghruaim', 'gi', 'giant', 'gibb', 'gibberish', 'gibbon', 'gibralt', 'gibraltar', 'gibson', 'gid', 'gidd', 'giddi', 'gideon', 'gift', 'gig', 'gigant', 'giggl', 'gigi', 'gigolo', 'gild', 'gill', 'gillian', 'gillotin', 'gillzar', 'gilmour', 'gilzirl', 'gilzuy', 'gime', 'gimm', 'gimme', 'gimmi', 'gimmick', 'gin', 'gina', 'ginger', 'gingerbread', 'gingham', 'ginni', 'ginuwin', 'gion', 'giovanni', 'giovanno', 'gip', 'gipp', 'gir', 'giraff', 'girat', 'girbaud', 'girbraud', 'girfriend', 'girl', 'girlal', 'girlfriend', 'girli', 'girlif', 'girlwhat', 'girlyou', 'girlyour', 'girlz', 'git', 'gitano', 'gitcha', 'gitchi', 'gitmekten', 'gittin', 'giusepp', 'giv', 'giva', 'givenchi', 'giver', 'givest', 'giveth', 'givin', 'gizzard', 'gizzay', 'gizzirl', 'glaad', 'glacial', 'glacier', 'glad', 'glade', 'gladi', 'gladiat', 'gladsom', 'glamor', 'glamour', 'glanc', 'glancin', 'gland', 'glare', 'glasgow', 'glass', 'glassi', 'glaze', 'gleam', 'gleamin', 'glee', 'gleeee', 'glen', 'glendal', 'glenn', 'gli', 'glide', 'glider', 'glidin', 'glimmer', 'glimps', 'glint', 'glist', 'glisten', 'glistenin', 'glitter', 'glitzi', 'glizzi', 'glo', 'gloat', 'global', 'globe', 'globetrott', 'glock', 'glocki', 'gloir', 'gloom', 'gloomi', 'glori', 'gloria', 'glorifi', 'glorious', 'gloss', 'glossi', 'glove', 'glover', 'glow', 'glower', 'glowin', 'glu', 'glucka', 'glue', 'gluey', 'glug', 'glum', 'glute', 'glycerin', 'gm', 'gn', 'gnac', 'gnaht', 'gnar', 'gnash', 'gnome', 'goal', 'goali', 'goat', 'gob', 'goblin', 'god', 'godamn', 'goddam', 'goddammit', 'goddamn', 'goddess', 'godfath', 'godhead', 'godiva', 'godsmack', 'godson', 'godspe', 'godzilla', 'goer', 'goetz', 'goffin', 'goggl', 'gogh', 'gogo', 'goh', 'gohil', 'goil', 'goin', 'goind', 'gointa', 'goku', 'gold', 'goldalin', 'golden', 'goldfish', 'goldfoot', 'goldi', 'goldman', 'goldust', 'goldwyn', 'golf', 'golfer', 'goliath', 'golli', 'gomorrah', 'gon', 'gona', 'gonad', 'gondolia', 'goneaway', 'gonella', 'goner', 'gong', 'gonna', 'gonnab', 'gonnatel', 'gonner', 'gonzal', 'gonzo', 'goo', 'good', 'goodbi', 'goodbv', 'goodby', 'goodfella', 'goodfellaz', 'goodfellow', 'goodi', 'goodin', 'goodl', 'goodlook', 'goodman', 'goodnew', 'goodni', 'goodnick', 'goodnight', 'goodtim', 'goodwil', 'goodyear', 'gooey', 'goofi', 'goog', 'googl', 'googley', 'gook', 'goomba', 'goombah', 'goon', 'gooni', 'gooo', 'goos', 'goosebump', 'gop', 'gopher', 'gordon', 'gore', 'gorgeous', 'gori', 'gorilla', 'gorki', 'gorrilla', 'gosh', 'gosl', 'gospel', 'gossam', 'gossip', 'gossipin', 'got', 'gotbig', 'gotcha', 'gotham', 'gotsta', 'gotta', 'gotti', 'gotto', 'gotya', 'gouda', 'goug', 'gov', 'gover', 'govern', 'governor', 'gower', 'gown', 'goya', 'goyard', 'gozar', 'gq', 'gr', 'gra', 'grab', 'grabbin', 'grace', 'graceland', 'graceless', 'gracia', 'gracious', 'grad', 'grade', 'grader', 'gradi', 'gradual', 'graduat', 'graffiti', 'graffitti', 'grain', 'gram', 'grammar', 'grammat', 'grammer', 'grammi', 'grammophon', 'gran', 'grana', 'granada', 'grand', 'grandad', 'grandchildren', 'granddad', 'granddaddi', 'granddaught', 'grander', 'grandest', 'grandeur', 'grandfath', 'grandkid', 'grandma', 'grandmama', 'grandmaw', 'grandmom', 'grandmoth', 'grandpa', 'grandpar', 'grandson', 'grang', 'granit', 'grannd', 'granni', 'grant', 'grape', 'grapefruit', 'grapenut', 'grapevin', 'graph', 'graphic', 'gras', 'grasp', 'grass', 'grassland', 'grate', 'gratifi', 'gratitud', 'grave', 'gravel', 'gravelbourg', 'gravellburg', 'graven', 'graveyard', 'gravi', 'gravit', 'graviti', 'graw', 'gray', 'grayson', 'graze', 'grazi', 'grazin', 'greas', 'greaser', 'greasi', 'great', 'greater', 'greatest', 'grecian', 'gree', 'greec', 'greed', 'greedi', 'greek', 'green', 'greenback', 'greener', 'greeneri', 'greenest', 'greenfield', 'greenland', 'greenwich', 'greet', 'greetin', 'greeves', 'greg', 'gregg', 'gregori', 'greiv', 'grenad', 'grenada', 'grenadi', 'grenebaum', 'grenier', 'gret', 'greta', 'grew', 'grey', 'greyhound', 'griddl', 'grie', 'grief', 'griev', 'grievanc', 'griever', 'grievin', 'griff', 'griffith', 'grift', 'grigio', 'grill', 'griller', 'grillin', 'grim', 'grimbl', 'grime', 'grimey', 'grimi', 'grimm', 'grin', 'grinch', 'grind', 'grinder', 'grindin', 'grindston', 'gringo', 'grinner', 'grinnin', 'grip', 'gripe', 'grippem', 'grippin', 'grit', 'gritar', 'gritt', 'gritti', 'grizzi', 'grizzli', 'groan', 'groanin', 'grob', 'grocer', 'groceri', 'groggi', 'groin', 'groom', 'groov', 'groovey', 'groovi', 'groovin', 'grope', 'gross', 'grotesqu', 'grotto', 'groucho', 'ground', 'groundhog', 'group', 'groupi', 'grove', 'grow', 'growin', 'growl', 'growlin', 'grown', 'grownup', 'growth', 'grr', 'grra', 'grub', 'grubbi', 'grubbin', 'grudg', 'gruesom', 'gruffi', 'grumbl', 'grump', 'grunt', 'gruntin', 'gs', 'gt', 'gte', 'gto', 'gtr', 'guadalajara', 'guadeloupe', 'guag', 'guala', 'guam', 'guann', 'guant', 'guantamena', 'guap', 'guapa', 'guarante', 'guard', 'guardian', 'guarente', 'guatemala', 'guav', 'guava', 'gucci', 'gue', 'guerin', 'guernsey', 'guerrera', 'guerrilla', 'guess', 'guessin', 'guest', 'gueux', 'guevara', 'guh', 'guhl', 'guiana', 'guid', 'guidanc', 'guillotin', 'guilt', 'guilti', 'guiltless', 'guin', 'guinea', 'guis', 'guitar', 'guiter', 'gulf', 'gulfport', 'guliani', 'gull', 'gulli', 'gullibl', 'gulp', 'gum', 'gumbo', 'gumboot', 'gumdrop', 'gump', 'gumsmack', 'gun', 'gunboat', 'gunfight', 'gunfir', 'gung', 'gunga', 'gunk', 'gunmen', 'gunn', 'gunna', 'gunner', 'gunni', 'gunnin', 'gunplay', 'gunpoint', 'gunpowd', 'gunshot', 'guppi', 'gurdi', 'gurgl', 'gurglin', 'gurl', 'gurlz', 'guru', 'gus', 'gushi', 'gushin', 'gusta', 'gusto', 'gut', 'guthri', 'gutiar', 'gutless', 'gutter', 'guy', 'guyana', 'guzzl', 'guzzlin', 'gwaan', 'gwamn', 'gwan', 'gwanin', 'gwanna', 'gwen', 'gwine', 'gyal', 'gym', 'gymnast', 'gyp', 'gypsi', 'gypsti', 'gypsum', 'gyrat', 'ha', 'haa', 'haaa', 'haaaa', 'haaaaa', 'haaaaaa', 'haaaaaaa', 'haaaaaaaa', 'haaaaaaaaa', 'haaaaaaay', 'haaaaaahahaha', 'haaaah', 'haaaaouuhhhhh', 'haaahw', 'haaaiih', 'haaga', 'haahaaooooooo', 'habit', 'habitat', 'habitu', 'habla', 'hablar', 'hablo', 'hace', 'hacemo', 'hach', 'hacienda', 'hack', 'hackberri', 'hackensack', 'hacki', 'hackin', 'hacksaw', 'hada', 'hade', 'haemorrhag', 'haett', 'hag', 'hail', 'hailey', 'haili', 'hailin', 'hailstorm', 'hair', 'hairbrush', 'haircut', 'hairdo', 'hairdress', 'hairi', 'hairlin', 'hairspray', 'haiti', 'haitian', 'haja', 'haka', 'hakeem', 'hakim', 'hal', 'halal', 'halargian', 'halcyon', 'halen', 'haley', 'halftim', 'halfway', 'halitosi', 'hall', 'hallalujea', 'hallelu', 'halleluiah', 'hallelujah', 'hallelulia', 'halleluya', 'halley', 'halliguah', 'hallo', 'hallow', 'halloween', 'hallucin', 'hallucinogen', 'hallway', 'halo', 'halston', 'halt', 'halter', 'halv', 'ham', 'hamburg', 'hamilton', 'hammer', 'hammerin', 'hammerlock', 'hammock', 'hammond', 'hamp', 'hampshir', 'hampstead', 'hampton', 'han', 'hancho', 'hancin', 'hancock', 'hand', 'handbag', 'handbal', 'handcuf', 'handcuff', 'handgun', 'handi', 'handicap', 'handin', 'handkerchief', 'handl', 'handlebar', 'handless', 'handmad', 'handout', 'handshak', 'handsom', 'handsomest', 'handspr', 'handstand', 'handsworth', 'handwash', 'handyman', 'hang', 'hanger', 'hangin', 'hangman', 'hangout', 'hangov', 'hanighen', 'hank', 'hanki', 'hanna', 'hannah', 'hanneman', 'hannib', 'hannigan', 'hanson', 'haow', 'hap', 'happar', 'happen', 'happend', 'happenin', 'happenst', 'happi', 'happier', 'happiest', 'happili', 'happnin', 'har', 'harass', 'harbach', 'harbor', 'harbour', 'harburg', 'hard', 'hardach', 'hardbal', 'hardcor', 'harden', 'harder', 'hardest', 'hardhat', 'hardhead', 'hardi', 'hardrock', 'hardship', 'hardtop', 'hardwar', 'hare', 'harem', 'hark', 'harken', 'harlan', 'harlem', 'harlen', 'harlequin', 'harlequinn', 'harley', 'harlingen', 'harlot', 'harlow', 'harm', 'harmin', 'harmless', 'harmon', 'harmoni', 'harmonica', 'harmonizin', 'harold', 'harp', 'harpi', 'harpo', 'harpoon', 'harrass', 'harri', 'harrison', 'harrow', 'harsh', 'harsher', 'hart', 'hartford', 'harvard', 'harvest', 'harvey', 'hash', 'hashtag', 'hassl', 'hast', 'hasta', 'hasten', 'hasti', 'hat', 'hata', 'hatah', 'hataz', 'hatch', 'hatchback', 'hatchet', 'hatchetman', 'hate', 'hater', 'haterz', 'hatfield', 'hath', 'hathaway', 'hatherway', 'hatin', 'hatnin', 'hatr', 'hatter', 'hatti', 'haugh', 'haul', 'hauler', 'haulin', 'haunt', 'hauntin', 'hauser', 'havahnah', 'havana', 'havanna', 'haverstraw', 'haveta', 'havic', 'havin', 'havoc', 'havta', 'haw', 'hawaian', 'hawaii', 'hawaiian', 'hawk', 'hawkin', 'hay', 'haycock', 'hayley', 'haym', 'haymon', 'hayrack', 'hayse', 'haystack', 'hayton', 'haywir', 'hayworth', 'haza', 'hazard', 'haze', 'hazel', 'hazey', 'hazi', 'hbic', 'hca', 'hd', 'heach', 'head', 'headach', 'headband', 'headbang', 'headboard', 'headbutt', 'headcrack', 'headfirst', 'headhuntin', 'headi', 'headin', 'headless', 'headlight', 'headlin', 'headlinin', 'headlock', 'headlong', 'headphon', 'headpiec', 'headquart', 'headrest', 'headrush', 'headset', 'headshot', 'headstart', 'headston', 'headstrong', 'heah', 'heal', 'healer', 'healin', 'health', 'healthi', 'healti', 'hean', 'heap', 'hear', 'hearach', 'heard', 'hearda', 'hearin', 'hears', 'hearsay', 'heart', 'heartach', 'heartbeat', 'heartbeatin', 'heartbreak', 'heartbreakin', 'heartbrok', 'heartbroken', 'heartfelt', 'hearti', 'heartland', 'heartless', 'heartstr', 'heartwarm', 'heat', 'heata', 'heater', 'heathcliff', 'heathen', 'heather', 'heathrow', 'heati', 'heatin', 'heatwav', 'heav', 'heaven', 'heavenit', 'heavennnn', 'heavi', 'heavier', 'heaviest', 'heavili', 'heavin', 'heavn', 'heavyweight', 'hebben', 'hebert', 'hebrew', 'hecho', 'heck', 'heckl', 'hectic', 'hedg', 'hedgehog', 'hedgerow', 'hee', 'heed', 'heeeeeeeeey', 'heeeeeeeey', 'heeeeeey', 'heeeeey', 'heeeey', 'heeeeyyy', 'heeer', 'heeey', 'heel', 'heep', 'heezi', 'hefer', 'heffa', 'heffer', 'hefound', 'heft', 'hefti', 'heh', 'hehe', 'heheh', 'heheheh', 'heheheheh', 'heif', 'heifen', 'heifer', 'heigh', 'height', 'heimlich', 'hein', 'heina', 'heineken', 'heinesi', 'heini', 'heinous', 'heinz', 'heir', 'heiress', 'heirloom', 'heist', 'held', 'helen', 'helena', 'helicopt', 'helium', 'helix', 'hell', 'hella', 'hellbent', 'hellbound', 'hellfir', 'hellhound', 'hellifi', 'hellion', 'hellish', 'hello', 'hellrais', 'hellview', 'helmet', 'help', 'helper', 'helpin', 'helpless', 'helpus', 'heltah', 'helter', 'hem', 'hemingway', 'hemispher', 'hen', 'henchmen', 'henderson', 'hendrick', 'hendrix', 'henn', 'hennesey', 'hennesi', 'henness', 'hennesse', 'hennessey', 'hennessi', 'henney', 'henni', 'henri', 'hep', 'hepburn', 'herald', 'heraus', 'herb', 'herbal', 'herbi', 'hercul', 'herd', 'herdsman', 'hereabout', 'hereditari', 'hereford', 'heresi', 'hereund', 'hereward', 'herman', 'hermana', 'hermaph', 'hermit', 'hermonica', 'herndon', 'hernia', 'hero', 'herod', 'heroin', 'heron', 'herr', 'herrera', 'hershalwood', 'hershey', 'herzog', 'hesit', 'hesitat', 'hesperia', 'hestit', 'het', 'hetero', 'heterophob', 'heur', 'heureux', 'heusen', 'heve', 'hew', 'hex', 'hexagram', 'hey', 'heya', 'heyheyheyyeah', 'heyi', 'heyinto', 'heyward', 'heyyy', 'heyyyayyy', 'heyyyeah', 'heyyyi', 'hh', 'hhhhmmmmmhhhmmmmm', 'hhhm', 'hibbi', 'hibbidi', 'hibern', 'hiccup', 'hice', 'hick', 'hickernut', 'hickey', 'hicki', 'hickori', 'hicktown', 'hidden', 'hiddi', 'hiddin', 'hide', 'hideaway', 'hideous', 'hideout', 'hider', 'hidin', 'hiditihi', 'hielten', 'hier', 'hieroglyph', 'hig', 'higgin', 'higginbotham', 'high', 'higha', 'highbal', 'highbr', 'highbridg', 'highbrow', 'higher', 'highest', 'highland', 'highlight', 'highlin', 'highroad', 'highrol', 'hight', 'highway', 'highwayman', 'hiii', 'hiiiiiiiiiii', 'hijack', 'hijita', 'hijo', 'hike', 'hilari', 'hilfig', 'hill', 'hillbilli', 'hillsid', 'hilltop', 'hilton', 'hilzav', 'hilzi', 'hilzzoo', 'himalaya', 'himmler', 'hind', 'hindsight', 'hindsit', 'hindu', 'hindus', 'hing', 'hink', 'hint', 'hip', 'hipitiho', 'hipo', 'hipocrisi', 'hipper', 'hippest', 'hippi', 'hippiti', 'hippopotamus', 'hipster', 'hiram', 'hire', 'hiroshima', 'hirsch', 'hirsut', 'hiss', 'hisself', 'hissin', 'hisss', 'hist', 'histor', 'histori', 'hit', 'hitch', 'hitcha', 'hitchcock', 'hitcher', 'hitchhik', 'hitchhikin', 'hitchikin', 'hitchin', 'hitherto', 'hitler', 'hitlist', 'hitman', 'hitmen', 'hitta', 'hitter', 'hittin', 'hiv', 'hive', 'hiya', 'hk', 'hlding', 'hmhmm', 'hmmmm', 'hmmmmh', 'hmmmmm', 'hmmmmmm', 'hmmmmmmm', 'hmmmmmmmm', 'hmph', 'hoagi', 'hoard', 'hoars', 'hoax', 'hobb', 'hobbi', 'hobbl', 'hobnail', 'hobo', 'hobohemia', 'hock', 'hockey', 'hocus', 'hode', 'hoe', 'hoedown', 'hoez', 'hoffa', 'hoffman', 'hog', 'hoggin', 'hogshead', 'hoh', 'hohner', 'hoho', 'hoireann', 'hoist', 'hokey', 'hokus', 'hol', 'hola', 'holaway', 'holcomb', 'hold', 'holda', 'holder', 'holdin', 'hole', 'holey', 'holi', 'holic', 'holiday', 'holidayin', 'holier', 'holiest', 'holla', 'hollaback', 'holland', 'hollar', 'holler', 'hollerin', 'holli', 'holliday', 'hollin', 'hollow', 'holloway', 'hollywood', 'holm', 'holocaust', 'hologram', 'holst', 'holster', 'holt', 'holton', 'holyfield', 'homag', 'hombr', 'home', 'homebodi', 'homebound', 'homeboy', 'homebrew', 'homecom', 'homefir', 'homefolk', 'homegirl', 'homegrown', 'homeland', 'homeless', 'homemad', 'homer', 'homeroom', 'homerun', 'homesick', 'homestead', 'homestretch', 'hometown', 'homeward', 'homework', 'homey', 'homi', 'homicid', 'homini', 'homm', 'homo', 'homophob', 'homosapien', 'homosex', 'homosuperior', 'hon', 'honcho', 'hond', 'honda', 'hondura', 'hone', 'honest', 'honesti', 'honey', 'honeybe', 'honeycomb', 'honeydew', 'honeydip', 'honeydosugachocol', 'honeymoon', 'honeysuckl', 'hong', 'honi', 'honk', 'honkey', 'honki', 'honkin', 'honkytonk', 'honolulu', 'honor', 'honour', 'hontz', 'hoo', 'hooch', 'hoochi', 'hoochieless', 'hood', 'hoodi', 'hoodlum', 'hoodoo', 'hoodrat', 'hoodwink', 'hoof', 'hoofbeat', 'hooga', 'hooh', 'hoohoo', 'hook', 'hookah', 'hooker', 'hooki', 'hookin', 'hooligan', 'hooma', 'hooo', 'hoooa', 'hoooh', 'hoooo', 'hoooommme', 'hooooom', 'hoooooom', 'hooooooo', 'hoooooook', 'hoooooooo', 'hoooooooooo', 'hooooooooooo', 'hoooooooooooo', 'hoop', 'hooper', 'hoopin', 'hoopla', 'hoopti', 'hooray', 'hoosegow', 'hoosier', 'hoot', 'hoota', 'hootah', 'hootchi', 'hooter', 'hoov', 'hoover', 'hop', 'hope', 'hopeful', 'hopeless', 'hopelesssss', 'hopin', 'hopless', 'hopper', 'hoppi', 'hoppin', 'hopscotch', 'hor', 'hora', 'hord', 'horita', 'horizon', 'horizont', 'hormon', 'horn', 'horner', 'hornet', 'horni', 'hornier', 'horoscop', 'horovitz', 'horri', 'horribl', 'horrid', 'horrifi', 'horror', 'hors', 'horsemeat', 'horsemen', 'horsesho', 'horsey', 'horsin', 'hort', 'horton', 'hos', 'hosanna', 'hose', 'hospit', 'hoss', 'host', 'hostag', 'hostess', 'hostil', 'hot', 'hotb', 'hotboy', 'hotel', 'hothead', 'hotlin', 'hotmail', 'hotrod', 'hotshot', 'hotta', 'hottenhot', 'hotter', 'hottest', 'hotti', 'hou', 'houdini', 'houn', 'hound', 'hounddog', 'houndin', 'hour', 'hourglass', 'hous', 'houseboat', 'household', 'housetop', 'housewif', 'housework', 'housin', 'houston', 'hove', 'hovel', 'hover', 'hoverin', 'how', 'howard', 'howdi', 'howel', 'howi', 'howl', 'howlin', 'hoy', 'hoya', 'hoyl', 'hoyt', 'hp', 'hpnotiq', 'hpur', 'hr', 'hsss', 'hu', 'huah', 'hub', 'hubba', 'hubbard', 'hubbi', 'hublot', 'huck', 'huckleberri', 'huddl', 'hudson', 'hue', 'huey', 'huf', 'huff', 'huffin', 'hug', 'huge', 'huggabl', 'huggin', 'hugh', 'hugo', 'huh', 'huhhhhuuuhhh', 'huhuh', 'huhuhhuh', 'hula', 'hulk', 'hullo', 'hum', 'human', 'humbl', 'humding', 'humdrum', 'humid', 'humili', 'humina', 'humm', 'hummala', 'hummer', 'hummin', 'hummingbird', 'humor', 'humour', 'hump', 'humper', 'humphrey', 'humpin', 'humpti', 'hun', 'hunch', 'hunchback', 'hundr', 'hundredth', 'hung', 'hungari', 'hunger', 'hungov', 'hungri', 'hunh', 'hunk', 'hunka', 'hunkey', 'hunki', 'hunna', 'hunni', 'hunnid', 'hunnit', 'hunt', 'hunter', 'huntin', 'huntington', 'huntsman', 'hup', 'hur', 'hurdi', 'hurdl', 'hurl', 'hurr', 'hurrah', 'hurray', 'hurri', 'hurrican', 'hurryin', 'hurs', 'hurt', 'hurtin', 'husband', 'husbandri', 'hush', 'husk', 'huski', 'husl', 'hussein', 'hussi', 'hussler', 'hustl', 'hustla', 'hustler', 'hustlin', 'hut', 'hutch', 'hutson', 'hutton', 'huu', 'huuh', 'huuuump', 'hyah', 'hybrid', 'hyde', 'hydra', 'hydraul', 'hydro', 'hydropon', 'hymen', 'hymn', 'hymnal', 'hyna', 'hyp', 'hype', 'hypebeast', 'hyper', 'hyperventil', 'hyphi', 'hypnot', 'hypnotherapist', 'hypnotist', 'hypnotizin', 'hypocrisi', 'hypocrit', 'hypoderm', 'hypotenus', 'hypothet', 'hyptnot', 'hyster', 'hysteria', 'hyundai', 'ia', 'ian', 'iation', 'iba', 'ibiza', 'icarus', 'icc', 'ice', 'iceberg', 'icebox', 'iceland', 'icepick', 'icey', 'ich', 'ici', 'icicl', 'icin', 'ick', 'icken', 'icki', 'icon', 'icouldn', 'icp', 'icu', 'ida', 'idaho', 'ide', 'idea', 'ideal', 'ident', 'identifi', 'idhao', 'idi', 'idiomat', 'idiot', 'idl', 'idol', 'ie', 'if', 'ife', 'iggin', 'ight', 'igloo', 'ignit', 'ignitor', 'ignor', 'ignoramus', 'ignorin', 'igocd', 'igor', 'iguana', 'iif', 'il', 'ill', 'illat', 'illeg', 'illegitim', 'illest', 'illi', 'illin', 'illinoi', 'illiter', 'illiteratur', 'illment', 'illog', 'illumin', 'illus', 'illustr', 'illustri', 'illway', 'illzain', 'illzar', 'ilook', 'ilost', 'ilzout', 'ima', 'imag', 'imagin', 'imagina', 'imaginando', 'imaginari', 'imaginin', 'imb', 'imbass', 'imbecil', 'imbib', 'imbru', 'ime', 'imf', 'imfam', 'imfaous', 'imiss', 'imit', 'imma', 'immacul', 'immanuel', 'immatur', 'immeasur', 'immens', 'immers', 'immigr', 'immin', 'immit', 'immooooooor', 'immort', 'immun', 'impact', 'impair', 'impal', 'impala', 'impart', 'impati', 'impeach', 'impel', 'impend', 'impercept', 'imperfect', 'imperi', 'imperialist', 'imperson', 'impet', 'impieti', 'implement', 'impli', 'implic', 'implicit', 'implod', 'implor', 'impolit', 'import', 'impos', 'imposit', 'imposs', 'impost', 'impostor', 'impound', 'impregn', 'impress', 'imprint', 'imprison', 'improb', 'improp', 'improv', 'improvin', 'improvis', 'impuls', 'ina', 'inadvert', 'inanim', 'inarticul', 'inat', 'inbetween', 'inbird', 'inbox', 'inbr', 'incandesc', 'incant', 'incarcer', 'incarn', 'incas', 'incens', 'incent', 'incept', 'incess', 'incest', 'incestu', 'inch', 'incid', 'incident', 'inciner', 'incis', 'incit', 'inclin', 'includ', 'includin', 'inclus', 'incogni', 'incognito', 'incognot', 'incoher', 'incom', 'incompar', 'incompet', 'incomplet', 'incomprehens', 'inconspicu', 'incontravert', 'inconveni', 'incorpor', 'incorrupt', 'increas', 'incred', 'incrimin', 'incub', 'incur', 'indebt', 'indec', 'indecis', 'indefinit', 'indent', 'indentur', 'independ', 'indescrib', 'indestruct', 'indi', 'india', 'indian', 'indiana', 'indic', 'indict', 'indiffer', 'indig', 'indigo', 'indirect', 'indiscreet', 'indiscret', 'indispos', 'indisput', 'indistinct', 'individu', 'individualist', 'indivis', 'indo', 'indonesia', 'indonesian', 'indoor', 'induc', 'induct', 'indulg', 'industri', 'industrialist', 'ine', 'inebri', 'ineffectu', 'inert', 'iness', 'inevit', 'inexpress', 'infact', 'infal', 'infam', 'infanc', 'infant', 'infantri', 'infatu', 'infect', 'infecti', 'infector', 'infer', 'inferior', 'infern', 'inferno', 'infest', 'infidel', 'infiel', 'infiltr', 'infin', 'infinit', 'infirmari', 'inflam', 'inflamm', 'inflat', 'inflect', 'inflex', 'inflict', 'inflictin', 'influenc', 'influencia', 'influenza', 'info', 'inform', 'informa', 'infront', 'ing', 'ingal', 'ingenu', 'inglan', 'inglewood', 'ingrat', 'ingredi', 'inhabit', 'inhal', 'inharmon', 'inherit', 'inhibit', 'inhuman', 'ini', 'init', 'initi', 'inject', 'injector', 'injur', 'injuri', 'injustic', 'ink', 'inlaid', 'inlaw', 'inlov', 'inmat', 'inn', 'inna', 'innamorata', 'innard', 'innat', 'innermost', 'innervis', 'inning', 'innit', 'innoc', 'innocenec', 'innocenti', 'innov', 'innuend', 'innuendo', 'inoper', 'input', 'inquir', 'inquiri', 'inquisit', 'insan', 'insati', 'inscrut', 'inseam', 'insect', 'insecticid', 'insecur', 'inseid', 'insensit', 'insepar', 'insert', 'insid', 'insidi', 'insight', 'insignific', 'insincer', 'insinua', 'insipid', 'insist', 'insol', 'insomnia', 'insomniac', 'inspect', 'inspector', 'inspir', 'inspit', 'instabl', 'instagram', 'instal', 'instanc', 'instant', 'instig', 'instil', 'instinct', 'instink', 'institut', 'institution', 'instrament', 'instruct', 'instrument', 'instrumewnt', 'instument', 'instution', 'insubordin', 'insuffer', 'insuffici', 'insul', 'insult', 'insur', 'insurrect', 'insuscept', 'inta', 'intact', 'intak', 'intang', 'integr', 'integra', 'intellect', 'intellectu', 'intelleg', 'intelli', 'intellig', 'intend', 'intendin', 'intens', 'intent', 'inter', 'interact', 'interactivodular', 'interchang', 'intercours', 'interest', 'interestin', 'interf', 'interfac', 'interfer', 'interior', 'interject', 'interlock', 'interlud', 'intermiss', 'intern', 'internet', 'interplanetari', 'interpret', 'interrog', 'interrupt', 'intersect', 'interspers', 'interst', 'interstellar', 'intertub', 'intertwin', 'interupt', 'interv', 'interven', 'intervent', 'interview', 'intestin', 'inth', 'intim', 'intimaci', 'intimid', 'intoler', 'inton', 'intosh', 'intox', 'intoxicado', 'intric', 'intrigu', 'intro', 'introduc', 'introduct', 'introspect', 'intrud', 'intuit', 'inund', 'invad', 'invalid', 'invas', 'invent', 'inventor', 'invest', 'investig', 'invinc', 'invis', 'invit', 'invitin', 'involuntarili', 'involv', 'io', 'ioh', 'ion', 'iov', 'iowa', 'ipanema', 'iphon', 'ipod', 'ipyou', 'iq', 'ir', 'ira', 'iran', 'iraq', 'irat', 'ird', 'ireland', 'iren', 'iri', 'iridesc', 'irish', 'irk', 'iroc', 'iron', 'ironclad', 'ironhors', 'ironi', 'iroquoi', 'irrat', 'irrefut', 'irregular', 'irrelev', 'irrepar', 'irreplac', 'irresist', 'irrespons', 'irrever', 'irrevers', 'irrit', 'irrita', 'irv', 'irvi', 'iscariot', 'ish', 'isi', 'isl', 'island', 'isley', 'isol', 'isoton', 'issu', 'ital', 'itali', 'italian', 'itch', 'itchi', 'ite', 'itti', 'ivanho', 'ive', 'ivi', 'ivori', 'iwa', 'iwil', 'iwis', 'izzal', 'izzi', 'jab', 'jabba', 'jabber', 'jack', 'jackal', 'jackboot', 'jacker', 'jacket', 'jacki', 'jackin', 'jackknif', 'jackpot', 'jackson', 'jacksonvill', 'jacob', 'jacusi', 'jacuzzi', 'jada', 'jade', 'jaeger', 'jag', 'jagger', 'jaguar', 'jah', 'jai', 'jail', 'jailbait', 'jailbird', 'jailbreak', 'jailer', 'jailhous', 'jailor', 'jaim', 'jain', 'jake', 'jalick', 'jam', 'jama', 'jamai', 'jamaica', 'jamaican', 'jamar', 'jamba', 'jambalaya', 'jambore', 'jamdown', 'jame', 'jameson', 'jami', 'jamma', 'jammey', 'jammi', 'jammin', 'jamrock', 'jamz', 'jan', 'jane', 'janet', 'janey', 'jangl', 'janglin', 'jani', 'janitor', 'jank', 'jansportin', 'januari', 'jap', 'japan', 'japanes', 'jaqu', 'jar', 'jargon', 'jarobi', 'jarrad', 'jasmin', 'jason', 'jasper', 'jaw', 'jawbon', 'jawn', 'jay', 'jaybird', 'jaypan', 'jazmin', 'jazz', 'jazzi', 'jazzman', 'jb', 'jcor', 'jd', 'je', 'jealous', 'jealousi', 'jean', 'jeani', 'jeanni', 'jeapord', 'jear', 'jebb', 'jeckl', 'ject', 'jed', 'jedi', 'jedidah', 'jeep', 'jeeper', 'jeer', 'jeez', 'jefe', 'jeff', 'jeffrey', 'jejej', 'jek', 'jekyl', 'jell', 'jelli', 'jellico', 'jello', 'jellyfish', 'jelous', 'jemima', 'jen', 'jena', 'jenkin', 'jenner', 'jenni', 'jennif', 'jeopardi', 'jepp', 'jeremi', 'jeremiah', 'jergen', 'jericho', 'jerk', 'jerki', 'jerkin', 'jermain', 'jerom', 'jeromey', 'jerp', 'jerri', 'jers', 'jersey', 'jeru', 'jerusalem', 'jeruvian', 'jes', 'jesett', 'jess', 'jessi', 'jessica', 'jest', 'jester', 'jesus', 'jet', 'jetson', 'jetsvv', 'jetti', 'jettin', 'jeux', 'jew', 'jewel', 'jeweleri', 'jewelleri', 'jewelri', 'jewish', 'jewler', 'jewri', 'jex', 'jezabel', 'jezebel', 'jfk', 'jhen', 'jheri', 'jib', 'jibba', 'jibbedi', 'jibber', 'jibbiti', 'jiffi', 'jig', 'jigga', 'jiggaboo', 'jiggi', 'jiggl', 'jigsaw', 'jill', 'jim', 'jima', 'jimi', 'jimini', 'jimmi', 'jimmini', 'jing', 'jingl', 'jinglin', 'jinx', 'jip', 'jitney', 'jitter', 'jitterbug', 'jitterbuggin', 'jive', 'jivin', 'jjs', 'jk', 'jlb', 'jo', 'joan', 'joann', 'joanna', 'job', 'jobet', 'jobless', 'jock', 'jockey', 'jockin', 'jocko', 'jodeci', 'jodi', 'joe', 'joel', 'joesph', 'joey', 'jog', 'joggin', 'johann', 'johanna', 'johhni', 'john', 'johni', 'johnni', 'johnsonadminist', 'johnsonvill', 'join', 'joint', 'jojo', 'joke', 'joker', 'jokerman', 'jokey', 'jokin', 'jolen', 'joli', 'jolli', 'jollibe', 'jollif', 'jolson', 'jolt', 'jon', 'jona', 'jonah', 'jonathon', 'jone', 'jonesin', 'joni', 'jonin', 'jonni', 'joo', 'joplin', 'jordach', 'jordan', 'jos', 'jose', 'joseito', 'joseph', 'josephin', 'joshua', 'josi', 'jot', 'jour', 'journal', 'journalist', 'journey', 'jouster', 'jovi', 'joy', 'joyner', 'joyous', 'joyrid', 'jr', 'jt', 'ju', 'juan', 'juana', 'juanita', 'juarez', 'juat', 'jub', 'jubile', 'juda', 'jude', 'judea', 'judg', 'judgement', 'judgin', 'judgment', 'judi', 'judo', 'jug', 'jugar', 'juge', 'juggalo', 'juggernaut', 'juggi', 'juggin', 'juggl', 'juggla', 'juggler', 'jugosa', 'jugul', 'jugular', 'juic', 'juici', 'juke', 'jukebox', 'jukin', 'jule', 'julep', 'juli', 'julia', 'juliet', 'juliett', 'julio', 'julius', 'jumb', 'jumbali', 'jumbl', 'jumbo', 'jump', 'jumper', 'jumpi', 'jumpin', 'junction', 'june', 'junenho', 'jungl', 'junior', 'junip', 'junk', 'junker', 'junki', 'junkiefor', 'junkin', 'junkman', 'junkyard', 'juno', 'junt', 'junto', 'jupit', 'jura', 'jurass', 'juri', 'juro', 'jus', 'jusqu', 'juss', 'justic', 'justif', 'justifi', 'justin', 'juu', 'juve', 'juvenil', 'juxtapos', 'jvc', 'jyea', 'ka', 'kaboom', 'kack', 'kaelin', 'kaempfert', 'kaiser', 'kakunk', 'kalahari', 'kalai', 'kalamazoo', 'kaleidoscop', 'kalikimaka', 'kalmanoff', 'kam', 'kamei', 'kamikaz', 'kampuchea', 'kan', 'kana', 'kane', 'kangaroo', 'kango', 'kangol', 'kaniff', 'kanjani', 'kankake', 'kansa', 'kansanian', 'kany', 'kanzai', 'karamazov', 'karamu', 'karan', 'karaok', 'karat', 'kardashian', 'karen', 'karl', 'karma', 'kastro', 'kat', 'kate', 'katherin', 'kathi', 'kathmandu', 'kathoolica', 'kati', 'katia', 'katmandu', 'kato', 'katydid', 'kauai', 'kaw', 'kay', 'kaya', 'kazam', 'kazoo', 'kb', 'kc', 'kcab', 'kcmo', 'kd', 'ke', 'keat', 'keaton', 'ked', 'keef', 'keel', 'keen', 'keeney', 'keep', 'keeper', 'keepin', 'keffiyah', 'kefir', 'keg', 'kegstand', 'keisha', 'keith', 'keke', 'keller', 'kelley', 'kelli', 'kellogg', 'kelp', 'keltec', 'kemo', 'kemp', 'ken', 'kendal', 'kendrick', 'kenevil', 'kennedi', 'kennel', 'kenneth', 'kenni', 'kensington', 'kent', 'kentucki', 'kenya', 'ker', 'keri', 'kern', 'kerosen', 'kerouac', 'kerri', 'kesler', 'kess', 'ket', 'ketchup', 'kettl', 'kettledrum', 'kevin', 'kevorkian', 'kewpi', 'key', 'keyboard', 'keyhol', 'keyshia', 'kgb', 'kh', 'khacki', 'khadafi', 'khaki', 'khan', 'khartoum', 'khomani', 'khrushchev', 'khyber', 'ki', 'kiana', 'kibbl', 'kick', 'kickbox', 'kicker', 'kickflip', 'kickin', 'kid', 'kidd', 'kiddi', 'kiddin', 'kiddo', 'kidi', 'kidnap', 'kidney', 'kike', 'kiki', 'kilimanjaro', 'kill', 'killa', 'killah', 'killarney', 'killaz', 'killer', 'killin', 'killjoy', 'killuminati', 'kilo', 'kilroy', 'kilsan', 'kilt', 'kilter', 'kilzommi', 'kim', 'kimmi', 'kin', 'kind', 'kinda', 'kinder', 'kindest', 'kindl', 'kindr', 'kinet', 'kinfolk', 'king', 'kingdom', 'kingfish', 'kingman', 'kingpin', 'kingston', 'kinid', 'kink', 'kinki', 'kinsey', 'kint', 'kippur', 'kirk', 'kirkland', 'kirschwass', 'kismet', 'kiss', 'kissabl', 'kisser', 'kisseth', 'kissgoodnight', 'kissin', 'kit', 'kitch', 'kitchen', 'kitchin', 'kitcken', 'kite', 'kitten', 'kitti', 'kitzerr', 'kiwi', 'kix', 'kiyay', 'kizzay', 'kk', 'kkk', 'klaka', 'klan', 'kleenex', 'kleptomaniac', 'klick', 'klingman', 'klondik', 'klose', 'klu', 'klux', 'knack', 'knahmean', 'knahmsayin', 'knapsack', 'knee', 'kneecap', 'kneel', 'kneelin', 'kneesyou', 'knell', 'knelt', 'knew', 'knicca', 'knick', 'knickerbock', 'knife', 'knifepoint', 'knight', 'kniow', 'knish', 'knit', 'knive', 'kno', 'knob', 'knocc', 'knock', 'knocker', 'knockin', 'knockout', 'knoe', 'knooow', 'knoowwss', 'knot', 'knotti', 'know', 'knowd', 'knowhati', 'knowin', 'knowl', 'knowledg', 'knowmsayin', 'known', 'knoxvill', 'knuckel', 'knuckl', 'knucklehead', 'ko', 'kobe', 'kod', 'kodachrom', 'kodak', 'kodwa', 'koehler', 'kogi', 'koheba', 'kojak', 'kokomo', 'koller', 'kombi', 'kombucha', 'kommt', 'kon', 'kong', 'konitz', 'konjo', 'koo', 'koochi', 'kool', 'kooley', 'koon', 'koop', 'koopa', 'koopsta', 'koozi', 'korea', 'korean', 'korla', 'korn', 'korni', 'kosciusko', 'kosher', 'kotex', 'kotter', 'kottonmouth', 'kow', 'kr', 'kraco', 'kraft', 'krasnow', 'kraut', 'krayzi', 'kremlin', 'krieg', 'kriegsminist', 'krill', 'krillin', 'kris', 'krishna', 'krispi', 'kristin', 'kristl', 'kristofferson', 'kronk', 'kronkik', 'kross', 'krs', 'krueger', 'krunch', 'krunk', 'krushchev', 'krypton', 'kryptonit', 'ksubi', 'ktrey', 'ku', 'kubla', 'kubrick', 'kudo', 'kudu', 'kufuffin', 'kulawiec', 'kultur', 'kumbaya', 'kung', 'kuniva', 'kunta', 'kurosawa', 'kurt', 'kurti', 'kurupt', 'kush', 'kut', 'kutcher', 'kuwait', 'kuz', 'kwai', 'kwenz', 'kwon', 'kyle', 'kyotosreveng', 'kyro', 'kyser', 'kyuh', 'la', 'laa', 'laaa', 'laaaa', 'laaaaa', 'laaaaaa', 'lab', 'laba', 'label', 'labexibiali', 'labio', 'labor', 'laboratori', 'labour', 'labrador', 'labyrinth', 'lac', 'lace', 'lacer', 'laci', 'lacin', 'lack', 'lacka', 'lackaday', 'lackin', 'lacko', 'lacost', 'lad', 'ladada', 'ladadada', 'ladadaoh', 'ladder', 'laddi', 'laden', 'ladera', 'ladi', 'ladida', 'lado', 'ladron', 'ladybird', 'ladybug', 'ladylik', 'laeti', 'lafayett', 'laferrari', 'laffi', 'laflam', 'lafreak', 'lagoon', 'lah', 'lai', 'laid', 'laidback', 'lain', 'lair', 'lait', 'lak', 'laka', 'lake', 'lakeland', 'laker', 'lakeshor', 'lakid', 'lakim', 'lala', 'lalala', 'lalalala', 'lalalalala', 'lalalalalaoooo', 'lallal', 'lalo', 'lam', 'lamb', 'lambada', 'lambeth', 'lambo', 'lamborghini', 'lame', 'lament', 'lamin', 'lamont', 'lamp', 'lampglow', 'lampin', 'lamplight', 'lamppost', 'lampshad', 'lan', 'lana', 'lanc', 'lancelot', 'land', 'landan', 'landcruis', 'landfil', 'landi', 'landin', 'landladi', 'landlord', 'landmark', 'landmin', 'landscap', 'landslid', 'lane', 'laneway', 'laney', 'lang', 'languag', 'languid', 'lank', 'lanka', 'lans', 'lantern', 'lao', 'laotian', 'lap', 'lapag', 'lapland', 'laps', 'laptop', 'laquan', 'lar', 'lara', 'laram', 'larceni', 'lard', 'lare', 'laredo', 'larfter', 'larg', 'larger', 'largest', 'largo', 'lari', 'larimor', 'lark', 'larock', 'larri', 'larrimor', 'laryng', 'las', 'lasandra', 'laser', 'lash', 'lass', 'lassi', 'lasso', 'last', 'lastin', 'lastless', 'lata', 'latch', 'late', 'latest', 'latham', 'lather', 'latifah', 'latin', 'latino', 'lation', 'latitud', 'latk', 'latocha', 'lator', 'latouch', 'latoya', 'latt', 'laud', 'laugh', 'laughabl', 'laughin', 'laught', 'laughter', 'launch', 'laundri', 'laundromat', 'laura', 'laurel', 'lauren', 'laurent', 'lauri', 'lauryn', 'lava', 'lavatori', 'lave', 'lavend', 'laver', 'lavern', 'lavish', 'law', 'lawd', 'lawdi', 'lawless', 'lawman', 'lawmen', 'lawn', 'lawrenc', 'lawsuit', 'lawyer', 'lax', 'laxat', 'lay', 'layaway', 'laybah', 'layer', 'layin', 'layn', 'layup', 'layzi', 'lazar', 'laze', 'lazer', 'lazi', 'lbc', 'ld', 'le', 'lea', 'lead', 'leadbelli', 'leaden', 'leader', 'leadership', 'leadeth', 'leadin', 'leaf', 'leafi', 'leagu', 'leah', 'leak', 'leaki', 'leakin', 'lean', 'leaner', 'leanin', 'leann', 'leap', 'leaper', 'leapfrog', 'leapt', 'lear', 'leari', 'learn', 'learner', 'learnin', 'learnt', 'leas', 'leash', 'leathafac', 'leather', 'leatherfac', 'leav', 'leaver', 'leavin', 'lebanes', 'lebanon', 'lebaron', 'lebron', 'lecci', 'lecher', 'lectric', 'lectur', 'led', 'ledg', 'ledo', 'lee', 'leech', 'leemor', 'leer', 'leeri', 'leetl', 'leeway', 'leflah', 'leflaur', 'left', 'lefti', 'leg', 'legaci', 'legal', 'legalis', 'legend', 'legendari', 'leggin', 'leghorn', 'legion', 'legisl', 'legit', 'legitim', 'lego', 'lehman', 'lehrer', 'lehsem', 'lei', 'leiber', 'leif', 'leigh', 'leisur', 'leland', 'lem', 'lemm', 'lemmon', 'lemon', 'lemonad', 'lemonhead', 'lemur', 'len', 'lena', 'lenc', 'lench', 'lend', 'lender', 'lene', 'length', 'lengthen', 'lengua', 'lenin', 'leningrad', 'lenni', 'lennon', 'lennox', 'lenor', 'lens', 'lent', 'lenya', 'leo', 'leon', 'leona', 'leonard', 'leonic', 'leopard', 'leper', 'leprechaun', 'leroy', 'lerxst', 'les', 'lesbian', 'lesli', 'lesotho', 'lessen', 'lesser', 'lesson', 'let', 'letcha', 'letdown', 'lete', 'lethal', 'lett', 'letter', 'lettin', 'lettr', 'lettuc', 'lettum', 'leukemia', 'leut', 'leva', 'levanta', 'leve', 'level', 'leven', 'lever', 'leverag', 'levert', 'levi', 'leviathan', 'levit', 'leviticus', 'levittown', 'levon', 'levr', 'lew', 'lewi', 'lewinski', 'lex', 'lexington', 'lexus', 'ley', 'leyna', 'lez', 'lhasa', 'li', 'liabil', 'liabl', 'liaison', 'liam', 'liar', 'lib', 'libat', 'liber', 'liberac', 'liberia', 'liberti', 'libertin', 'libido', 'libra', 'librari', 'libya', 'lice', 'licenc', 'licens', 'lick', 'licketi', 'licki', 'lickin', 'lickl', 'lickwood', 'licoric', 'lid', 'lido', 'lie', 'liechtenstein', 'lien', 'lieoh', 'lieuten', 'liev', 'lif', 'life', 'lifeboat', 'lifeless', 'lifelin', 'lifelong', 'lifespin', 'lifestyl', 'lifetim', 'liffey', 'lifi', 'lift', 'lifter', 'liftin', 'liga', 'ligament', 'ligh', 'lighjt', 'light', 'lightbulb', 'lighten', 'lightenin', 'lighter', 'lighthous', 'lighti', 'lightin', 'lightn', 'lightnin', 'lightsav', 'lightweight', 'lightyear', 'ligion', 'ligo', 'ligther', 'liik', 'lik', 'like', 'liken', 'likey', 'likin', 'likkl', 'lil', 'lilac', 'lili', 'lilli', 'lillian', 'lim', 'limb', 'limber', 'limbless', 'limbo', 'lime', 'limelight', 'limey', 'limit', 'limitless', 'limo', 'limosin', 'limousin', 'limp', 'limpin', 'limpkit', 'lin', 'lina', 'lincoln', 'linda', 'linden', 'lindsey', 'line', 'linel', 'linen', 'liner', 'ling', 'linger', 'lingeri', 'lingo', 'linguist', 'linin', 'link', 'linn', 'linna', 'linoleum', 'lint', 'lio', 'liom', 'lion', 'lionel', 'lionheart', 'lip', 'lipgloss', 'lipit', 'lippi', 'lipstick', 'liqour', 'liquid', 'liquor', 'liquour', 'lirik', 'lis', 'lisa', 'liscenc', 'lish', 'lisp', 'list', 'listen', 'listenin', 'listerin', 'listless', 'listo', 'liston', 'lisztomania', 'lit', 'litani', 'lite', 'liten', 'liter', 'lithuanian', 'litig', 'litll', 'littel', 'litter', 'litterbug', 'litti', 'liu', 'liv', 'live', 'livelihood', 'livelong', 'liver', 'liverpool', 'livest', 'livid', 'livin', 'livingston', 'livra', 'liyah', 'liz', 'liza', 'lizard', 'lizi', 'lizzay', 'lizzi', 'lke', 'llac', 'llama', 'llamo', 'llc', 'llegal', 'llello', 'llena', 'lli', 'llorar', 'llore', 'llow', 'lloyd', 'llruin', 'lmpd', 'lo', 'load', 'loader', 'loadin', 'loafer', 'loafin', 'loan', 'loanin', 'loath', 'loav', 'lobach', 'lobachevski', 'lobbi', 'lobe', 'lobotomi', 'lobset', 'lobster', 'loc', 'loca', 'local', 'locat', 'locc', 'loch', 'lock', 'locka', 'lockdown', 'locker', 'locket', 'lockin', 'locksmith', 'lockstop', 'lockwood', 'loco', 'locomot', 'locust', 'lode', 'lodg', 'lodger', 'lodi', 'loeb', 'loew', 'loft', 'lofti', 'log', 'logan', 'logger', 'loggin', 'logic', 'logo', 'loi', 'loin', 'loke', 'lokey', 'loki', 'loko', 'lola', 'lolita', 'lollapaloosa', 'lolli', 'lollipop', 'lollypop', 'lolo', 'lololo', 'lombardo', 'lon', 'londi', 'london', 'londontown', 'lone', 'loneli', 'loneliest', 'lonely', 'loner', 'lonesom', 'lonesomest', 'loney', 'long', 'longacr', 'longer', 'longest', 'longev', 'longfellow', 'longhair', 'longin', 'longstrok', 'lonley', 'lonli', 'lonni', 'loo', 'look', 'looka', 'looker', 'looki', 'lookin', 'lookout', 'loom', 'loon', 'looney', 'looni', 'looniest', 'loooooos', 'looooovepow', 'loooos', 'loooov', 'looov', 'loop', 'loor', 'loora', 'loory', 'loos', 'loosen', 'looser', 'loosin', 'loot', 'looter', 'lopez', 'lor', 'lord', 'lordi', 'loreena', 'lorelei', 'loren', 'lorenz', 'lorenzo', 'loretta', 'lori', 'lorial', 'lorn', 'lorr', 'lorri', 'lorsqu', 'lortab', 'los', 'lose', 'loser', 'losin', 'loss', 'lost', 'losti', 'lot', 'lotion', 'lotsa', 'lott', 'lotta', 'lotteri', 'lotto', 'lotus', 'lou', 'louboutin', 'loud', 'louder', 'loudest', 'loudspeak', 'loui', 'louie', 'louis', 'louisana', 'louisiana', 'louisvill', 'loung', 'loungeroom', 'lous', 'lousi', 'lout', 'louvr', 'lov', 'lova', 'lovabl', 'lovaz', 'love', 'loveabl', 'lovebird', 'lovechild', 'loved', 'lovegam', 'loveinstrument', 'loveless', 'loveli', 'loveliest', 'lovelight', 'lovelock', 'lovemak', 'lovepow', 'lover', 'loverboy', 'loveseat', 'lovesick', 'lovestruck', 'lovetrain', 'lovett', 'lovey', 'lovin', 'low', 'lowdown', 'lowel', 'lower', 'lowercas', 'lowest', 'lowkey', 'lowland', 'lowli', 'lowrey', 'lowri', 'lowrid', 'loy', 'loyal', 'loyalti', 'lp', 'lq', 'lrig', 'ls', 'lsd', 'lu', 'lube', 'lubric', 'luc', 'luca', 'lucci', 'lucciana', 'luchini', 'luci', 'lucid', 'lucien', 'lucif', 'lucill', 'lucin', 'lucinda', 'luck', 'luckenbach', 'lucki', 'luckiest', 'luckili', 'luckless', 'luda', 'ludacri', 'lude', 'ludicr', 'ludwig', 'lueder', 'luftballon', 'lug', 'luger', 'lugga', 'luggag', 'luggin', 'lugz', 'lujah', 'luka', 'luke', 'lukemia', 'lukewarm', 'lula', 'lull', 'lullabi', 'lullaby', 'lullay', 'lulli', 'lulu', 'lum', 'lumber', 'lumberjack', 'luminari', 'lumma', 'lump', 'lumpi', 'lumpsom', 'luna', 'lunaci', 'lunar', 'lunat', 'lunch', 'luncheon', 'lunchlin', 'lunchroom', 'lunchtim', 'lung', 'lupe', 'lurch', 'lure', 'luric', 'lurk', 'lurker', 'lurkin', 'luscious', 'lush', 'lust', 'luster', 'lusti', 'lustr', 'luther', 'luthor', 'luv', 'lux', 'luxembourg', 'luxuri', 'luz', 'luze', 'lv', 'lw', 'ly', 'lycanthropi', 'lye', 'lyft', 'lyin', 'lyle', 'lyman', 'lyn', 'lynch', 'lynn', 'lynx', 'lynyrd', 'lyric', 'lyricist', 'lyricon', 'lyserg', 'lyte', 'maagic', 'maam', 'mabel', 'mac', 'macallist', 'macarena', 'macaroni', 'macarthur', 'macauli', 'macdermot', 'mace', 'macheath', 'machet', 'machetti', 'machin', 'machineri', 'macho', 'macht', 'maci', 'mack', 'mackenzi', 'macki', 'mackin', 'mackinac', 'mackinest', 'macon', 'macosa', 'macrobiot', 'mad', 'madagascar', 'madam', 'madamori', 'madd', 'madden', 'madder', 'maddest', 'made', 'madelin', 'madelyn', 'mademoisell', 'madhous', 'madison', 'madman', 'madmen', 'madonna', 'madr', 'madrichalert', 'madrid', 'madrigon', 'madrox', 'mae', 'maelstrom', 'maestro', 'mafia', 'mafioso', 'mag', 'magazin', 'magdalena', 'mage', 'magenta', 'maggi', 'maggot', 'magi', 'magic', 'magician', 'magik', 'magil', 'magin', 'magistr', 'maglit', 'magnet', 'magnifi', 'magnific', 'magnifico', 'magnificqu', 'magnolia', 'magnum', 'mah', 'mahatma', 'mahi', 'mahor', 'mai', 'maid', 'maiden', 'mail', 'mailbox', 'mailer', 'mailman', 'mailtrain', 'maim', 'main', 'mainfram', 'maini', 'mainland', 'mainsail', 'mainstream', 'mainstreet', 'maintain', 'maison', 'maitai', 'majest', 'majesti', 'major', 'majorca', 'mak', 'makati', 'makav', 'make', 'maker', 'makeshift', 'maketh', 'makeup', 'maki', 'makin', 'makng', 'mal', 'maladi', 'maladjust', 'malais', 'malakit', 'malawi', 'malay', 'malaya', 'malaysia', 'malcolm', 'malcom', 'maldara', 'male', 'malenkov', 'malentendus', 'malevol', 'mali', 'malibu', 'malic', 'malici', 'malign', 'malik', 'mall', 'mallet', 'malley', 'mallori', 'malneck', 'malnourish', 'malo', 'malon', 'malt', 'malta', 'mam', 'mama', 'mamacita', 'mamba', 'mambo', 'mame', 'mami', 'mamma', 'mammal', 'mammi', 'man', 'manacl', 'manag', 'managin', 'manaja', 'manana', 'manate', 'manchurian', 'mandast', 'mandatori', 'mandela', 'manden', 'mandi', 'manditori', 'mandolin', 'mandolino', 'mandrak', 'mane', 'mang', 'manger', 'mangl', 'mango', 'manhandl', 'manhandlin', 'manhattan', 'manhol', 'manhood', 'manhunt', 'mania', 'maniac', 'manic', 'manicur', 'manifest', 'manifold', 'manilla', 'manipul', 'manish', 'mankind', 'mann', 'manna', 'mannequin', 'manner', 'manni', 'mannish', 'manola', 'manor', 'manowar', 'manpow', 'mansion', 'manson', 'mant', 'mantauk', 'mantel', 'mantelpiec', 'mantic', 'mantl', 'mantlepiec', 'mantovani', 'manu', 'manual', 'manufactur', 'manur', 'manuscript', 'manzana', 'maori', 'map', 'mapl', 'mar', 'maraca', 'marajuana', 'marathon', 'maraud', 'marbl', 'marc', 'march', 'marchin', 'marci', 'marcia', 'marciano', 'marco', 'marconi', 'marcus', 'mardi', 'mare', 'margaret', 'margarin', 'margarita', 'margaritavill', 'margi', 'margiela', 'margin', 'mari', 'maria', 'mariachi', 'mariah', 'marian', 'mariana', 'mariann', 'marigold', 'marijuana', 'marilyn', 'marin', 'marina', 'mario', 'marionett', 'mariot', 'maritim', 'marius', 'mark', 'markell', 'marker', 'market', 'marketplac', 'marki', 'marksman', 'marl', 'marlboro', 'marlen', 'marlena', 'marley', 'marlin', 'marlon', 'marmalad', 'maroon', 'marque', 'marquez', 'marqui', 'marrant', 'marri', 'marriag', 'marriott', 'marrow', 'marryin', 'marsh', 'marshal', 'marshmallow', 'mart', 'marteri', 'martha', 'marti', 'martial', 'martian', 'martika', 'martin', 'martini', 'martiniqu', 'martyr', 'martyrdom', 'marvel', 'marvin', 'marx', 'marxism', 'marxist', 'maryland', 'marylou', 'mas', 'mascara', 'mascot', 'masculin', 'mase', 'maserati', 'mash', 'mashin', 'mask', 'masochist', 'mason', 'masqu', 'masquarad', 'masquerad', 'mass', 'massa', 'massachuset', 'massachusett', 'massachut', 'massacr', 'massag', 'massiv', 'mast', 'master', 'mastercard', 'mastermind', 'masterof', 'masterpiec', 'masterplan', 'masturb', 'masu', 'mat', 'matador', 'matalla', 'matar', 'match', 'matchbook', 'matchbox', 'matchin', 'matchless', 'matchstick', 'mate', 'mater', 'materi', 'materialist', 'matern', 'math', 'mathemat', 'mathematician', 'mather', 'mathi', 'matic', 'matilda', 'matine', 'maton', 'matrimoni', 'matrix', 'matt', 'matta', 'mattah', 'mattawa', 'matter', 'matthew', 'matti', 'mattress', 'matur', 'maugham', 'mauh', 'maui', 'maulin', 'maupin', 'mauric', 'mauritania', 'mausoleum', 'maut', 'maven', 'maverick', 'maverix', 'maw', 'max', 'maxi', 'maxim', 'maxima', 'maximum', 'maxin', 'maxwel', 'may', 'maya', 'mayb', 'maybach', 'maybelin', 'maybellin', 'mayberri', 'maybro', 'mayday', 'mayer', 'mayfair', 'mayfield', 'mayflow', 'mayhem', 'mayn', 'mayo', 'mayor', 'mayweath', 'mazanec', 'mazda', 'maze', 'mazzi', 'mba', 'mbazan', 'mc', 'mca', 'mccann', 'mccarthi', 'mccartney', 'mcclarkson', 'mccord', 'mccoy', 'mccree', 'mcdaniel', 'mcdonald', 'mceein', 'mcenro', 'mcfee', 'mcgee', 'mcghee', 'mcgoveren', 'mcgovern', 'mcgradi', 'mcgrane', 'mcgraw', 'mcgruff', 'mcguinn', 'mchugh', 'mcin', 'mcing', 'mckennitt', 'mckenzi', 'mclean', 'mcnabb', 'mcqueen', 'mcrae', 'mcrea', 'mcs', 'mcswiggin', 'mctell', 'mcvie', 'md', 'mdown', 'mea', 'meabi', 'meadow', 'meadowlark', 'meager', 'meak', 'meal', 'mean', 'meander', 'meanderin', 'meaner', 'meanest', 'meanin', 'meaning', 'meaningless', 'meant', 'mear', 'measl', 'measur', 'meat', 'meatbal', 'meati', 'mecca', 'mechan', 'mechandis', 'med', 'medal', 'medallion', 'meddl', 'medgar', 'media', 'median', 'mediat', 'medic', 'medicin', 'mediev', 'medina', 'mediocr', 'medit', 'mediterranean', 'medium', 'medley', 'medo', 'medusa', 'mee', 'meech', 'meed', 'meee', 'meeee', 'meek', 'meen', 'meeni', 'meet', 'meetin', 'meetth', 'mega', 'megadeth', 'megalon', 'megaphon', 'megaton', 'meh', 'mei', 'mein', 'mejor', 'mek', 'mekhi', 'mel', 'melancholi', 'melancolia', 'melanin', 'meld', 'mele', 'meleodi', 'meleon', 'melinda', 'melissa', 'melli', 'mello', 'mellow', 'melodi', 'melodrama', 'melodramat', 'melon', 'melow', 'melros', 'melt', 'meltdown', 'melvin', 'mem', 'member', 'membership', 'membran', 'meme', 'memo', 'memoir', 'memor', 'memorex', 'memori', 'memoria', 'memoris', 'memorium', 'memorizin', 'memphi', 'men', 'menac', 'menag', 'mend', 'mendel', 'mendin', 'mendl', 'mendocino', 'menganito', 'mennil', 'meno', 'menstrual', 'menstruat', 'ment', 'mental', 'mention', 'mentionin', 'mentirosa', 'mentor', 'mentuin', 'menu', 'meow', 'mephisto', 'mephistophel', 'merced', 'mercedez', 'mercenari', 'mercer', 'merch', 'merchandis', 'merchant', 'merci', 'merciless', 'mercuri', 'mere', 'merengu', 'merezco', 'merg', 'mergulhar', 'meridien', 'merk', 'merl', 'merlin', 'merlot', 'mermaid', 'merri', 'merrick', 'merrili', 'merriment', 'merther', 'mes', 'mesaag', 'mescal', 'mescalin', 'mesh', 'meshach', 'mesmer', 'mesmeris', 'mesquit', 'mess', 'messag', 'messeng', 'messi', 'messiah', 'messin', 'met', 'metal', 'metalfac', 'metamorph', 'metamorphosi', 'metaphor', 'metaphys', 'meteor', 'meteorit', 'meter', 'meth', 'metha', 'methadon', 'methedrin', 'method', 'methodist', 'methus', 'methusaleh', 'metro', 'metronom', 'metropoli', 'metropolitician', 'meu', 'mewh', 'mexi', 'mexican', 'mexicano', 'mexico', 'meyer', 'mezmer', 'mezzanin', 'mf', 'mh', 'mhm', 'mhmm', 'mi', 'mia', 'miami', 'mic', 'micanopi', 'micaroni', 'mice', 'michael', 'micheal', 'michel', 'michelangelo', 'michell', 'michigan', 'mick', 'mickey', 'micki', 'micro', 'microbus', 'microchip', 'microcosm', 'micromoog', 'microphon', 'microscop', 'microsoft', 'microwav', 'mid', 'mida', 'midday', 'middl', 'middleman', 'middlesex', 'middleweight', 'midget', 'midlif', 'midnight', 'midnit', 'midol', 'midst', 'midstream', 'midsumm', 'midsummernight', 'midway', 'midwest', 'midwestern', 'midwint', 'miedo', 'mif', 'migga', 'miggida', 'might', 'mighta', 'mighti', 'mignon', 'migo', 'migrain', 'migrat', 'miguel', 'mike', 'mikey', 'mil', 'mila', 'mild', 'mildenhal', 'mildew', 'mile', 'mileag', 'milenko', 'mileston', 'miley', 'milian', 'milit', 'militari', 'militia', 'milk', 'milkbon', 'milkbox', 'milki', 'milkin', 'milkman', 'milktruck', 'mill', 'millaj', 'millenium', 'millennium', 'miller', 'milli', 'millimet', 'millin', 'million', 'millionair', 'millionar', 'millon', 'millwalke', 'millwork', 'millz', 'millzovin', 'milo', 'milsap', 'milwauke', 'milzetti', 'milzov', 'mime', 'mimi', 'mimic', 'mimick', 'minah', 'minaj', 'minaret', 'minc', 'mind', 'mindin', 'mindless', 'mindset', 'mine', 'minefield', 'miner', 'miney', 'mingl', 'minglin', 'minh', 'minha', 'mini', 'minibar', 'minim', 'minimum', 'minion', 'miniskirt', 'minist', 'ministri', 'minivan', 'mink', 'minneapoli', 'minnesota', 'minni', 'minnow', 'minor', 'minsk', 'minstrel', 'mint', 'minti', 'minut', 'minutemen', 'mio', 'mir', 'mira', 'miracl', 'miracul', 'mirag', 'miram', 'miran', 'miranda', 'mire', 'mirror', 'mirrorin', 'mis', 'misadventur', 'misanthrop', 'misbehav', 'misbehavin', 'miscalcul', 'miscellan', 'mischief', 'miscommun', 'misconceiv', 'misconcept', 'misconstru', 'miscount', 'misdemeanor', 'miser', 'miseri', 'misfit', 'misfortun', 'misgiven', 'misguid', 'mishap', 'misheard', 'misinform', 'misinterpret', 'misl', 'mislead', 'misogynist', 'misplac', 'misplay', 'misprint', 'misquet', 'misread', 'miss', 'missi', 'missil', 'missin', 'mission', 'missionari', 'mississip', 'mississippi', 'missl', 'missou', 'missoula', 'missour', 'missouri', 'misspent', 'misspoken', 'missus', 'mist', 'mista', 'mistabobdobalina', 'mistadobalina', 'mistak', 'mistaken', 'mistakin', 'mistament', 'mistelto', 'mister', 'misteri', 'misti', 'mistik', 'mistleto', 'mistook', 'mistreat', 'mistreatin', 'mistress', 'mistrust', 'misunderstand', 'misunderstood', 'misus', 'mitch', 'mitchel', 'mite', 'miti', 'mitt', 'mitten', 'mitzeri', 'mix', 'mixer', 'mixin', 'mixtap', 'mixtur', 'mixx', 'mizz', 'mizzov', 'mj', 'mjg', 'mmhhmmm', 'mmhmm', 'mmhmmm', 'mmmh', 'mmmhmm', 'mmmhmmm', 'mmmmhhh', 'mmmmmmh', 'mmmmmmm', 'mmmmmmmm', 'moan', 'moanin', 'moat', 'moax', 'mob', 'mobb', 'mobbin', 'mobi', 'mobil', 'mobill', 'mobli', 'mobster', 'mocca', 'moccasin', 'mocha', 'mock', 'mockeri', 'mockin', 'mockingbird', 'mod', 'mode', 'model', 'modelin', 'modem', 'moder', 'modern', 'modest', 'modesti', 'modifi', 'modul', 'modular', 'modulist', 'moe', 'moet', 'mofo', 'mogul', 'mohair', 'mohammad', 'mohita', 'moi', 'moin', 'moist', 'moistur', 'moja', 'mojica', 'mojo', 'moladh', 'molasi', 'molass', 'mold', 'moldi', 'mole', 'molecul', 'molest', 'moli', 'molin', 'molina', 'molli', 'molotov', 'molten', 'mom', 'moma', 'moment', 'momentari', 'momentarili', 'momento', 'momentocom', 'momentsi', 'momentum', 'momma', 'momment', 'mommi', 'mon', 'mona', 'monaco', 'monarch', 'monch', 'moncler', 'mond', 'monday', 'mondeo', 'mondo', 'monetari', 'money', 'moneygrip', 'moneyman', 'moneywis', 'mongolia', 'mongolian', 'mongoloid', 'mongoos', 'mongrel', 'moni', 'monica', 'monifah', 'monik', 'monitor', 'monk', 'monkey', 'monkeyin', 'monkeyshin', 'mono', 'monodi', 'monogram', 'monologu', 'monopoli', 'monoton', 'monotoni', 'monoxid', 'monro', 'monserat', 'monsieur', 'monsoon', 'monsta', 'monster', 'monstros', 'monstrous', 'mont', 'monta', 'montag', 'montagu', 'montana', 'montanna', 'montaro', 'montego', 'monterey', 'montero', 'montgomeri', 'month', 'monthend', 'monti', 'montmartr', 'montreal', 'montreux', 'monument', 'moo', 'moocher', 'mood', 'moodi', 'moog', 'mook', 'moola', 'moolah', 'moon', 'moonbeam', 'moonglow', 'moonless', 'moonlight', 'moonlit', 'moonrock', 'moonshin', 'moonshot', 'moonssinc', 'moonston', 'moonstop', 'moonwalk', 'mooorn', 'moor', 'moos', 'moot', 'moovi', 'mop', 'mope', 'moptop', 'morain', 'moral', 'moray', 'morbid', 'more', 'moreabl', 'morel', 'morena', 'morenito', 'morgan', 'morgantown', 'morgu', 'morhpin', 'morin', 'morir', 'mormon', 'morn', 'mornian', 'mornig', 'mornin', 'morningsid', 'moro', 'morocco', 'moron', 'moroni', 'moros', 'morotcycl', 'morph', 'morpheus', 'morphin', 'morri', 'morrison', 'mors', 'mort', 'mortal', 'mortar', 'mortem', 'mortgag', 'mos', 'moscato', 'moschato', 'moscow', 'mose', 'mosh', 'moshpit', 'moskva', 'mosquito', 'moss', 'mot', 'mote', 'motel', 'moth', 'motha', 'mothaf', 'mothafuck', 'mothafucka', 'mothafuckin', 'mother', 'motherf', 'motherfkin', 'motherfuck', 'motherfucka', 'motherfuckin', 'motherhood', 'motherland', 'motherless', 'mothermoth', 'mothership', 'motion', 'motionless', 'motiv', 'motivatin', 'motor', 'motorbik', 'motorboatin', 'motorcad', 'motorci', 'motorcycl', 'motorhom', 'motorola', 'motorway', 'motown', 'motownphilli', 'motrin', 'mott', 'motto', 'mould', 'moulderin', 'mount', 'mountain', 'mountainsid', 'mountaintop', 'mountian', 'mourir', 'mourn', 'mourner', 'mournin', 'mous', 'mousetrap', 'mouss', 'moustach', 'moutain', 'mouth', 'mouthfuck', 'mouthin', 'mouthpiec', 'mouthwash', 'move', 'movement', 'mover', 'movi', 'movida', 'moviestar', 'movin', 'mow', 'mower', 'mowin', 'mown', 'mozambiqu', 'mozart', 'mozoltov', 'mozzarella', 'mp', 'mpb', 'mplay', 'ms', 'msayin', 'mt', 'mtv', 'mu', 'mucci', 'muchacha', 'mucho', 'muck', 'muckale', 'mud', 'muddi', 'muddin', 'muddl', 'mudhol', 'mudhut', 'mudpack', 'mudshovel', 'mudslid', 'muera', 'muerto', 'muezzin', 'mufasa', 'muff', 'muffin', 'muffl', 'muffler', 'mug', 'mugg', 'muggi', 'muggin', 'mugsi', 'muh', 'muhammad', 'muhfucka', 'muhlenberg', 'muid', 'mujer', 'mujhko', 'mula', 'mulah', 'mulatto', 'mulberri', 'mule', 'muliani', 'mull', 'muller', 'mullet', 'mulligan', 'multi', 'multicolor', 'multipl', 'multipli', 'multitud', 'mum', 'mumbl', 'mumblin', 'mumbo', 'mummi', 'mummifi', 'mump', 'munchhausen', 'munchi', 'munchin', 'munci', 'mundan', 'mundi', 'munna', 'munsey', 'munster', 'mur', 'murcielago', 'murda', 'murder', 'murdergram', 'murderin', 'muriel', 'murk', 'murki', 'murkin', 'murmur', 'murphi', 'murray', 'mus', 'muscadin', 'muscl', 'musclebound', 'muse', 'museum', 'mush', 'mushoom', 'mushroom', 'music', 'musician', 'musik', 'musk', 'musket', 'muskoge', 'muskrat', 'muslim', 'muss', 'mussel', 'mussin', 'mussolini', 'musta', 'mustach', 'mustang', 'mustard', 'musti', 'muswellbrook', 'mutant', 'mutat', 'mute', 'mutha', 'muthaf', 'muthafuck', 'muthafucka', 'muthafuckin', 'muthafukkaz', 'muthaphucka', 'muthaphuckkin', 'muthaphukkin', 'muther', 'mutherfuck', 'mutherfucka', 'mutherfuckin', 'muthfuck', 'mutil', 'mutin', 'mutini', 'mutt', 'mutter', 'muttley', 'mutton', 'mutual', 'muy', 'muzak', 'muzzl', 'mvp', 'mwah', 'myer', 'myi', 'mykko', 'myriad', 'myron', 'myrrh', 'myrtl', 'mysogynist', 'myst', 'mysteri', 'mystic', 'mystifi', 'mystik', 'mystiqu', 'myt', 'myth', 'mythic', 'mytholog', 'myx', 'myyi', 'naa', 'nabisco', 'nabokov', 'nac', 'nacho', 'nack', 'nada', 'nadi', 'nadonna', 'nag', 'nage', 'naggin', 'nagodoch', 'nah', 'nahh', 'nahhh', 'nail', 'naiv', 'naivet', 'naiveti', 'nake', 'nal', 'nalga', 'nall', 'nam', 'name', 'nameless', 'namepl', 'namhlang', 'namibia', 'nan', 'nana', 'nanaaaanan', 'nanana', 'nananana', 'nanananana', 'nananananana', 'nanci', 'nani', 'nann', 'nanni', 'nanook', 'nantucket', 'naomi', 'nap', 'napalm', 'napkin', 'napolean', 'napoleon', 'napoli', 'nappi', 'nappin', 'nar', 'narc', 'narcissist', 'narco', 'narrat', 'narrow', 'nas', 'nasa', 'nasal', 'nascar', 'nasdaq', 'nash', 'nashi', 'nashvill', 'nassau', 'nasser', 'nassswipp', 'nasti', 'nastier', 'nastiest', 'nat', 'natal', 'natali', 'natchez', 'nate', 'nathan', 'natin', 'nation', 'nationwid', 'nativ', 'natti', 'natum', 'natur', 'natura', 'naught', 'naughti', 'naughtier', 'naus', 'nauseat', 'nauseous', 'nauseum', 'nautic', 'nautica', 'navajo', 'navel', 'navi', 'navidad', 'navig', 'naw', 'nawshi', 'naysay', 'nazareth', 'nazi', 'nba', 'nbc', 'nc', 'ndeor', 'ndome', 'ne', 'neal', 'neamh', 'near', 'nearbi', 'nearer', 'nearest', 'nearin', 'neat', 'neatand', 'neath', 'neato', 'nebraska', 'nebula', 'necesito', 'necess', 'neck', 'necklac', 'neckti', 'necrophiliac', 'nectar', 'ned', 'neden', 'nee', 'need', 'needa', 'needcha', 'needi', 'needin', 'needl', 'needlenos', 'needless', 'neeni', 'neer', 'nefert', 'negat', 'neglect', 'neglige', 'negril', 'negro', 'negroni', 'neh', 'nei', 'neigborhood', 'neigh', 'neighbor', 'neighborhood', 'neighborin', 'neighbour', 'neighbourhood', 'neil', 'neill', 'neiman', 'nekkid', 'nell', 'nelli', 'nellow', 'nellyvill', 'nelson', 'nemesi', 'nemo', 'nena', 'neo', 'neon', 'nepal', 'nepales', 'nephew', 'nepotist', 'neptun', 'ner', 'nerd', 'nerdi', 'nero', 'nerv', 'nervous', 'ness', 'nessa', 'nest', 'nestl', 'nestler', 'net', 'netflix', 'netherland', 'network', 'neuf', 'neurot', 'neuter', 'neutral', 'neutron', 'neva', 'nevada', 'nevah', 'neval', 'neve', 'neverend', 'nevermind', 'nevermor', 'new', 'newberri', 'newbird', 'newborn', 'newcastl', 'newcom', 'newer', 'newest', 'newfound', 'newli', 'newman', 'newport', 'news', 'newsman', 'newsmen', 'newspap', 'newsroom', 'newsstand', 'newsweek', 'newt', 'newton', 'nextel', 'nexus', 'ney', 'nf', 'nfl', 'ng', 'nga', 'ngati', 'ngaz', 'nge', 'ni', 'niag', 'niagara', 'niagra', 'niama', 'nibbl', 'nibblin', 'nic', 'nicaragua', 'nice', 'nicer', 'nicest', 'nich', 'nichol', 'nichola', 'nick', 'nickajack', 'nickel', 'nicki', 'nickl', 'nicknam', 'nicodemus', 'nicol', 'nicola', 'nicolai', 'nicorett', 'nicotin', 'niec', 'nifti', 'nig', 'nigel', 'niger', 'nigeria', 'nigerian', 'nigga', 'niggavill', 'niggaz', 'nigger', 'nigh', 'night', 'nightbird', 'nightclub', 'nightcom', 'nighter', 'nightfal', 'nightgown', 'nighti', 'nightim', 'nightingal', 'nightlif', 'nightlight', 'nightm', 'nightmar', 'nightshift', 'nightshirt', 'nightspot', 'nightstand', 'nightstick', 'nighttim', 'nightwatchman', 'nihil', 'nike', 'nikita', 'nikki', 'niko', 'nikon', 'nil', 'nile', 'nilli', 'nilsson', 'nimbl', 'nimoy', 'nin', 'nina', 'nincompoop', 'nine', 'nineteen', 'nineti', 'ning', 'nini', 'ninightmar', 'ninja', 'nink', 'nino', 'nintendo', 'ninth', 'nioj', 'nip', 'nippin', 'nippl', 'nirvana', 'nishia', 'nit', 'nitch', 'nite', 'nitro', 'nitroglycerin', 'nitrous', 'nitt', 'nitti', 'nitwit', 'nix', 'nixon', 'nizzl', 'nizzo', 'nizzow', 'nj', 'nk', 'nli', 'nnn', 'nnnn', 'noa', 'noah', 'nobel', 'nobl', 'noblest', 'nobodi', 'noboy', 'nobu', 'noch', 'nocturn', 'nod', 'noddin', 'noel', 'noell', 'noggin', 'noh', 'noho', 'nohow', 'noid', 'nois', 'noiseless', 'noisi', 'noit', 'noiz', 'nokio', 'nolia', 'nom', 'nomad', 'noman', 'nombr', 'nome', 'nomin', 'nomine', 'nomor', 'nona', 'nonbeliev', 'nonchal', 'nonev', 'nonsens', 'nonstop', 'noo', 'noodl', 'nook', 'nooki', 'noon', 'noonday', 'noontim', 'nooo', 'noooo', 'nooooo', 'noooooooooaaaaaaahhhaaawwwww', 'nooooow', 'noop', 'noos', 'nope', 'norepinephrin', 'norfolk', 'norfsid', 'noriega', 'norm', 'norma', 'normal', 'norman', 'norri', 'north', 'northeast', 'norther', 'northern', 'northsid', 'northwest', 'norton', 'norway', 'norwegian', 'nose', 'noseble', 'nosi', 'nosier', 'nosotro', 'nost', 'nostalg', 'nostalgia', 'nostril', 'nostro', 'not', 'notch', 'note', 'notebook', 'noth', 'nother', 'nothern', 'nothin', 'nothing', 'nothn', 'notic', 'notifi', 'notion', 'notis', 'notori', 'notorieti', 'notr', 'nough', 'noun', 'nourish', 'nous', 'nova', 'novacain', 'novacan', 'novada', 'novarra', 'novel', 'novelist', 'novelti', 'novemb', 'novic', 'novocain', 'novorossiysk', 'now', 'nowaday', 'nowher', 'nowww', 'noyd', 'nozzl', 'nra', 'nrut', 'nside', 'nsync', 'nt', 'nu', 'nuag', 'nub', 'nube', 'nuc', 'nucca', 'nuck', 'nuclear', 'nude', 'nudi', 'nudist', 'nuevo', 'nuff', 'nugent', 'nugget', 'nuh', 'nuisanc', 'nuit', 'nuke', 'null', 'nullifi', 'num', 'numb', 'numba', 'number', 'numberless', 'numer', 'numero', 'nun', 'nunn', 'nuov', 'nup', 'nupi', 'nurs', 'nurseri', 'nurtur', 'nut', 'nutbush', 'nuthin', 'nutin', 'nutsack', 'nutt', 'nutthowz', 'nutti', 'nuttier', 'nuttiest', 'nuttin', 'nuven', 'nwod', 'ny', 'nyah', 'nyam', 'nylon', 'nymph', 'nympho', 'nyquil', 'oa', 'oah', 'oahu', 'oak', 'oaken', 'oakland', 'oaktown', 'oar', 'oasi', 'oat', 'oath', 'oatmeal', 'ob', 'obama', 'obedi', 'oberheim', 'oberman', 'obey', 'obi', 'obituari', 'object', 'oblig', 'obligatori', 'obliter', 'oblivi', 'oblivion', 'oblong', 'obnoxi', 'obscen', 'obscur', 'observ', 'obsess', 'obsessin', 'obsidian', 'obsolet', 'obstacl', 'obvious', 'ocala', 'ocarina', 'occapella', 'occas', 'occasion', 'occup', 'occupi', 'occur', 'ocean', 'oceanlin', 'ocho', 'oclock', 'ocrit', 'octagon', 'octav', 'octob', 'octopus', 'od', 'odd', 'odditi', 'oder', 'odin', 'odomet', 'odor', 'odyssey', 'oe', 'oedipus', 'oel', 'oeuvr', 'ofcours', 'off', 'offa', 'offenc', 'offend', 'offens', 'offer', 'offerin', 'offic', 'offici', 'offish', 'offlin', 'offmi', 'offshor', 'offspr', 'offstag', 'oft', 'often', 'oftentim', 'ofth', 'og', 'ogc', 'ogt', 'oh', 'oha', 'ohh', 'ohhh', 'ohhhh', 'ohhhhh', 'ohhhhhh', 'ohhhhhhh', 'ohhhhhhhhhhhhhhhh', 'ohhhouu', 'ohio', 'ohm', 'oho', 'ohoh', 'ohoho', 'ohohoh', 'ohohoho', 'ohohohohohohoho', 'ohohohwhoaha', 'ohoohohoo', 'ohoohooo', 'ohooo', 'ohooohoo', 'ohsom', 'ohth', 'ohyea', 'ohyou', 'oi', 'oil', 'oili', 'oin', 'oiver', 'oj', 'ojo', 'oke', 'okeechobe', 'okey', 'okhala', 'oki', 'oklahoma', 'okolona', 'okra', 'ol', 'ola', 'olajuwan', 'olajuwon', 'old', 'olden', 'older', 'oldest', 'oldfriend', 'oldi', 'oldsmobil', 'oldtim', 'ole', 'oleand', 'oli', 'oliv', 'olivia', 'oll', 'olli', 'olog', 'olsen', 'olson', 'olymp', 'olympus', 'om', 'omaha', 'oman', 'ombabika', 'ome', 'omega', 'omelett', 'omen', 'omin', 'omnem', 'omnibus', 'omnipot', 'omsk', 'on', 'ona', 'onassi', 'onboard', 'oncom', 'one', 'onecould', 'oneself', 'onesom', 'oneth', 'onetta', 'ong', 'oni', 'onika', 'onion', 'onli', 'onliest', 'onlin', 'onlitalk', 'only', 'onna', 'ono', 'onscreen', 'ont', 'onward', 'onyourself', 'onyx', 'ooaaahhh', 'oodl', 'ooee', 'oof', 'oogi', 'oogum', 'oohhhhh', 'oohhoo', 'oohhoohahahahahahahahahaha', 'oohoh', 'oohoo', 'oohooh', 'oohooo', 'oohoooho', 'oohoooo', 'ool', 'ooo', 'oooh', 'ooohhh', 'ooohhhh', 'ooohhoooh', 'ooohoo', 'ooohooh', 'ooohooohooo', 'oooohh', 'oooohhh', 'oooohhhh', 'oooohhhohhhhhh', 'ooooho', 'oooohoo', 'oooohoooooohhoooooooohhh', 'ooooohh', 'ooooohhhhhh', 'ooooohhhoohhhhooh', 'oooool', 'ooooonc', 'oooooohhh', 'oooooohooooooh', 'ooooooo', 'oooooooh', 'ooooooohhh', 'oooooooo', 'ooooooooh', 'ooooooooo', 'oooooooooh', 'oooooooooo', 'ooooooooooh', 'oooooooooohhhhhhhhh', 'ooooooooooo', 'oooooooooooh', 'oooooooooooo', 'ooooooooooooh', 'ooooooooooooo', 'ooooooooooooooh', 'oooooooooooooooh', 'oooooooooooooooo', 'oooooown', 'ooooww', 'ooow', 'ooowe', 'ooowoooo', 'oop', 'oopla', 'oopsi', 'oorrr', 'oorrre', 'oot', 'oou', 'oouu', 'oow', 'oowah', 'oowe', 'oowhe', 'oowop', 'ooww', 'ooz', 'oozin', 'op', 'opelika', 'open', 'openheart', 'openin', 'oper', 'opera', 'operat', 'opey', 'ophelia', 'opinion', 'opium', 'oportunidad', 'opp', 'oppon', 'opportun', 'opportunist', 'oppos', 'opposit', 'oppress', 'oppressor', 'oprah', 'opri', 'opt', 'optic', 'optim', 'optimist', 'optimo', 'option', 'or', 'ora', 'oral', 'orang', 'orangi', 'oratori', 'orbit', 'orchestr', 'orchestra', 'orchid', 'ordain', 'ordeal', 'order', 'orderd', 'orderin', 'ordinari', 'ore', 'oregano', 'oregon', 'oreida', 'oreo', 'oreol', 'orflay', 'organ', 'organis', 'orgasm', 'orgi', 'orgin', 'ori', 'orient', 'orific', 'origami', 'origin', 'originoo', 'orinoco', 'oriol', 'orion', 'orita', 'orlean', 'ornament', 'orneri', 'orniest', 'oro', 'orphan', 'orphanag', 'orpheus', 'orrrrr', 'orrrrrhhharhhhhhh', 'orvill', 'os', 'oscar', 'osceola', 'oscil', 'oscul', 'oskaloosa', 'ost', 'ostrich', 'ot', 'otel', 'othello', 'othersid', 'oti', 'otra', 'otro', 'ottawa', 'otter', 'otto', 'ottoman', 'ou', 'oublier', 'ouch', 'oue', 'oufit', 'ough', 'oughta', 'oughter', 'oughtta', 'ouh', 'ouhhh', 'oui', 'oula', 'ounc', 'ound', 'ourdict', 'ourself', 'oursevl', 'ourto', 'out', 'outa', 'outback', 'outcast', 'outcom', 'outdat', 'outdo', 'outdon', 'outdoor', 'outdrew', 'outer', 'outerspac', 'outfit', 'outgoin', 'outgrow', 'outguess', 'outhous', 'outi', 'outing', 'outkast', 'outlast', 'outlastin', 'outlaw', 'outlawz', 'outlet', 'outlin', 'outliv', 'outlook', 'outloud', 'outnumb', 'outplay', 'outrag', 'outro', 'outrun', 'outshin', 'outsid', 'outsidaz', 'outskirt', 'outsmart', 'outsold', 'outspoken', 'outstand', 'outstandin', 'outstretch', 'outta', 'outti', 'outward', 'outway', 'outweigh', 'outworn', 'outwrit', 'ouuu', 'ov', 'ova', 'ovah', 'ovahtim', 'oval', 'ovaltin', 'ovari', 'ovat', 'ove', 'oven', 'over', 'overachiev', 'overal', 'overanalyz', 'overbear', 'overboard', 'overcast', 'overcharg', 'overcoat', 'overcom', 'overcrowd', 'overcrowdin', 'overdid', 'overdos', 'overdr', 'overdrawn', 'overdu', 'overf', 'overfil', 'overflood', 'overflow', 'overflowin', 'overground', 'overhaul', 'overhead', 'overhear', 'overheard', 'overjoy', 'overjoyedthey', 'overkil', 'overland', 'overlaughin', 'overload', 'overlook', 'overlooken', 'overlord', 'overnight', 'overpass', 'overpow', 'overpowerin', 'overproof', 'overprotect', 'overr', 'overreact', 'overrun', 'overs', 'overse', 'oversea', 'oversex', 'overshadow', 'overstimul', 'overstuf', 'overtak', 'overtaken', 'overth', 'overthink', 'overthrew', 'overthrow', 'overthrown', 'overtim', 'overtook', 'overtur', 'overturn', 'overus', 'overweight', 'overwhelm', 'overzeal', 'ovul', 'ow', 'owe', 'owen', 'owh', 'owl', 'own', 'owner', 'ownership', 'ownin', 'owt', 'oww', 'owww', 'owwww', 'owwwwt', 'owwwww', 'ox', 'oxen', 'oxford', 'oxi', 'oxicotin', 'oxid', 'oxifacen', 'oxygen', 'oy', 'oye', 'oyl', 'oyster', 'oyu', 'oyyy', 'oz', 'ozon', 'ozzi', 'pa', 'pablo', 'pac', 'pace', 'pacer', 'pacewon', 'pacif', 'pacifi', 'pacin', 'pacino', 'pack', 'packag', 'packer', 'packet', 'packin', 'packinest', 'packingham', 'packit', 'packrol', 'pacman', 'pact', 'pad', 'paddi', 'paddl', 'paddywac', 'paddywack', 'paddywagon', 'padilla', 'padlock', 'padr', 'pagan', 'page', 'pageant', 'pager', 'pagin', 'pagoda', 'pahu', 'paid', 'paie', 'pail', 'pain', 'painkil', 'painless', 'paint', 'painter', 'paintin', 'pair', 'paisano', 'paisley', 'pajama', 'pajarna', 'pak', 'pakalolo', 'pakistan', 'pal', 'palac', 'paladium', 'palai', 'palau', 'pale', 'palestin', 'palett', 'pall', 'palladin', 'pallbear', 'pallet', 'palm', 'palmetto', 'palmtre', 'palo', 'paloma', 'palpit', 'palpitain', 'pam', 'pamela', 'pamona', 'pamper', 'pan', 'panama', 'panamanian', 'panana', 'pancak', 'panda', 'pandemonium', 'pander', 'pandora', 'pane', 'panel', 'panelin', 'pang', 'panhandl', 'panic', 'panick', 'panki', 'pankow', 'panmunjom', 'panocha', 'panochita', 'panoram', 'panorama', 'pansi', 'pant', 'panther', 'panti', 'pantomim', 'pantyhos', 'pantylin', 'pap', 'papa', 'papadeaux', 'paparazzi', 'pape', 'paper', 'paperback', 'paperboy', 'paperwork', 'papi', 'papichulo', 'papoos', 'pappa', 'pappi', 'papso', 'par', 'para', 'parabl', 'parachut', 'parad', 'paradin', 'paradis', 'paradox', 'paragraph', 'paraguay', 'parakeet', 'parallel', 'paralys', 'paralysi', 'paralyt', 'paralyz', 'paramed', 'parameter', 'paramount', 'paranoia', 'paranoid', 'parapleg', 'parasit', 'parat', 'paray', 'parazzi', 'parcel', 'parch', 'parchman', 'parchment', 'pardi', 'pardner', 'pardon', 'pardox', 'pare', 'parent', 'parenthes', 'parenthet', 'parfoi', 'parfum', 'pari', 'pariah', 'parico', 'parish', 'park', 'parkay', 'parker', 'parkersburg', 'parkin', 'parkinson', 'parkland', 'parksid', 'parkway', 'parlament', 'parlay', 'parley', 'parlez', 'parliament', 'parlor', 'parlour', 'parman', 'parmesian', 'parol', 'parole', 'paronam', 'parri', 'parrish', 'parrot', 'parsley', 'parson', 'part', 'partak', 'parti', 'partial', 'particip', 'participl', 'particl', 'partin', 'partir', 'partit', 'partment', 'partner', 'parton', 'partridg', 'partyin', 'partyman', 'pas', 'pasa', 'pasadena', 'pase', 'pash', 'paso', 'pasoolala', 'pass', 'passa', 'passag', 'passang', 'passeng', 'passer', 'passerbi', 'passin', 'passion', 'passiv', 'passport', 'passway', 'password', 'past', 'pastafazoola', 'pastel', 'pasternak', 'pastim', 'pastor', 'pastri', 'pastur', 'pat', 'pataki', 'patch', 'patcher', 'patchin', 'patchouli', 'patek', 'patent', 'pater', 'paterson', 'path', 'pathet', 'pathfind', 'patholog', 'pathway', 'patienc', 'patient', 'patio', 'pation', 'patna', 'patr', 'patricia', 'patricid', 'patrick', 'patriot', 'patrol', 'patron', 'patsi', 'patter', 'patterin', 'pattern', 'patterson', 'patti', 'pattin', 'pau', 'paul', 'paula', 'pauli', 'paulin', 'pauper', 'paus', 'pauvet', 'pave', 'pavement', 'pavilion', 'pavin', 'pavlov', 'paw', 'pawn', 'pawne', 'pawpaw', 'pay', 'payback', 'paycheck', 'payin', 'payload', 'payment', 'payn', 'payoff', 'payola', 'payphon', 'payrol', 'payton', 'pbb', 'pbr', 'pc', 'pcp', 'pd', 'pe', 'pea', 'peabodi', 'peac', 'peach', 'peachfuzz', 'peachi', 'peachtre', 'peacock', 'peak', 'peakin', 'peal', 'peanut', 'pear', 'pearc', 'pearl', 'peasant', 'peat', 'pebbl', 'pecan', 'peck', 'pecker', 'peckin', 'peco', 'peculair', 'peculiar', 'pedagogu', 'pedal', 'pedazito', 'peddl', 'peddler', 'pedel', 'pedest', 'pedestrian', 'pedicur', 'pedigre', 'pedo', 'pedophil', 'pedro', 'pee', 'peek', 'peekin', 'peel', 'peeler', 'peelin', 'peep', 'peeper', 'peepin', 'peer', 'peg', 'pegar', 'pegasus', 'peggi', 'peic', 'pekinges', 'pela', 'pele', 'pelham', 'pelican', 'pellet', 'pelo', 'pelt', 'pelvic', 'pen', 'penalti', 'penanc', 'penatentari', 'pencil', 'pend', 'pendulum', 'penetentiari', 'penetr', 'penguin', 'peni', 'penitentiari', 'penknif', 'penn', 'pennant', 'penni', 'pennington', 'pennsylvania', 'pennyroy', 'pennyweight', 'penqu', 'pensacola', 'pensalo', 'pensando', 'pensar', 'pension', 'pensiv', 'penso', 'pentagon', 'pentagram', 'pentecost', 'penthous', 'peopl', 'peoplei', 'peoria', 'pep', 'pepa', 'pepper', 'peppercorn', 'peppermint', 'pepperoni', 'pepperse', 'pepsi', 'pepsod', 'pepto', 'perc', 'percaset', 'perceiv', 'percent', 'percentag', 'percept', 'perch', 'perchanc', 'perci', 'percocet', 'percol', 'percuss', 'perdedor', 'perder', 'perdido', 'perdilla', 'perdit', 'perdona', 'perdu', 'pere', 'perez', 'perfect', 'perfectionist', 'perfer', 'perfidi', 'perfidia', 'perfor', 'perform', 'performin', 'perfum', 'perfus', 'perian', 'peridot', 'perignon', 'peril', 'peringnon', 'period', 'perish', 'periwinkl', 'perk', 'perki', 'perkin', 'perm', 'perma', 'perman', 'permeat', 'permiss', 'permit', 'pernium', 'pero', 'peron', 'peroxid', 'perp', 'perpendicular', 'perpertu', 'perpetr', 'perpetratin', 'perpetu', 'perpitr', 'perplex', 'perri', 'persecut', 'persecutor', 'persev', 'persever', 'persh', 'persian', 'persimmon', 'persist', 'person', 'persona', 'personifi', 'personnel', 'perspect', 'perspir', 'persu', 'persuad', 'persuas', 'pertain', 'peru', 'peruvian', 'perv', 'pervers', 'pervert', 'pervin', 'peso', 'pessimist', 'pestil', 'pet', 'peta', 'petal', 'petco', 'pete', 'peter', 'peterborough', 'petit', 'petrifi', 'petro', 'petroglyph', 'petrol', 'petropavlovsk', 'petti', 'petticoat', 'pettin', 'peur', 'peut', 'peux', 'pew', 'peyton', 'pez', 'pfeiffer', 'pffft', 'pfft', 'pg', 'pga', 'ph', 'phallic', 'phantasi', 'phantom', 'pharaoh', 'pharoah', 'pharrel', 'phase', 'phat', 'phatter', 'phatti', 'phd', 'pheasant', 'phelp', 'phemaldehyd', 'phenom', 'phenomenon', 'pheremon', 'phesto', 'phew', 'phi', 'phife', 'phifer', 'phil', 'philadelphia', 'philip', 'philipp', 'philippin', 'philistin', 'philladel', 'philli', 'phillip', 'phillipin', 'philo', 'philosoph', 'philosophi', 'philpot', 'phlegm', 'phoeb', 'phoenix', 'phone', 'phonebook', 'phonecal', 'phoney', 'phoni', 'phono', 'phonograph', 'phosphoresc', 'photo', 'photograph', 'photographi', 'phrase', 'phsychiatrist', 'phu', 'phunk', 'phunki', 'physic', 'physician', 'physiolog', 'physiologist', 'physiqu', 'pi', 'piaf', 'piano', 'piaster', 'pic', 'picadilli', 'picard', 'picasso', 'piccadilli', 'pick', 'pickax', 'picker', 'picket', 'pickett', 'picki', 'pickin', 'pickl', 'pickney', 'pickup', 'picnic', 'pictur', 'picturesqu', 'picturin', 'pidgeon', 'pie', 'piec', 'piedest', 'piel', 'pier', 'pierc', 'piercin', 'pierr', 'pig', 'pigappl', 'pigeon', 'pigeonhol', 'piger', 'pigfoot', 'piggi', 'pigskin', 'pigtail', 'pikachu', 'pilat', 'pile', 'piledriv', 'pileup', 'pilf', 'pilgrim', 'pilgrimag', 'pilin', 'pill', 'pillag', 'pillannot', 'pillar', 'pillow', 'pillowcas', 'pilot', 'pima', 'pimento', 'pimp', 'pimpin', 'pimpl', 'pin', 'pina', 'pinata', 'pinch', 'pinchin', 'pine', 'pineappl', 'pinewood', 'ping', 'pinhol', 'pinion', 'pink', 'pinkett', 'pinki', 'pinko', 'pinnacl', 'pinochio', 'pinot', 'pinpoint', 'pinsk', 'pinstrip', 'pint', 'pinter', 'pioneer', 'pious', 'piov', 'pip', 'pipe', 'pipelin', 'piper', 'pipin', 'pippen', 'pipperoo', 'pippin', 'piraci', 'piranha', 'pirat', 'pirelli', 'pirogu', 'pirouett', 'pirroni', 'piru', 'pisa', 'pisc', 'piss', 'pisser', 'pissi', 'pissin', 'pistol', 'pistola', 'piston', 'pit', 'pita', 'pitbul', 'pitch', 'pitcher', 'pitchfork', 'pitchin', 'pitfal', 'piti', 'pitiless', 'pitseleh', 'pitstop', 'pitt', 'pitta', 'pitter', 'pitterin', 'pitti', 'pittsburgh', 'pittsfield', 'pivot', 'pixel', 'pixi', 'pizazz', 'pizza', 'pizzazz', 'pj', 'pla', 'place', 'placenta', 'placid', 'placido', 'placin', 'placticaba', 'plager', 'plagiar', 'plagu', 'plaid', 'plain', 'plaintiv', 'plait', 'plan', 'plane', 'planet', 'plank', 'plankton', 'plannin', 'plant', 'plantat', 'plantin', 'plantiv', 'plasma', 'plaster', 'plastic', 'plasticin', 'plata', 'plate', 'plateau', 'platform', 'platinum', 'platium', 'platnuim', 'plato', 'platoon', 'platt', 'platter', 'platypus', 'plaus', 'play', 'playa', 'playboy', 'player', 'playground', 'playi', 'playin', 'playmat', 'playn', 'playoff', 'playroom', 'playstat', 'playth', 'playtim', 'ple', 'plea', 'plead', 'pleadin', 'pleae', 'pleas', 'pleasant', 'pleasec', 'pleaser', 'pleaseth', 'pleasin', 'pleasur', 'pleazin', 'plebeian', 'plebian', 'pledg', 'pleeas', 'pleeder', 'plees', 'pleeza', 'pleid', 'plein', 'plenti', 'pleura', 'pli', 'plier', 'plilzay', 'plink', 'plizzay', 'plizzayin', 'pllay', 'plonic', 'plot', 'plottin', 'plough', 'plow', 'plower', 'plowin', 'plowmen', 'plowshar', 'ploy', 'plu', 'pluck', 'pluckin', 'plug', 'plum', 'plumb', 'plumber', 'plumbin', 'plume', 'plummet', 'plump', 'plunder', 'plung', 'plush', 'pluss', 'pluto', 'plutocrat', 'plutonium', 'plymouth', 'plywood', 'pm', 'pmd', 'pms', 'pmsing', 'pnb', 'pneumonia', 'po', 'pocahanta', 'pocahonta', 'pock', 'pocket', 'pocketbook', 'poco', 'pocohanta', 'pocus', 'pod', 'podium', 'podr', 'poe', 'poem', 'poet', 'poetic', 'poetri', 'pogo', 'poi', 'poindext', 'point', 'pointer', 'pointi', 'pointin', 'pointless', 'pois', 'poison', 'poitier', 'pok', 'poke', 'poker', 'pokey', 'pokin', 'pokus', 'pol', 'poland', 'polar', 'polaroid', 'pole', 'poli', 'polic', 'policeman', 'policemen', 'polici', 'polish', 'polishin', 'polit', 'politician', 'politick', 'politickin', 'politik', 'politix', 'polk', 'polka', 'polli', 'pollin', 'pollut', 'pollutin', 'pollyanna', 'polo', 'polow', 'poltergeist', 'polyamor', 'polyamorus', 'polyest', 'polystyren', 'polyurethan', 'pom', 'pomethazin', 'pompadour', 'pompatus', 'pompom', 'pon', 'ponchartrain', 'poncho', 'pond', 'ponder', 'ponderin', 'poner', 'pong', 'pongo', 'poni', 'pont', 'pontchartrain', 'ponti', 'pontiac', 'pontoon', 'ponytail', 'poo', 'pooch', 'poodl', 'poof', 'pooh', 'pooki', 'pool', 'poolbutt', 'poolhal', 'poolroom', 'poolsid', 'poom', 'poon', 'poontang', 'pooooow', 'poop', 'pooper', 'poor', 'poorboy', 'poorer', 'poot', 'pop', 'popcorn', 'pope', 'popey', 'poplar', 'popo', 'popp', 'poppa', 'popper', 'poppi', 'poppin', 'popsicl', 'popstar', 'popul', 'populac', 'popular', 'popularest', 'por', 'porcelain', 'porch', 'porcupin', 'pore', 'porgi', 'pork', 'porn', 'porno', 'pornograph', 'pornographi', 'porous', 'porpois', 'porqu', 'porridg', 'porsch', 'porsh', 'port', 'portabl', 'portait', 'portal', 'porter', 'porterhous', 'portfolio', 'portion', 'portrait', 'portray', 'portug', 'portugues', 'pos', 'poscard', 'posdnous', 'pose', 'poseidon', 'poser', 'posess', 'posesss', 'poseur', 'posi', 'posin', 'posion', 'posit', 'positionin', 'poss', 'posse', 'posses', 'possess', 'possessin', 'possibl', 'possivelment', 'possum', 'post', 'postag', 'postah', 'postal', 'postcard', 'poster', 'posterchild', 'postin', 'postman', 'postur', 'pot', 'potahto', 'potato', 'potent', 'potenti', 'pothead', 'potion', 'potnah', 'pott', 'potter', 'potti', 'pou', 'pouca', 'pouch', 'poughkeepsi', 'poultri', 'pounc', 'pound', 'pounder', 'poundin', 'poupon', 'pour', 'pourin', 'pourquoi', 'pout', 'poverti', 'pow', 'powder', 'powel', 'power', 'powerbal', 'powerless', 'powerlin', 'powfu', 'pplayin', 'ppooki', 'pr', 'practic', 'practicin', 'practis', 'prada', 'prairi', 'prais', 'pranc', 'prancer', 'prancin', 'pranksta', 'prankster', 'pratt', 'prattl', 'pravda', 'prawl', 'pray', 'prayer', 'prayin', 'prays', 'pre', 'preach', 'preacher', 'preacherman', 'preachin', 'prearrang', 'precaut', 'precauti', 'precinct', 'preciosa', 'precious', 'precis', 'precoci', 'predat', 'predetermin', 'predict', 'preemi', 'preen', 'pref', 'prefac', 'prefer', 'pregnanc', 'pregnant', 'prego', 'prehistor', 'prejudic', 'preliminari', 'prelud', 'prematur', 'premedit', 'premier', 'premil', 'premis', 'premium', 'premonit', 'prenup', 'preoccupi', 'preocuparm', 'preocupo', 'preordain', 'prep', 'prepar', 'preparin', 'preppi', 'prerog', 'prescott', 'prescrib', 'prescript', 'presenc', 'present', 'preserv', 'presid', 'presidenti', 'presit', 'presley', 'press', 'pressin', 'pressur', 'presto', 'presum', 'pretend', 'pretendin', 'pretens', 'pretenti', 'pretext', 'pretti', 'prettier', 'prettiest', 'prettyboy', 'pretzel', 'prevail', 'prevent', 'preview', 'previous', 'prey', 'prez', 'pri', 'price', 'priceless', 'pricetag', 'pricey', 'prick', 'prickl', 'pride', 'priest', 'priestess', 'priesthood', 'prim', 'prima', 'primadonna', 'primal', 'primari', 'prime', 'primeco', 'primera', 'primetim', 'primev', 'primit', 'primo', 'princ', 'princess', 'princip', 'principl', 'pringl', 'print', 'printemp', 'printer', 'prioriti', 'pris', 'prism', 'prison', 'pristin', 'prithe', 'pritti', 'privaci', 'privat', 'privileg', 'prize', 'prizefight', 'pro', 'proababl', 'prob', 'probabl', 'probal', 'probali', 'probat', 'probe', 'problay', 'problem', 'problemo', 'probli', 'procc', 'proceed', 'process', 'proclaim', 'proclam', 'procrastin', 'prod', 'prodig', 'prodigi', 'produc', 'product', 'profan', 'profess', 'profession', 'professor', 'profil', 'profilin', 'profit', 'profound', 'profus', 'prognosi', 'program', 'progress', 'prohibit', 'project', 'projector', 'prokofiev', 'prolif', 'prolifer', 'prolli', 'prologu', 'prolong', 'prom', 'promenad', 'promethazin', 'prometo', 'promin', 'promis', 'promisc', 'promiscu', 'promiss', 'promo', 'promot', 'promotin', 'prompt', 'prone', 'pronounc', 'pronto', 'proof', 'prop', 'propa', 'propaganda', 'propan', 'propel', 'propellin', 'proper', 'properti', 'propheci', 'prophes', 'prophesi', 'prophet', 'prophylact', 'proport', 'propos', 'proposit', 'propper', 'proprieti', 'pros', 'prose', 'prosecutin', 'prosecutor', 'prospect', 'prosper', 'prosthet', 'prostitu', 'prostitut', 'prostrat', 'protect', 'protectin', 'protector', 'protein', 'protest', 'protocol', 'proton', 'prototyp', 'proud', 'proudest', 'prov', 'prove', 'proven', 'provid', 'provin', 'provis', 'provoc', 'provok', 'provokin', 'prowl', 'prowlin', 'prox', 'proxi', 'prozac', 'prude', 'prudenc', 'prudent', 'pruno', 'prussian', 'pryor', 'psalm', 'pscyhot', 'pseudo', 'pseudonym', 'psh', 'pshh', 'pssssh', 'psych', 'psychadel', 'psychedel', 'psychedelic', 'psychiatr', 'psychiatri', 'psychiatrist', 'psychic', 'psycho', 'psychoanalyz', 'psychohol', 'psycholog', 'psychopath', 'psychosoci', 'psychot', 'psycopath', 'ptas', 'pub', 'puba', 'public', 'publish', 'puccini', 'puck', 'pucker', 'pud', 'puddin', 'puddl', 'pudgi', 'pued', 'puedo', 'puerto', 'puf', 'puff', 'puffi', 'puffin', 'pug', 'puget', 'puh', 'pui', 'puke', 'pull', 'pullin', 'pulp', 'pulpi', 'pulpifi', 'puls', 'pulsat', 'pulsin', 'pulver', 'pum', 'puma', 'pump', 'pumpin', 'pumpkin', 'pun', 'punanni', 'punch', 'puncher', 'punchin', 'punchlin', 'puncho', 'punish', 'punk', 'puno', 'punt', 'puntia', 'pup', 'pupil', 'puppet', 'puppi', 'purchas', 'purdi', 'purdu', 'pure', 'purer', 'purest', 'purg', 'purgatori', 'purifi', 'puritan', 'puriti', 'puro', 'purp', 'purpl', 'purpos', 'purposeless', 'purr', 'purs', 'pursu', 'pursuadin', 'pursuin', 'pursuit', 'purtiest', 'purvi', 'puse', 'push', 'pusha', 'pushcart', 'pusher', 'pusherman', 'pushi', 'pushin', 'puss', 'pussi', 'pussycat', 'put', 'puta', 'puto', 'putta', 'putter', 'puttin', 'puzzl', 'pv', 'px', 'pxcoyo', 'pyajahma', 'pyjahma', 'pyjama', 'pylon', 'pymgi', 'pyramid', 'pyre', 'pyro', 'python', 'qatar', 'qbc', 'qbciti', 'qcd', 'qo', 'qu', 'quaalud', 'quack', 'quad', 'quado', 'quail', 'quaint', 'quak', 'quaker', 'qualif', 'qualifi', 'qualiti', 'quand', 'quando', 'quantiti', 'quarrel', 'quarrelin', 'quarri', 'quart', 'quarter', 'quarterback', 'quartet', 'quartsa', 'quartz', 'quayo', 'quaysid', 'quck', 'queen', 'queeni', 'queensbridg', 'queer', 'quel', 'quell', 'quench', 'quentin', 'queremo', 'queria', 'querida', 'querr', 'quesoria', 'quest', 'quester', 'question', 'questionin', 'queue', 'qui', 'quick', 'quickenin', 'quicker', 'quicksack', 'quicksand', 'quicksilv', 'quier', 'quiera', 'quiero', 'quiet', 'quieter', 'quietest', 'quiiso', 'quik', 'quill', 'quilt', 'quinoa', 'quir', 'quirki', 'quit', 'quiter', 'quiti', 'quitt', 'quitter', 'quittin', 'quiver', 'quixot', 'quiz', 'quizzier', 'quo', 'quot', 'quota', 'quotat', 'quotc', 'quotin', 'quran', 'ra', 'rab', 'rabbi', 'rabbit', 'rabbl', 'rabi', 'rabid', 'raccoon', 'race', 'racetrack', 'rachel', 'rachell', 'rachet', 'racial', 'racin', 'racism', 'racist', 'rack', 'rackaid', 'racket', 'rackin', 'rackit', 'racoon', 'radar', 'radi', 'radiant', 'radiat', 'radiatin', 'radic', 'radio', 'radioact', 'radiohead', 'radium', 'rae', 'raekwon', 'raf', 'raff', 'rafferti', 'raffl', 'raffla', 'raft', 'rafter', 'rag', 'raga', 'rage', 'ragga', 'raggamuffin', 'raggedi', 'raggin', 'ragin', 'ragman', 'ragtim', 'ragu', 'rah', 'rahway', 'raid', 'raider', 'rail', 'railroad', 'railway', 'raim', 'rain', 'rainbow', 'raincheck', 'raincoat', 'raindrop', 'rainey', 'rainfal', 'raini', 'rainin', 'rainmak', 'rainman', 'rainstorm', 'rainwhat', 'rais', 'raisin', 'rajah', 'rake', 'rakeim', 'rakim', 'raksin', 'ral', 'raleigh', 'ralli', 'ralph', 'ram', 'rama', 'ramalamad', 'rambl', 'rambler', 'ramblin', 'rambo', 'rambunct', 'ramen', 'ramo', 'ramon', 'ramona', 'ramp', 'rampag', 'rampagin', 'rampant', 'ramsey', 'ramus', 'ranch', 'rancher', 'ranchid', 'rancid', 'randalph', 'randi', 'rando', 'random', 'randon', 'randyh', 'rang', 'ranger', 'rank', 'ranker', 'ransom', 'rant', 'rap', 'rape', 'raper', 'raphael', 'rapid', 'rapier', 'rapin', 'rapist', 'rappa', 'rappelait', 'rapper', 'rappin', 'rappiti', 'raptur', 'rapunzel', 'rare', 'rarefi', 'rarer', 'rarest', 'rari', 'rarin', 'rariti', 'rascal', 'rase', 'rash', 'rasha', 'rashad', 'raspberri', 'raspi', 'rasputin', 'rassl', 'rasslin', 'rasta', 'rastafari', 'rastaman', 'rat', 'ratchet', 'rate', 'ration', 'rational', 'rattl', 'rattler', 'rattlesnak', 'ravag', 'rave', 'ravel', 'raven', 'ravenscroft', 'raver', 'ravi', 'ravin', 'ravioli', 'raw', 'rawbon', 'rawest', 'rawhid', 'rawl', 'rawr', 'ray', 'raygun', 'raymond', 'rayon', 'raz', 'raza', 'razamanaz', 'razamanazin', 'razamataz', 'raze', 'razor', 'rb', 'rca', 'rea', 'reach', 'reachin', 'reacquaint', 'react', 'reactin', 'reaction', 'read', 'reader', 'readi', 'readin', 'reagan', 'reail', 'real', 'reala', 'realer', 'realest', 'reali', 'realis', 'realism', 'realist', 'realiti', 'realiz', 'realize', 'realizin', 'realler', 'realliz', 'realm', 'realti', 'reap', 'reaparec', 'reaper', 'reappear', 'reappli', 'rear', 'rearrang', 'rearrangin', 'rearview', 'reason', 'reassembl', 'reassur', 'reb', 'reba', 'rebecca', 'rebel', 'rebeld', 'rebelli', 'rebirth', 'reborn', 'rebound', 'rebuckl', 'rebuild', 'rebuk', 'rebukin', 'rebut', 'rebutt', 'rec', 'recal', 'recallin', 'recaptur', 'rece', 'reced', 'receipt', 'receiv', 'recepi', 'recept', 'receptionist', 'recess', 'reciev', 'recip', 'recipi', 'recit', 'reck', 'recka', 'reckless', 'reckon', 'reclaim', 'reclin', 'reclinin', 'recogist', 'recogn', 'recognis', 'recognit', 'recollect', 'recommend', 'recompens', 'recon', 'reconcil', 'reconcili', 'reconciliacion', 'reconsid', 'reconstru', 'reconstruct', 'record', 'recordin', 'recount', 'recoup', 'recours', 'recov', 'recoveri', 'recreat', 'recrefi', 'recruit', 'recruitin', 'rectifi', 'rectum', 'recur', 'recycl', 'red', 'redbon', 'redcoat', 'redd', 'redder', 'reddish', 'redeem', 'redeemin', 'redefin', 'redempt', 'redenbach', 'redford', 'redhead', 'redigest', 'rediscov', 'redman', 'redneck', 'redon', 'redondo', 'redrum', 'redskin', 'reduc', 'redund', 'redw', 'redwood', 'ree', 'reebok', 'reed', 'reef', 'reefa', 'reefer', 'reek', 'reel', 'reelin', 'reenact', 'rees', 'reet', 'reev', 'refer', 'refere', 'referenc', 'refil', 'refin', 'reflect', 'reflectin', 'reflex', 'refrain', 'refresh', 'refri', 'refriger', 'refug', 'refuge', 'refund', 'refus', 'refusin', 'refut', 'reg', 'regado', 'regain', 'regal', 'regard', 'regem', 'regga', 'reggi', 'regi', 'regim', 'regiment', 'region', 'regist', 'registr', 'regredior', 'regresar', 'regress', 'regret', 'regrett', 'regrettin', 'regroup', 'regul', 'regular', 'rehab', 'rehabilit', 'rehak', 'rehears', 'rehearsin', 'reid', 'reign', 'reignin', 'rein', 'reincarn', 'reindeer', 'reiner', 'reinforc', 'reingold', 'reinvent', 'reissu', 'reiter', 'reject', 'rejoic', 'rejoin', 'rela', 'relambia', 'relaps', 'relas', 'relat', 'relationship', 'relax', 'relaxin', 'relay', 'releas', 'releaseth', 'releasin', 'relent', 'relentless', 'relev', 'reli', 'reliant', 'relic', 'relief', 'reliev', 'relieveo', 'religi', 'religion', 'relin', 'relinquish', 'relistenin', 'reliv', 'relivin', 'relli', 'reload', 'reloc', 'reluct', 'remain', 'reman', 'remand', 'remark', 'rembrandt', 'reme', 'remeb', 'remedi', 'remem', 'rememb', 'rememberin', 'remembr', 'remi', 'remin', 'remind', 'remindin', 'reminesc', 'reminic', 'reminicscin', 'reminicsin', 'reminisc', 'reminiscin', 'reminsc', 'remix', 'remixin', 'remmeb', 'remnant', 'remora', 'remors', 'remot', 'remould', 'remov', 'remus', 'ren', 'renaiss', 'renard', 'renc', 'rend', 'render', 'rendez', 'rendezv', 'rendezvouz', 'rendit', 'rene', 'renegad', 'renegoti', 'renew', 'reno', 'renounc', 'renov', 'renown', 'rent', 'rental', 'reoccur', 'reopen', 'rep', 'repackag', 'repaid', 'repair', 'repay', 'repeat', 'repel', 'repellin', 'repent', 'repercuss', 'repetit', 'rephras', 'replac', 'replay', 'repli', 'replic', 'replica', 'report', 'repos', 'repossess', 'repost', 'reppin', 'reprecuss', 'repres', 'represent', 'representin', 'repress', 'repri', 'repriev', 'repris', 'reproach', 'reproduct', 'reptar', 'reptil', 'reptilian', 'republ', 'republican', 'reput', 'request', 'requiem', 'requir', 'rer', 'rerock', 'rerout', 'rerun', 'res', 'rescu', 'resembl', 'resent', 'reserv', 'resha', 'reshap', 'resid', 'residenti', 'residu', 'resign', 'resili', 'resin', 'resist', 'resistin', 'resolut', 'resolv', 'reson', 'resort', 'resorz', 'resound', 'resourc', 'respark', 'respeck', 'respect', 'respectin', 'respir', 'respond', 'respons', 'responsibl', 'resrict', 'rest', 'restaraunt', 'restart', 'restaur', 'restin', 'restitut', 'restless', 'restock', 'restor', 'restoreth', 'restrain', 'restraint', 'restrict', 'restroom', 'result', 'resulta', 'resum', 'resurrect', 'resurrector', 'resuscit', 'retail', 'retain', 'retali', 'retalion', 'retard', 'retest', 'reth', 'retha', 'retina', 'retir', 'retirin', 'retorna', 'retrac', 'retract', 'retreat', 'retribut', 'retriev', 'retrospect', 'retsina', 'retti', 'retu', 'return', 'returnin', 'reunion', 'reunit', 'reusabl', 'rev', 'revahol', 'revanch', 'reve', 'reveal', 'revealin', 'reveill', 'revel', 'reveng', 'revenu', 'rever', 'reverber', 'reverend', 'reveri', 'revers', 'reversin', 'revi', 'review', 'revil', 'revin', 'revisit', 'reviv', 'revo', 'revoir', 'revok', 'revolut', 'revolution', 'revolutionari', 'revolv', 'revolvin', 'revouir', 'revoult', 'revv', 'revvin', 'reward', 'rewind', 'rewound', 'rewrit', 'rewritten', 'rex', 'rexburg', 'rey', 'reynold', 'rgf', 'rhapsodi', 'rhee', 'rhetor', 'rheumat', 'rhiannon', 'rhine', 'rhineston', 'rhino', 'rhode', 'rhodesia', 'rhumbah', 'rhyme', 'rhymer', 'rhymesay', 'rhymez', 'rhymin', 'rhythm', 'rhythmat', 'rhythmic', 'rhythym', 'ri', 'rib', 'ribbit', 'ribbon', 'ribcag', 'ric', 'rica', 'rican', 'ricardo', 'ricch', 'rice', 'rich', 'richard', 'richer', 'richest', 'richi', 'richmond', 'richter', 'rick', 'ricketi', 'ricki', 'rickshaw', 'rico', 'ricochet', 'ricotti', 'rid', 'rida', 'ridah', 'riddanc', 'ridden', 'riddick', 'riddim', 'riddin', 'riddl', 'riddlin', 'ride', 'rideb', 'rider', 'ridg', 'ridicul', 'ridin', 'rie', 'riefen', 'riemannian', 'rien', 'riff', 'riffin', 'riffraff', 'rifl', 'rifleman', 'rift', 'rig', 'rigamortus', 'rigbi', 'riggiti', 'right', 'righteous', 'righteousn', 'righter', 'rightoh', 'rightttttt', 'rigid', 'rigormorti', 'rihanna', 'riiid', 'riki', 'rikki', 'riley', 'rill', 'rillo', 'rim', 'rimbaud', 'rime', 'rin', 'rind', 'ring', 'ringer', 'ringfing', 'ringin', 'ringlead', 'ringless', 'rington', 'rink', 'rins', 'rio', 'riot', 'rip', 'ripe', 'riperton', 'ripest', 'ripgut', 'ripley', 'ripoff', 'ripper', 'rippin', 'rippl', 'ripsta', 'riptid', 'riri', 'rise', 'risen', 'riser', 'risin', 'risk', 'risqu', 'rita', 'ritalin', 'rite', 'rittsss', 'ritual', 'ritualist', 'ritz', 'ritzi', 'rival', 'rivalri', 'rive', 'river', 'riverb', 'riverbank', 'riverboat', 'riversid', 'rivet', 'riviera', 'rixton', 'rizzight', 'rj', 'rnade', 'rnb', 'ro', 'roach', 'road', 'roadblock', 'roadi', 'roadsid', 'roadster', 'roadwork', 'roam', 'roamin', 'roan', 'roanok', 'roar', 'roarin', 'roast', 'roaw', 'rob', 'robber', 'robberi', 'robbi', 'robbin', 'robbo', 'robe', 'robert', 'roberto', 'robin', 'robinson', 'robison', 'robocop', 'robot', 'roboto', 'robotussin', 'robyn', 'roc', 'roch', 'rochest', 'rock', 'rocka', 'rockafel', 'rockaway', 'rockefel', 'rocker', 'rocket', 'rockford', 'rocki', 'rockin', 'rockinest', 'rockman', 'rocko', 'rockstar', 'rod', 'roddi', 'roddigan', 'rode', 'rodent', 'rodeo', 'rodger', 'rodman', 'rodney', 'rodolfo', 'roe', 'roebuck', 'rogain', 'roger', 'rogu', 'roi', 'roit', 'rol', 'rolaid', 'role', 'rolex', 'roley', 'roli', 'roll', 'rolla', 'rollarcoast', 'roller', 'rollerbal', 'rollerblad', 'rollercoast', 'rollerskatin', 'rolley', 'rolli', 'rollin', 'rollinkeep', 'rom', 'roma', 'romain', 'roman', 'romanc', 'romancin', 'romania', 'romant', 'romantic', 'rome', 'romeo', 'romero', 'romey', 'romnc', 'romp', 'romper', 'rompin', 'ron', 'ronald', 'rondo', 'ronhontz', 'roni', 'ronni', 'roo', 'roof', 'roofless', 'rooftoop', 'rooftop', 'rooki', 'room', 'roomi', 'roommat', 'rooney', 'roooaaaaaahh', 'roosevelt', 'roost', 'rooster', 'root', 'rooti', 'roover', 'rope', 'ropen', 'roper', 'ropin', 'roquemaur', 'rori', 'ros', 'rosa', 'rosaand', 'rosali', 'rosanna', 'rosari', 'rosco', 'rose', 'roseann', 'rosebush', 'rosedal', 'roseland', 'rosemari', 'rosenberg', 'rosett', 'rosetta', 'rosey', 'rosi', 'rosin', 'rosita', 'roslyn', 'ross', 'rossington', 'rot', 'rotat', 'rotgut', 'rotisseri', 'rotor', 'rotten', 'rotter', 'rottweil', 'rou', 'roug', 'rough', 'roughenin', 'rougher', 'roughest', 'roughneck', 'roulett', 'roun', 'round', 'roundabout', 'rounder', 'roundhous', 'roundup', 'rous', 'rout', 'routin', 'rove', 'rover', 'rovin', 'row', 'rowboat', 'rowdi', 'rowin', 'rowland', 'roxan', 'roxann', 'roxett', 'roxi', 'roxxi', 'roy', 'royal', 'royalti', 'royc', 'rozay', 'rpt', 'rrr', 'rrrah', 'rrrrrrrrrrrrreal', 'rsk', 'ru', 'rua', 'rub', 'rubadub', 'rubber', 'rubberband', 'rubberneckin', 'rubbin', 'rubbish', 'rubbl', 'rube', 'ruben', 'rubi', 'rubin', 'rubl', 'ruc', 'ruca', 'ruck', 'ruckus', 'rude', 'rudi', 'rudiment', 'rudolph', 'rue', 'ruff', 'ruffl', 'ruffryd', 'rufus', 'rug', 'rugar', 'rugbi', 'ruger', 'rugga', 'ruggish', 'rugrat', 'ruin', 'rukus', 'rule', 'rulebook', 'ruler', 'rum', 'rumba', 'rumbl', 'rumblin', 'rummag', 'rummi', 'rumor', 'rumour', 'rump', 'rumpelstiltskin', 'rumper', 'rumpin', 'rumpus', 'run', 'runaround', 'runaway', 'rund', 'rundown', 'rung', 'runic', 'runin', 'runmi', 'runner', 'runneth', 'runni', 'runnin', 'runt', 'runtz', 'runway', 'runyon', 'rupter', 'ruptur', 'rural', 'ruse', 'rush', 'rushin', 'russ', 'russain', 'russel', 'russia', 'russian', 'rust', 'rusti', 'rustl', 'rut', 'ruth', 'ruthi', 'ruthless', 'rutti', 'ruxpin', 'ruz', 'rwanda', 'ry', 'ryan', 'rybodi', 'rycher', 'ryde', 'ryder', 'rye', 'ryhm', 'ryhthm', 'ryker', 'ryon', 'ryth', 'rythm', 'rythym', 'rytim', 'rywher', 'rza', 'sa', 'saadiq', 'sabbat', 'sabbath', 'sabe', 'saber', 'sabia', 'sabl', 'sabotag', 'sabr', 'sabrett', 'sabrina', 'saccharin', 'sace', 'sacha', 'sachay', 'sack', 'sackcloth', 'sacr', 'sacrafic', 'sacrament', 'sacramento', 'sacrif', 'sacrific', 'sacrifici', 'sacrileg', 'sacrosanct', 'sad', 'sadaharu', 'sadat', 'saddam', 'sadden', 'sadder', 'saddest', 'saddl', 'sade', 'sadi', 'sadist', 'safari', 'safe', 'safer', 'safest', 'safeti', 'safeway', 'saffron', 'saffronia', 'sag', 'saga', 'sage', 'sager', 'saggin', 'sagittarius', 'sahara', 'sai', 'saigon', 'sail', 'sailboat', 'sailin', 'sailor', 'saint', 'saintlik', 'sak', 'sakamoto', 'sake', 'sakin', 'sako', 'sal', 'salad', 'salami', 'salari', 'sale', 'salem', 'salesman', 'salesmen', 'salin', 'salina', 'salir', 'saliv', 'saliva', 'salli', 'salm', 'salmon', 'salmonella', 'salom', 'salon', 'saloon', 'salsa', 'salt', 'salti', 'saltwat', 'salut', 'salvador', 'salvag', 'salvat', 'sam', 'samaritan', 'samba', 'samin', 'sammi', 'samoa', 'samoan', 'sampl', 'samplin', 'sampson', 'samson', 'samuel', 'samurai', 'san', 'sanchito', 'sancho', 'sanctifi', 'sanction', 'sanctiti', 'sanctuari', 'sanctum', 'sand', 'sandal', 'sandbox', 'sander', 'sandfli', 'sandi', 'sandman', 'sandpit', 'sandra', 'sandston', 'sandwich', 'sane', 'sanford', 'sang', 'sangr', 'sangria', 'saniti', 'sanitorium', 'sank', 'sant', 'santa', 'santana', 'santayana', 'santeria', 'santo', 'santuari', 'saoirs', 'sap', 'sapphir', 'sappho', 'sappi', 'sar', 'sara', 'sarah', 'saran', 'saranwrap', 'sarasota', 'saratoga', 'sarcasm', 'sarcast', 'sarcophagus', 'sardin', 'sarg', 'sargeant', 'sargent', 'sash', 'sasoon', 'saspiralla', 'saspirella', 'sassafrassi', 'sassi', 'sasson', 'sassoon', 'sasuk', 'sat', 'satan', 'satana', 'satch', 'satellit', 'sati', 'satin', 'satisfact', 'satisfactionin', 'satisfactori', 'satisfi', 'satori', 'sattler', 'satur', 'saturday', 'saturn', 'satyr', 'sauc', 'saucer', 'sauci', 'saucin', 'saudi', 'saul', 'sauna', 'saunter', 'sausag', 'saute', 'savag', 'savanna', 'savannah', 'savant', 'save', 'saver', 'savin', 'savior', 'saviour', 'savoir', 'savor', 'savour', 'savoy', 'savvi', 'saw', 'sawdust', 'saweeti', 'sawin', 'sawmil', 'sawyer', 'sax', 'saxello', 'saxomophon', 'saxophon', 'sayanora', 'sayer', 'sayin', 'sayonara', 'sb', 'sbass', 'sc', 'scab', 'scaffold', 'scag', 'scald', 'scale', 'scali', 'scallop', 'scalp', 'scalpel', 'scam', 'scammer', 'scammin', 'scamp', 'scampi', 'scan', 'scandal', 'scandalis', 'scandalizin', 'scanner', 'scannin', 'scantili', 'scantron', 'scapegoat', 'scapular', 'scar', 'scaramouch', 'scarc', 'scarciti', 'scare', 'scarecrow', 'scarf', 'scarfac', 'scari', 'scarin', 'scarlet', 'scarlett', 'scarsdal', 'scarv', 'scat', 'scatter', 'scatterbrain', 'scatterin', 'scatterl', 'scaus', 'scaveng', 'sccotti', 'scenario', 'scenc', 'scene', 'sceneri', 'scent', 'scentless', 'schaefer', 'schatz', 'schedul', 'scheffervill', 'schema', 'scheme', 'schemer', 'schemin', 'schepman', 'schichten', 'schiffer', 'schillaci', 'schin', 'schism', 'schizoid', 'schizophren', 'schizophrenia', 'schlaue', 'schlep', 'schlitz', 'schmazi', 'schmit', 'schmoe', 'schnapp', 'schnitzel', 'schoen', 'scholar', 'scholarship', 'scholl', 'scholz', 'schon', 'school', 'schoolbag', 'schoolboy', 'schoolgirl', 'schoolin', 'schoolmast', 'schoolroom', 'schoolyard', 'schooner', 'schottenheim', 'schroeder', 'schtick', 'schubert', 'schwag', 'schwarzenegg', 'schwinn', 'sci', 'scienc', 'scientif', 'scientist', 'scilkin', 'scintil', 'scion', 'scissor', 'scof', 'scoff', 'scold', 'scoliosi', 'scoobi', 'scooch', 'scoop', 'scooper', 'scoopin', 'scoot', 'scooter', 'scootin', 'scope', 'scopin', 'scorch', 'score', 'scoreboard', 'scorn', 'scorpio', 'scorpion', 'scotch', 'scotia', 'scotland', 'scott', 'scotti', 'scottish', 'scoundrel', 'scout', 'scrabbl', 'scram', 'scrambl', 'scramblin', 'scrap', 'scrape', 'scrappi', 'scrappl', 'scratch', 'scratchi', 'scratchin', 'scrawl', 'scrawni', 'scre', 'screachin', 'scream', 'screamer', 'screamin', 'screaminr', 'screech', 'screen', 'screenin', 'screw', 'screwbal', 'screwston', 'scribbl', 'scribblin', 'scrilla', 'scrimmag', 'scripper', 'script', 'scriptur', 'scroll', 'scrollin', 'scrotum', 'scroung', 'scrub', 'scruff', 'scruffi', 'scrumptious', 'scrutin', 'scrutini', 'sct', 'scuf', 'scuff', 'scuffl', 'sculleri', 'sculpt', 'sculptor', 'sculptur', 'scum', 'scumbag', 'scummi', 'scurri', 'scuse', 'scusi', 'scylla', 'scyth', 'se', 'sea', 'seabird', 'seaboard', 'seach', 'seacrest', 'seadream', 'seafood', 'seagram', 'seagul', 'seal', 'seam', 'seaman', 'seamstress', 'seamus', 'sean', 'seanc', 'sear', 'search', 'searcher', 'searchin', 'searchlight', 'seargent', 'seashel', 'seashor', 'seasick', 'seasid', 'season', 'seasonin', 'seat', 'seatbelt', 'seater', 'seath', 'seatin', 'seattl', 'seawe', 'sebastian', 'sebben', 'secausus', 'seced', 'seckl', 'seclud', 'seclus', 'second', 'secondari', 'secondhand', 'secora', 'secreci', 'secret', 'secretari', 'sectar', 'section', 'sector', 'secur', 'securus', 'sedan', 'sedat', 'sediment', 'sedona', 'seduc', 'seduct', 'see', 'seed', 'seedi', 'seein', 'seek', 'seeker', 'seekin', 'seem', 'seemin', 'seep', 'seer', 'seesaw', 'seeth', 'seether', 'sega', 'segal', 'seger', 'segreg', 'segundo', 'seh', 'sei', 'seig', 'seiko', 'sein', 'seiz', 'seja', 'selavi', 'seldom', 'select', 'selectin', 'selector', 'selena', 'selfish', 'selfless', 'sell', 'sellin', 'selma', 'seltzer', 'semblanc', 'semen', 'semest', 'semi', 'semilli', 'seminar', 'seminol', 'sempr', 'sen', 'senat', 'send', 'sender', 'sendin', 'seneg', 'senel', 'senior', 'seniorita', 'senor', 'senora', 'senorina', 'senorita', 'sens', 'sensamil', 'sensat', 'sensei', 'senseless', 'sensemi', 'sensemilla', 'sensi', 'sensibl', 'sensimilla', 'sensimillia', 'sensit', 'sensor', 'sensual', 'sensuous', 'sensurround', 'sent', 'sentenc', 'sentiment', 'sentinel', 'sentir', 'sentri', 'sentul', 'sep', 'separ', 'seper', 'sepia', 'septemb', 'sequal', 'sequel', 'sequenc', 'sequest', 'sequin', 'ser', 'serach', 'seranad', 'seraphin', 'seren', 'serenad', 'serenadin', 'serengeti', 'serf', 'serg', 'sergeant', 'sergio', 'seri', 'serial', 'sermon', 'seron', 'seroquel', 'serpent', 'serrato', 'serv', 'servant', 'server', 'servic', 'servil', 'servin', 'ses', 'sesa', 'sesam', 'sesh', 'seskin', 'sess', 'sessamina', 'session', 'set', 'setback', 'seteva', 'setl', 'setter', 'settin', 'settl', 'settler', 'settlin', 'setup', 'seuss', 'seven', 'seventeenth', 'seventh', 'seventi', 'sever', 'severinsen', 'sevill', 'sew', 'sewer', 'sewin', 'sewn', 'sex', 'sexahol', 'sexi', 'sexiest', 'sexin', 'sexist', 'sexless', 'sexual', 'sexyfi', 'sey', 'sez', 'sgns', 'sh', 'sha', 'shaa', 'shabazz', 'shabbi', 'shack', 'shacka', 'shackl', 'shad', 'shaddai', 'shade', 'shadi', 'shadiest', 'shadow', 'shadowbox', 'shadowi', 'shadrach', 'shaek', 'shaft', 'shaftesburi', 'shaftin', 'shag', 'shaggi', 'shahdaroba', 'shahe', 'shak', 'shaka', 'shakata', 'shake', 'shakedown', 'shaken', 'shaker', 'shakespear', 'shakespeart', 'shakey', 'shaki', 'shakin', 'shakur', 'shalam', 'shallow', 'shalom', 'shalt', 'shalw', 'sham', 'shambala', 'shame', 'shameless', 'shamin', 'shammi', 'shampoo', 'shamrock', 'shane', 'shanghai', 'shangri', 'shani', 'shania', 'shanic', 'shank', 'shannon', 'shannontown', 'shant', 'shanti', 'shantytown', 'shaolin', 'shape', 'shapeless', 'shaq', 'shaqtin', 'shaquill', 'shard', 'share', 'sharecrop', 'sharecropp', 'shareef', 'sharin', 'shark', 'sharon', 'sharona', 'sharp', 'sharpen', 'sharper', 'sharpest', 'sharpi', 'sharpli', 'shasta', 'shastasheen', 'shat', 'shatter', 'shave', 'shaven', 'shaver', 'shaw', 'shawn', 'shawti', 'shay', 'shayn', 'shazam', 'shea', 'shear', 'sheath', 'shebang', 'sheck', 'shed', 'sheeba', 'sheen', 'sheena', 'sheep', 'sheer', 'sheesh', 'sheet', 'sheetrock', 'sheezi', 'sheffervill', 'sheherazad', 'sheik', 'sheila', 'sheisti', 'shel', 'shelf', 'shell', 'shelley', 'shellfish', 'shelter', 'shelton', 'shelv', 'shenandoah', 'shep', 'shepard', 'shepherd', 'sheppard', 'sheran', 'sherbet', 'sheric', 'sheriff', 'sherley', 'sherlock', 'sherm', 'sherman', 'sherri', 'sherrif', 'sherriff', 'sherril', 'shh', 'shhh', 'shhheww', 'shhhhhhhhhh', 'shi', 'shibuya', 'shield', 'shife', 'shiff', 'shift', 'shifter', 'shifti', 'shiftin', 'shiftless', 'shill', 'shillzu', 'shilo', 'shiloh', 'shim', 'shimmer', 'shimmi', 'shin', 'shindig', 'shine', 'shiner', 'shineth', 'shiney', 'shing', 'shingl', 'shini', 'shinin', 'ship', 'shipment', 'shippin', 'shipwreck', 'shirell', 'shirk', 'shirley', 'shirli', 'shirt', 'shis', 'shit', 'shithead', 'shitti', 'shittin', 'shiver', 'shiverin', 'shivver', 'shizzl', 'shje', 'shlepp', 'shlit', 'shloob', 'sho', 'shoal', 'shock', 'shocka', 'shockedi', 'shocker', 'shockey', 'shockin', 'shockwav', 'shod', 'shoe', 'shoebox', 'shoelac', 'shoeless', 'shoeshin', 'shoesi', 'shoestr', 'shogun', 'shokarock', 'shone', 'shoney', 'shonti', 'shoo', 'shoobi', 'shoocken', 'shoocki', 'shook', 'shoop', 'shoot', 'shooter', 'shooti', 'shootin', 'shootout', 'shop', 'shoplift', 'shopper', 'shoppin', 'shore', 'shorelin', 'shorror', 'short', 'shortayyy', 'shortcut', 'shorter', 'shortgun', 'shorti', 'shortstop', 'shortytwo', 'shot', 'shotgun', 'shotti', 'shoud', 'shoudn', 'shoulda', 'shoulder', 'shouldv', 'shouldya', 'shout', 'shouter', 'shoutin', 'shoutout', 'shove', 'shovel', 'shover', 'shovin', 'show', 'showbiz', 'showdown', 'shower', 'showin', 'showtim', 'shpah', 'shrapnel', 'shred', 'shredder', 'shreve', 'shreveport', 'shriek', 'shrilli', 'shrimp', 'shrine', 'shrink', 'shrinker', 'shrinkin', 'shroom', 'shroud', 'shrub', 'shrug', 'shrunk', 'shtick', 'shu', 'shuck', 'shudder', 'shudderin', 'shuffl', 'shufflin', 'shuggi', 'shui', 'shumpert', 'shun', 'shunless', 'shure', 'shush', 'shut', 'shutter', 'shuttin', 'shyness', 'si', 'siam', 'siames', 'sian', 'siana', 'sibl', 'sic', 'sicc', 'sich', 'sicialiano', 'sicili', 'sicilian', 'siciliano', 'sick', 'sicken', 'sickenin', 'sicker', 'sickest', 'sicki', 'sickin', 'sickl', 'sickman', 'sicko', 'sickworld', 'sid', 'side', 'sidebet', 'sideburn', 'sidekick', 'sidelin', 'sidesaddl', 'sideshow', 'sidewalk', 'sideway', 'sidewind', 'sidney', 'sie', 'sieg', 'siempr', 'siento', 'sierra', 'siesta', 'siet', 'sift', 'siggi', 'sigh', 'sighin', 'sight', 'sigman', 'sigmund', 'sign', 'signal', 'signatur', 'signer', 'signific', 'signifyin', 'signin', 'signorelli', 'signpost', 'sihlouett', 'sike', 'sila', 'silenc', 'silent', 'silhouet', 'silhouett', 'silicon', 'silk', 'silken', 'silki', 'sill', 'sillar', 'silli', 'sillier', 'sillzom', 'silt', 'silver', 'silverado', 'silveretta', 'silveri', 'silverwar', 'silzo', 'sim', 'simil', 'similar', 'simlin', 'simma', 'simmer', 'simmon', 'simon', 'simp', 'simper', 'simpl', 'simpler', 'simpli', 'simplic', 'simplifi', 'simpson', 'simul', 'simultan', 'sin', 'sinatra', 'sincer', 'sincera', 'sinew', 'sing', 'singapor', 'singer', 'singier', 'singin', 'singl', 'singlehand', 'singular', 'sinist', 'sink', 'sinker', 'sinkin', 'sinner', 'sinnerman', 'sinnin', 'sioux', 'sip', 'sipper', 'sippi', 'sippin', 'sir', 'sire', 'sireen', 'siren', 'sirloin', 'sirus', 'sis', 'siskel', 'sisqo', 'siss', 'sissi', 'sista', 'sister', 'sit', 'sitcom', 'site', 'sitin', 'sitter', 'sittin', 'situa', 'situat', 'six', 'sixer', 'sixgun', 'sixth', 'sixti', 'size', 'sizer', 'sizin', 'sizzl', 'sizzlean', 'sizzlin', 'sizzurp', 'sk', 'ska', 'skag', 'skank', 'skankin', 'skanless', 'skat', 'skata', 'skate', 'skateaway', 'skateboard', 'skatelborough', 'skater', 'skee', 'skeet', 'skeeterz', 'skeez', 'skeeza', 'skeezer', 'skeezin', 'skeezoid', 'skeff', 'skelet', 'skeleton', 'skell', 'skeltah', 'skelter', 'skeme', 'skeptic', 'sketch', 'skewer', 'skezzer', 'ski', 'skid', 'skiin', 'skill', 'skillet', 'skim', 'skimmi', 'skin', 'skinhead', 'skinni', 'skinnier', 'skinnin', 'skinton', 'skinz', 'skip', 'skippin', 'skirt', 'skism', 'skit', 'skitso', 'skittl', 'skood', 'skoodla', 'skookdla', 'skreet', 'skripper', 'skrr', 'skrrr', 'skrrrttt', 'skrrt', 'skrt', 'skrting', 'skuddi', 'skull', 'skunk', 'skunki', 'skunkin', 'skurt', 'skwak', 'sky', 'skyblu', 'skycrap', 'skydiv', 'skyfal', 'skylark', 'skylight', 'skylin', 'skynrd', 'skynyrd', 'skyrocket', 'skys', 'skyscrap', 'skyscrapin', 'skyway', 'sl', 'sla', 'slab', 'slack', 'slade', 'slag', 'slagin', 'slain', 'slake', 'slam', 'slammer', 'slammin', 'sland', 'slander', 'slang', 'slangin', 'slant', 'slap', 'slappin', 'slash', 'slasher', 'slate', 'slatt', 'slaughter', 'slaughterhous', 'slav', 'slave', 'slaveman', 'slaver', 'slaveri', 'slavin', 'slay', 'slayer', 'slayin', 'sleaz', 'sleazi', 'sled', 'sledg', 'slee', 'sleek', 'sleep', 'sleeper', 'sleepi', 'sleepin', 'sleepless', 'sleepov', 'sleepsong', 'sleepwalk', 'sleepyhead', 'sleet', 'sleev', 'sleezi', 'sleigh', 'sleighbel', 'sleight', 'slender', 'slept', 'slew', 'sleybel', 'sli', 'slice', 'slicin', 'slick', 'slicker', 'slickest', 'slid', 'slide', 'slidin', 'slient', 'slight', 'slightest', 'slim', 'slime', 'slimi', 'slimin', 'slimm', 'sling', 'slingerland', 'slingin', 'slingshot', 'slink', 'slinki', 'slip', 'slipper', 'slipperi', 'slippi', 'slippin', 'slippiti', 'slit', 'slither', 'slittin', 'sliver', 'slo', 'slob', 'slobber', 'slobbi', 'sloe', 'slogan', 'slop', 'slope', 'sloppi', 'sloppili', 'slot', 'sloth', 'slouch', 'slow', 'slower', 'slowin', 'slowli', 'slowpok', 'slowrid', 'sludg', 'slug', 'slugger', 'slum', 'slumber', 'slummin', 'slump', 'slumpin', 'slung', 'slur', 'slurp', 'slurpe', 'slurpi', 'slurrin', 'slush', 'slut', 'slyest', 'smack', 'smackin', 'smackwat', 'smak', 'small', 'smaller', 'smallest', 'smart', 'smarter', 'smartest', 'smarti', 'smartin', 'smash', 'smasher', 'smashin', 'smck', 'smear', 'smell', 'smelli', 'smellin', 'smelt', 'smi', 'smidgen', 'smidgin', 'smidok', 'smiggedi', 'smile', 'smiley', 'smilin', 'smirk', 'smirnoff', 'smit', 'smith', 'smithereen', 'smitten', 'smmoce', 'smo', 'smock', 'smog', 'smoka', 'smoke', 'smoken', 'smoker', 'smokescreen', 'smokestack', 'smokey', 'smoki', 'smokin', 'smold', 'smolder', 'smolderin', 'smoochin', 'smooth', 'smoother', 'smoothest', 'smoothi', 'smoov', 'smother', 'smotherin', 'smoulder', 'smuggl', 'smuggler', 'smugglin', 'smurf', 'snack', 'snag', 'snail', 'snake', 'snakebit', 'snakebitten', 'snakin', 'snap', 'snapchat', 'snappi', 'snappin', 'snare', 'snarl', 'snatch', 'snatcher', 'snatchin', 'snazz', 'sneak', 'sneaker', 'sneaki', 'sneakin', 'snedin', 'sneer', 'sneetch', 'sneez', 'sneezin', 'snicker', 'snickerin', 'snif', 'sniff', 'sniffer', 'sniffin', 'sniffl', 'snifter', 'snip', 'snipe', 'sniper', 'snitch', 'snitchin', 'snithc', 'sno', 'snob', 'snoop', 'snoopin', 'snoot', 'snooz', 'snore', 'snort', 'snortin', 'snot', 'snotti', 'snottier', 'snous', 'snout', 'snow', 'snowbal', 'snowblind', 'snowfal', 'snowflak', 'snowi', 'snowin', 'snowlight', 'snowman', 'snowwhit', 'snub', 'snuck', 'snuf', 'snuff', 'snuffleufagus', 'snug', 'snuggi', 'snuggl', 'snupe', 'soak', 'soakin', 'soap', 'soapsud', 'soar', 'soarin', 'sob', 'sober', 'soberin', 'sobrani', 'sobrieti', 'socal', 'soccer', 'social', 'socialist', 'socialit', 'societi', 'sociologist', 'sock', 'socket', 'socrat', 'sod', 'soda', 'sodbustin', 'sodom', 'sodomi', 'sofa', 'sofia', 'soft', 'softbal', 'soften', 'softer', 'softest', 'softheart', 'softi', 'softwar', 'soggi', 'soho', 'soil', 'soir', 'soke', 'sol', 'solac', 'solar', 'sold', 'soldier', 'sole', 'soleil', 'solemn', 'solicit', 'solid', 'soliloquoy', 'solitair', 'solitari', 'solitud', 'sollozar', 'sollst', 'solo', 'solomon', 'solsburi', 'solut', 'solv', 'solver', 'som', 'somalia', 'somber', 'sombodi', 'sombr', 'sombrero', 'somebeach', 'somebodysomeon', 'someday', 'somedayladi', 'someher', 'somem', 'somemor', 'soment', 'someom', 'someon', 'someplac', 'somersault', 'somerset', 'somet', 'someth', 'somethang', 'somethin', 'someway', 'somewher', 'somk', 'sommer', 'somon', 'somth', 'somthin', 'somtim', 'somwher', 'son', 'sonal', 'sonanta', 'song', 'songbird', 'songwrit', 'soni', 'sonia', 'sonic', 'sonnet', 'sonni', 'sono', 'sonofabitch', 'sonova', 'sonrisa', 'sonsabitch', 'sonse', 'sont', 'soo', 'sooki', 'soolai', 'soolaimon', 'sooner', 'sooo', 'soooo', 'sooooo', 'soooooo', 'sooooooo', 'soooooooo', 'soot', 'sooth', 'sop', 'sophi', 'sophia', 'sophist', 'sophocl', 'soprano', 'sorcer', 'sorceress', 'sorceror', 'sordid', 'sore', 'sorghum', 'sorriest', 'sorrow', 'sort', 'sorta', 'sortin', 'sos', 'sosa', 'sot', 'souffl', 'soufle', 'sought', 'soul', 'soulfight', 'soulja', 'soulless', 'soulmat', 'soulshin', 'soulsid', 'sound', 'soundboy', 'soundcheck', 'soundin', 'soundrel', 'soundtrack', 'soup', 'sour', 'sourc', 'sous', 'south', 'southbound', 'southeast', 'southend', 'southern', 'southernmost', 'southerplayalist', 'southland', 'southpaw', 'southsid', 'southward', 'southwest', 'souveni', 'souvenir', 'sovereign', 'sovernign', 'soviet', 'sow', 'soweit', 'sown', 'soxer', 'soy', 'sozinho', 'spa', 'space', 'spaceman', 'spaceship', 'spacey', 'spade', 'spaghetti', 'spain', 'spald', 'spam', 'span', 'spangl', 'spanish', 'spank', 'spanner', 'spare', 'spark', 'sparkin', 'sparkl', 'sparklin', 'sparkski', 'sparrin', 'sparrow', 'spasm', 'spasmat', 'spastic', 'spat', 'spatial', 'spatterin', 'spavin', 'spawn', 'spay', 'spazz', 'speak', 'speaker', 'speakin', 'spear', 'spearhead', 'spec', 'speci', 'special', 'specialist', 'specif', 'specimen', 'speck', 'speckl', 'spect', 'spectac', 'spectacl', 'spectacular', 'spectat', 'specter', 'spectin', 'spector', 'specul', 'sped', 'speech', 'speechless', 'speed', 'speedi', 'speedin', 'speedo', 'speedomet', 'spell', 'spellbound', 'spellin', 'spend', 'spender', 'spendin', 'spent', 'sperm', 'spew', 'speysid', 'spf', 'sphere', 'sphinx', 'spi', 'spic', 'spice', 'spici', 'spider', 'spiderman', 'spiderweb', 'spiel', 'spielberg', 'spiff', 'spiffi', 'spiggedi', 'spike', 'spill', 'spillin', 'spilt', 'spin', 'spinach', 'spinal', 'spinderella', 'spindl', 'spine', 'spineless', 'spinnin', 'spiral', 'spirit', 'spiritu', 'spiritus', 'spiro', 'spit', 'spite', 'spitfir', 'spitta', 'spitter', 'spittin', 'spitz', 'spiv', 'splain', 'splak', 'splash', 'splashin', 'splatter', 'spleen', 'splendid', 'splendor', 'splendour', 'splergin', 'splick', 'spliff', 'splinter', 'splish', 'split', 'splita', 'splitin', 'splitta', 'splittin', 'splivin', 'splotch', 'splurg', 'splutter', 'spock', 'spoil', 'spokan', 'spoke', 'spoken', 'spokesman', 'spong', 'sponji', 'sponsor', 'spontan', 'spook', 'spooki', 'spool', 'spoon', 'spooni', 'spoonin', 'spoonman', 'sporad', 'spore', 'sport', 'sporti', 'sportin', 'sportscar', 'spose', 'spot', 'spotcheck', 'spotless', 'spotlight', 'spottieottiedopalisci', 'spous', 'spout', 'sprang', 'sprawl', 'spray', 'sprayin', 'spread', 'spreadin', 'sprechen', 'spree', 'spring', 'springer', 'springfield', 'springier', 'springlov', 'springsteen', 'springstein', 'springtim', 'sprinkl', 'sprinkler', 'sprit', 'sprite', 'sprout', 'sprung', 'spud', 'spumanti', 'spun', 'spung', 'spunk', 'spur', 'spurin', 'sputnik', 'sputter', 'spyin', 'sqiddaud', 'squab', 'squabbl', 'squad', 'squadron', 'squal', 'squall', 'squander', 'squar', 'squarkin', 'squash', 'squaw', 'squawk', 'squawkin', 'squeak', 'squeaki', 'squeakin', 'squeal', 'squealin', 'squeamish', 'squeege', 'squeelin', 'squeez', 'squeezin', 'squez', 'squint', 'squirm', 'squirmin', 'squirrel', 'squirt', 'squish', 'squishin', 'squita', 'squonk', 'sremm', 'sremmlif', 'sri', 'srung', 'ss', 'ssault', 'ssee', 'ssh', 'sshontay', 'ssombodi', 'sss', 'ssss', 'ssssssaaaand', 'sssssssss', 'st', 'staaaaaaar', 'staat', 'stab', 'stabber', 'stabbin', 'stabil', 'stabl', 'staccato', 'stacey', 'staci', 'stack', 'stackin', 'stadi', 'stadium', 'stadt', 'staff', 'stag', 'stage', 'stagecoach', 'stagg', 'stagga', 'stagger', 'stagnant', 'stain', 'stair', 'staircas', 'stairin', 'stairway', 'stairwel', 'stake', 'stakeout', 'stale', 'stalem', 'stalin', 'stalk', 'stalker', 'stalkin', 'stall', 'stallin', 'stallion', 'stallon', 'stamina', 'stamp', 'stamped', 'stan', 'stanbul', 'stanc', 'stand', 'standard', 'standbi', 'standin', 'standout', 'stanhop', 'stanislavski', 'stank', 'stankhead', 'stankin', 'stanley', 'stap', 'stapl', 'stapler', 'stapleton', 'star', 'starang', 'starboard', 'starbright', 'starbuck', 'starch', 'starchild', 'stardom', 'stardust', 'stare', 'starfish', 'stargaz', 'stargazin', 'staria', 'starin', 'stark', 'starkweath', 'starl', 'starless', 'starlet', 'starlight', 'starlit', 'starr', 'starri', 'starshin', 'starship', 'starstruck', 'start', 'starter', 'startin', 'startl', 'starv', 'starvat', 'starvin', 'starwood', 'stash', 'stashin', 'state', 'statement', 'staten', 'statesboro', 'statesid', 'static', 'station', 'stationmast', 'statist', 'statu', 'status', 'stawberri', 'stay', 'stayin', 'stazybo', 'stead', 'steadfast', 'steadi', 'steadili', 'steak', 'steal', 'stealer', 'stealin', 'stealth', 'steam', 'steamboat', 'steamer', 'steamin', 'steamrol', 'stear', 'stee', 'steed', 'steel', 'steeli', 'steelo', 'steep', 'steepl', 'steer', 'steerin', 'steet', 'steez', 'stefani', 'stefano', 'stein', 'stel', 'stella', 'stellar', 'stem', 'sten', 'stench', 'stencher', 'stencil', 'step', 'stepchild', 'stepfath', 'steph', 'stephani', 'stephen', 'stepp', 'stepper', 'steppin', 'ster', 'stere', 'stereo', 'stereotyp', 'steril', 'sterl', 'stern', 'stero', 'steroid', 'stethoscop', 'stetson', 'steve', 'steven', 'stevi', 'stew', 'stewardess', 'stewart', 'stey', 'sthese', 'sti', 'stich', 'stick', 'stickbal', 'sticker', 'sticki', 'stickin', 'stickl', 'stickup', 'stidabl', 'stiff', 'stiffen', 'stiffer', 'stiffli', 'stifl', 'stiggedi', 'stigma', 'stil', 'stile', 'stiletto', 'still', 'stillborn', 'stilleto', 'stilt', 'stimu', 'stimul', 'stimuli', 'sting', 'stinger', 'stingi', 'stingin', 'stink', 'stinkin', 'stipul', 'stir', 'stirrin', 'stitch', 'stix', 'stizz', 'stlye', 'stlyric', 'sto', 'stock', 'stockad', 'stockbridg', 'stockbrok', 'stockholm', 'stockin', 'stockwel', 'stockyard', 'stog', 'stoge', 'stogi', 'stoke', 'stole', 'stolen', 'stoli', 'stomach', 'stomp', 'stompin', 'stone', 'stoneman', 'stoner', 'stonewal', 'stoney', 'stoni', 'stonin', 'stonk', 'stood', 'stool', 'stoop', 'stop', 'stopin', 'stoplight', 'stoppa', 'stopper', 'stoppin', 'stopwatch', 'storag', 'storch', 'store', 'storey', 'stori', 'stork', 'storm', 'stormcloud', 'stormi', 'stormin', 'stormtroop', 'stormtroopr', 'stormwind', 'storybook', 'storylin', 'stout', 'stove', 'stow', 'stowin', 'straaaannnnggee', 'straddl', 'strafe', 'straggr', 'straigh', 'straighen', 'straight', 'straightback', 'straighten', 'straightenin', 'straighter', 'straightest', 'straightjacket', 'straightway', 'straigt', 'strain', 'strainer', 'strait', 'strand', 'strang', 'stranger', 'strangest', 'strangiato', 'strangl', 'stranglehold', 'strangler', 'strap', 'strappin', 'strateg', 'strategi', 'stratocast', 'stratospher', 'strauss', 'straw', 'strawberri', 'stray', 'streak', 'streaki', 'streakin', 'stream', 'streamlet', 'streat', 'street', 'streetcar', 'streetlamp', 'streetlight', 'streetz', 'streichholz', 'strengh', 'strenght', 'strength', 'strengthen', 'strenuous', 'stress', 'stressin', 'stret', 'stretch', 'stretcher', 'stretchin', 'strewn', 'strick', 'stricken', 'strict', 'strictest', 'stride', 'stridin', 'strife', 'strike', 'striker', 'strikin', 'string', 'stringband', 'strip', 'stripe', 'striper', 'stripper', 'strippin', 'stripteas', 'strive', 'striven', 'strivin', 'strobe', 'stroh', 'stroke', 'stroker', 'strokin', 'stroll', 'stroller', 'strollin', 'strong', 'stronger', 'strongest', 'stroud', 'strove', 'strual', 'struck', 'structur', 'strudel', 'struggl', 'strugglin', 'strum', 'strummin', 'strung', 'strut', 'strutter', 'struttin', 'strych', 'stu', 'stub', 'stubb', 'stubborn', 'stuck', 'stud', 'studebak', 'student', 'studi', 'studio', 'studyin', 'stuf', 'stuff', 'stuffin', 'stumbl', 'stumblin', 'stump', 'stun', 'stung', 'stunk', 'stunna', 'stunner', 'stunnin', 'stunt', 'stuntin', 'stupid', 'stupor', 'sturck', 'sturdi', 'sturr', 'stussi', 'stutter', 'stuttter', 'stuy', 'style', 'stylin', 'stylish', 'stylist', 'stylz', 'stymi', 'styne', 'styrofoam', 'su', 'suav', 'suavecito', 'subaru', 'subconsci', 'subdivid', 'subdivis', 'subdu', 'subject', 'subjug', 'sublim', 'sublimin', 'submarin', 'submerg', 'submiss', 'submit', 'subordin', 'subpeona', 'subroc', 'subsequ', 'subsid', 'substanc', 'substandard', 'substanti', 'substitut', 'subt', 'subtl', 'subtleti', 'subtract', 'subtractin', 'subtweet', 'suburb', 'suburban', 'suburbia', 'suburbian', 'suburbl', 'subvers', 'subway', 'suc', 'succeed', 'succeedin', 'success', 'succubus', 'succumb', 'suck', 'sucka', 'suckafre', 'suckaz', 'sucker', 'suckerpunch', 'sucki', 'suckin', 'suckl', 'sud', 'sudan', 'sudden', 'sudio', 'sudoku', 'sudsi', 'sue', 'sued', 'suerv', 'suessdorf', 'suey', 'suez', 'suffer', 'sufferin', 'suffic', 'suffici', 'suffoc', 'suffus', 'sufro', 'suga', 'sugabop', 'sugar', 'sugarcan', 'sugarco', 'sugarcoat', 'sugare', 'sugari', 'suge', 'suger', 'suggest', 'suh', 'suhmmin', 'sui', 'suicid', 'suin', 'suit', 'suitabl', 'suitcas', 'suitcasin', 'suitor', 'sukey', 'suki', 'sukka', 'sul', 'sulfur', 'sulk', 'sullen', 'sulley', 'sullivan', 'sulphur', 'sultan', 'sultri', 'sum', 'suma', 'sumatra', 'sumin', 'sumkmer', 'summa', 'summari', 'summer', 'summeri', 'summertim', 'summit', 'summon', 'sumo', 'sumpin', 'sumptuous', 'sumth', 'sumthin', 'sun', 'sunbeam', 'sunburn', 'sunburnt', 'sunda', 'sundanc', 'sunday', 'sundown', 'sundress', 'sunflak', 'sunflow', 'sung', 'sunglass', 'sunk', 'sunken', 'sunkiss', 'sunlight', 'sunlit', 'sunni', 'sunnier', 'sunniest', 'sunnyland', 'sunot', 'sunris', 'sunroof', 'sunset', 'sunshad', 'sunshin', 'sunshow', 'sunspot', 'sunsuit', 'sunswept', 'suntan', 'sunup', 'supa', 'supafli', 'supah', 'super', 'superbeast', 'superboy', 'supercalafragilist', 'superdop', 'superfici', 'superfin', 'superfli', 'superfona', 'supergirl', 'superhead', 'superhero', 'superhuman', 'superior', 'superman', 'supermarket', 'supermass', 'supermodel', 'supernatur', 'supernova', 'superparadis', 'superson', 'superstar', 'superstardom', 'superstit', 'superstiti', 'supervillian', 'supervis', 'superwoman', 'supiera', 'supli', 'supper', 'suppertim', 'suppl', 'suppli', 'supplic', 'supplier', 'supplin', 'support', 'supportin', 'suppos', 'supposin', 'suppress', 'supra', 'suprem', 'supremaci', 'supremo', 'supremum', 'supris', 'suprpl', 'sur', 'surah', 'sure', 'surefir', 'surest', 'surf', 'surfac', 'surfear', 'surfer', 'surfin', 'surg', 'surgeon', 'surgeri', 'surgic', 'surinam', 'surplus', 'surpris', 'surprisin', 'surreal', 'surrealist', 'surrend', 'surrenderin', 'surreptiti', 'surrey', 'surrog', 'surround', 'surroundin', 'surveil', 'surveri', 'survey', 'surviv', 'survivalist', 'survivin', 'survivor', 'sus', 'susan', 'suscept', 'sushi', 'susi', 'suspect', 'suspectin', 'suspend', 'suspens', 'suspici', 'suspicion', 'suspict', 'suss', 'sustain', 'susten', 'sutri', 'sutter', 'sutton', 'sutur', 'suv', 'suyo', 'suzann', 'suzett', 'suzi', 'suzuki', 'svipstick', 'sw', 'swa', 'swag', 'swagger', 'swaggi', 'swaggin', 'swagin', 'swahe', 'swain', 'swaller', 'swallow', 'swallowin', 'swam', 'swamp', 'swamper', 'swampland', 'swan', 'swandhi', 'swane', 'swang', 'swangin', 'swap', 'swapin', 'swappin', 'sware', 'swarm', 'swat', 'swatch', 'swatter', 'swaw', 'sway', 'swayin', 'swayz', 'swazi', 'swaziland', 'swe', 'swear', 'swearin', 'sweat', 'sweatband', 'sweater', 'sweathog', 'sweati', 'sweatin', 'sweatpant', 'sweatshirt', 'sweatsuit', 'swede', 'sweden', 'swee', 'sweeet', 'sweeni', 'sweep', 'sweeper', 'sweepin', 'sweet', 'sweeta', 'sweeteaz', 'sweeten', 'sweeter', 'sweetest', 'sweethead', 'sweetheart', 'sweeti', 'swell', 'swelter', 'swept', 'swerv', 'swervin', 'swervo', 'swich', 'swift', 'swifti', 'swig', 'swigger', 'swiggin', 'swim', 'swimm', 'swimmin', 'swimsuit', 'swine', 'swing', 'swinger', 'swingin', 'swipe', 'swipin', 'swirl', 'swish', 'swisha', 'swisher', 'swiss', 'switch', 'switchblad', 'switchboard', 'switchin', 'swith', 'switzerland', 'swivel', 'swizz', 'swoll', 'swolla', 'swollen', 'swoon', 'swooo', 'swoooo', 'swoop', 'swoopin', 'sword', 'swordfish', 'swore', 'sworn', 'swung', 'sycamor', 'sycoph', 'sycophant', 'syd', 'syke', 'syllabl', 'symbol', 'symbolizin', 'symil', 'symmetri', 'sympath', 'sympathet', 'sympathi', 'sympathis', 'symphonett', 'symphoni', 'symptom', 'sync', 'synchron', 'syncop', 'syndrom', 'syne', 'syngman', 'syntax', 'synthes', 'synthesi', 'synthet', 'syracus', 'syrap', 'syria', 'syring', 'syrup', 'sys', 'system', 'systemat', 'szechuan', 'ta', 'tab', 'tabasco', 'tabbi', 'tabernacl', 'tabl', 'tableaux', 'tablecloth', 'tablespoon', 'tablet', 'tabloid', 'taboo', 'tac', 'taciturn', 'tack', 'tacki', 'tackl', 'taco', 'tact', 'tactic', 'tacular', 'tad', 'tado', 'tadpol', 'tae', 'taffi', 'taft', 'tag', 'tah', 'tahiti', 'tahitian', 'taho', 'taht', 'tai', 'taient', 'taiklng', 'tail', 'tailback', 'tailgat', 'tailin', 'taillight', 'tailor', 'tailpip', 'tain', 'taint', 'taiwan', 'tajai', 'take', 'takeaway', 'takeoff', 'takeov', 'taker', 'takin', 'talcum', 'tale', 'talent', 'talib', 'talk', 'talkat', 'talker', 'talkin', 'tall', 'talladega', 'tallahasse', 'tallahatchi', 'tallapoosa', 'taller', 'tallest', 'talley', 'talli', 'tallulah', 'talmud', 'talullah', 'talvez', 'tam', 'tamal', 'tamarind', 'tambien', 'tambl', 'tambourin', 'tame', 'tameless', 'tamerlan', 'tamika', 'tamin', 'tammi', 'tampa', 'tampe', 'tamper', 'tan', 'tandem', 'tane', 'tang', 'tangent', 'tanger', 'tangerin', 'tangibl', 'tangier', 'tangl', 'tanglin', 'tango', 'tank', 'tanker', 'tanktop', 'tanneri', 'tanqueray', 'tant', 'tantal', 'tanto', 'tantric', 'tantrum', 'tanya', 'tanzania', 'tao', 'tap', 'tape', 'taper', 'tapestri', 'tappin', 'taquita', 'tar', 'tarantella', 'tarantula', 'tard', 'tare', 'target', 'tarnish', 'tarot', 'tarp', 'tarri', 'tart', 'tartar', 'tarter', 'tarzan', 'tascam', 'tasha', 'task', 'tasket', 'tassel', 'tast', 'tasteless', 'tasti', 'tastin', 'tat', 'tater', 'taterhead', 'tattanooga', 'tatter', 'tattoo', 'tattooin', 'taught', 'taunt', 'taurus', 'tavern', 'tavi', 'tawdri', 'tawni', 'tax', 'taxi', 'taxicab', 'taxin', 'taxman', 'tay', 'taya', 'taylor', 'taz', 'tch', 'tcha', 'tchaikovski', 'tches', 'tchu', 'te', 'tea', 'teach', 'teacher', 'teachin', 'teacup', 'teadi', 'team', 'tear', 'teardrop', 'teari', 'tearin', 'tearless', 'teas', 'teaser', 'teasin', 'teaspoon', 'teath', 'teaz', 'tec', 'tecca', 'tech', 'technic', 'technicolor', 'techniqu', 'techno', 'technolog', 'technomarin', 'tectiv', 'ted', 'teddi', 'tedious', 'tee', 'teel', 'teem', 'teen', 'teena', 'teenag', 'teeni', 'teepe', 'teeshirt', 'teeter', 'teeth', 'teflon', 'tegra', 'teh', 'tehachapi', 'teie', 'tek', 'tekashi', 'tel', 'telecast', 'telegram', 'telegraph', 'telekenesi', 'telepathi', 'telephon', 'telephonei', 'telescop', 'televis', 'tell', 'tella', 'tellement', 'tellen', 'teller', 'telli', 'tellin', 'telltal', 'tellurid', 'tellytubbi', 'temblando', 'temp', 'temper', 'temperament', 'temperatur', 'temperment', 'tempest', 'templ', 'tempo', 'temporari', 'temporarili', 'tempt', 'temptat', 'temptin', 'temptress', 'ten', 'tenaci', 'tenant', 'tend', 'tendanc', 'tendenc', 'tender', 'tendr', 'tenement', 'tenemo', 'tenga', 'tengo', 'tenika', 'tenn', 'tenner', 'tennese', 'tenness', 'tennesse', 'tennessean', 'tenni', 'tennise', 'tenor', 'tens', 'tension', 'tent', 'tentacl', 'tentari', 'tentat', 'tenth', 'tequila', 'tere', 'teresa', 'term', 'termin', 'termint', 'termit', 'terr', 'terra', 'terrac', 'terrain', 'terraplan', 'terri', 'terribl', 'terrif', 'terrifi', 'territori', 'terror', 'terrordom', 'terrorist', 'tes', 'test', 'testament', 'tester', 'testic', 'testicl', 'testifi', 'testifyin', 'testin', 'testosteron', 'tether', 'tex', 'texa', 'texaco', 'texan', 'texarkana', 'texican', 'text', 'textbook', 'textin', 'textual', 'tey', 'tgod', 'thai', 'thailand', 'thalidomid', 'thang', 'thank', 'thankful', 'thankin', 'thanksgiv', 'thas', 'thatahhh', 'thatcha', 'thatcher', 'thati', 'thatz', 'thaw', 'thay', 'theater', 'theatr', 'theatric', 'theft', 'theme', 'themn', 'themself', 'theo', 'theodor', 'theolog', 'theori', 'theoriz', 'ther', 'therapi', 'therapist', 'thereabout', 'therel', 'theresa', 'thermo', 'thermomet', 'theudi', 'thewa', 'they', 'theyll', 'theyself', 'theyselv', 'theyv', 'thi', 'thibodaux', 'thibodeaux', 'thicc', 'thick', 'thicken', 'thicker', 'thicket', 'thief', 'thier', 'thiev', 'thig', 'thigh', 'thigpen', 'thin', 'thine', 'thingamajig', 'think', 'thinker', 'thinkg', 'thinkin', 'thinner', 'thinnest', 'third', 'thirst', 'thirsti', 'thirsts', 'thirteenth', 'thirtieth', 'thissaway', 'thisthat', 'thistl', 'thistlebear', 'thistlehair', 'thither', 'thizz', 'thizzl', 'tho', 'thoguht', 'thoist', 'thoma', 'thompson', 'thon', 'thong', 'thor', 'thorn', 'thorni', 'thoroughbr', 'thoroughfar', 'those', 'thot', 'thotti', 'thought', 'thoughtless', 'thougth', 'thourough', 'thousand', 'thousandth', 'thow', 'thowin', 'thrash', 'thrashin', 'thre', 'thread', 'threadbar', 'threash', 'threat', 'threaten', 'threatenin', 'three', 'threesom', 'threshold', 'threw', 'threwler', 'thrice', 'thrift', 'thrifti', 'thrill', 'thrillabl', 'thriller', 'thrillin', 'thrive', 'thro', 'throat', 'throb', 'throbbin', 'throe', 'throne', 'throng', 'throttl', 'throughev', 'throught', 'throw', 'throwaway', 'throwback', 'throwd', 'throwdown', 'throwin', 'thrown', 'thrush', 'thrust', 'thruway', 'thse', 'thsi', 'thte', 'thu', 'thug', 'thuge', 'thuggin', 'thuggish', 'thuglif', 'thugsta', 'thumb', 'thumbin', 'thumbnail', 'thump', 'thumpdi', 'thumper', 'thumpeti', 'thumpin', 'thun', 'thundastorm', 'thunder', 'thunderbird', 'thunderbolt', 'thunderdom', 'thunderhead', 'thunderstorm', 'thunderstruck', 'thunk', 'thurman', 'thurr', 'thurston', 'thuuuuug', 'thw', 'thyme', 'thyself', 'ti', 'tia', 'tiananmen', 'tiavanna', 'tiaw', 'tibet', 'tibi', 'tic', 'tical', 'tick', 'ticket', 'ticki', 'tickin', 'tickl', 'ticklin', 'tidal', 'tidbit', 'tiddi', 'tide', 'tidewat', 'tidi', 'tie', 'tien', 'tierra', 'tiffani', 'tiger', 'tigger', 'tight', 'tighten', 'tightenin', 'tighter', 'tightin', 'tightrop', 'tiiiim', 'tiimmi', 'tijuana', 'tik', 'tiki', 'tile', 'till', 'tiller', 'tillin', 'tilo', 'tilt', 'tim', 'tima', 'timb', 'timbaland', 'timber', 'timberlak', 'timberland', 'timbo', 'timbuktu', 'time', 'timeless', 'timelin', 'timeout', 'timer', 'timex', 'timid', 'timin', 'timmi', 'timnathi', 'timothi', 'timpani', 'tin', 'tina', 'tinder', 'ting', 'tingl', 'tini', 'tinier', 'tink', 'tinker', 'tinkl', 'tinpin', 'tinsel', 'tinsl', 'tint', 'tintinnabul', 'tintrum', 'tio', 'tion', 'tionat', 'tip', 'tipper', 'tippi', 'tippin', 'tippiti', 'tipsey', 'tipsi', 'tipster', 'tipto', 'tirad', 'tire', 'tired', 'tireless', 'tirer', 'tirolean', 'tis', 'tisha', 'tisket', 'tissu', 'tit', 'tita', 'titan', 'titanium', 'tite', 'titi', 'titl', 'tito', 'titt', 'titti', 'titzommi', 'tive', 'tj', 'tjay', 'tjey', 'tjop', 'tlc', 'tle', 'tley', 'tller', 'tmazanec', 'tmz', 'tnt', 'to', 'toad', 'toanoth', 'toast', 'toaster', 'tobacco', 'tobacki', 'tobago', 'tobi', 'tocapillo', 'tock', 'tockin', 'tocopilla', 'toda', 'today', 'todd', 'toddi', 'toddl', 'todo', 'toe', 'toein', 'toejam', 'toenail', 'toer', 'toez', 'toga', 'togedd', 'togeth', 'togetherooh', 'togo', 'toi', 'toil', 'toilet', 'tok', 'toke', 'token', 'toker', 'tokin', 'tokyo', 'tol', 'told', 'toldl', 'toledo', 'toler', 'toll', 'tollin', 'tom', 'tomahawk', 'tomahto', 'tomak', 'tomar', 'tomarrow', 'tomato', 'tomb', 'tomboy', 'tombston', 'tomcat', 'tome', 'tommi', 'tommorra', 'tomohawk', 'tomorow', 'tomorrow', 'tomsk', 'ton', 'tonapah', 'tonda', 'tone', 'tonga', 'tongu', 'toni', 'tonia', 'tonic', 'tonight', 'toniiiiiight', 'toniiiiiiiight', 'tonit', 'tonk', 'tonker', 'tonkin', 'tono', 'tonopah', 'tonsil', 'tonto', 'tonya', 'toobo', 'tood', 'toodli', 'toodliata', 'tooken', 'tooki', 'tookin', 'tool', 'toolbox', 'toolin', 'tooloory', 'toon', 'toora', 'toosi', 'toot', 'tooth', 'toothach', 'toothbrush', 'toothpast', 'tootsi', 'top', 'topanga', 'topi', 'topic', 'topless', 'topolog', 'toppin', 'toppl', 'topsail', 'topsi', 'topsoil', 'tor', 'torch', 'torchlit', 'tore', 'toreador', 'torero', 'torito', 'torment', 'torn', 'tornado', 'toro', 'toronto', 'torp', 'torpor', 'torqu', 'torreon', 'torrid', 'torso', 'tortillia', 'tortur', 'toscanini', 'tosh', 'toss', 'tossin', 'tostig', 'tot', 'total', 'tote', 'totin', 'totter', 'totti', 'touch', 'touchabl', 'touchdown', 'touchi', 'touchin', 'tough', 'tougher', 'toughest', 'tought', 'toun', 'toung', 'toupe', 'tour', 'tourin', 'tourist', 'tournament', 'tourniquet', 'tous', 'tousl', 'tout', 'tow', 'towel', 'tower', 'towerin', 'town', 'towner', 'townhous', 'toxic', 'toy', 'toyland', 'toyota', 'tp', 'tpeach', 'tr', 'tra', 'trace', 'tracement', 'traci', 'track', 'tracker', 'trackin', 'traction', 'tractor', 'trad', 'trade', 'trademark', 'trader', 'tradin', 'tradion', 'tradit', 'traffic', 'tragedi', 'tragic', 'traicion', 'trail', 'trailer', 'trailin', 'trailway', 'train', 'trainer', 'trainwreck', 'traipsin', 'trair', 'trait', 'traitor', 'tram', 'tramlin', 'trammel', 'tramp', 'trampl', 'trampolin', 'tran', 'tranc', 'tranquil', 'tranquill', 'transcend', 'transcendent', 'transcrib', 'transcript', 'transendin', 'transfer', 'transfix', 'transform', 'transfus', 'transgend', 'transistor', 'transit', 'translat', 'transmiss', 'transmit', 'transmitt', 'transom', 'transpar', 'transpir', 'transport', 'transportin', 'transsexu', 'transvestit', 'transylvania', 'transylvanian', 'transylviania', 'traordinari', 'trap', 'trapdoor', 'trapez', 'traphous', 'trapmoneybenni', 'trapper', 'trappin', 'trapstar', 'trash', 'trashi', 'trashin', 'trataron', 'trauma', 'traumat', 'trav', 'travel', 'travelin', 'travellin', 'travelogu', 'travers', 'travi', 'travlin', 'trawler', 'tray', 'trayvon', 'traz', 'tre', 'treacher', 'treacheri', 'tread', 'treadmil', 'treason', 'treasur', 'treat', 'treati', 'treatin', 'treatment', 'trebbl', 'trebl', 'treblinka', 'tree', 'treed', 'treesh', 'treeshi', 'treetop', 'trek', 'trekker', 'tremain', 'trembl', 'tremblin', 'tremend', 'tremenda', 'tremendo', 'tremolo', 'trench', 'trenchcoat', 'trenchtown', 'trend', 'trendsett', 'trendz', 'trepid', 'tres', 'trespass', 'tress', 'tressel', 'trest', 'trestl', 'tresvant', 'trevor', 'trey', 'tri', 'trial', 'triangl', 'tribal', 'tribbl', 'tribe', 'tribul', 'tribut', 'trice', 'triceratop', 'trick', 'trickel', 'tricki', 'trickin', 'trickl', 'tricycl', 'trident', 'trife', 'triffl', 'trifl', 'triflin', 'trig', 'trigga', 'trigger', 'trigonometri', 'tril', 'trill', 'trilliat', 'trillion', 'trilog', 'trim', 'trimmin', 'trina', 'trini', 'trinidad', 'triniti', 'trinna', 'trio', 'trip', 'tripl', 'triplet', 'tripod', 'tripoli', 'tripper', 'trippi', 'trippier', 'trippin', 'trippl', 'trite', 'triumph', 'triumphant', 'trivial', 'trixi', 'trk', 'trl', 'troblesom', 'trod', 'trodden', 'troddin', 'troi', 'trojan', 'troka', 'trol', 'troll', 'trolley', 'trombon', 'tromp', 'tron', 'troop', 'trooper', 'trop', 'tropez', 'trophi', 'tropic', 'tropicana', 'trot', 'trott', 'trotter', 'trottin', 'troubadour', 'troubl', 'troublemak', 'troublesom', 'troublin', 'trough', 'troup', 'trouper', 'trouser', 'trout', 'trouver', 'trovar', 'trow', 'troy', 'trrrp', 'tru', 'truanci', 'truce', 'truck', 'trucker', 'truckin', 'truckload', 'truckstop', 'trudat', 'trudgin', 'true', 'truer', 'truest', 'truman', 'trump', 'trumpet', 'truncheon', 'trunk', 'trunkin', 'trust', 'trusti', 'trustin', 'trustworthi', 'trut', 'truth', 'truthin', 'tryin', 'tryn', 'tryna', 'trynna', 'tryst', 'tsk', 'tsunami', 'tthe', 'tthere', 'tttttttttrash', 'tu', 'tuaient', 'tub', 'tuba', 'tubb', 'tubba', 'tubbi', 'tube', 'tuber', 'tuberculosi', 'tuborg', 'tuck', 'tucker', 'tucson', 'tucumcari', 'tude', 'tuesday', 'tuff', 'tuffi', 'tuft', 'tug', 'tugboat', 'tuggel', 'tuggin', 'tuition', 'tuke', 'tularosa', 'tulip', 'tulsa', 'tum', 'tuma', 'tumbl', 'tumbler', 'tumblewe', 'tumblin', 'tummi', 'tumor', 'tun', 'tuna', 'tundra', 'tune', 'tung', 'tunic', 'tunin', 'tunisia', 'tunje', 'tunnel', 'tup', 'tupac', 'tupelo', 'turban', 'turbin', 'turbo', 'turbocharg', 'turbul', 'ture', 'turf', 'turk', 'turkey', 'turkish', 'turmoil', 'turn', 'turnaround', 'turnback', 'turner', 'turnin', 'turnip', 'turnout', 'turnpik', 'turnstil', 'turnt', 'turntabl', 'turpentin', 'turquois', 'turtl', 'turtledov', 'turutu', 'turututuru', 'tus', 'tuscaloosa', 'tuscon', 'tusk', 'tussl', 'tut', 'tutti', 'tuv', 'tux', 'tuxedo', 'tva', 'tvrn', 'twa', 'twain', 'twamp', 'twan', 'twang', 'twas', 'twead', 'tweak', 'tweaker', 'tweakin', 'tweddl', 'twee', 'tweec', 'tweed', 'tweedl', 'tweedle', 'tweedley', 'tweeker', 'tweekin', 'tween', 'tweenst', 'tweet', 'tweeter', 'tweetin', 'tweezer', 'twelfth', 'twelv', 'twenni', 'twenti', 'twentieth', 'twerk', 'twerkin', 'twicegonna', 'twicei', 'twich', 'twidd', 'twiddl', 'twig', 'twiggl', 'twilight', 'twill', 'twin', 'twine', 'twing', 'twinki', 'twinkl', 'twinkley', 'twinklin', 'twinsist', 'twirk', 'twirl', 'twist', 'twista', 'twister', 'twisti', 'twistin', 'twit', 'twitch', 'twitchi', 'twitchin', 'twitter', 'twitti', 'twos', 'twosom', 'tx', 'ty', 'tycoon', 'tye', 'tyin', 'tylenol', 'tyler', 'tylonol', 'tyou', 'type', 'typhoon', 'typic', 'tyranni', 'tyrant', 'tyre', 'tyres', 'tyron', 'tyrus', 'tyson', 'ua', 'uac', 'uah', 'ual', 'ub', 'uber', 'uck', 'ue', 'ufo', 'uganda', 'ugg', 'ugh', 'ughh', 'ughhh', 'ugk', 'ugli', 'uglier', 'ugliest', 'uha', 'uhhh', 'uhhhh', 'uhhhhh', 'uhhhhhhhh', 'uhm', 'uhmm', 'uhmmm', 'uhuh', 'uhuhh', 'uhuu', 'ukiah', 'ukilali', 'ukulel', 'ul', 'ule', 'ulster', 'ultim', 'ultima', 'ultra', 'ultrasex', 'ultraviolet', 'ulvaeus', 'uma', 'umara', 'umbil', 'umbrella', 'umi', 'ummkay', 'ummm', 'ummmm', 'ump', 'una', 'unabash', 'unabl', 'unaccept', 'unaffect', 'unafraid', 'unanim', 'unannounc', 'unansw', 'unapp', 'unapproach', 'unarm', 'unasham', 'unattain', 'unattend', 'unattract', 'unavail', 'unavoid', 'unawar', 'unbalanc', 'unbear', 'unbeat', 'unbeliev', 'unblind', 'unborn', 'unbound', 'unbow', 'unbreak', 'unbridl', 'unbroken', 'unbuckl', 'unburn', 'unbutton', 'unc', 'uncanni', 'unceas', 'uncertain', 'uncertainti', 'unchain', 'unchang', 'unchart', 'uncivil', 'uncl', 'unclean', 'uncleanli', 'unclear', 'unclench', 'uncloud', 'uncomfort', 'uncommon', 'uncompar', 'uncompl', 'uncondit', 'unconfid', 'unconfirm', 'unconsci', 'uncontain', 'uncontrol', 'uncool', 'uncorrect', 'uncov', 'uncross', 'uncrown', 'uncurl', 'uncut', 'und', 'unda', 'undacova', 'undea', 'undead', 'undecid', 'undefend', 'undefin', 'undemand', 'undeni', 'under', 'underag', 'undercov', 'underdevelop', 'underdog', 'underdos', 'underdress', 'underestim', 'underf', 'undergo', 'underground', 'underhand', 'underlin', 'underlov', 'undernourish', 'underp', 'underpaid', 'underprivileg', 'underr', 'underscor', 'underssin', 'understan', 'understand', 'understandin', 'undertak', 'undertand', 'underto', 'underton', 'undertow', 'underwat', 'underway', 'underwear', 'underwood', 'underworld', 'undesir', 'undetect', 'undi', 'undid', 'undiscov', 'undisput', 'undisturb', 'undivid', 'undo', 'undon', 'undot', 'undoubt', 'undress', 'undressin', 'undul', 'une', 'unearth', 'uneas', 'uneasi', 'uneduc', 'unemot', 'unemploy', 'unencumb', 'unend', 'unenlighten', 'unescap', 'unexpect', 'unexplain', 'unexpress', 'unexspect', 'unf', 'unfad', 'unfair', 'unfaith', 'unfamiliar', 'unfasten', 'unfelt', 'unfett', 'unfinish', 'unfit', 'unfold', 'unfollow', 'unforecast', 'unforeseen', 'unforgett', 'unforgiv', 'unforgiven', 'unforgivin', 'unfortun', 'unfound', 'unfunki', 'unfurl', 'unfurnish', 'ungh', 'unglu', 'ungrat', 'unh', 'unhand', 'unhappi', 'unhappy', 'unharm', 'unhaunt', 'unhealthi', 'unheard', 'unheed', 'unhind', 'unholi', 'uniblab', 'unichappel', 'unicorn', 'unifi', 'uniform', 'unimport', 'unimpress', 'uninspir', 'uninterest', 'uninvad', 'uninvit', 'union', 'uniqu', 'unison', 'unit', 'uniti', 'univers', 'unjust', 'unjustifi', 'unkind', 'unknow', 'unknowin', 'unknown', 'unkown', 'unladen', 'unlaw', 'unlead', 'unlearn', 'unleash', 'unlimit', 'unlit', 'unload', 'unlock', 'unloos', 'unlov', 'unlucki', 'unlyr', 'unmark', 'unmask', 'unmistak', 'unmistakin', 'unmitig', 'unmov', 'unnam', 'unnatur', 'unnecessari', 'unnecessarili', 'unnerv', 'unnot', 'uno', 'unobtain', 'unobtrus', 'unoffici', 'unopen', 'unorthodox', 'unpack', 'unpaid', 'unpatriot', 'unphotograph', 'unplan', 'unpleas', 'unpleasin', 'unplug', 'unpredict', 'unprepar', 'unpretti', 'unpunish', 'unpur', 'unquot', 'unrat', 'unravel', 'unravelin', 'unreach', 'unread', 'unreadi', 'unreal', 'unrecogn', 'unrefin', 'unrehears', 'unrequit', 'unresolv', 'unrest', 'unrestrain', 'unrev', 'unright', 'unrol', 'unruli', 'unsad', 'unsaf', 'unsaid', 'unsatisfi', 'unsay', 'unscar', 'unseal', 'unseen', 'unselfish', 'unsettl', 'unshar', 'unshown', 'unsight', 'unsign', 'unsink', 'unskinni', 'unsoil', 'unsolv', 'unsound', 'unspoil', 'unspoken', 'unstabl', 'unsteadi', 'unstopp', 'unstrung', 'unstuck', 'unsung', 'unsur', 'unsurpass', 'unsurprisin', 'unsuspect', 'untam', 'untangl', 'untarnish', 'unthink', 'unthought', 'unthreaten', 'unti', 'until', 'untold', 'untouch', 'untrim', 'untroduc', 'untru', 'untrust', 'unturn', 'unu', 'unuh', 'unusu', 'unveilin', 'unverifi', 'unvibeolist', 'unw', 'unwant', 'unwash', 'unwel', 'unwelcom', 'unwhol', 'unwil', 'unwillin', 'unwind', 'unwis', 'unworthi', 'unwound', 'unwrap', 'unwrit', 'unwritten', 'unzip', 'uoy', 'up', 'upbeat', 'updat', 'updatin', 'upfront', 'upgrad', 'uphil', 'uphold', 'upholst', 'uplift', 'upload', 'uppa', 'upper', 'uppin', 'upright', 'upris', 'uproot', 'upscal', 'upset', 'upsid', 'upsot', 'upstai', 'upstair', 'upstart', 'upstat', 'upstream', 'uptight', 'uptighten', 'upto', 'uptown', 'upward', 'upy', 'ur', 'urani', 'uranus', 'urban', 'urchin', 'urg', 'urgenc', 'urgent', 'urgin', 'urin', 'urkel', 'urld', 'urn', 'uruguay', 'usa', 'useless', 'user', 'usher', 'ushion', 'usin', 'uso', 'uss', 'ust', 'usual', 'ut', 'utah', 'utensil', 'util', 'utilis', 'utley', 'utmost', 'utopian', 'utter', 'uzi', 'vacanc', 'vacant', 'vacat', 'vacavill', 'vacay', 'vaccin', 'vacuum', 'vada', 'vagabond', 'vagina', 'vagu', 'vai', 'vain', 'val', 'vale', 'valedictorian', 'valentin', 'valentina', 'valentino', 'valenzuela', 'valeri', 'valet', 'valhalla', 'valiant', 'valium', 'valley', 'valli', 'valu', 'valuabl', 'valv', 'vamp', 'vampin', 'vampir', 'van', 'vancouv', 'vandal', 'vanderbilt', 'vandross', 'vane', 'vanella', 'vanessa', 'vanilla', 'vanilli', 'vanish', 'vaniti', 'vantag', 'vanzant', 'vape', 'vapor', 'vaporiza', 'vapour', 'vare', 'vari', 'varia', 'variat', 'variatio', 'variel', 'varieti', 'vas', 'vase', 'vaselin', 'vashti', 'vasolin', 'vassel', 'vast', 'vat', 'vate', 'vatican', 'vato', 'vaudevill', 'vaughn', 'vault', 'vauxhal', 'vaya', 'vb', 'vcl', 'vcr', 'vd', 'veal', 'vece', 'vedder', 'vedo', 'vee', 'veedon', 'vega', 'vegemintarian', 'vegemit', 'veget', 'vegetarian', 'veggi', 'vehicl', 'veil', 'vein', 'vela', 'velamint', 'velcro', 'veloc', 'velouria', 'velveeta', 'velvet', 'velveteen', 'ven', 'vendetta', 'vendor', 'veneer', 'veneno', 'venenosa', 'vener', 'venetian', 'venezuela', 'vengaboy', 'vengeanc', 'vengenc', 'vengo', 'venic', 'venit', 'venom', 'vent', 'venta', 'ventil', 'ventricl', 'ventur', 'ventus', 'venu', 'venus', 'vera', 'veral', 'veranda', 'verb', 'verbal', 'verbatim', 'verbos', 'verdad', 'verdi', 'verdict', 'verdictless', 'verg', 'verifi', 'verili', 'verlain', 'vermont', 'vernacular', 'verner', 'vernon', 'veronica', 'vers', 'versa', 'versac', 'versatil', 'versi', 'versifi', 'version', 'vertebra', 'vertibr', 'vertigo', 'veshawn', 'vesper', 'vessel', 'vest', 'vestal', 'vestig', 'vet', 'veteran', 'veto', 'vett', 'veux', 'vex', 'vey', 'veyron', 'vez', 'vi', 'viagra', 'vial', 'vibe', 'vibealaci', 'vibeolog', 'viber', 'vibiest', 'vibin', 'vibrant', 'vibrat', 'vibratin', 'vibro', 'vic', 'vicadin', 'vicarag', 'vicari', 'vice', 'vicin', 'vicious', 'vick', 'vicki', 'vicksburg', 'vict', 'victim', 'victor', 'victori', 'victoria', 'victorian', 'victorvill', 'victrola', 'vida', 'video', 'videotap', 'videt', 'vie', 'vieil', 'vien', 'vieni', 'vienna', 'vietnam', 'vietnames', 'vieux', 'view', 'vigil', 'vigila', 'vigilant', 'vigo', 'vigoda', 'vigor', 'vike', 'vile', 'vill', 'villa', 'villag', 'villain', 'villanova', 'villian', 'vim', 'vin', 'vinc', 'vincent', 'vindic', 'vindict', 'vine', 'vinegar', 'vineyard', 'ving', 'vinia', 'vinni', 'vino', 'vintag', 'vinton', 'vinyl', 'violat', 'violenc', 'violent', 'violet', 'violin', 'vip', 'viper', 'viral', 'virgen', 'virgil', 'virgin', 'virgina', 'virginia', 'virgo', 'viril', 'virtu', 'virtual', 'virtuous', 'virus', 'visa', 'visag', 'viscious', 'visibl', 'visin', 'vision', 'visionari', 'visit', 'visitor', 'visor', 'vista', 'visual', 'visualis', 'vit', 'vita', 'vital', 'vitamin', 'viv', 'viva', 'vivaci', 'vivant', 'vivid', 'vixen', 'vladivostok', 'vlone', 'vo', 'vobiscum', 'vocab', 'vocabulari', 'vocal', 'vocalist', 'vocalk', 'vocat', 'vodka', 'vogu', 'voi', 'voic', 'voicemail', 'void', 'voir', 'voix', 'volatil', 'volcano', 'vole', 'volet', 'volkswagen', 'volt', 'volta', 'voltag', 'voltron', 'volum', 'volunt', 'voluntari', 'volvo', 'vomino', 'vomit', 'vomitspit', 'von', 'voot', 'vor', 'vorrei', 'vote', 'voter', 'votin', 'vouch', 'voulez', 'voulu', 'vous', 'vouz', 'vow', 'vowel', 'vox', 'voy', 'voyag', 'voyant', 'voyeur', 'vuelv', 'vuelvo', 'vuitton', 'vulcha', 'vulgar', 'vulner', 'vultur', 'vvhi', 'waaav', 'wac', 'wack', 'wacker', 'wackest', 'wacki', 'wacko', 'waco', 'wad', 'waddl', 'wade', 'wadn', 'waffl', 'wafflin', 'waft', 'wag', 'wage', 'wager', 'wagg', 'waggin', 'waggl', 'wagin', 'wagner', 'wagon', 'wah', 'wahamum', 'wahhh', 'wahini', 'wahooo', 'waht', 'waikiki', 'wail', 'wailin', 'waist', 'waistlin', 'wait', 'waiter', 'waitin', 'waitladi', 'waitn', 'waitress', 'waiv', 'waiver', 'wak', 'waka', 'wakanda', 'wake', 'wakeem', 'waken', 'wakeup', 'wakin', 'wal', 'waldorf', 'wale', 'walin', 'walk', 'walkaway', 'walker', 'walki', 'walkin', 'walkman', 'walkway', 'wall', 'wallabe', 'wallac', 'waller', 'wallet', 'wallethead', 'walley', 'wallflow', 'walli', 'wallop', 'wallow', 'wallpap', 'walmart', 'walnut', 'walrus', 'walt', 'walter', 'waltz', 'wampum', 'wan', 'wana', 'wanan', 'wand', 'wanda', 'wander', 'wanderin', 'wanderlust', 'wandsworth', 'wane', 'wanetd', 'wang', 'wangl', 'wango', 'wank', 'wankl', 'wannab', 'wannabe', 'wannt', 'want', 'wanta', 'wantcha', 'wantin', 'wanton', 'wanya', 'wao', 'wap', 'war', 'warbl', 'ward', 'wardanc', 'warden', 'wardrob', 'ware', 'warehous', 'warfar', 'warfield', 'wari', 'warili', 'warlik', 'warlord', 'warm', 'warmer', 'warmest', 'warmin', 'warmth', 'warn', 'warner', 'warnin', 'warnt', 'warp', 'warrant', 'warranti', 'warren', 'warrior', 'wart', 'wartim', 'warwick', 'wasabi', 'wash', 'washah', 'washboard', 'washbon', 'washer', 'washin', 'washington', 'washout', 'washroom', 'waski', 'wasnt', 'wasp', 'wassi', 'wassup', 'wast', 'wasteland', 'waster', 'wasti', 'wastin', 'wat', 'watah', 'watch', 'watcha', 'watchah', 'watchdog', 'watcher', 'watchi', 'watchin', 'watchmen', 'watchtow', 'watchword', 'water', 'waterb', 'watercolor', 'waterfal', 'waterfront', 'waterg', 'waterhol', 'wateri', 'waterlin', 'waterloo', 'watermelon', 'waterproof', 'waterspout', 'watervill', 'watev', 'watley', 'watson', 'watt', 'wattz', 'watusi', 'wave', 'wavelength', 'waver', 'wavi', 'wavin', 'wax', 'waxen', 'waxin', 'way', 'wayfarin', 'wayi', 'wayif', 'waylon', 'waymor', 'wayn', 'wayout', 'waysid', 'wayward', 'waz', 'wazoo', 'weak', 'weaken', 'weaker', 'weakest', 'weakl', 'weal', 'wealth', 'wealthi', 'wealthiest', 'weapin', 'weapon', 'weaponari', 'wear', 'weari', 'wearin', 'wearisom', 'weasel', 'weathah', 'weather', 'weatherman', 'weathervan', 'weav', 'weaver', 'weavin', 'web', 'webster', 'wed', 'weddin', 'wedg', 'wedlock', 'wednesday', 'wee', 'weed', 'weee', 'week', 'weekday', 'weekend', 'weem', 'weeni', 'weep', 'weeper', 'weepi', 'weepin', 'weer', 'weevil', 'weezi', 'wegen', 'weh', 'weigh', 'weighin', 'weight', 'weightless', 'weird', 'weirdo', 'weisman', 'welch', 'welcom', 'welfar', 'weli', 'welk', 'well', 'wella', 'wellin', 'welllll', 'wellllllll', 'welt', 'wen', 'wencesla', 'wench', 'wend', 'wendel', 'wendi', 'wep', 'wept', 'wer', 'werewolf', 'werewolv', 'wernher', 'wes', 'wesley', 'wesson', 'west', 'westbound', 'westend', 'wester', 'western', 'westminst', 'weston', 'westsid', 'westsiiiiid', 'westsiiiiiid', 'westward', 'wet', 'wetcha', 'wetsuit', 'wetter', 'wetti', 'wettin', 'weve', 'wewr', 'wewter', 'wey', 'wezzi', 'wha', 'whaaaat', 'whack', 'whad', 'whadda', 'whaddaya', 'whaddya', 'whale', 'whaler', 'wham', 'whammi', 'whao', 'whap', 'whassup', 'whataya', 'whatcha', 'whatchoo', 'whatchu', 'whatev', 'whatevah', 'whatsa', 'whatsoev', 'whattaya', 'whattup', 'whawk', 'whe', 'wheat', 'wheater', 'wheatfield', 'whee', 'wheel', 'wheelchair', 'wheeler', 'wheeli', 'wheelin', 'wheelz', 'wheez', 'wheezey', 'wheezin', 'whene', 'whereabout', 'whereev', 'wherefor', 'whet', 'whew', 'whey', 'whichin', 'whiff', 'whiffl', 'whila', 'while', 'whilin', 'whimper', 'whine', 'whiner', 'whini', 'whinin', 'whino', 'whip', 'whiplash', 'whippet', 'whippin', 'whippoorwil', 'whipporwil', 'whirl', 'whirlpool', 'whirlwind', 'whisk', 'whisker', 'whiskey', 'whiski', 'whisper', 'whisperin', 'whistl', 'whistler', 'whistlin', 'whit', 'whitcup', 'white', 'whitehal', 'whitehous', 'whiter', 'whitesid', 'whitesnak', 'whitest', 'whith', 'whitley', 'whitney', 'whittl', 'whiz', 'whizz', 'whoaa', 'whoaaaa', 'whoaaaaa', 'whoadi', 'whoah', 'whoahhhhh', 'whoaw', 'whoay', 'whodi', 'wholesom', 'wholi', 'wholli', 'whomsoev', 'whooa', 'whooaa', 'whooah', 'whooee', 'whoomp', 'whooo', 'whoooa', 'whoooaaah', 'whoooah', 'whooof', 'whoooo', 'whooooa', 'whooooaaa', 'whooooo', 'whooooooooa', 'whoooooooooooooooooooo', 'whoop', 'whoope', 'whooperwil', 'whoopi', 'whoopin', 'whoopti', 'whop', 'whopper', 'whore', 'whorin', 'whosoev', 'whup', 'whylin', 'whys', 'whyyyyyyyyyyyyyyyy', 'wi', 'wibbl', 'wichita', 'wick', 'wickenburg', 'wicker', 'wicket', 'wicki', 'wid', 'wide', 'wider', 'widest', 'widow', 'wie', 'wiedersehen', 'wield', 'wiener', 'wienerwold', 'wife', 'wifey', 'wiff', 'wiffl', 'wifi', 'wifin', 'wig', 'wigg', 'wigger', 'wiggida', 'wiggl', 'wigglin', 'wigwam', 'wihtout', 'wiiiiiith', 'wiiiiith', 'wil', 'wilbur', 'wild', 'wildcat', 'wilder', 'wildest', 'wildfir', 'wildflow', 'wildin', 'wildlif', 'wildwood', 'wile', 'wiley', 'wili', 'wilik', 'will', 'willi', 'william', 'williamson', 'willin', 'willow', 'willz', 'wilson', 'wilt', 'wilzay', 'wilzzo', 'wimen', 'wimp', 'wimpi', 'win', 'winchel', 'winchest', 'wind', 'windblown', 'windburn', 'windex', 'windi', 'windin', 'windless', 'windmil', 'window', 'windown', 'windowpain', 'windowpan', 'windowsil', 'windpip', 'windshield', 'windsor', 'windstorm', 'windsurf', 'windwo', 'wine', 'winel', 'wing', 'winger', 'wingier', 'wingin', 'wini', 'wink', 'winkin', 'winkl', 'winless', 'winnebago', 'winnemucca', 'winner', 'winni', 'winnin', 'wino', 'winona', 'winslow', 'winston', 'winter', 'winteri', 'winterlud', 'wintertim', 'wintri', 'winyour', 'wip', 'wipe', 'wiper', 'wipin', 'wippin', 'wire', 'wireless', 'wirklich', 'wisconsin', 'wisdom', 'wise', 'wiseman', 'wisemen', 'wiser', 'wish', 'wishbon', 'wishin', 'wishlist', 'wisin', 'wison', 'wisp', 'wisper', 'wispi', 'wist', 'wit', 'witch', 'witcha', 'witchcraft', 'witcheri', 'witchin', 'witcho', 'witchu', 'withcha', 'withdraw', 'withdrawl', 'withdrawn', 'wither', 'withhold', 'withouth', 'withstand', 'withstood', 'witless', 'witnessin', 'witout', 'witterten', 'witti', 'wive', 'wiz', 'wizard', 'wizardri', 'wiznork', 'wizzard', 'wizzat', 'wizzay', 'wizze', 'wizzerk', 'wizzi', 'wizzl', 'wizzork', 'wll', 'wlththe', 'wn', 'wnat', 'woa', 'woaaahhh', 'woadi', 'woahh', 'woahhh', 'woahhhh', 'woahhhhh', 'wobbedi', 'wobbl', 'wockhardt', 'woday', 'woe', 'woebegon', 'wohh', 'woho', 'woi', 'wok', 'wokcano', 'woke', 'woken', 'wokhardt', 'wolf', 'wolfman', 'wolinski', 'wollow', 'wollten', 'wolrd', 'wolv', 'wolverin', 'wolverton', 'womack', 'woman', 'womanhood', 'womb', 'women', 'woncha', 'wond', 'wonder', 'wonderful', 'wonderin', 'wonderland', 'wonderwal', 'wondrin', 'wondrous', 'wontcha', 'wonton', 'woo', 'wood', 'woodbin', 'woodi', 'woodland', 'woodsh', 'woodsmok', 'woofer', 'woog', 'woogi', 'wooki', 'wool', 'wooleri', 'wooli', 'woolli', 'woop', 'woozi', 'word', 'wordland', 'wordplay', 'wore', 'work', 'workabl', 'workday', 'worker', 'workin', 'workout', 'workplac', 'workshop', 'world', 'worldnet', 'worldwid', 'worm', 'wormwood', 'worn', 'worri', 'worrin', 'worrisom', 'worryin', 'wors', 'worser', 'worsham', 'worship', 'worshipp', 'worshippin', 'worst', 'worstest', 'worth', 'worthi', 'worthless', 'worthwhil', 'worthwil', 'woulda', 'wouldb', 'wouldda', 'wouldnt', 'wouldst', 'wouldv', 'wound', 'woven', 'wow', 'woyi', 'wrack', 'wraith', 'wrangl', 'wrangler', 'wrap', 'wrapper', 'wrappin', 'wrath', 'wreath', 'wreck', 'wreckag', 'wrecker', 'wreckin', 'wreckless', 'wreckx', 'wren', 'wrench', 'wrestl', 'wrestler', 'wrestlin', 'wretch', 'wrickiti', 'wriggl', 'wright', 'wrigley', 'wring', 'wringin', 'wrinkl', 'wrist', 'wristband', 'wristwatch', 'writ', 'write', 'writeen', 'writer', 'writh', 'writin', 'written', 'writtin', 'wrld', 'wrong', 'wronger', 'wrote', 'wrought', 'wth', 'wu', 'wuffin', 'wuh', 'wuld', 'wuppin', 'wur', 'wurlitz', 'wussi', 'wuther', 'wuz', 'ww', 'wwi', 'wyck', 'wyclef', 'wylin', 'wynett', 'wynona', 'wyo', 'wyom', 'wyomin', 'wyte', 'xan', 'xanadu', 'xanax', 'xanni', 'xcalibur', 'xception', 'xcite', 'xclamat', 'xd', 'xerox', 'xiii', 'xin', 'xm', 'xmas', 'xo', 'xon', 'xp', 'xscape', 'xt', 'xtasi', 'xtravag', 'xtrodinari', 'xuber', 'xxl', 'xylophon', 'xyz', 'xzibit', 'yaa', 'yabba', 'yabbadabbadoo', 'yabo', 'yac', 'yacht', 'yack', 'yacketi', 'yacth', 'yae', 'yahh', 'yahoo', 'yak', 'yakiti', 'yakkin', 'yakko', 'yaknowhati', 'yale', 'yall', 'yaln', 'yam', 'yamamoto', 'yaminel', 'yan', 'yang', 'yank', 'yanke', 'yankin', 'yaow', 'yap', 'yappin', 'yard', 'yardstick', 'yarmulk', 'yarn', 'yas', 'yaself', 'yasgur', 'yatch', 'yate', 'yatzhe', 'yauch', 'yawl', 'yawn', 'yawnin', 'yayo', 'yazz', 'ybe', 'yeaa', 'yeaaaaa', 'yeaaaaaaah', 'yeaaaah', 'yeaaah', 'yeaah', 'yeaahhh', 'yeaahhhh', 'yeahh', 'yeahhh', 'yeahhhh', 'yeahhhhh', 'yeahhhhhh', 'yeahhhhhhhhh', 'yeahhhhhhhhhh', 'yeahyeahyeah', 'yeahyeahyeahyeahyeahyeah', 'yeahyou', 'yeap', 'year', 'yearbook', 'yearl', 'yearn', 'yearnin', 'yeast', 'yee', 'yeeaaaaah', 'yeeaaahhh', 'yeeaah', 'yeeaahhh', 'yeeah', 'yeeahh', 'yeeeaaah', 'yeeeaaahhh', 'yeeeaaahhhh', 'yeeeah', 'yeeee', 'yeeeeaaaaaaaaaaah', 'yeeeeeeah', 'yeeeeh', 'yeeh', 'yeehaw', 'yeezi', 'yeih', 'yell', 'yella', 'yeller', 'yellin', 'yello', 'yellow', 'yellowi', 'yellowman', 'yemen', 'yen', 'yene', 'yenni', 'yeoo', 'yeow', 'yep', 'yeppi', 'yer', 'yessa', 'yessir', 'yesss', 'yessss', 'yestarday', 'yesterday', 'yesteryear', 'yeti', 'yeux', 'yew', 'yha', 'yibbedi', 'yield', 'yihla', 'yiiii', 'yike', 'yilzal', 'ying', 'yipe', 'yipp', 'yippe', 'yippedi', 'yippi', 'yiy', 'yizzal', 'yknahmean', 'ym', 'ymca', 'yoakam', 'yod', 'yodel', 'yoga', 'yogi', 'yoh', 'yohji', 'yoke', 'yoko', 'yokohama', 'yolanda', 'yolk', 'yom', 'yoma', 'yon', 'yonana', 'yonder', 'yonk', 'yonker', 'yoo', 'yoohoo', 'yooooooou', 'yoooooou', 'yooooou', 'yoooou', 'yoooow', 'yoou', 'yop', 'yor', 'yore', 'yorgunum', 'york', 'yorker', 'yosemit', 'yota', 'youdead', 'youe', 'youg', 'youi', 'youit', 'youknowhatimean', 'youknowimean', 'youknowmsayin', 'youll', 'youman', 'young', 'youngblood', 'youngboy', 'youngbuck', 'younger', 'youngest', 'youngin', 'youngl', 'youngsta', 'youngster', 'youngun', 'yourr', 'yoursef', 'yourself', 'yous', 'youth', 'youto', 'youtub', 'youv', 'yucki', 'yukon', 'yuletid', 'yummi', 'yuppi', 'yvonn', 'zachari', 'zaddi', 'zag', 'zair', 'zani', 'zanzing', 'zap', 'zapato', 'zeal', 'zebra', 'zephanyl', 'zero', 'zigga', 'ziggi', 'zillionair', 'zimbabw', 'zimmi', 'zine', 'zinger', 'zip', 'zippedi', 'zipper', 'zit', 'zoink', 'zombi', 'zone', 'zoo', 'zooki', 'zoom', 'zoop', 'zooti']\n",
      "[0 0 0 ... 0 0 0]\n",
      "['Very happy', 'Sad', 'Sad', 'Very Sad', 'Happy', ..., 'Very happy', 'Sad', 'Average', 'Average', 'Sad']\n",
      "Length: 10000\n",
      "Categories (5, object): ['Very Sad' < 'Sad' < 'Average' < 'Happy' < 'Very happy']\n"
     ]
    }
   ],
   "source": [
    "# Creating the Bag of Words model \n",
    "from sklearn.feature_extraction.text import CountVectorizer \n",
    "\n",
    "# To extract max 1500 feature. \n",
    "# \"max_features\" is attribute to \n",
    "# experiment with to get better results \n",
    "cv = CountVectorizer() \n",
    "\n",
    "# X contains corpus (dependent variable) \n",
    "X = cv.fit_transform(corpus).toarray() \n",
    "\n",
    "# y contains answers if review \n",
    "# is positive or negative \n",
    "y = db_eng['valence_bin'].values\n",
    "print(len(cv.get_feature_names()))\n",
    "print(cv.get_feature_names())\n",
    "print(X[0])\n",
    "print(y)"
   ]
  },
  {
   "cell_type": "code",
   "execution_count": 29,
   "id": "complimentary-statistics",
   "metadata": {},
   "outputs": [],
   "source": [
    "from sklearn.feature_extraction.text import TfidfVectorizer\n",
    "obj = TfidfVectorizer()\n",
    "\n",
    "X = obj.fit_transform(corpus)\n"
   ]
  },
  {
   "cell_type": "markdown",
   "id": "wrapped-bulletin",
   "metadata": {},
   "source": [
    "# Split"
   ]
  },
  {
   "cell_type": "code",
   "execution_count": 30,
   "id": "hairy-vegetable",
   "metadata": {},
   "outputs": [],
   "source": [
    "from sklearn.model_selection import train_test_split \n",
    "\n",
    "# experiment with \"test_size\" \n",
    "# to get better results \n",
    "X_train, X_test, y_train, y_test = train_test_split(X, y, test_size = 0.25) "
   ]
  },
  {
   "cell_type": "markdown",
   "id": "processed-bread",
   "metadata": {},
   "source": [
    "# 1) Random Forest"
   ]
  },
  {
   "cell_type": "code",
   "execution_count": 31,
   "id": "empty-canal",
   "metadata": {},
   "outputs": [],
   "source": [
    "numbers=[200,500, 1000]\n",
    "y_pred=[]\n",
    "for number in numbers:\n",
    "    model = RandomForestClassifier(n_estimators = number,criterion = 'entropy') \n",
    "    model.fit(X_train, y_train) \n",
    "    y_pred.append(model.predict(X_test))\n",
    "    "
   ]
  },
  {
   "cell_type": "code",
   "execution_count": 32,
   "id": "parental-brave",
   "metadata": {},
   "outputs": [
    {
     "data": {
      "application/vnd.plotly.v1+json": {
       "config": {
        "plotlyServerURL": "https://plot.ly"
       },
       "data": [
        {
         "coloraxis": "coloraxis",
         "type": "heatmap",
         "x": [
          "Very Sad",
          "Sad",
          "Average",
          "Happy",
          "Very happy"
         ],
         "xaxis": "x",
         "y": [
          "Very Sad",
          "Sad",
          "Average",
          "Happy",
          "Very happy"
         ],
         "yaxis": "y",
         "z": [
          [
           145,
           189,
           175,
           5,
           95
          ],
          [
           143,
           230,
           110,
           0,
           125
          ],
          [
           144,
           120,
           180,
           10,
           56
          ],
          [
           54,
           35,
           119,
           12,
           17
          ],
          [
           91,
           189,
           61,
           0,
           195
          ]
         ]
        },
        {
         "coloraxis": "coloraxis",
         "type": "heatmap",
         "x": [
          "Very Sad",
          "Sad",
          "Average",
          "Happy",
          "Very happy"
         ],
         "xaxis": "x2",
         "y": [
          "Very Sad",
          "Sad",
          "Average",
          "Happy",
          "Very happy"
         ],
         "yaxis": "y2",
         "z": [
          [
           157,
           188,
           160,
           4,
           100
          ],
          [
           136,
           230,
           107,
           0,
           135
          ],
          [
           152,
           114,
           184,
           10,
           50
          ],
          [
           55,
           32,
           115,
           14,
           21
          ],
          [
           82,
           183,
           72,
           0,
           199
          ]
         ]
        },
        {
         "coloraxis": "coloraxis",
         "type": "heatmap",
         "x": [
          "Very Sad",
          "Sad",
          "Average",
          "Happy",
          "Very happy"
         ],
         "xaxis": "x3",
         "y": [
          "Very Sad",
          "Sad",
          "Average",
          "Happy",
          "Very happy"
         ],
         "yaxis": "y3",
         "z": [
          [
           136,
           189,
           179,
           4,
           101
          ],
          [
           123,
           248,
           119,
           0,
           118
          ],
          [
           127,
           117,
           212,
           11,
           43
          ],
          [
           43,
           38,
           122,
           13,
           21
          ],
          [
           79,
           196,
           66,
           0,
           195
          ]
         ]
        },
        {
         "type": "scatter",
         "x": [
          200,
          500,
          1000
         ],
         "xaxis": "x4",
         "y": [
          0.29502260448590456,
          0.3041667842664228,
          0.3090933784816907
         ],
         "yaxis": "y4"
        }
       ],
       "layout": {
        "annotations": [
         {
          "font": {
           "size": 16
          },
          "showarrow": false,
          "text": "200 estimators",
          "x": 0.14444444444444446,
          "xanchor": "center",
          "xref": "paper",
          "y": 1,
          "yanchor": "bottom",
          "yref": "paper"
         },
         {
          "font": {
           "size": 16
          },
          "showarrow": false,
          "text": "500 estimators",
          "x": 0.5,
          "xanchor": "center",
          "xref": "paper",
          "y": 1,
          "yanchor": "bottom",
          "yref": "paper"
         },
         {
          "font": {
           "size": 16
          },
          "showarrow": false,
          "text": "1000 estimators",
          "x": 0.8555555555555556,
          "xanchor": "center",
          "xref": "paper",
          "y": 1,
          "yanchor": "bottom",
          "yref": "paper"
         },
         {
          "font": {
           "size": 16
          },
          "showarrow": false,
          "text": "f1 score",
          "x": 0.5,
          "xanchor": "center",
          "xref": "paper",
          "y": 0.375,
          "yanchor": "bottom",
          "yref": "paper"
         }
        ],
        "coloraxis": {
         "colorscale": [
          [
           0,
           "rgb(247,251,255)"
          ],
          [
           0.125,
           "rgb(222,235,247)"
          ],
          [
           0.25,
           "rgb(198,219,239)"
          ],
          [
           0.375,
           "rgb(158,202,225)"
          ],
          [
           0.5,
           "rgb(107,174,214)"
          ],
          [
           0.625,
           "rgb(66,146,198)"
          ],
          [
           0.75,
           "rgb(33,113,181)"
          ],
          [
           0.875,
           "rgb(8,81,156)"
          ],
          [
           1,
           "rgb(8,48,107)"
          ]
         ]
        },
        "template": {
         "data": {
          "bar": [
           {
            "error_x": {
             "color": "#2a3f5f"
            },
            "error_y": {
             "color": "#2a3f5f"
            },
            "marker": {
             "line": {
              "color": "#E5ECF6",
              "width": 0.5
             }
            },
            "type": "bar"
           }
          ],
          "barpolar": [
           {
            "marker": {
             "line": {
              "color": "#E5ECF6",
              "width": 0.5
             }
            },
            "type": "barpolar"
           }
          ],
          "carpet": [
           {
            "aaxis": {
             "endlinecolor": "#2a3f5f",
             "gridcolor": "white",
             "linecolor": "white",
             "minorgridcolor": "white",
             "startlinecolor": "#2a3f5f"
            },
            "baxis": {
             "endlinecolor": "#2a3f5f",
             "gridcolor": "white",
             "linecolor": "white",
             "minorgridcolor": "white",
             "startlinecolor": "#2a3f5f"
            },
            "type": "carpet"
           }
          ],
          "choropleth": [
           {
            "colorbar": {
             "outlinewidth": 0,
             "ticks": ""
            },
            "type": "choropleth"
           }
          ],
          "contour": [
           {
            "colorbar": {
             "outlinewidth": 0,
             "ticks": ""
            },
            "colorscale": [
             [
              0,
              "#0d0887"
             ],
             [
              0.1111111111111111,
              "#46039f"
             ],
             [
              0.2222222222222222,
              "#7201a8"
             ],
             [
              0.3333333333333333,
              "#9c179e"
             ],
             [
              0.4444444444444444,
              "#bd3786"
             ],
             [
              0.5555555555555556,
              "#d8576b"
             ],
             [
              0.6666666666666666,
              "#ed7953"
             ],
             [
              0.7777777777777778,
              "#fb9f3a"
             ],
             [
              0.8888888888888888,
              "#fdca26"
             ],
             [
              1,
              "#f0f921"
             ]
            ],
            "type": "contour"
           }
          ],
          "contourcarpet": [
           {
            "colorbar": {
             "outlinewidth": 0,
             "ticks": ""
            },
            "type": "contourcarpet"
           }
          ],
          "heatmap": [
           {
            "colorbar": {
             "outlinewidth": 0,
             "ticks": ""
            },
            "colorscale": [
             [
              0,
              "#0d0887"
             ],
             [
              0.1111111111111111,
              "#46039f"
             ],
             [
              0.2222222222222222,
              "#7201a8"
             ],
             [
              0.3333333333333333,
              "#9c179e"
             ],
             [
              0.4444444444444444,
              "#bd3786"
             ],
             [
              0.5555555555555556,
              "#d8576b"
             ],
             [
              0.6666666666666666,
              "#ed7953"
             ],
             [
              0.7777777777777778,
              "#fb9f3a"
             ],
             [
              0.8888888888888888,
              "#fdca26"
             ],
             [
              1,
              "#f0f921"
             ]
            ],
            "type": "heatmap"
           }
          ],
          "heatmapgl": [
           {
            "colorbar": {
             "outlinewidth": 0,
             "ticks": ""
            },
            "colorscale": [
             [
              0,
              "#0d0887"
             ],
             [
              0.1111111111111111,
              "#46039f"
             ],
             [
              0.2222222222222222,
              "#7201a8"
             ],
             [
              0.3333333333333333,
              "#9c179e"
             ],
             [
              0.4444444444444444,
              "#bd3786"
             ],
             [
              0.5555555555555556,
              "#d8576b"
             ],
             [
              0.6666666666666666,
              "#ed7953"
             ],
             [
              0.7777777777777778,
              "#fb9f3a"
             ],
             [
              0.8888888888888888,
              "#fdca26"
             ],
             [
              1,
              "#f0f921"
             ]
            ],
            "type": "heatmapgl"
           }
          ],
          "histogram": [
           {
            "marker": {
             "colorbar": {
              "outlinewidth": 0,
              "ticks": ""
             }
            },
            "type": "histogram"
           }
          ],
          "histogram2d": [
           {
            "colorbar": {
             "outlinewidth": 0,
             "ticks": ""
            },
            "colorscale": [
             [
              0,
              "#0d0887"
             ],
             [
              0.1111111111111111,
              "#46039f"
             ],
             [
              0.2222222222222222,
              "#7201a8"
             ],
             [
              0.3333333333333333,
              "#9c179e"
             ],
             [
              0.4444444444444444,
              "#bd3786"
             ],
             [
              0.5555555555555556,
              "#d8576b"
             ],
             [
              0.6666666666666666,
              "#ed7953"
             ],
             [
              0.7777777777777778,
              "#fb9f3a"
             ],
             [
              0.8888888888888888,
              "#fdca26"
             ],
             [
              1,
              "#f0f921"
             ]
            ],
            "type": "histogram2d"
           }
          ],
          "histogram2dcontour": [
           {
            "colorbar": {
             "outlinewidth": 0,
             "ticks": ""
            },
            "colorscale": [
             [
              0,
              "#0d0887"
             ],
             [
              0.1111111111111111,
              "#46039f"
             ],
             [
              0.2222222222222222,
              "#7201a8"
             ],
             [
              0.3333333333333333,
              "#9c179e"
             ],
             [
              0.4444444444444444,
              "#bd3786"
             ],
             [
              0.5555555555555556,
              "#d8576b"
             ],
             [
              0.6666666666666666,
              "#ed7953"
             ],
             [
              0.7777777777777778,
              "#fb9f3a"
             ],
             [
              0.8888888888888888,
              "#fdca26"
             ],
             [
              1,
              "#f0f921"
             ]
            ],
            "type": "histogram2dcontour"
           }
          ],
          "mesh3d": [
           {
            "colorbar": {
             "outlinewidth": 0,
             "ticks": ""
            },
            "type": "mesh3d"
           }
          ],
          "parcoords": [
           {
            "line": {
             "colorbar": {
              "outlinewidth": 0,
              "ticks": ""
             }
            },
            "type": "parcoords"
           }
          ],
          "pie": [
           {
            "automargin": true,
            "type": "pie"
           }
          ],
          "scatter": [
           {
            "marker": {
             "colorbar": {
              "outlinewidth": 0,
              "ticks": ""
             }
            },
            "type": "scatter"
           }
          ],
          "scatter3d": [
           {
            "line": {
             "colorbar": {
              "outlinewidth": 0,
              "ticks": ""
             }
            },
            "marker": {
             "colorbar": {
              "outlinewidth": 0,
              "ticks": ""
             }
            },
            "type": "scatter3d"
           }
          ],
          "scattercarpet": [
           {
            "marker": {
             "colorbar": {
              "outlinewidth": 0,
              "ticks": ""
             }
            },
            "type": "scattercarpet"
           }
          ],
          "scattergeo": [
           {
            "marker": {
             "colorbar": {
              "outlinewidth": 0,
              "ticks": ""
             }
            },
            "type": "scattergeo"
           }
          ],
          "scattergl": [
           {
            "marker": {
             "colorbar": {
              "outlinewidth": 0,
              "ticks": ""
             }
            },
            "type": "scattergl"
           }
          ],
          "scattermapbox": [
           {
            "marker": {
             "colorbar": {
              "outlinewidth": 0,
              "ticks": ""
             }
            },
            "type": "scattermapbox"
           }
          ],
          "scatterpolar": [
           {
            "marker": {
             "colorbar": {
              "outlinewidth": 0,
              "ticks": ""
             }
            },
            "type": "scatterpolar"
           }
          ],
          "scatterpolargl": [
           {
            "marker": {
             "colorbar": {
              "outlinewidth": 0,
              "ticks": ""
             }
            },
            "type": "scatterpolargl"
           }
          ],
          "scatterternary": [
           {
            "marker": {
             "colorbar": {
              "outlinewidth": 0,
              "ticks": ""
             }
            },
            "type": "scatterternary"
           }
          ],
          "surface": [
           {
            "colorbar": {
             "outlinewidth": 0,
             "ticks": ""
            },
            "colorscale": [
             [
              0,
              "#0d0887"
             ],
             [
              0.1111111111111111,
              "#46039f"
             ],
             [
              0.2222222222222222,
              "#7201a8"
             ],
             [
              0.3333333333333333,
              "#9c179e"
             ],
             [
              0.4444444444444444,
              "#bd3786"
             ],
             [
              0.5555555555555556,
              "#d8576b"
             ],
             [
              0.6666666666666666,
              "#ed7953"
             ],
             [
              0.7777777777777778,
              "#fb9f3a"
             ],
             [
              0.8888888888888888,
              "#fdca26"
             ],
             [
              1,
              "#f0f921"
             ]
            ],
            "type": "surface"
           }
          ],
          "table": [
           {
            "cells": {
             "fill": {
              "color": "#EBF0F8"
             },
             "line": {
              "color": "white"
             }
            },
            "header": {
             "fill": {
              "color": "#C8D4E3"
             },
             "line": {
              "color": "white"
             }
            },
            "type": "table"
           }
          ]
         },
         "layout": {
          "annotationdefaults": {
           "arrowcolor": "#2a3f5f",
           "arrowhead": 0,
           "arrowwidth": 1
          },
          "autotypenumbers": "strict",
          "coloraxis": {
           "colorbar": {
            "outlinewidth": 0,
            "ticks": ""
           }
          },
          "colorscale": {
           "diverging": [
            [
             0,
             "#8e0152"
            ],
            [
             0.1,
             "#c51b7d"
            ],
            [
             0.2,
             "#de77ae"
            ],
            [
             0.3,
             "#f1b6da"
            ],
            [
             0.4,
             "#fde0ef"
            ],
            [
             0.5,
             "#f7f7f7"
            ],
            [
             0.6,
             "#e6f5d0"
            ],
            [
             0.7,
             "#b8e186"
            ],
            [
             0.8,
             "#7fbc41"
            ],
            [
             0.9,
             "#4d9221"
            ],
            [
             1,
             "#276419"
            ]
           ],
           "sequential": [
            [
             0,
             "#0d0887"
            ],
            [
             0.1111111111111111,
             "#46039f"
            ],
            [
             0.2222222222222222,
             "#7201a8"
            ],
            [
             0.3333333333333333,
             "#9c179e"
            ],
            [
             0.4444444444444444,
             "#bd3786"
            ],
            [
             0.5555555555555556,
             "#d8576b"
            ],
            [
             0.6666666666666666,
             "#ed7953"
            ],
            [
             0.7777777777777778,
             "#fb9f3a"
            ],
            [
             0.8888888888888888,
             "#fdca26"
            ],
            [
             1,
             "#f0f921"
            ]
           ],
           "sequentialminus": [
            [
             0,
             "#0d0887"
            ],
            [
             0.1111111111111111,
             "#46039f"
            ],
            [
             0.2222222222222222,
             "#7201a8"
            ],
            [
             0.3333333333333333,
             "#9c179e"
            ],
            [
             0.4444444444444444,
             "#bd3786"
            ],
            [
             0.5555555555555556,
             "#d8576b"
            ],
            [
             0.6666666666666666,
             "#ed7953"
            ],
            [
             0.7777777777777778,
             "#fb9f3a"
            ],
            [
             0.8888888888888888,
             "#fdca26"
            ],
            [
             1,
             "#f0f921"
            ]
           ]
          },
          "colorway": [
           "#636efa",
           "#EF553B",
           "#00cc96",
           "#ab63fa",
           "#FFA15A",
           "#19d3f3",
           "#FF6692",
           "#B6E880",
           "#FF97FF",
           "#FECB52"
          ],
          "font": {
           "color": "#2a3f5f"
          },
          "geo": {
           "bgcolor": "white",
           "lakecolor": "white",
           "landcolor": "#E5ECF6",
           "showlakes": true,
           "showland": true,
           "subunitcolor": "white"
          },
          "hoverlabel": {
           "align": "left"
          },
          "hovermode": "closest",
          "mapbox": {
           "style": "light"
          },
          "paper_bgcolor": "white",
          "plot_bgcolor": "#E5ECF6",
          "polar": {
           "angularaxis": {
            "gridcolor": "white",
            "linecolor": "white",
            "ticks": ""
           },
           "bgcolor": "#E5ECF6",
           "radialaxis": {
            "gridcolor": "white",
            "linecolor": "white",
            "ticks": ""
           }
          },
          "scene": {
           "xaxis": {
            "backgroundcolor": "#E5ECF6",
            "gridcolor": "white",
            "gridwidth": 2,
            "linecolor": "white",
            "showbackground": true,
            "ticks": "",
            "zerolinecolor": "white"
           },
           "yaxis": {
            "backgroundcolor": "#E5ECF6",
            "gridcolor": "white",
            "gridwidth": 2,
            "linecolor": "white",
            "showbackground": true,
            "ticks": "",
            "zerolinecolor": "white"
           },
           "zaxis": {
            "backgroundcolor": "#E5ECF6",
            "gridcolor": "white",
            "gridwidth": 2,
            "linecolor": "white",
            "showbackground": true,
            "ticks": "",
            "zerolinecolor": "white"
           }
          },
          "shapedefaults": {
           "line": {
            "color": "#2a3f5f"
           }
          },
          "ternary": {
           "aaxis": {
            "gridcolor": "white",
            "linecolor": "white",
            "ticks": ""
           },
           "baxis": {
            "gridcolor": "white",
            "linecolor": "white",
            "ticks": ""
           },
           "bgcolor": "#E5ECF6",
           "caxis": {
            "gridcolor": "white",
            "linecolor": "white",
            "ticks": ""
           }
          },
          "title": {
           "x": 0.05
          },
          "xaxis": {
           "automargin": true,
           "gridcolor": "white",
           "linecolor": "white",
           "ticks": "",
           "title": {
            "standoff": 15
           },
           "zerolinecolor": "white",
           "zerolinewidth": 2
          },
          "yaxis": {
           "automargin": true,
           "gridcolor": "white",
           "linecolor": "white",
           "ticks": "",
           "title": {
            "standoff": 15
           },
           "zerolinecolor": "white",
           "zerolinewidth": 2
          }
         }
        },
        "title": {
         "text": "Random forest"
        },
        "xaxis": {
         "anchor": "y",
         "domain": [
          0,
          0.2888888888888889
         ]
        },
        "xaxis2": {
         "anchor": "y2",
         "domain": [
          0.35555555555555557,
          0.6444444444444445
         ]
        },
        "xaxis3": {
         "anchor": "y3",
         "domain": [
          0.7111111111111111,
          1
         ]
        },
        "xaxis4": {
         "anchor": "y4",
         "domain": [
          0,
          1
         ]
        },
        "yaxis": {
         "anchor": "x",
         "domain": [
          0.625,
          1
         ]
        },
        "yaxis2": {
         "anchor": "x2",
         "domain": [
          0.625,
          1
         ],
         "matches": "y",
         "showticklabels": false
        },
        "yaxis3": {
         "anchor": "x3",
         "domain": [
          0.625,
          1
         ],
         "matches": "y",
         "showticklabels": false
        },
        "yaxis4": {
         "anchor": "x4",
         "domain": [
          0,
          0.375
         ]
        }
       }
      },
      "text/html": [
       "<div>                            <div id=\"7e5424a5-3154-4853-afe8-8eb047a54f9f\" class=\"plotly-graph-div\" style=\"height:525px; width:100%;\"></div>            <script type=\"text/javascript\">                require([\"plotly\"], function(Plotly) {                    window.PLOTLYENV=window.PLOTLYENV || {};                                    if (document.getElementById(\"7e5424a5-3154-4853-afe8-8eb047a54f9f\")) {                    Plotly.newPlot(                        \"7e5424a5-3154-4853-afe8-8eb047a54f9f\",                        [{\"coloraxis\": \"coloraxis\", \"type\": \"heatmap\", \"x\": [\"Very Sad\", \"Sad\", \"Average\", \"Happy\", \"Very happy\"], \"xaxis\": \"x\", \"y\": [\"Very Sad\", \"Sad\", \"Average\", \"Happy\", \"Very happy\"], \"yaxis\": \"y\", \"z\": [[145, 189, 175, 5, 95], [143, 230, 110, 0, 125], [144, 120, 180, 10, 56], [54, 35, 119, 12, 17], [91, 189, 61, 0, 195]]}, {\"coloraxis\": \"coloraxis\", \"type\": \"heatmap\", \"x\": [\"Very Sad\", \"Sad\", \"Average\", \"Happy\", \"Very happy\"], \"xaxis\": \"x2\", \"y\": [\"Very Sad\", \"Sad\", \"Average\", \"Happy\", \"Very happy\"], \"yaxis\": \"y2\", \"z\": [[157, 188, 160, 4, 100], [136, 230, 107, 0, 135], [152, 114, 184, 10, 50], [55, 32, 115, 14, 21], [82, 183, 72, 0, 199]]}, {\"coloraxis\": \"coloraxis\", \"type\": \"heatmap\", \"x\": [\"Very Sad\", \"Sad\", \"Average\", \"Happy\", \"Very happy\"], \"xaxis\": \"x3\", \"y\": [\"Very Sad\", \"Sad\", \"Average\", \"Happy\", \"Very happy\"], \"yaxis\": \"y3\", \"z\": [[136, 189, 179, 4, 101], [123, 248, 119, 0, 118], [127, 117, 212, 11, 43], [43, 38, 122, 13, 21], [79, 196, 66, 0, 195]]}, {\"type\": \"scatter\", \"x\": [200, 500, 1000], \"xaxis\": \"x4\", \"y\": [0.29502260448590456, 0.3041667842664228, 0.3090933784816907], \"yaxis\": \"y4\"}],                        {\"annotations\": [{\"font\": {\"size\": 16}, \"showarrow\": false, \"text\": \"200 estimators\", \"x\": 0.14444444444444446, \"xanchor\": \"center\", \"xref\": \"paper\", \"y\": 1.0, \"yanchor\": \"bottom\", \"yref\": \"paper\"}, {\"font\": {\"size\": 16}, \"showarrow\": false, \"text\": \"500 estimators\", \"x\": 0.5, \"xanchor\": \"center\", \"xref\": \"paper\", \"y\": 1.0, \"yanchor\": \"bottom\", \"yref\": \"paper\"}, {\"font\": {\"size\": 16}, \"showarrow\": false, \"text\": \"1000 estimators\", \"x\": 0.8555555555555556, \"xanchor\": \"center\", \"xref\": \"paper\", \"y\": 1.0, \"yanchor\": \"bottom\", \"yref\": \"paper\"}, {\"font\": {\"size\": 16}, \"showarrow\": false, \"text\": \"f1 score\", \"x\": 0.5, \"xanchor\": \"center\", \"xref\": \"paper\", \"y\": 0.375, \"yanchor\": \"bottom\", \"yref\": \"paper\"}], \"coloraxis\": {\"colorscale\": [[0.0, \"rgb(247,251,255)\"], [0.125, \"rgb(222,235,247)\"], [0.25, \"rgb(198,219,239)\"], [0.375, \"rgb(158,202,225)\"], [0.5, \"rgb(107,174,214)\"], [0.625, \"rgb(66,146,198)\"], [0.75, \"rgb(33,113,181)\"], [0.875, \"rgb(8,81,156)\"], [1.0, \"rgb(8,48,107)\"]]}, \"template\": {\"data\": {\"bar\": [{\"error_x\": {\"color\": \"#2a3f5f\"}, \"error_y\": {\"color\": \"#2a3f5f\"}, \"marker\": {\"line\": {\"color\": \"#E5ECF6\", \"width\": 0.5}}, \"type\": \"bar\"}], \"barpolar\": [{\"marker\": {\"line\": {\"color\": \"#E5ECF6\", \"width\": 0.5}}, \"type\": \"barpolar\"}], \"carpet\": [{\"aaxis\": {\"endlinecolor\": \"#2a3f5f\", \"gridcolor\": \"white\", \"linecolor\": \"white\", \"minorgridcolor\": \"white\", \"startlinecolor\": \"#2a3f5f\"}, \"baxis\": {\"endlinecolor\": \"#2a3f5f\", \"gridcolor\": \"white\", \"linecolor\": \"white\", \"minorgridcolor\": \"white\", \"startlinecolor\": \"#2a3f5f\"}, \"type\": \"carpet\"}], \"choropleth\": [{\"colorbar\": {\"outlinewidth\": 0, \"ticks\": \"\"}, \"type\": \"choropleth\"}], \"contour\": [{\"colorbar\": {\"outlinewidth\": 0, \"ticks\": \"\"}, \"colorscale\": [[0.0, \"#0d0887\"], [0.1111111111111111, \"#46039f\"], [0.2222222222222222, \"#7201a8\"], [0.3333333333333333, \"#9c179e\"], [0.4444444444444444, \"#bd3786\"], [0.5555555555555556, \"#d8576b\"], [0.6666666666666666, \"#ed7953\"], [0.7777777777777778, \"#fb9f3a\"], [0.8888888888888888, \"#fdca26\"], [1.0, \"#f0f921\"]], \"type\": \"contour\"}], \"contourcarpet\": [{\"colorbar\": {\"outlinewidth\": 0, \"ticks\": \"\"}, \"type\": \"contourcarpet\"}], \"heatmap\": [{\"colorbar\": {\"outlinewidth\": 0, \"ticks\": \"\"}, \"colorscale\": [[0.0, \"#0d0887\"], [0.1111111111111111, \"#46039f\"], [0.2222222222222222, \"#7201a8\"], [0.3333333333333333, \"#9c179e\"], [0.4444444444444444, \"#bd3786\"], [0.5555555555555556, \"#d8576b\"], [0.6666666666666666, \"#ed7953\"], [0.7777777777777778, \"#fb9f3a\"], [0.8888888888888888, \"#fdca26\"], [1.0, \"#f0f921\"]], \"type\": \"heatmap\"}], \"heatmapgl\": [{\"colorbar\": {\"outlinewidth\": 0, \"ticks\": \"\"}, \"colorscale\": [[0.0, \"#0d0887\"], [0.1111111111111111, \"#46039f\"], [0.2222222222222222, \"#7201a8\"], [0.3333333333333333, \"#9c179e\"], [0.4444444444444444, \"#bd3786\"], [0.5555555555555556, \"#d8576b\"], [0.6666666666666666, \"#ed7953\"], [0.7777777777777778, \"#fb9f3a\"], [0.8888888888888888, \"#fdca26\"], [1.0, \"#f0f921\"]], \"type\": \"heatmapgl\"}], \"histogram\": [{\"marker\": {\"colorbar\": {\"outlinewidth\": 0, \"ticks\": \"\"}}, \"type\": \"histogram\"}], \"histogram2d\": [{\"colorbar\": {\"outlinewidth\": 0, \"ticks\": \"\"}, \"colorscale\": [[0.0, \"#0d0887\"], [0.1111111111111111, \"#46039f\"], [0.2222222222222222, \"#7201a8\"], [0.3333333333333333, \"#9c179e\"], [0.4444444444444444, \"#bd3786\"], [0.5555555555555556, \"#d8576b\"], [0.6666666666666666, \"#ed7953\"], [0.7777777777777778, \"#fb9f3a\"], [0.8888888888888888, \"#fdca26\"], [1.0, \"#f0f921\"]], \"type\": \"histogram2d\"}], \"histogram2dcontour\": [{\"colorbar\": {\"outlinewidth\": 0, \"ticks\": \"\"}, \"colorscale\": [[0.0, \"#0d0887\"], [0.1111111111111111, \"#46039f\"], [0.2222222222222222, \"#7201a8\"], [0.3333333333333333, \"#9c179e\"], [0.4444444444444444, \"#bd3786\"], [0.5555555555555556, \"#d8576b\"], [0.6666666666666666, \"#ed7953\"], [0.7777777777777778, \"#fb9f3a\"], [0.8888888888888888, \"#fdca26\"], [1.0, \"#f0f921\"]], \"type\": \"histogram2dcontour\"}], \"mesh3d\": [{\"colorbar\": {\"outlinewidth\": 0, \"ticks\": \"\"}, \"type\": \"mesh3d\"}], \"parcoords\": [{\"line\": {\"colorbar\": {\"outlinewidth\": 0, \"ticks\": \"\"}}, \"type\": \"parcoords\"}], \"pie\": [{\"automargin\": true, \"type\": \"pie\"}], \"scatter\": [{\"marker\": {\"colorbar\": {\"outlinewidth\": 0, \"ticks\": \"\"}}, \"type\": \"scatter\"}], \"scatter3d\": [{\"line\": {\"colorbar\": {\"outlinewidth\": 0, \"ticks\": \"\"}}, \"marker\": {\"colorbar\": {\"outlinewidth\": 0, \"ticks\": \"\"}}, \"type\": \"scatter3d\"}], \"scattercarpet\": [{\"marker\": {\"colorbar\": {\"outlinewidth\": 0, \"ticks\": \"\"}}, \"type\": \"scattercarpet\"}], \"scattergeo\": [{\"marker\": {\"colorbar\": {\"outlinewidth\": 0, \"ticks\": \"\"}}, \"type\": \"scattergeo\"}], \"scattergl\": [{\"marker\": {\"colorbar\": {\"outlinewidth\": 0, \"ticks\": \"\"}}, \"type\": \"scattergl\"}], \"scattermapbox\": [{\"marker\": {\"colorbar\": {\"outlinewidth\": 0, \"ticks\": \"\"}}, \"type\": \"scattermapbox\"}], \"scatterpolar\": [{\"marker\": {\"colorbar\": {\"outlinewidth\": 0, \"ticks\": \"\"}}, \"type\": \"scatterpolar\"}], \"scatterpolargl\": [{\"marker\": {\"colorbar\": {\"outlinewidth\": 0, \"ticks\": \"\"}}, \"type\": \"scatterpolargl\"}], \"scatterternary\": [{\"marker\": {\"colorbar\": {\"outlinewidth\": 0, \"ticks\": \"\"}}, \"type\": \"scatterternary\"}], \"surface\": [{\"colorbar\": {\"outlinewidth\": 0, \"ticks\": \"\"}, \"colorscale\": [[0.0, \"#0d0887\"], [0.1111111111111111, \"#46039f\"], [0.2222222222222222, \"#7201a8\"], [0.3333333333333333, \"#9c179e\"], [0.4444444444444444, \"#bd3786\"], [0.5555555555555556, \"#d8576b\"], [0.6666666666666666, \"#ed7953\"], [0.7777777777777778, \"#fb9f3a\"], [0.8888888888888888, \"#fdca26\"], [1.0, \"#f0f921\"]], \"type\": \"surface\"}], \"table\": [{\"cells\": {\"fill\": {\"color\": \"#EBF0F8\"}, \"line\": {\"color\": \"white\"}}, \"header\": {\"fill\": {\"color\": \"#C8D4E3\"}, \"line\": {\"color\": \"white\"}}, \"type\": \"table\"}]}, \"layout\": {\"annotationdefaults\": {\"arrowcolor\": \"#2a3f5f\", \"arrowhead\": 0, \"arrowwidth\": 1}, \"autotypenumbers\": \"strict\", \"coloraxis\": {\"colorbar\": {\"outlinewidth\": 0, \"ticks\": \"\"}}, \"colorscale\": {\"diverging\": [[0, \"#8e0152\"], [0.1, \"#c51b7d\"], [0.2, \"#de77ae\"], [0.3, \"#f1b6da\"], [0.4, \"#fde0ef\"], [0.5, \"#f7f7f7\"], [0.6, \"#e6f5d0\"], [0.7, \"#b8e186\"], [0.8, \"#7fbc41\"], [0.9, \"#4d9221\"], [1, \"#276419\"]], \"sequential\": [[0.0, \"#0d0887\"], [0.1111111111111111, \"#46039f\"], [0.2222222222222222, \"#7201a8\"], [0.3333333333333333, \"#9c179e\"], [0.4444444444444444, \"#bd3786\"], [0.5555555555555556, \"#d8576b\"], [0.6666666666666666, \"#ed7953\"], [0.7777777777777778, \"#fb9f3a\"], [0.8888888888888888, \"#fdca26\"], [1.0, \"#f0f921\"]], \"sequentialminus\": [[0.0, \"#0d0887\"], [0.1111111111111111, \"#46039f\"], [0.2222222222222222, \"#7201a8\"], [0.3333333333333333, \"#9c179e\"], [0.4444444444444444, \"#bd3786\"], [0.5555555555555556, \"#d8576b\"], [0.6666666666666666, \"#ed7953\"], [0.7777777777777778, \"#fb9f3a\"], [0.8888888888888888, \"#fdca26\"], [1.0, \"#f0f921\"]]}, \"colorway\": [\"#636efa\", \"#EF553B\", \"#00cc96\", \"#ab63fa\", \"#FFA15A\", \"#19d3f3\", \"#FF6692\", \"#B6E880\", \"#FF97FF\", \"#FECB52\"], \"font\": {\"color\": \"#2a3f5f\"}, \"geo\": {\"bgcolor\": \"white\", \"lakecolor\": \"white\", \"landcolor\": \"#E5ECF6\", \"showlakes\": true, \"showland\": true, \"subunitcolor\": \"white\"}, \"hoverlabel\": {\"align\": \"left\"}, \"hovermode\": \"closest\", \"mapbox\": {\"style\": \"light\"}, \"paper_bgcolor\": \"white\", \"plot_bgcolor\": \"#E5ECF6\", \"polar\": {\"angularaxis\": {\"gridcolor\": \"white\", \"linecolor\": \"white\", \"ticks\": \"\"}, \"bgcolor\": \"#E5ECF6\", \"radialaxis\": {\"gridcolor\": \"white\", \"linecolor\": \"white\", \"ticks\": \"\"}}, \"scene\": {\"xaxis\": {\"backgroundcolor\": \"#E5ECF6\", \"gridcolor\": \"white\", \"gridwidth\": 2, \"linecolor\": \"white\", \"showbackground\": true, \"ticks\": \"\", \"zerolinecolor\": \"white\"}, \"yaxis\": {\"backgroundcolor\": \"#E5ECF6\", \"gridcolor\": \"white\", \"gridwidth\": 2, \"linecolor\": \"white\", \"showbackground\": true, \"ticks\": \"\", \"zerolinecolor\": \"white\"}, \"zaxis\": {\"backgroundcolor\": \"#E5ECF6\", \"gridcolor\": \"white\", \"gridwidth\": 2, \"linecolor\": \"white\", \"showbackground\": true, \"ticks\": \"\", \"zerolinecolor\": \"white\"}}, \"shapedefaults\": {\"line\": {\"color\": \"#2a3f5f\"}}, \"ternary\": {\"aaxis\": {\"gridcolor\": \"white\", \"linecolor\": \"white\", \"ticks\": \"\"}, \"baxis\": {\"gridcolor\": \"white\", \"linecolor\": \"white\", \"ticks\": \"\"}, \"bgcolor\": \"#E5ECF6\", \"caxis\": {\"gridcolor\": \"white\", \"linecolor\": \"white\", \"ticks\": \"\"}}, \"title\": {\"x\": 0.05}, \"xaxis\": {\"automargin\": true, \"gridcolor\": \"white\", \"linecolor\": \"white\", \"ticks\": \"\", \"title\": {\"standoff\": 15}, \"zerolinecolor\": \"white\", \"zerolinewidth\": 2}, \"yaxis\": {\"automargin\": true, \"gridcolor\": \"white\", \"linecolor\": \"white\", \"ticks\": \"\", \"title\": {\"standoff\": 15}, \"zerolinecolor\": \"white\", \"zerolinewidth\": 2}}}, \"title\": {\"text\": \"Random forest\"}, \"xaxis\": {\"anchor\": \"y\", \"domain\": [0.0, 0.2888888888888889]}, \"xaxis2\": {\"anchor\": \"y2\", \"domain\": [0.35555555555555557, 0.6444444444444445]}, \"xaxis3\": {\"anchor\": \"y3\", \"domain\": [0.7111111111111111, 1.0]}, \"xaxis4\": {\"anchor\": \"y4\", \"domain\": [0.0, 1.0]}, \"yaxis\": {\"anchor\": \"x\", \"domain\": [0.625, 1.0]}, \"yaxis2\": {\"anchor\": \"x2\", \"domain\": [0.625, 1.0], \"matches\": \"y\", \"showticklabels\": false}, \"yaxis3\": {\"anchor\": \"x3\", \"domain\": [0.625, 1.0], \"matches\": \"y\", \"showticklabels\": false}, \"yaxis4\": {\"anchor\": \"x4\", \"domain\": [0.0, 0.375]}},                        {\"responsive\": true}                    ).then(function(){\n",
       "                            \n",
       "var gd = document.getElementById('7e5424a5-3154-4853-afe8-8eb047a54f9f');\n",
       "var x = new MutationObserver(function (mutations, observer) {{\n",
       "        var display = window.getComputedStyle(gd).display;\n",
       "        if (!display || display === 'none') {{\n",
       "            console.log([gd, 'removed!']);\n",
       "            Plotly.purge(gd);\n",
       "            observer.disconnect();\n",
       "        }}\n",
       "}});\n",
       "\n",
       "// Listen for the removal of the full notebook cells\n",
       "var notebookContainer = gd.closest('#notebook-container');\n",
       "if (notebookContainer) {{\n",
       "    x.observe(notebookContainer, {childList: true});\n",
       "}}\n",
       "\n",
       "// Listen for the clearing of the current output cell\n",
       "var outputEl = gd.closest('.output');\n",
       "if (outputEl) {{\n",
       "    x.observe(outputEl, {childList: true});\n",
       "}}\n",
       "\n",
       "                        })                };                });            </script>        </div>"
      ]
     },
     "metadata": {},
     "output_type": "display_data"
    }
   ],
   "source": [
    "\n",
    "fig = make_subplots(rows=2, cols=3, specs=[[{},{},{}],\n",
    "           [{\"colspan\": 3}, None,None]],start_cell=\"top-left\",shared_yaxes='rows',\n",
    "                    subplot_titles=['200 estimators','500 estimators','1000 estimators','f1 score'])\n",
    "\n",
    "for n in range(3):\n",
    "    cm = confusion_matrix(y_test, y_pred[n]) \n",
    "    fig.add_trace(go.Heatmap(z=cm.tolist(),x=group,y=group, coloraxis=\"coloraxis\"),row=1, col=n+1)\n",
    "y_vec=[metrics.f1_score(y_test, y_pred[n],average='weighted') for n in range(3)]\n",
    "fig.update_layout(coloraxis=dict(colorscale='Blues'))\n",
    "fig.add_trace(go.Scatter(x=[200,500,1000],y=y_vec),row=2, col=1)\n",
    "fig.update_layout(title_text=\"Random forest\")  \n",
    "\n",
    "fig.show()"
   ]
  },
  {
   "cell_type": "markdown",
   "id": "infectious-retailer",
   "metadata": {},
   "source": [
    "# 2) Neural Network"
   ]
  },
  {
   "cell_type": "code",
   "execution_count": 36,
   "id": "ranging-garage",
   "metadata": {},
   "outputs": [
    {
     "data": {
      "text/plain": [
       "array(['Sad', 'Happy', 'Sad', ..., 'Sad', 'Happy', 'Average'],\n",
       "      dtype='<U10')"
      ]
     },
     "execution_count": 36,
     "metadata": {},
     "output_type": "execute_result"
    }
   ],
   "source": [
    "from sklearn.neural_network import MLPClassifier\n",
    "clf = MLPClassifier(solver='lbfgs', alpha=1e-5, random_state=1,max_iter=1000)\n",
    "clf.fit(X_train, y_train)\n",
    "\n",
    "y_pred= clf.predict(X_test)\n",
    "y_pred"
   ]
  },
  {
   "cell_type": "code",
   "execution_count": 37,
   "id": "hispanic-theme",
   "metadata": {},
   "outputs": [
    {
     "name": "stdout",
     "output_type": "stream",
     "text": [
      "              precision    recall  f1-score   support\n",
      "\n",
      "     Average       0.26      0.25      0.25       609\n",
      "       Happy       0.28      0.29      0.29       608\n",
      "         Sad       0.25      0.26      0.26       510\n",
      "    Very Sad       0.22      0.24      0.23       237\n",
      "  Very happy       0.34      0.31      0.32       536\n",
      "\n",
      "    accuracy                           0.27      2500\n",
      "   macro avg       0.27      0.27      0.27      2500\n",
      "weighted avg       0.28      0.27      0.28      2500\n",
      "\n",
      "[[153 145 142  63 106]\n",
      " [148 178 122  39 121]\n",
      " [129 109 134  68  70]\n",
      " [ 42  49  62  56  28]\n",
      " [127 146  66  31 166]]\n"
     ]
    }
   ],
   "source": [
    "cm = confusion_matrix(y_test, y_pred)\n",
    "print(metrics.classification_report(y_test, y_pred))\n",
    "print(metrics.confusion_matrix(y_test, y_pred))"
   ]
  },
  {
   "cell_type": "markdown",
   "id": "taken-stopping",
   "metadata": {},
   "source": [
    "# 3) Naive Bayes"
   ]
  },
  {
   "cell_type": "code",
   "execution_count": 38,
   "id": "prompt-dakota",
   "metadata": {},
   "outputs": [
    {
     "ename": "TypeError",
     "evalue": "A sparse matrix was passed, but dense data is required. Use X.toarray() to convert to a dense numpy array.",
     "output_type": "error",
     "traceback": [
      "\u001b[1;31m---------------------------------------------------------------------------\u001b[0m",
      "\u001b[1;31mTypeError\u001b[0m                                 Traceback (most recent call last)",
      "\u001b[1;32m<ipython-input-38-50c55eb57667>\u001b[0m in \u001b[0;36m<module>\u001b[1;34m\u001b[0m\n\u001b[0;32m      2\u001b[0m \u001b[1;33m\u001b[0m\u001b[0m\n\u001b[0;32m      3\u001b[0m \u001b[0mmodel\u001b[0m \u001b[1;33m=\u001b[0m \u001b[0mGaussianNB\u001b[0m\u001b[1;33m(\u001b[0m\u001b[1;33m)\u001b[0m\u001b[1;33m\u001b[0m\u001b[1;33m\u001b[0m\u001b[0m\n\u001b[1;32m----> 4\u001b[1;33m \u001b[0mmodel\u001b[0m\u001b[1;33m.\u001b[0m\u001b[0mfit\u001b[0m\u001b[1;33m(\u001b[0m\u001b[0mX_train\u001b[0m\u001b[1;33m,\u001b[0m \u001b[0my_train\u001b[0m\u001b[1;33m)\u001b[0m\u001b[1;33m\u001b[0m\u001b[1;33m\u001b[0m\u001b[0m\n\u001b[0m\u001b[0;32m      5\u001b[0m \u001b[0my_pred\u001b[0m \u001b[1;33m=\u001b[0m \u001b[0mmodel\u001b[0m\u001b[1;33m.\u001b[0m\u001b[0mpredict\u001b[0m\u001b[1;33m(\u001b[0m\u001b[0mX_test\u001b[0m\u001b[1;33m)\u001b[0m\u001b[1;33m\u001b[0m\u001b[1;33m\u001b[0m\u001b[0m\n",
      "\u001b[1;32mC:\\ProgramData\\Anaconda3\\lib\\site-packages\\sklearn\\naive_bayes.py\u001b[0m in \u001b[0;36mfit\u001b[1;34m(self, X, y, sample_weight)\u001b[0m\n\u001b[0;32m    205\u001b[0m         \u001b[0mself\u001b[0m \u001b[1;33m:\u001b[0m \u001b[0mobject\u001b[0m\u001b[1;33m\u001b[0m\u001b[1;33m\u001b[0m\u001b[0m\n\u001b[0;32m    206\u001b[0m         \"\"\"\n\u001b[1;32m--> 207\u001b[1;33m         \u001b[0mX\u001b[0m\u001b[1;33m,\u001b[0m \u001b[0my\u001b[0m \u001b[1;33m=\u001b[0m \u001b[0mself\u001b[0m\u001b[1;33m.\u001b[0m\u001b[0m_validate_data\u001b[0m\u001b[1;33m(\u001b[0m\u001b[0mX\u001b[0m\u001b[1;33m,\u001b[0m \u001b[0my\u001b[0m\u001b[1;33m)\u001b[0m\u001b[1;33m\u001b[0m\u001b[1;33m\u001b[0m\u001b[0m\n\u001b[0m\u001b[0;32m    208\u001b[0m         \u001b[0my\u001b[0m \u001b[1;33m=\u001b[0m \u001b[0mcolumn_or_1d\u001b[0m\u001b[1;33m(\u001b[0m\u001b[0my\u001b[0m\u001b[1;33m,\u001b[0m \u001b[0mwarn\u001b[0m\u001b[1;33m=\u001b[0m\u001b[1;32mTrue\u001b[0m\u001b[1;33m)\u001b[0m\u001b[1;33m\u001b[0m\u001b[1;33m\u001b[0m\u001b[0m\n\u001b[0;32m    209\u001b[0m         return self._partial_fit(X, y, np.unique(y), _refit=True,\n",
      "\u001b[1;32mC:\\ProgramData\\Anaconda3\\lib\\site-packages\\sklearn\\base.py\u001b[0m in \u001b[0;36m_validate_data\u001b[1;34m(self, X, y, reset, validate_separately, **check_params)\u001b[0m\n\u001b[0;32m    431\u001b[0m                 \u001b[0my\u001b[0m \u001b[1;33m=\u001b[0m \u001b[0mcheck_array\u001b[0m\u001b[1;33m(\u001b[0m\u001b[0my\u001b[0m\u001b[1;33m,\u001b[0m \u001b[1;33m**\u001b[0m\u001b[0mcheck_y_params\u001b[0m\u001b[1;33m)\u001b[0m\u001b[1;33m\u001b[0m\u001b[1;33m\u001b[0m\u001b[0m\n\u001b[0;32m    432\u001b[0m             \u001b[1;32melse\u001b[0m\u001b[1;33m:\u001b[0m\u001b[1;33m\u001b[0m\u001b[1;33m\u001b[0m\u001b[0m\n\u001b[1;32m--> 433\u001b[1;33m                 \u001b[0mX\u001b[0m\u001b[1;33m,\u001b[0m \u001b[0my\u001b[0m \u001b[1;33m=\u001b[0m \u001b[0mcheck_X_y\u001b[0m\u001b[1;33m(\u001b[0m\u001b[0mX\u001b[0m\u001b[1;33m,\u001b[0m \u001b[0my\u001b[0m\u001b[1;33m,\u001b[0m \u001b[1;33m**\u001b[0m\u001b[0mcheck_params\u001b[0m\u001b[1;33m)\u001b[0m\u001b[1;33m\u001b[0m\u001b[1;33m\u001b[0m\u001b[0m\n\u001b[0m\u001b[0;32m    434\u001b[0m             \u001b[0mout\u001b[0m \u001b[1;33m=\u001b[0m \u001b[0mX\u001b[0m\u001b[1;33m,\u001b[0m \u001b[0my\u001b[0m\u001b[1;33m\u001b[0m\u001b[1;33m\u001b[0m\u001b[0m\n\u001b[0;32m    435\u001b[0m \u001b[1;33m\u001b[0m\u001b[0m\n",
      "\u001b[1;32mC:\\ProgramData\\Anaconda3\\lib\\site-packages\\sklearn\\utils\\validation.py\u001b[0m in \u001b[0;36minner_f\u001b[1;34m(*args, **kwargs)\u001b[0m\n\u001b[0;32m     61\u001b[0m             \u001b[0mextra_args\u001b[0m \u001b[1;33m=\u001b[0m \u001b[0mlen\u001b[0m\u001b[1;33m(\u001b[0m\u001b[0margs\u001b[0m\u001b[1;33m)\u001b[0m \u001b[1;33m-\u001b[0m \u001b[0mlen\u001b[0m\u001b[1;33m(\u001b[0m\u001b[0mall_args\u001b[0m\u001b[1;33m)\u001b[0m\u001b[1;33m\u001b[0m\u001b[1;33m\u001b[0m\u001b[0m\n\u001b[0;32m     62\u001b[0m             \u001b[1;32mif\u001b[0m \u001b[0mextra_args\u001b[0m \u001b[1;33m<=\u001b[0m \u001b[1;36m0\u001b[0m\u001b[1;33m:\u001b[0m\u001b[1;33m\u001b[0m\u001b[1;33m\u001b[0m\u001b[0m\n\u001b[1;32m---> 63\u001b[1;33m                 \u001b[1;32mreturn\u001b[0m \u001b[0mf\u001b[0m\u001b[1;33m(\u001b[0m\u001b[1;33m*\u001b[0m\u001b[0margs\u001b[0m\u001b[1;33m,\u001b[0m \u001b[1;33m**\u001b[0m\u001b[0mkwargs\u001b[0m\u001b[1;33m)\u001b[0m\u001b[1;33m\u001b[0m\u001b[1;33m\u001b[0m\u001b[0m\n\u001b[0m\u001b[0;32m     64\u001b[0m \u001b[1;33m\u001b[0m\u001b[0m\n\u001b[0;32m     65\u001b[0m             \u001b[1;31m# extra_args > 0\u001b[0m\u001b[1;33m\u001b[0m\u001b[1;33m\u001b[0m\u001b[1;33m\u001b[0m\u001b[0m\n",
      "\u001b[1;32mC:\\ProgramData\\Anaconda3\\lib\\site-packages\\sklearn\\utils\\validation.py\u001b[0m in \u001b[0;36mcheck_X_y\u001b[1;34m(X, y, accept_sparse, accept_large_sparse, dtype, order, copy, force_all_finite, ensure_2d, allow_nd, multi_output, ensure_min_samples, ensure_min_features, y_numeric, estimator)\u001b[0m\n\u001b[0;32m    812\u001b[0m         \u001b[1;32mraise\u001b[0m \u001b[0mValueError\u001b[0m\u001b[1;33m(\u001b[0m\u001b[1;34m\"y cannot be None\"\u001b[0m\u001b[1;33m)\u001b[0m\u001b[1;33m\u001b[0m\u001b[1;33m\u001b[0m\u001b[0m\n\u001b[0;32m    813\u001b[0m \u001b[1;33m\u001b[0m\u001b[0m\n\u001b[1;32m--> 814\u001b[1;33m     X = check_array(X, accept_sparse=accept_sparse,\n\u001b[0m\u001b[0;32m    815\u001b[0m                     \u001b[0maccept_large_sparse\u001b[0m\u001b[1;33m=\u001b[0m\u001b[0maccept_large_sparse\u001b[0m\u001b[1;33m,\u001b[0m\u001b[1;33m\u001b[0m\u001b[1;33m\u001b[0m\u001b[0m\n\u001b[0;32m    816\u001b[0m                     \u001b[0mdtype\u001b[0m\u001b[1;33m=\u001b[0m\u001b[0mdtype\u001b[0m\u001b[1;33m,\u001b[0m \u001b[0morder\u001b[0m\u001b[1;33m=\u001b[0m\u001b[0morder\u001b[0m\u001b[1;33m,\u001b[0m \u001b[0mcopy\u001b[0m\u001b[1;33m=\u001b[0m\u001b[0mcopy\u001b[0m\u001b[1;33m,\u001b[0m\u001b[1;33m\u001b[0m\u001b[1;33m\u001b[0m\u001b[0m\n",
      "\u001b[1;32mC:\\ProgramData\\Anaconda3\\lib\\site-packages\\sklearn\\utils\\validation.py\u001b[0m in \u001b[0;36minner_f\u001b[1;34m(*args, **kwargs)\u001b[0m\n\u001b[0;32m     61\u001b[0m             \u001b[0mextra_args\u001b[0m \u001b[1;33m=\u001b[0m \u001b[0mlen\u001b[0m\u001b[1;33m(\u001b[0m\u001b[0margs\u001b[0m\u001b[1;33m)\u001b[0m \u001b[1;33m-\u001b[0m \u001b[0mlen\u001b[0m\u001b[1;33m(\u001b[0m\u001b[0mall_args\u001b[0m\u001b[1;33m)\u001b[0m\u001b[1;33m\u001b[0m\u001b[1;33m\u001b[0m\u001b[0m\n\u001b[0;32m     62\u001b[0m             \u001b[1;32mif\u001b[0m \u001b[0mextra_args\u001b[0m \u001b[1;33m<=\u001b[0m \u001b[1;36m0\u001b[0m\u001b[1;33m:\u001b[0m\u001b[1;33m\u001b[0m\u001b[1;33m\u001b[0m\u001b[0m\n\u001b[1;32m---> 63\u001b[1;33m                 \u001b[1;32mreturn\u001b[0m \u001b[0mf\u001b[0m\u001b[1;33m(\u001b[0m\u001b[1;33m*\u001b[0m\u001b[0margs\u001b[0m\u001b[1;33m,\u001b[0m \u001b[1;33m**\u001b[0m\u001b[0mkwargs\u001b[0m\u001b[1;33m)\u001b[0m\u001b[1;33m\u001b[0m\u001b[1;33m\u001b[0m\u001b[0m\n\u001b[0m\u001b[0;32m     64\u001b[0m \u001b[1;33m\u001b[0m\u001b[0m\n\u001b[0;32m     65\u001b[0m             \u001b[1;31m# extra_args > 0\u001b[0m\u001b[1;33m\u001b[0m\u001b[1;33m\u001b[0m\u001b[1;33m\u001b[0m\u001b[0m\n",
      "\u001b[1;32mC:\\ProgramData\\Anaconda3\\lib\\site-packages\\sklearn\\utils\\validation.py\u001b[0m in \u001b[0;36mcheck_array\u001b[1;34m(array, accept_sparse, accept_large_sparse, dtype, order, copy, force_all_finite, ensure_2d, allow_nd, ensure_min_samples, ensure_min_features, estimator)\u001b[0m\n\u001b[0;32m    591\u001b[0m     \u001b[1;32mif\u001b[0m \u001b[0msp\u001b[0m\u001b[1;33m.\u001b[0m\u001b[0missparse\u001b[0m\u001b[1;33m(\u001b[0m\u001b[0marray\u001b[0m\u001b[1;33m)\u001b[0m\u001b[1;33m:\u001b[0m\u001b[1;33m\u001b[0m\u001b[1;33m\u001b[0m\u001b[0m\n\u001b[0;32m    592\u001b[0m         \u001b[0m_ensure_no_complex_data\u001b[0m\u001b[1;33m(\u001b[0m\u001b[0marray\u001b[0m\u001b[1;33m)\u001b[0m\u001b[1;33m\u001b[0m\u001b[1;33m\u001b[0m\u001b[0m\n\u001b[1;32m--> 593\u001b[1;33m         array = _ensure_sparse_format(array, accept_sparse=accept_sparse,\n\u001b[0m\u001b[0;32m    594\u001b[0m                                       \u001b[0mdtype\u001b[0m\u001b[1;33m=\u001b[0m\u001b[0mdtype\u001b[0m\u001b[1;33m,\u001b[0m \u001b[0mcopy\u001b[0m\u001b[1;33m=\u001b[0m\u001b[0mcopy\u001b[0m\u001b[1;33m,\u001b[0m\u001b[1;33m\u001b[0m\u001b[1;33m\u001b[0m\u001b[0m\n\u001b[0;32m    595\u001b[0m                                       \u001b[0mforce_all_finite\u001b[0m\u001b[1;33m=\u001b[0m\u001b[0mforce_all_finite\u001b[0m\u001b[1;33m,\u001b[0m\u001b[1;33m\u001b[0m\u001b[1;33m\u001b[0m\u001b[0m\n",
      "\u001b[1;32mC:\\ProgramData\\Anaconda3\\lib\\site-packages\\sklearn\\utils\\validation.py\u001b[0m in \u001b[0;36m_ensure_sparse_format\u001b[1;34m(spmatrix, accept_sparse, dtype, copy, force_all_finite, accept_large_sparse)\u001b[0m\n\u001b[0;32m    358\u001b[0m \u001b[1;33m\u001b[0m\u001b[0m\n\u001b[0;32m    359\u001b[0m     \u001b[1;32mif\u001b[0m \u001b[0maccept_sparse\u001b[0m \u001b[1;32mis\u001b[0m \u001b[1;32mFalse\u001b[0m\u001b[1;33m:\u001b[0m\u001b[1;33m\u001b[0m\u001b[1;33m\u001b[0m\u001b[0m\n\u001b[1;32m--> 360\u001b[1;33m         raise TypeError('A sparse matrix was passed, but dense '\n\u001b[0m\u001b[0;32m    361\u001b[0m                         \u001b[1;34m'data is required. Use X.toarray() to '\u001b[0m\u001b[1;33m\u001b[0m\u001b[1;33m\u001b[0m\u001b[0m\n\u001b[0;32m    362\u001b[0m                         'convert to a dense numpy array.')\n",
      "\u001b[1;31mTypeError\u001b[0m: A sparse matrix was passed, but dense data is required. Use X.toarray() to convert to a dense numpy array."
     ]
    }
   ],
   "source": [
    "from sklearn.naive_bayes import GaussianNB\n",
    "\n",
    "model = GaussianNB()\n",
    "model.fit(X_train, y_train)\n",
    "y_pred = model.predict(X_test)"
   ]
  },
  {
   "cell_type": "code",
   "execution_count": null,
   "id": "collaborative-buffer",
   "metadata": {},
   "outputs": [],
   "source": [
    "cm = confusion_matrix(y_test, y_pred)\n",
    "print(metrics.classification_report(y_test, y_pred))\n",
    "print(metrics.confusion_matrix(y_test, y_pred))"
   ]
  },
  {
   "cell_type": "markdown",
   "id": "nasty-region",
   "metadata": {},
   "source": [
    "# 4) KNN"
   ]
  },
  {
   "cell_type": "code",
   "execution_count": 39,
   "id": "living-balloon",
   "metadata": {},
   "outputs": [],
   "source": [
    "from sklearn.neighbors import KNeighborsClassifier\n",
    "\n",
    "f1score=[]\n",
    "for k in range(20):\n",
    "    knn=KNeighborsClassifier(n_neighbors=k+1, metric=\"minkowski\")\n",
    "    knn.fit(X_train,y_train)\n",
    "    y_pred=knn.predict(X_test)\n",
    "    f1score.append(metrics.f1_score(y_test, y_pred,average='weighted'))"
   ]
  },
  {
   "cell_type": "code",
   "execution_count": 40,
   "id": "devoted-livestock",
   "metadata": {},
   "outputs": [
    {
     "name": "stdout",
     "output_type": "stream",
     "text": [
      "              precision    recall  f1-score   support\n",
      "\n",
      "     Average       0.24      0.27      0.25       609\n",
      "       Happy       0.25      0.24      0.24       608\n",
      "         Sad       0.25      0.25      0.25       510\n",
      "    Very Sad       0.19      0.04      0.07       237\n",
      "  Very happy       0.30      0.38      0.34       536\n",
      "\n",
      "    accuracy                           0.26      2500\n",
      "   macro avg       0.25      0.24      0.23      2500\n",
      "weighted avg       0.25      0.26      0.25      2500\n",
      "\n",
      "[[163 133 138  18 157]\n",
      " [180 144 111   4 169]\n",
      " [154 111 128  14 103]\n",
      " [ 65  54  69  10  39]\n",
      " [125 132  69   6 204]]\n"
     ]
    }
   ],
   "source": [
    "cm = confusion_matrix(y_test, y_pred)\n",
    "print(metrics.classification_report(y_test, y_pred))\n",
    "print(metrics.confusion_matrix(y_test, y_pred))"
   ]
  },
  {
   "cell_type": "code",
   "execution_count": 41,
   "id": "concerned-ceremony",
   "metadata": {},
   "outputs": [
    {
     "data": {
      "application/vnd.plotly.v1+json": {
       "config": {
        "plotlyServerURL": "https://plot.ly"
       },
       "data": [
        {
         "mode": "markers+lines",
         "type": "scatter",
         "x": [
          0,
          1,
          2,
          3,
          4,
          5,
          6,
          7,
          8,
          9,
          10,
          11,
          12,
          13,
          14,
          15,
          16,
          17,
          18,
          19
         ],
         "y": [
          0.18197524970390727,
          0.252455787518415,
          0.24200618602437504,
          0.2514571888096657,
          0.2450110168129725,
          0.25434862236029426,
          0.2534546765772306,
          0.2573066688416581,
          0.2541340409445978,
          0.25545440811620745,
          0.2541134902986331,
          0.2541795286743952,
          0.2567918310494877,
          0.26098866946480315,
          0.2607265893389736,
          0.2592873776361506,
          0.25527483374773396,
          0.2634776901308397,
          0.2543204300010944,
          0.25045682128657365
         ]
        }
       ],
       "layout": {
        "template": {
         "data": {
          "bar": [
           {
            "error_x": {
             "color": "#2a3f5f"
            },
            "error_y": {
             "color": "#2a3f5f"
            },
            "marker": {
             "line": {
              "color": "#E5ECF6",
              "width": 0.5
             }
            },
            "type": "bar"
           }
          ],
          "barpolar": [
           {
            "marker": {
             "line": {
              "color": "#E5ECF6",
              "width": 0.5
             }
            },
            "type": "barpolar"
           }
          ],
          "carpet": [
           {
            "aaxis": {
             "endlinecolor": "#2a3f5f",
             "gridcolor": "white",
             "linecolor": "white",
             "minorgridcolor": "white",
             "startlinecolor": "#2a3f5f"
            },
            "baxis": {
             "endlinecolor": "#2a3f5f",
             "gridcolor": "white",
             "linecolor": "white",
             "minorgridcolor": "white",
             "startlinecolor": "#2a3f5f"
            },
            "type": "carpet"
           }
          ],
          "choropleth": [
           {
            "colorbar": {
             "outlinewidth": 0,
             "ticks": ""
            },
            "type": "choropleth"
           }
          ],
          "contour": [
           {
            "colorbar": {
             "outlinewidth": 0,
             "ticks": ""
            },
            "colorscale": [
             [
              0,
              "#0d0887"
             ],
             [
              0.1111111111111111,
              "#46039f"
             ],
             [
              0.2222222222222222,
              "#7201a8"
             ],
             [
              0.3333333333333333,
              "#9c179e"
             ],
             [
              0.4444444444444444,
              "#bd3786"
             ],
             [
              0.5555555555555556,
              "#d8576b"
             ],
             [
              0.6666666666666666,
              "#ed7953"
             ],
             [
              0.7777777777777778,
              "#fb9f3a"
             ],
             [
              0.8888888888888888,
              "#fdca26"
             ],
             [
              1,
              "#f0f921"
             ]
            ],
            "type": "contour"
           }
          ],
          "contourcarpet": [
           {
            "colorbar": {
             "outlinewidth": 0,
             "ticks": ""
            },
            "type": "contourcarpet"
           }
          ],
          "heatmap": [
           {
            "colorbar": {
             "outlinewidth": 0,
             "ticks": ""
            },
            "colorscale": [
             [
              0,
              "#0d0887"
             ],
             [
              0.1111111111111111,
              "#46039f"
             ],
             [
              0.2222222222222222,
              "#7201a8"
             ],
             [
              0.3333333333333333,
              "#9c179e"
             ],
             [
              0.4444444444444444,
              "#bd3786"
             ],
             [
              0.5555555555555556,
              "#d8576b"
             ],
             [
              0.6666666666666666,
              "#ed7953"
             ],
             [
              0.7777777777777778,
              "#fb9f3a"
             ],
             [
              0.8888888888888888,
              "#fdca26"
             ],
             [
              1,
              "#f0f921"
             ]
            ],
            "type": "heatmap"
           }
          ],
          "heatmapgl": [
           {
            "colorbar": {
             "outlinewidth": 0,
             "ticks": ""
            },
            "colorscale": [
             [
              0,
              "#0d0887"
             ],
             [
              0.1111111111111111,
              "#46039f"
             ],
             [
              0.2222222222222222,
              "#7201a8"
             ],
             [
              0.3333333333333333,
              "#9c179e"
             ],
             [
              0.4444444444444444,
              "#bd3786"
             ],
             [
              0.5555555555555556,
              "#d8576b"
             ],
             [
              0.6666666666666666,
              "#ed7953"
             ],
             [
              0.7777777777777778,
              "#fb9f3a"
             ],
             [
              0.8888888888888888,
              "#fdca26"
             ],
             [
              1,
              "#f0f921"
             ]
            ],
            "type": "heatmapgl"
           }
          ],
          "histogram": [
           {
            "marker": {
             "colorbar": {
              "outlinewidth": 0,
              "ticks": ""
             }
            },
            "type": "histogram"
           }
          ],
          "histogram2d": [
           {
            "colorbar": {
             "outlinewidth": 0,
             "ticks": ""
            },
            "colorscale": [
             [
              0,
              "#0d0887"
             ],
             [
              0.1111111111111111,
              "#46039f"
             ],
             [
              0.2222222222222222,
              "#7201a8"
             ],
             [
              0.3333333333333333,
              "#9c179e"
             ],
             [
              0.4444444444444444,
              "#bd3786"
             ],
             [
              0.5555555555555556,
              "#d8576b"
             ],
             [
              0.6666666666666666,
              "#ed7953"
             ],
             [
              0.7777777777777778,
              "#fb9f3a"
             ],
             [
              0.8888888888888888,
              "#fdca26"
             ],
             [
              1,
              "#f0f921"
             ]
            ],
            "type": "histogram2d"
           }
          ],
          "histogram2dcontour": [
           {
            "colorbar": {
             "outlinewidth": 0,
             "ticks": ""
            },
            "colorscale": [
             [
              0,
              "#0d0887"
             ],
             [
              0.1111111111111111,
              "#46039f"
             ],
             [
              0.2222222222222222,
              "#7201a8"
             ],
             [
              0.3333333333333333,
              "#9c179e"
             ],
             [
              0.4444444444444444,
              "#bd3786"
             ],
             [
              0.5555555555555556,
              "#d8576b"
             ],
             [
              0.6666666666666666,
              "#ed7953"
             ],
             [
              0.7777777777777778,
              "#fb9f3a"
             ],
             [
              0.8888888888888888,
              "#fdca26"
             ],
             [
              1,
              "#f0f921"
             ]
            ],
            "type": "histogram2dcontour"
           }
          ],
          "mesh3d": [
           {
            "colorbar": {
             "outlinewidth": 0,
             "ticks": ""
            },
            "type": "mesh3d"
           }
          ],
          "parcoords": [
           {
            "line": {
             "colorbar": {
              "outlinewidth": 0,
              "ticks": ""
             }
            },
            "type": "parcoords"
           }
          ],
          "pie": [
           {
            "automargin": true,
            "type": "pie"
           }
          ],
          "scatter": [
           {
            "marker": {
             "colorbar": {
              "outlinewidth": 0,
              "ticks": ""
             }
            },
            "type": "scatter"
           }
          ],
          "scatter3d": [
           {
            "line": {
             "colorbar": {
              "outlinewidth": 0,
              "ticks": ""
             }
            },
            "marker": {
             "colorbar": {
              "outlinewidth": 0,
              "ticks": ""
             }
            },
            "type": "scatter3d"
           }
          ],
          "scattercarpet": [
           {
            "marker": {
             "colorbar": {
              "outlinewidth": 0,
              "ticks": ""
             }
            },
            "type": "scattercarpet"
           }
          ],
          "scattergeo": [
           {
            "marker": {
             "colorbar": {
              "outlinewidth": 0,
              "ticks": ""
             }
            },
            "type": "scattergeo"
           }
          ],
          "scattergl": [
           {
            "marker": {
             "colorbar": {
              "outlinewidth": 0,
              "ticks": ""
             }
            },
            "type": "scattergl"
           }
          ],
          "scattermapbox": [
           {
            "marker": {
             "colorbar": {
              "outlinewidth": 0,
              "ticks": ""
             }
            },
            "type": "scattermapbox"
           }
          ],
          "scatterpolar": [
           {
            "marker": {
             "colorbar": {
              "outlinewidth": 0,
              "ticks": ""
             }
            },
            "type": "scatterpolar"
           }
          ],
          "scatterpolargl": [
           {
            "marker": {
             "colorbar": {
              "outlinewidth": 0,
              "ticks": ""
             }
            },
            "type": "scatterpolargl"
           }
          ],
          "scatterternary": [
           {
            "marker": {
             "colorbar": {
              "outlinewidth": 0,
              "ticks": ""
             }
            },
            "type": "scatterternary"
           }
          ],
          "surface": [
           {
            "colorbar": {
             "outlinewidth": 0,
             "ticks": ""
            },
            "colorscale": [
             [
              0,
              "#0d0887"
             ],
             [
              0.1111111111111111,
              "#46039f"
             ],
             [
              0.2222222222222222,
              "#7201a8"
             ],
             [
              0.3333333333333333,
              "#9c179e"
             ],
             [
              0.4444444444444444,
              "#bd3786"
             ],
             [
              0.5555555555555556,
              "#d8576b"
             ],
             [
              0.6666666666666666,
              "#ed7953"
             ],
             [
              0.7777777777777778,
              "#fb9f3a"
             ],
             [
              0.8888888888888888,
              "#fdca26"
             ],
             [
              1,
              "#f0f921"
             ]
            ],
            "type": "surface"
           }
          ],
          "table": [
           {
            "cells": {
             "fill": {
              "color": "#EBF0F8"
             },
             "line": {
              "color": "white"
             }
            },
            "header": {
             "fill": {
              "color": "#C8D4E3"
             },
             "line": {
              "color": "white"
             }
            },
            "type": "table"
           }
          ]
         },
         "layout": {
          "annotationdefaults": {
           "arrowcolor": "#2a3f5f",
           "arrowhead": 0,
           "arrowwidth": 1
          },
          "autotypenumbers": "strict",
          "coloraxis": {
           "colorbar": {
            "outlinewidth": 0,
            "ticks": ""
           }
          },
          "colorscale": {
           "diverging": [
            [
             0,
             "#8e0152"
            ],
            [
             0.1,
             "#c51b7d"
            ],
            [
             0.2,
             "#de77ae"
            ],
            [
             0.3,
             "#f1b6da"
            ],
            [
             0.4,
             "#fde0ef"
            ],
            [
             0.5,
             "#f7f7f7"
            ],
            [
             0.6,
             "#e6f5d0"
            ],
            [
             0.7,
             "#b8e186"
            ],
            [
             0.8,
             "#7fbc41"
            ],
            [
             0.9,
             "#4d9221"
            ],
            [
             1,
             "#276419"
            ]
           ],
           "sequential": [
            [
             0,
             "#0d0887"
            ],
            [
             0.1111111111111111,
             "#46039f"
            ],
            [
             0.2222222222222222,
             "#7201a8"
            ],
            [
             0.3333333333333333,
             "#9c179e"
            ],
            [
             0.4444444444444444,
             "#bd3786"
            ],
            [
             0.5555555555555556,
             "#d8576b"
            ],
            [
             0.6666666666666666,
             "#ed7953"
            ],
            [
             0.7777777777777778,
             "#fb9f3a"
            ],
            [
             0.8888888888888888,
             "#fdca26"
            ],
            [
             1,
             "#f0f921"
            ]
           ],
           "sequentialminus": [
            [
             0,
             "#0d0887"
            ],
            [
             0.1111111111111111,
             "#46039f"
            ],
            [
             0.2222222222222222,
             "#7201a8"
            ],
            [
             0.3333333333333333,
             "#9c179e"
            ],
            [
             0.4444444444444444,
             "#bd3786"
            ],
            [
             0.5555555555555556,
             "#d8576b"
            ],
            [
             0.6666666666666666,
             "#ed7953"
            ],
            [
             0.7777777777777778,
             "#fb9f3a"
            ],
            [
             0.8888888888888888,
             "#fdca26"
            ],
            [
             1,
             "#f0f921"
            ]
           ]
          },
          "colorway": [
           "#636efa",
           "#EF553B",
           "#00cc96",
           "#ab63fa",
           "#FFA15A",
           "#19d3f3",
           "#FF6692",
           "#B6E880",
           "#FF97FF",
           "#FECB52"
          ],
          "font": {
           "color": "#2a3f5f"
          },
          "geo": {
           "bgcolor": "white",
           "lakecolor": "white",
           "landcolor": "#E5ECF6",
           "showlakes": true,
           "showland": true,
           "subunitcolor": "white"
          },
          "hoverlabel": {
           "align": "left"
          },
          "hovermode": "closest",
          "mapbox": {
           "style": "light"
          },
          "paper_bgcolor": "white",
          "plot_bgcolor": "#E5ECF6",
          "polar": {
           "angularaxis": {
            "gridcolor": "white",
            "linecolor": "white",
            "ticks": ""
           },
           "bgcolor": "#E5ECF6",
           "radialaxis": {
            "gridcolor": "white",
            "linecolor": "white",
            "ticks": ""
           }
          },
          "scene": {
           "xaxis": {
            "backgroundcolor": "#E5ECF6",
            "gridcolor": "white",
            "gridwidth": 2,
            "linecolor": "white",
            "showbackground": true,
            "ticks": "",
            "zerolinecolor": "white"
           },
           "yaxis": {
            "backgroundcolor": "#E5ECF6",
            "gridcolor": "white",
            "gridwidth": 2,
            "linecolor": "white",
            "showbackground": true,
            "ticks": "",
            "zerolinecolor": "white"
           },
           "zaxis": {
            "backgroundcolor": "#E5ECF6",
            "gridcolor": "white",
            "gridwidth": 2,
            "linecolor": "white",
            "showbackground": true,
            "ticks": "",
            "zerolinecolor": "white"
           }
          },
          "shapedefaults": {
           "line": {
            "color": "#2a3f5f"
           }
          },
          "ternary": {
           "aaxis": {
            "gridcolor": "white",
            "linecolor": "white",
            "ticks": ""
           },
           "baxis": {
            "gridcolor": "white",
            "linecolor": "white",
            "ticks": ""
           },
           "bgcolor": "#E5ECF6",
           "caxis": {
            "gridcolor": "white",
            "linecolor": "white",
            "ticks": ""
           }
          },
          "title": {
           "x": 0.05
          },
          "xaxis": {
           "automargin": true,
           "gridcolor": "white",
           "linecolor": "white",
           "ticks": "",
           "title": {
            "standoff": 15
           },
           "zerolinecolor": "white",
           "zerolinewidth": 2
          },
          "yaxis": {
           "automargin": true,
           "gridcolor": "white",
           "linecolor": "white",
           "ticks": "",
           "title": {
            "standoff": 15
           },
           "zerolinecolor": "white",
           "zerolinewidth": 2
          }
         }
        },
        "title": {
         "text": "KNN F1 score"
        }
       }
      },
      "text/html": [
       "<div>                            <div id=\"88455db2-b835-44c3-a16a-45594015e1c8\" class=\"plotly-graph-div\" style=\"height:525px; width:100%;\"></div>            <script type=\"text/javascript\">                require([\"plotly\"], function(Plotly) {                    window.PLOTLYENV=window.PLOTLYENV || {};                                    if (document.getElementById(\"88455db2-b835-44c3-a16a-45594015e1c8\")) {                    Plotly.newPlot(                        \"88455db2-b835-44c3-a16a-45594015e1c8\",                        [{\"mode\": \"markers+lines\", \"type\": \"scatter\", \"x\": [0, 1, 2, 3, 4, 5, 6, 7, 8, 9, 10, 11, 12, 13, 14, 15, 16, 17, 18, 19], \"y\": [0.18197524970390727, 0.252455787518415, 0.24200618602437504, 0.2514571888096657, 0.2450110168129725, 0.25434862236029426, 0.2534546765772306, 0.2573066688416581, 0.2541340409445978, 0.25545440811620745, 0.2541134902986331, 0.2541795286743952, 0.2567918310494877, 0.26098866946480315, 0.2607265893389736, 0.2592873776361506, 0.25527483374773396, 0.2634776901308397, 0.2543204300010944, 0.25045682128657365]}],                        {\"template\": {\"data\": {\"bar\": [{\"error_x\": {\"color\": \"#2a3f5f\"}, \"error_y\": {\"color\": \"#2a3f5f\"}, \"marker\": {\"line\": {\"color\": \"#E5ECF6\", \"width\": 0.5}}, \"type\": \"bar\"}], \"barpolar\": [{\"marker\": {\"line\": {\"color\": \"#E5ECF6\", \"width\": 0.5}}, \"type\": \"barpolar\"}], \"carpet\": [{\"aaxis\": {\"endlinecolor\": \"#2a3f5f\", \"gridcolor\": \"white\", \"linecolor\": \"white\", \"minorgridcolor\": \"white\", \"startlinecolor\": \"#2a3f5f\"}, \"baxis\": {\"endlinecolor\": \"#2a3f5f\", \"gridcolor\": \"white\", \"linecolor\": \"white\", \"minorgridcolor\": \"white\", \"startlinecolor\": \"#2a3f5f\"}, \"type\": \"carpet\"}], \"choropleth\": [{\"colorbar\": {\"outlinewidth\": 0, \"ticks\": \"\"}, \"type\": \"choropleth\"}], \"contour\": [{\"colorbar\": {\"outlinewidth\": 0, \"ticks\": \"\"}, \"colorscale\": [[0.0, \"#0d0887\"], [0.1111111111111111, \"#46039f\"], [0.2222222222222222, \"#7201a8\"], [0.3333333333333333, \"#9c179e\"], [0.4444444444444444, \"#bd3786\"], [0.5555555555555556, \"#d8576b\"], [0.6666666666666666, \"#ed7953\"], [0.7777777777777778, \"#fb9f3a\"], [0.8888888888888888, \"#fdca26\"], [1.0, \"#f0f921\"]], \"type\": \"contour\"}], \"contourcarpet\": [{\"colorbar\": {\"outlinewidth\": 0, \"ticks\": \"\"}, \"type\": \"contourcarpet\"}], \"heatmap\": [{\"colorbar\": {\"outlinewidth\": 0, \"ticks\": \"\"}, \"colorscale\": [[0.0, \"#0d0887\"], [0.1111111111111111, \"#46039f\"], [0.2222222222222222, \"#7201a8\"], [0.3333333333333333, \"#9c179e\"], [0.4444444444444444, \"#bd3786\"], [0.5555555555555556, \"#d8576b\"], [0.6666666666666666, \"#ed7953\"], [0.7777777777777778, \"#fb9f3a\"], [0.8888888888888888, \"#fdca26\"], [1.0, \"#f0f921\"]], \"type\": \"heatmap\"}], \"heatmapgl\": [{\"colorbar\": {\"outlinewidth\": 0, \"ticks\": \"\"}, \"colorscale\": [[0.0, \"#0d0887\"], [0.1111111111111111, \"#46039f\"], [0.2222222222222222, \"#7201a8\"], [0.3333333333333333, \"#9c179e\"], [0.4444444444444444, \"#bd3786\"], [0.5555555555555556, \"#d8576b\"], [0.6666666666666666, \"#ed7953\"], [0.7777777777777778, \"#fb9f3a\"], [0.8888888888888888, \"#fdca26\"], [1.0, \"#f0f921\"]], \"type\": \"heatmapgl\"}], \"histogram\": [{\"marker\": {\"colorbar\": {\"outlinewidth\": 0, \"ticks\": \"\"}}, \"type\": \"histogram\"}], \"histogram2d\": [{\"colorbar\": {\"outlinewidth\": 0, \"ticks\": \"\"}, \"colorscale\": [[0.0, \"#0d0887\"], [0.1111111111111111, \"#46039f\"], [0.2222222222222222, \"#7201a8\"], [0.3333333333333333, \"#9c179e\"], [0.4444444444444444, \"#bd3786\"], [0.5555555555555556, \"#d8576b\"], [0.6666666666666666, \"#ed7953\"], [0.7777777777777778, \"#fb9f3a\"], [0.8888888888888888, \"#fdca26\"], [1.0, \"#f0f921\"]], \"type\": \"histogram2d\"}], \"histogram2dcontour\": [{\"colorbar\": {\"outlinewidth\": 0, \"ticks\": \"\"}, \"colorscale\": [[0.0, \"#0d0887\"], [0.1111111111111111, \"#46039f\"], [0.2222222222222222, \"#7201a8\"], [0.3333333333333333, \"#9c179e\"], [0.4444444444444444, \"#bd3786\"], [0.5555555555555556, \"#d8576b\"], [0.6666666666666666, \"#ed7953\"], [0.7777777777777778, \"#fb9f3a\"], [0.8888888888888888, \"#fdca26\"], [1.0, \"#f0f921\"]], \"type\": \"histogram2dcontour\"}], \"mesh3d\": [{\"colorbar\": {\"outlinewidth\": 0, \"ticks\": \"\"}, \"type\": \"mesh3d\"}], \"parcoords\": [{\"line\": {\"colorbar\": {\"outlinewidth\": 0, \"ticks\": \"\"}}, \"type\": \"parcoords\"}], \"pie\": [{\"automargin\": true, \"type\": \"pie\"}], \"scatter\": [{\"marker\": {\"colorbar\": {\"outlinewidth\": 0, \"ticks\": \"\"}}, \"type\": \"scatter\"}], \"scatter3d\": [{\"line\": {\"colorbar\": {\"outlinewidth\": 0, \"ticks\": \"\"}}, \"marker\": {\"colorbar\": {\"outlinewidth\": 0, \"ticks\": \"\"}}, \"type\": \"scatter3d\"}], \"scattercarpet\": [{\"marker\": {\"colorbar\": {\"outlinewidth\": 0, \"ticks\": \"\"}}, \"type\": \"scattercarpet\"}], \"scattergeo\": [{\"marker\": {\"colorbar\": {\"outlinewidth\": 0, \"ticks\": \"\"}}, \"type\": \"scattergeo\"}], \"scattergl\": [{\"marker\": {\"colorbar\": {\"outlinewidth\": 0, \"ticks\": \"\"}}, \"type\": \"scattergl\"}], \"scattermapbox\": [{\"marker\": {\"colorbar\": {\"outlinewidth\": 0, \"ticks\": \"\"}}, \"type\": \"scattermapbox\"}], \"scatterpolar\": [{\"marker\": {\"colorbar\": {\"outlinewidth\": 0, \"ticks\": \"\"}}, \"type\": \"scatterpolar\"}], \"scatterpolargl\": [{\"marker\": {\"colorbar\": {\"outlinewidth\": 0, \"ticks\": \"\"}}, \"type\": \"scatterpolargl\"}], \"scatterternary\": [{\"marker\": {\"colorbar\": {\"outlinewidth\": 0, \"ticks\": \"\"}}, \"type\": \"scatterternary\"}], \"surface\": [{\"colorbar\": {\"outlinewidth\": 0, \"ticks\": \"\"}, \"colorscale\": [[0.0, \"#0d0887\"], [0.1111111111111111, \"#46039f\"], [0.2222222222222222, \"#7201a8\"], [0.3333333333333333, \"#9c179e\"], [0.4444444444444444, \"#bd3786\"], [0.5555555555555556, \"#d8576b\"], [0.6666666666666666, \"#ed7953\"], [0.7777777777777778, \"#fb9f3a\"], [0.8888888888888888, \"#fdca26\"], [1.0, \"#f0f921\"]], \"type\": \"surface\"}], \"table\": [{\"cells\": {\"fill\": {\"color\": \"#EBF0F8\"}, \"line\": {\"color\": \"white\"}}, \"header\": {\"fill\": {\"color\": \"#C8D4E3\"}, \"line\": {\"color\": \"white\"}}, \"type\": \"table\"}]}, \"layout\": {\"annotationdefaults\": {\"arrowcolor\": \"#2a3f5f\", \"arrowhead\": 0, \"arrowwidth\": 1}, \"autotypenumbers\": \"strict\", \"coloraxis\": {\"colorbar\": {\"outlinewidth\": 0, \"ticks\": \"\"}}, \"colorscale\": {\"diverging\": [[0, \"#8e0152\"], [0.1, \"#c51b7d\"], [0.2, \"#de77ae\"], [0.3, \"#f1b6da\"], [0.4, \"#fde0ef\"], [0.5, \"#f7f7f7\"], [0.6, \"#e6f5d0\"], [0.7, \"#b8e186\"], [0.8, \"#7fbc41\"], [0.9, \"#4d9221\"], [1, \"#276419\"]], \"sequential\": [[0.0, \"#0d0887\"], [0.1111111111111111, \"#46039f\"], [0.2222222222222222, \"#7201a8\"], [0.3333333333333333, \"#9c179e\"], [0.4444444444444444, \"#bd3786\"], [0.5555555555555556, \"#d8576b\"], [0.6666666666666666, \"#ed7953\"], [0.7777777777777778, \"#fb9f3a\"], [0.8888888888888888, \"#fdca26\"], [1.0, \"#f0f921\"]], \"sequentialminus\": [[0.0, \"#0d0887\"], [0.1111111111111111, \"#46039f\"], [0.2222222222222222, \"#7201a8\"], [0.3333333333333333, \"#9c179e\"], [0.4444444444444444, \"#bd3786\"], [0.5555555555555556, \"#d8576b\"], [0.6666666666666666, \"#ed7953\"], [0.7777777777777778, \"#fb9f3a\"], [0.8888888888888888, \"#fdca26\"], [1.0, \"#f0f921\"]]}, \"colorway\": [\"#636efa\", \"#EF553B\", \"#00cc96\", \"#ab63fa\", \"#FFA15A\", \"#19d3f3\", \"#FF6692\", \"#B6E880\", \"#FF97FF\", \"#FECB52\"], \"font\": {\"color\": \"#2a3f5f\"}, \"geo\": {\"bgcolor\": \"white\", \"lakecolor\": \"white\", \"landcolor\": \"#E5ECF6\", \"showlakes\": true, \"showland\": true, \"subunitcolor\": \"white\"}, \"hoverlabel\": {\"align\": \"left\"}, \"hovermode\": \"closest\", \"mapbox\": {\"style\": \"light\"}, \"paper_bgcolor\": \"white\", \"plot_bgcolor\": \"#E5ECF6\", \"polar\": {\"angularaxis\": {\"gridcolor\": \"white\", \"linecolor\": \"white\", \"ticks\": \"\"}, \"bgcolor\": \"#E5ECF6\", \"radialaxis\": {\"gridcolor\": \"white\", \"linecolor\": \"white\", \"ticks\": \"\"}}, \"scene\": {\"xaxis\": {\"backgroundcolor\": \"#E5ECF6\", \"gridcolor\": \"white\", \"gridwidth\": 2, \"linecolor\": \"white\", \"showbackground\": true, \"ticks\": \"\", \"zerolinecolor\": \"white\"}, \"yaxis\": {\"backgroundcolor\": \"#E5ECF6\", \"gridcolor\": \"white\", \"gridwidth\": 2, \"linecolor\": \"white\", \"showbackground\": true, \"ticks\": \"\", \"zerolinecolor\": \"white\"}, \"zaxis\": {\"backgroundcolor\": \"#E5ECF6\", \"gridcolor\": \"white\", \"gridwidth\": 2, \"linecolor\": \"white\", \"showbackground\": true, \"ticks\": \"\", \"zerolinecolor\": \"white\"}}, \"shapedefaults\": {\"line\": {\"color\": \"#2a3f5f\"}}, \"ternary\": {\"aaxis\": {\"gridcolor\": \"white\", \"linecolor\": \"white\", \"ticks\": \"\"}, \"baxis\": {\"gridcolor\": \"white\", \"linecolor\": \"white\", \"ticks\": \"\"}, \"bgcolor\": \"#E5ECF6\", \"caxis\": {\"gridcolor\": \"white\", \"linecolor\": \"white\", \"ticks\": \"\"}}, \"title\": {\"x\": 0.05}, \"xaxis\": {\"automargin\": true, \"gridcolor\": \"white\", \"linecolor\": \"white\", \"ticks\": \"\", \"title\": {\"standoff\": 15}, \"zerolinecolor\": \"white\", \"zerolinewidth\": 2}, \"yaxis\": {\"automargin\": true, \"gridcolor\": \"white\", \"linecolor\": \"white\", \"ticks\": \"\", \"title\": {\"standoff\": 15}, \"zerolinecolor\": \"white\", \"zerolinewidth\": 2}}}, \"title\": {\"text\": \"KNN F1 score\"}},                        {\"responsive\": true}                    ).then(function(){\n",
       "                            \n",
       "var gd = document.getElementById('88455db2-b835-44c3-a16a-45594015e1c8');\n",
       "var x = new MutationObserver(function (mutations, observer) {{\n",
       "        var display = window.getComputedStyle(gd).display;\n",
       "        if (!display || display === 'none') {{\n",
       "            console.log([gd, 'removed!']);\n",
       "            Plotly.purge(gd);\n",
       "            observer.disconnect();\n",
       "        }}\n",
       "}});\n",
       "\n",
       "// Listen for the removal of the full notebook cells\n",
       "var notebookContainer = gd.closest('#notebook-container');\n",
       "if (notebookContainer) {{\n",
       "    x.observe(notebookContainer, {childList: true});\n",
       "}}\n",
       "\n",
       "// Listen for the clearing of the current output cell\n",
       "var outputEl = gd.closest('.output');\n",
       "if (outputEl) {{\n",
       "    x.observe(outputEl, {childList: true});\n",
       "}}\n",
       "\n",
       "                        })                };                });            </script>        </div>"
      ]
     },
     "metadata": {},
     "output_type": "display_data"
    }
   ],
   "source": [
    "fig = go.Figure(data=go.Scatter(x=list(range(20)), y=f1score, mode='markers+lines'))\n",
    "fig.update_layout(title='KNN F1 score')\n",
    "fig.show()"
   ]
  },
  {
   "cell_type": "code",
   "execution_count": null,
   "id": "civilian-promise",
   "metadata": {},
   "outputs": [],
   "source": []
  },
  {
   "cell_type": "code",
   "execution_count": null,
   "id": "strong-record",
   "metadata": {},
   "outputs": [],
   "source": []
  }
 ],
 "metadata": {
  "kernelspec": {
   "display_name": "Python 3",
   "language": "python",
   "name": "python3"
  },
  "language_info": {
   "codemirror_mode": {
    "name": "ipython",
    "version": 3
   },
   "file_extension": ".py",
   "mimetype": "text/x-python",
   "name": "python",
   "nbconvert_exporter": "python",
   "pygments_lexer": "ipython3",
   "version": "3.6.8"
  }
 },
 "nbformat": 4,
 "nbformat_minor": 5
}
